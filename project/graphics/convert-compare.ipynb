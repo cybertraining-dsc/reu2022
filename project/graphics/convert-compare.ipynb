{
 "cells": [
  {
   "cell_type": "code",
   "execution_count": 1,
   "outputs": [],
   "source": [
    "from cloudmesh.common.util import readfile\n",
    "import pandas as pd"
   ],
   "metadata": {
    "collapsed": false,
    "pycharm": {
     "name": "#%%\n"
    }
   }
  },
  {
   "cell_type": "code",
   "execution_count": 2,
   "outputs": [],
   "source": [
    "filename = f'compare-graphics.csv'"
   ],
   "metadata": {
    "collapsed": false,
    "pycharm": {
     "name": "#%%\n"
    }
   }
  },
  {
   "cell_type": "code",
   "execution_count": 11,
   "outputs": [
    {
     "ename": "NameError",
     "evalue": "name 'readfile' is not defined",
     "output_type": "error",
     "traceback": [
      "\u001B[1;31m---------------------------------------------------------------------------\u001B[0m",
      "\u001B[1;31mNameError\u001B[0m                                 Traceback (most recent call last)",
      "Input \u001B[1;32mIn [11]\u001B[0m, in \u001B[0;36m<cell line: 1>\u001B[1;34m()\u001B[0m\n\u001B[1;32m----> 1\u001B[0m content \u001B[38;5;241m=\u001B[39m \u001B[43mreadfile\u001B[49m(filename)\n\u001B[0;32m      2\u001B[0m \u001B[38;5;28mprint\u001B[39m(content)\n",
      "\u001B[1;31mNameError\u001B[0m: name 'readfile' is not defined"
     ]
    }
   ],
   "source": [
    "content = readfile(filename)\n",
    "print(content)"
   ],
   "metadata": {
    "collapsed": false,
    "pycharm": {
     "name": "#%%\n"
    }
   }
  },
  {
   "cell_type": "code",
   "execution_count": 6,
   "outputs": [],
   "source": [
    "df = pd.read_csv(filename)"
   ],
   "metadata": {
    "collapsed": false,
    "pycharm": {
     "name": "#%%\n"
    }
   }
  },
  {
   "cell_type": "code",
   "execution_count": 7,
   "outputs": [
    {
     "name": "stdout",
     "output_type": "stream",
     "text": [
      "   Value                 \\\n",
      "0  barchart               \n",
      "1  grouped barchart       \n",
      "2  stacked barchart       \n",
      "3  spline chart           \n",
      "4  multiline chart        \n",
      "\n",
      "   matlotlib                                                                                                                        \\\n",
      "0   [plt.bar(...)](https://matplotlib.org/stable/...                                                                                 \n",
      "1                                                ...                                                                                 \n",
      "2                                                ...                                                                                 \n",
      "3                                                ...                                                                                 \n",
      "4                                                ...                                                                                 \n",
      "\n",
      "    seaborn    bokeh   \\\n",
      "0   +          +        \n",
      "1                       \n",
      "2                       \n",
      "3                       \n",
      "4                       \n",
      "\n",
      "   pandas                                                                                                                          \\\n",
      "0   [df.plot.bar(...)](https://pandas.pydata.org/...                                                                                \n",
      "1   [df.plot.bar(...)](https://pandas.pydata.org/...                                                                                \n",
      "2   [df.plot.bar(stacked=True)](https://pandas.py...                                                                                \n",
      "3                                                ...                                                                                \n",
      "4                                                ...                                                                                \n",
      "\n",
      "  Unnamed: 5  \n",
      "0        NaN  \n",
      "1        NaN  \n",
      "2        NaN  \n",
      "3        NaN  \n",
      "4        NaN  \n"
     ]
    }
   ],
   "source": [
    "print(df.head())\n",
    "#for i in df:\n",
    "    #print(i)"
   ],
   "metadata": {
    "collapsed": false,
    "pycharm": {
     "name": "#%%\n"
    }
   }
  },
  {
   "cell_type": "code",
   "execution_count": 8,
   "outputs": [
    {
     "name": "stdout",
     "output_type": "stream",
     "text": [
      "    Value                 \\\n",
      "0   barchart               \n",
      "1   grouped barchart       \n",
      "2   stacked barchart       \n",
      "3   spline chart           \n",
      "4   multiline chart        \n",
      "5   compound line chart    \n",
      "6   histogram              \n",
      "7   linechart              \n",
      "8   piechart               \n",
      "9   exploded piechart      \n",
      "10  donutchart             \n",
      "11  countourplot           \n",
      "12  distributionplot       \n",
      "13  point chart            \n",
      "14  scatterplot            \n",
      "15  bubblechart            \n",
      "16  radar chart            \n",
      "17  boxplot                \n",
      "18  easy png export        \n",
      "19  color palettes         \n",
      "20  interactive graph      \n",
      "21  data frame             \n",
      "\n",
      "    matlotlib                                                                                                                        \\\n",
      "0    [plt.bar(...)](https://matplotlib.org/stable/...                                                                                 \n",
      "1                                                 ...                                                                                 \n",
      "2                                                 ...                                                                                 \n",
      "3                                                 ...                                                                                 \n",
      "4                                                 ...                                                                                 \n",
      "5                                                 ...                                                                                 \n",
      "6    [plt.hist(...)](https://matplotlib.org/stable...                                                                                 \n",
      "7    [plt.plot(...)](https://matplotlib.org/stable...                                                                                 \n",
      "8    [plt.pie(...)](https://matplotlib.<br/>org/st...                                                                                 \n",
      "9                                                 ...                                                                                 \n",
      "10                                                ...                                                                                 \n",
      "11   [plt.contour(...)](https://matplotlib.org/sta...                                                                                 \n",
      "12   +                                            ...                                                                                 \n",
      "13                                                ...                                                                                 \n",
      "14   [plt.scatter(...)](https://matplotlib.org/sta...                                                                                 \n",
      "15                                                ...                                                                                 \n",
      "16                                                ...                                                                                 \n",
      "17   [plt.boxplot(...)](https://matplotlib.org/sta...                                                                                 \n",
      "18   +                                            ...                                                                                 \n",
      "19                                                ...                                                                                 \n",
      "20                                                ...                                                                                 \n",
      "21                                                ...                                                                                 \n",
      "\n",
      "     seaborn    bokeh   \\\n",
      "0    +          +        \n",
      "1                        \n",
      "2                        \n",
      "3                        \n",
      "4                        \n",
      "5                        \n",
      "6                        \n",
      "7    +          +        \n",
      "8               +        \n",
      "9                        \n",
      "10                       \n",
      "11   +                   \n",
      "12   +                   \n",
      "13                       \n",
      "14                       \n",
      "15                       \n",
      "16                       \n",
      "17                       \n",
      "18   +                   \n",
      "19   +                   \n",
      "20              +        \n",
      "21                       \n",
      "\n",
      "    pandas                                                                                                                          \\\n",
      "0    [df.plot.bar(...)](https://pandas.pydata.org/...                                                                                \n",
      "1    [df.plot.bar(...)](https://pandas.pydata.org/...                                                                                \n",
      "2    [df.plot.bar(stacked=True)](https://pandas.py...                                                                                \n",
      "3                                                 ...                                                                                \n",
      "4                                                 ...                                                                                \n",
      "5                                                 ...                                                                                \n",
      "6                                                 ...                                                                                \n",
      "7    [df.plot.line(...)](https://pandas.pydata.org...                                                                                \n",
      "8    [df.plot.pie(...)](https://pandas.pydata.org/...                                                                                \n",
      "9    -                                            ...                                                                                \n",
      "10   -                                            ...                                                                                \n",
      "11   -                                            ...                                                                                \n",
      "12   +                                            ...                                                                                \n",
      "13                                                ...                                                                                \n",
      "14                                                ...                                                                                \n",
      "15                             [df.plot.scatter(s=...                                                                                \n",
      "16   -                                            ...                                                                                \n",
      "17   [df.plot.boxplot(...)](https://pandas.pydata....                                                                                \n",
      "18   +                                            ...                                                                                \n",
      "19                                                ...                                                                                \n",
      "20                                                ...                                                                                \n",
      "21   [df](tbd)                                    ...                                                                                \n",
      "\n",
      "                                           Unnamed: 5  \n",
      "0                                                 NaN  \n",
      "1                                                 NaN  \n",
      "2                                                 NaN  \n",
      "3                                                 NaN  \n",
      "4                                                 NaN  \n",
      "5                                                 NaN  \n",
      "6                                                 NaN  \n",
      "7                                                 NaN  \n",
      "8                                                 NaN  \n",
      "9                                                 NaN  \n",
      "10                                                NaN  \n",
      "11                                                NaN  \n",
      "12                                                NaN  \n",
      "13                                                NaN  \n",
      "14                                                NaN  \n",
      "15  c=...)](https://pandas.pydata.org/pandas-docs/...  \n",
      "16                                                NaN  \n",
      "17                                                NaN  \n",
      "18                                                NaN  \n",
      "19                                                NaN  \n",
      "20                                                NaN  \n",
      "21                                                NaN  \n"
     ]
    }
   ],
   "source": [
    "print(df)"
   ],
   "metadata": {
    "collapsed": false,
    "pycharm": {
     "name": "#%%\n"
    }
   }
  },
  {
   "cell_type": "code",
   "execution_count": 10,
   "outputs": [
    {
     "data": {
      "text/plain": "    Value                 \\\n0   barchart               \n1   grouped barchart       \n2   stacked barchart       \n3   spline chart           \n4   multiline chart        \n5   compound line chart    \n6   histogram              \n7   linechart              \n8   piechart               \n9   exploded piechart      \n10  donutchart             \n11  countourplot           \n12  distributionplot       \n13  point chart            \n14  scatterplot            \n15  bubblechart            \n16  radar chart            \n17  boxplot                \n18  easy png export        \n19  color palettes         \n20  interactive graph      \n21  data frame             \n\n    matlotlib                                                                                                                        \\\n0    [plt.bar(...)](https://matplotlib.org/stable/...                                                                                 \n1                                                 ...                                                                                 \n2                                                 ...                                                                                 \n3                                                 ...                                                                                 \n4                                                 ...                                                                                 \n5                                                 ...                                                                                 \n6    [plt.hist(...)](https://matplotlib.org/stable...                                                                                 \n7    [plt.plot(...)](https://matplotlib.org/stable...                                                                                 \n8    [plt.pie(...)](https://matplotlib.<br/>org/st...                                                                                 \n9                                                 ...                                                                                 \n10                                                ...                                                                                 \n11   [plt.contour(...)](https://matplotlib.org/sta...                                                                                 \n12   +                                            ...                                                                                 \n13                                                ...                                                                                 \n14   [plt.scatter(...)](https://matplotlib.org/sta...                                                                                 \n15                                                ...                                                                                 \n16                                                ...                                                                                 \n17   [plt.boxplot(...)](https://matplotlib.org/sta...                                                                                 \n18   +                                            ...                                                                                 \n19                                                ...                                                                                 \n20                                                ...                                                                                 \n21                                                ...                                                                                 \n\n     seaborn    bokeh   \\\n0    +          +        \n1                        \n2                        \n3                        \n4                        \n5                        \n6                        \n7    +          +        \n8               +        \n9                        \n10                       \n11   +                   \n12   +                   \n13                       \n14                       \n15                       \n16                       \n17                       \n18   +                   \n19   +                   \n20              +        \n21                       \n\n    pandas                                                                                                                          \\\n0    [df.plot.bar(...)](https://pandas.pydata.org/...                                                                                \n1    [df.plot.bar(...)](https://pandas.pydata.org/...                                                                                \n2    [df.plot.bar(stacked=True)](https://pandas.py...                                                                                \n3                                                 ...                                                                                \n4                                                 ...                                                                                \n5                                                 ...                                                                                \n6                                                 ...                                                                                \n7    [df.plot.line(...)](https://pandas.pydata.org...                                                                                \n8    [df.plot.pie(...)](https://pandas.pydata.org/...                                                                                \n9    -                                            ...                                                                                \n10   -                                            ...                                                                                \n11   -                                            ...                                                                                \n12   +                                            ...                                                                                \n13                                                ...                                                                                \n14                                                ...                                                                                \n15                             [df.plot.scatter(s=...                                                                                \n16   -                                            ...                                                                                \n17   [df.plot.boxplot(...)](https://pandas.pydata....                                                                                \n18   +                                            ...                                                                                \n19                                                ...                                                                                \n20                                                ...                                                                                \n21   [df](tbd)                                    ...                                                                                \n\n                                           Unnamed: 5  \n0                                                 NaN  \n1                                                 NaN  \n2                                                 NaN  \n3                                                 NaN  \n4                                                 NaN  \n5                                                 NaN  \n6                                                 NaN  \n7                                                 NaN  \n8                                                 NaN  \n9                                                 NaN  \n10                                                NaN  \n11                                                NaN  \n12                                                NaN  \n13                                                NaN  \n14                                                NaN  \n15  c=...)](https://pandas.pydata.org/pandas-docs/...  \n16                                                NaN  \n17                                                NaN  \n18                                                NaN  \n19                                                NaN  \n20                                                NaN  \n21                                                NaN  ",
      "text/html": "<div>\n<style scoped>\n    .dataframe tbody tr th:only-of-type {\n        vertical-align: middle;\n    }\n\n    .dataframe tbody tr th {\n        vertical-align: top;\n    }\n\n    .dataframe thead th {\n        text-align: right;\n    }\n</style>\n<table border=\"1\" class=\"dataframe\">\n  <thead>\n    <tr style=\"text-align: right;\">\n      <th></th>\n      <th>Value</th>\n      <th>matlotlib</th>\n      <th>seaborn</th>\n      <th>bokeh</th>\n      <th>pandas</th>\n      <th>Unnamed: 5</th>\n    </tr>\n  </thead>\n  <tbody>\n    <tr>\n      <th>0</th>\n      <td>barchart</td>\n      <td>[plt.bar(...)](https://matplotlib.org/stable/...</td>\n      <td>+</td>\n      <td>+</td>\n      <td>[df.plot.bar(...)](https://pandas.pydata.org/...</td>\n      <td>NaN</td>\n    </tr>\n    <tr>\n      <th>1</th>\n      <td>grouped barchart</td>\n      <td>...</td>\n      <td></td>\n      <td></td>\n      <td>[df.plot.bar(...)](https://pandas.pydata.org/...</td>\n      <td>NaN</td>\n    </tr>\n    <tr>\n      <th>2</th>\n      <td>stacked barchart</td>\n      <td>...</td>\n      <td></td>\n      <td></td>\n      <td>[df.plot.bar(stacked=True)](https://pandas.py...</td>\n      <td>NaN</td>\n    </tr>\n    <tr>\n      <th>3</th>\n      <td>spline chart</td>\n      <td>...</td>\n      <td></td>\n      <td></td>\n      <td>...</td>\n      <td>NaN</td>\n    </tr>\n    <tr>\n      <th>4</th>\n      <td>multiline chart</td>\n      <td>...</td>\n      <td></td>\n      <td></td>\n      <td>...</td>\n      <td>NaN</td>\n    </tr>\n    <tr>\n      <th>5</th>\n      <td>compound line chart</td>\n      <td>...</td>\n      <td></td>\n      <td></td>\n      <td>...</td>\n      <td>NaN</td>\n    </tr>\n    <tr>\n      <th>6</th>\n      <td>histogram</td>\n      <td>[plt.hist(...)](https://matplotlib.org/stable...</td>\n      <td></td>\n      <td></td>\n      <td>...</td>\n      <td>NaN</td>\n    </tr>\n    <tr>\n      <th>7</th>\n      <td>linechart</td>\n      <td>[plt.plot(...)](https://matplotlib.org/stable...</td>\n      <td>+</td>\n      <td>+</td>\n      <td>[df.plot.line(...)](https://pandas.pydata.org...</td>\n      <td>NaN</td>\n    </tr>\n    <tr>\n      <th>8</th>\n      <td>piechart</td>\n      <td>[plt.pie(...)](https://matplotlib.&lt;br/&gt;org/st...</td>\n      <td></td>\n      <td>+</td>\n      <td>[df.plot.pie(...)](https://pandas.pydata.org/...</td>\n      <td>NaN</td>\n    </tr>\n    <tr>\n      <th>9</th>\n      <td>exploded piechart</td>\n      <td>...</td>\n      <td></td>\n      <td></td>\n      <td>-                                            ...</td>\n      <td>NaN</td>\n    </tr>\n    <tr>\n      <th>10</th>\n      <td>donutchart</td>\n      <td>...</td>\n      <td></td>\n      <td></td>\n      <td>-                                            ...</td>\n      <td>NaN</td>\n    </tr>\n    <tr>\n      <th>11</th>\n      <td>countourplot</td>\n      <td>[plt.contour(...)](https://matplotlib.org/sta...</td>\n      <td>+</td>\n      <td></td>\n      <td>-                                            ...</td>\n      <td>NaN</td>\n    </tr>\n    <tr>\n      <th>12</th>\n      <td>distributionplot</td>\n      <td>+                                            ...</td>\n      <td>+</td>\n      <td></td>\n      <td>+                                            ...</td>\n      <td>NaN</td>\n    </tr>\n    <tr>\n      <th>13</th>\n      <td>point chart</td>\n      <td>...</td>\n      <td></td>\n      <td></td>\n      <td>...</td>\n      <td>NaN</td>\n    </tr>\n    <tr>\n      <th>14</th>\n      <td>scatterplot</td>\n      <td>[plt.scatter(...)](https://matplotlib.org/sta...</td>\n      <td></td>\n      <td></td>\n      <td>...</td>\n      <td>NaN</td>\n    </tr>\n    <tr>\n      <th>15</th>\n      <td>bubblechart</td>\n      <td>...</td>\n      <td></td>\n      <td></td>\n      <td>[df.plot.scatter(s=...</td>\n      <td>c=...)](https://pandas.pydata.org/pandas-docs/...</td>\n    </tr>\n    <tr>\n      <th>16</th>\n      <td>radar chart</td>\n      <td>...</td>\n      <td></td>\n      <td></td>\n      <td>-                                            ...</td>\n      <td>NaN</td>\n    </tr>\n    <tr>\n      <th>17</th>\n      <td>boxplot</td>\n      <td>[plt.boxplot(...)](https://matplotlib.org/sta...</td>\n      <td></td>\n      <td></td>\n      <td>[df.plot.boxplot(...)](https://pandas.pydata....</td>\n      <td>NaN</td>\n    </tr>\n    <tr>\n      <th>18</th>\n      <td>easy png export</td>\n      <td>+                                            ...</td>\n      <td>+</td>\n      <td></td>\n      <td>+                                            ...</td>\n      <td>NaN</td>\n    </tr>\n    <tr>\n      <th>19</th>\n      <td>color palettes</td>\n      <td>...</td>\n      <td>+</td>\n      <td></td>\n      <td>...</td>\n      <td>NaN</td>\n    </tr>\n    <tr>\n      <th>20</th>\n      <td>interactive graph</td>\n      <td>...</td>\n      <td></td>\n      <td>+</td>\n      <td>...</td>\n      <td>NaN</td>\n    </tr>\n    <tr>\n      <th>21</th>\n      <td>data frame</td>\n      <td>...</td>\n      <td></td>\n      <td></td>\n      <td>[df](tbd)                                    ...</td>\n      <td>NaN</td>\n    </tr>\n  </tbody>\n</table>\n</div>"
     },
     "execution_count": 10,
     "metadata": {},
     "output_type": "execute_result"
    }
   ],
   "source": [
    "df"
   ],
   "metadata": {
    "collapsed": false,
    "pycharm": {
     "name": "#%%\n"
    }
   }
  },
  {
   "cell_type": "code",
   "execution_count": null,
   "outputs": [],
   "source": [],
   "metadata": {
    "collapsed": false,
    "pycharm": {
     "name": "#%%\n"
    }
   }
  }
 ],
 "metadata": {
  "kernelspec": {
   "display_name": "Python 3",
   "language": "python",
   "name": "python3"
  },
  "language_info": {
   "codemirror_mode": {
    "name": "ipython",
    "version": 2
   },
   "file_extension": ".py",
   "mimetype": "text/x-python",
   "name": "python",
   "nbconvert_exporter": "python",
   "pygments_lexer": "ipython2",
   "version": "2.7.6"
  }
 },
 "nbformat": 4,
 "nbformat_minor": 0
}