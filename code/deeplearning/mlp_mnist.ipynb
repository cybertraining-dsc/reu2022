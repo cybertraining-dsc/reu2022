{
 "nbformat": 4,
 "nbformat_minor": 0,
 "metadata": {
  "colab": {
   "name": "mlp-mnist.ipynb",
   "provenance": [],
   "collapsed_sections": []
  },
  "kernelspec": {
   "name": "python3",
   "display_name": "Python 3"
  }
 },
 "cells": [
  {
   "cell_type": "markdown",
   "metadata": {
    "id": "8J3LuF3DTEd8",
    "pycharm": {
     "name": "#%% md\n"
    }
   },
   "source": [
    "# Multi-Layer Perceptron with MNIST\n",
    "\n",
    "\n",
    "This program runs in about 33.795 seconds (Windows 11, i7, 16 GB)"
   ]
  },
  {
   "cell_type": "markdown",
   "metadata": {
    "id": "tvHZtL7ETLDp",
    "pycharm": {
     "name": "#%% md\n"
    }
   },
   "source": [
    "## Pre-requisites\n",
    "\n",
    "Install the following Python packages\n",
    "\n",
    "1. cloudmesh-installer\n",
    "2. cloudmesh-common"
   ]
  },
  {
   "cell_type": "code",
   "metadata": {
    "id": "IE8l7YgQ_z2p",
    "colab": {
     "base_uri": "https://localhost:8080/"
    },
    "outputId": "2da8a3ef-6e20-4e56-d7b1-12dbe864d998",
    "pycharm": {
     "name": "#%%\n"
    }
   },
   "source": [
    "try:\n",
    "    from cloudmesh.common.StopWatch import StopWatch\n",
    "except:  # noqa: E722\n",
    "    ! pip install cloudmesh-common\n",
    "    from cloudmesh.common.StopWatch import StopWatch"
   ],
   "execution_count": 1,
   "outputs": []
  },
  {
   "cell_type": "markdown",
   "metadata": {
    "id": "XYe7k1hvTYB7",
    "pycharm": {
     "name": "#%% md\n"
    }
   },
   "source": [
    "## Sample MLP with Tensorflow Keras"
   ]
  },
  {
   "cell_type": "code",
   "metadata": {
    "id": "eu-7aFi0_u10",
    "colab": {
     "base_uri": "https://localhost:8080/"
    },
    "outputId": "31276960-8d54-4890-b5c0-83e07ca5aca3",
    "pycharm": {
     "name": "#%%\n"
    }
   },
   "source": [
    "StopWatch.start(\"total\")\n",
    "\n",
    "StopWatch.start(\"import\")\n",
    "import time    # noqa: E402\n",
    "\n",
    "import numpy as np    # noqa: E402\n",
    "from keras.models import Sequential    # noqa: E402\n",
    "from keras.layers import Dense, Activation, Dropout    # noqa: E402\n",
    "from keras.utils import to_categorical, plot_model    # noqa: E402\n",
    "from keras.datasets import mnist    # noqa: E402\n",
    "from cloudmesh.common.Shell import Shell    # noqa: E402\n",
    "import os    # noqa: E402\n",
    "# import pydotplus\n",
    "# from keras.utils.vis_utils import model_to_dot\n",
    "# from keras.utils.vis_utils import pydot\n",
    "StopWatch.stop(\"import\")\n",
    "\n",
    "\n",
    "StopWatch.progress(0)\n",
    "\n",
    "StopWatch.start(\"data-load\")\n",
    "(x_train, y_train), (x_test, y_test) = mnist.load_data()\n",
    "StopWatch.stop(\"data-load\")\n",
    "StopWatch.progress(1)\n",
    "\n",
    "num_labels = len(np.unique(y_train))\n",
    "\n",
    "\n",
    "y_train = to_categorical(y_train)\n",
    "y_test = to_categorical(y_test)\n",
    "\n",
    "\n",
    "image_size = x_train.shape[1]\n",
    "input_size = image_size * image_size\n",
    "\n",
    "\n",
    "x_train = np.reshape(x_train, [-1, input_size])\n",
    "x_train = x_train.astype('float32') / 255\n",
    "x_test = np.reshape(x_test, [-1, input_size])\n",
    "x_test = x_test.astype('float32') / 255\n",
    "\n",
    "batch_size = 128\n",
    "hidden_units = 512\n",
    "dropout = 0.45\n",
    "\n",
    "model = Sequential()\n",
    "model.add(Dense(hidden_units, input_dim=input_size))\n",
    "model.add(Activation('relu'))\n",
    "model.add(Dropout(dropout))\n",
    "model.add(Dense(hidden_units))\n",
    "model.add(Activation('relu'))\n",
    "model.add(Dropout(dropout))\n",
    "model.add(Dense(hidden_units))\n",
    "model.add(Activation('relu'))\n",
    "model.add(Dropout(dropout))\n",
    "model.add(Dense(hidden_units))\n",
    "model.add(Activation('relu'))\n",
    "model.add(Dropout(dropout))\n",
    "model.add(Dense(num_labels))\n",
    "model.add(Activation('softmax'))\n",
    "model.summary()\n",
    "plot_model(model, to_file='images/mlp-mnist.png', show_shapes=True)\n",
    "\n",
    "StopWatch.progress(2)\n",
    "StopWatch.start(\"compile\")\n",
    "model.compile(loss='categorical_crossentropy',\n",
    "              optimizer='adam',\n",
    "              metrics=['accuracy'])\n",
    "StopWatch.stop(\"compile\")\n",
    "StopWatch.progress(3)\n",
    "StopWatch.start(\"train\")\n",
    "model.fit(x_train, y_train, epochs=5, batch_size=batch_size)\n",
    "StopWatch.stop(\"train\")\n",
    "\n",
    "StopWatch.progress(99)\n",
    "StopWatch.start(\"test\")\n",
    "loss, acc = model.evaluate(x_test, y_test, batch_size=batch_size)\n",
    "print(\"\\nTest accuracy: %.1f%%\" % (100.0 * acc))\n",
    "StopWatch.stop(\"test\")\n",
    "StopWatch.stop(\"total\")\n",
    "\n",
    "StopWatch.progress(100)\n",
    "user = os.environ['USERNAME']\n",
    "gpuname = open('mlp_mnist.log', 'r').split('(')\n",
    "tag = 'mnist_autoencoder'\n",
    "StopWatch.benchmark(tag=tag, node=gpuname, user=user)\n"
   ],
   "execution_count": 2,
   "outputs": [
    {
     "name": "stdout",
     "output_type": "stream",
     "text": [
      "# cloudmesh status=running progress=0 pid=16204\n",
      "# cloudmesh status=running progress=1 pid=16204\n",
      "Model: \"sequential\"\n",
      "_________________________________________________________________\n",
      " Layer (type)                Output Shape              Param #   \n",
      "=================================================================\n",
      " dense (Dense)               (None, 512)               401920    \n",
      "                                                                 \n",
      " activation (Activation)     (None, 512)               0         \n",
      "                                                                 \n",
      " dropout (Dropout)           (None, 512)               0         \n",
      "                                                                 \n",
      " dense_1 (Dense)             (None, 512)               262656    \n",
      "                                                                 \n",
      " activation_1 (Activation)   (None, 512)               0         \n",
      "                                                                 \n",
      " dropout_1 (Dropout)         (None, 512)               0         \n",
      "                                                                 \n",
      " dense_2 (Dense)             (None, 512)               262656    \n",
      "                                                                 \n",
      " activation_2 (Activation)   (None, 512)               0         \n",
      "                                                                 \n",
      " dropout_2 (Dropout)         (None, 512)               0         \n",
      "                                                                 \n",
      " dense_3 (Dense)             (None, 512)               262656    \n",
      "                                                                 \n",
      " activation_3 (Activation)   (None, 512)               0         \n",
      "                                                                 \n",
      " dropout_3 (Dropout)         (None, 512)               0         \n",
      "                                                                 \n",
      " dense_4 (Dense)             (None, 10)                5130      \n",
      "                                                                 \n",
      " activation_4 (Activation)   (None, 10)                0         \n",
      "                                                                 \n",
      "=================================================================\n",
      "Total params: 1,195,018\n",
      "Trainable params: 1,195,018\n",
      "Non-trainable params: 0\n",
      "_________________________________________________________________\n",
      "You must install pydot (`pip install pydot`) and install graphviz (see instructions at https://graphviz.gitlab.io/download/) for plot_model/model_to_dot to work.\n",
      "# cloudmesh status=running progress=2 pid=16204\n",
      "# cloudmesh status=running progress=3 pid=16204\n",
      "Epoch 1/5\n",
      "469/469 [==============================] - 6s 11ms/step - loss: 0.4352 - accuracy: 0.8621\n",
      "Epoch 2/5\n",
      "469/469 [==============================] - 5s 10ms/step - loss: 0.1912 - accuracy: 0.9456\n",
      "Epoch 3/5\n",
      "469/469 [==============================] - 5s 10ms/step - loss: 0.1557 - accuracy: 0.9554\n",
      "Epoch 4/5\n",
      "469/469 [==============================] - 5s 11ms/step - loss: 0.1301 - accuracy: 0.9631\n",
      "Epoch 5/5\n",
      "469/469 [==============================] - 5s 11ms/step - loss: 0.1199 - accuracy: 0.9660\n",
      "# cloudmesh status=running progress=99 pid=16204\n",
      "79/79 [==============================] - 0s 4ms/step - loss: 0.0794 - accuracy: 0.9774\n",
      "\n",
      "Test accuracy: 97.7%\n",
      "# cloudmesh status=running progress=100 pid=16204\n",
      "\n",
      "+------------------+----------------------------------------------------------------------------------+\n",
      "| Attribute        | Value                                                                            |\n",
      "|------------------+----------------------------------------------------------------------------------|\n",
      "| cpu              |                                                                                  |\n",
      "| cpu_cores        | 4                                                                                |\n",
      "| cpu_count        | 8                                                                                |\n",
      "| cpu_threads      | 8                                                                                |\n",
      "| date             | 2022-07-22 14:40:47.960519                                                       |\n",
      "| frequency        | scpufreq(current=1201.0, min=0.0, max=2803.0)                                    |\n",
      "| mem.available    | 7.2 GiB                                                                          |\n",
      "| mem.free         | 7.2 GiB                                                                          |\n",
      "| mem.percent      | 54.2 %                                                                           |\n",
      "| mem.total        | 15.8 GiB                                                                         |\n",
      "| mem.used         | 8.5 GiB                                                                          |\n",
      "| platform.version | ('10', '10.0.22000', 'SP0', 'Multiprocessor Free')                               |\n",
      "| python           | 3.10.5 (tags/v3.10.5:f377153, Jun  6 2022, 16:14:13) [MSC v.1929 64 bit (AMD64)] |\n",
      "| python.pip       | 22.1.2                                                                           |\n",
      "| python.version   | 3.10.5                                                                           |\n",
      "| sys.platform     | win32                                                                            |\n",
      "| uname.machine    | AMD64                                                                            |\n",
      "| uname.node       | TODO                                                                             |\n",
      "| uname.processor  | Intel64 Family 6 Model 140 Stepping 1, GenuineIntel                              |\n",
      "| uname.release    | 10                                                                               |\n",
      "| uname.system     | Windows                                                                          |\n",
      "| uname.version    | 10.0.22000                                                                       |\n",
      "| user             | beige                                                                            |\n",
      "+------------------+----------------------------------------------------------------------------------+\n",
      "\n",
      "+-----------+----------+--------+--------+---------------------+-------------------+-------+--------+--------+---------+----------------------------------------------------+\n",
      "| Name      | Status   |   Time |    Sum | Start               | tag               | msg   | Node   | User   | OS      | Version                                            |\n",
      "|-----------+----------+--------+--------+---------------------+-------------------+-------+--------+--------+---------+----------------------------------------------------|\n",
      "| total     | ok       | 28.9   | 28.9   | 2022-07-22 14:40:19 | mnist_autoencoder |       | TODO   | beige  | Windows | ('10', '10.0.22000', 'SP0', 'Multiprocessor Free') |\n",
      "| import    | ok       |  2.48  |  2.48  | 2022-07-22 14:40:19 | mnist_autoencoder |       | TODO   | beige  | Windows | ('10', '10.0.22000', 'SP0', 'Multiprocessor Free') |\n",
      "| data-load | ok       |  0.204 |  0.204 | 2022-07-22 14:40:21 | mnist_autoencoder |       | TODO   | beige  | Windows | ('10', '10.0.22000', 'SP0', 'Multiprocessor Free') |\n",
      "| compile   | ok       |  0.006 |  0.006 | 2022-07-22 14:40:21 | mnist_autoencoder |       | TODO   | beige  | Windows | ('10', '10.0.22000', 'SP0', 'Multiprocessor Free') |\n",
      "| train     | ok       | 25.502 | 25.502 | 2022-07-22 14:40:21 | mnist_autoencoder |       | TODO   | beige  | Windows | ('10', '10.0.22000', 'SP0', 'Multiprocessor Free') |\n",
      "| test      | ok       |  0.461 |  0.461 | 2022-07-22 14:40:47 | mnist_autoencoder |       | TODO   | beige  | Windows | ('10', '10.0.22000', 'SP0', 'Multiprocessor Free') |\n",
      "+-----------+----------+--------+--------+---------------------+-------------------+-------+--------+--------+---------+----------------------------------------------------+\n",
      "# csv,timer,status,time,sum,start,tag,msg,uname.node,user,uname.system,platform.version\n",
      "# csv,total,ok,28.9,28.9,2022-07-22 14:40:19,mnist_autoencoder,None,TODO,beige,Windows,('10', '10.0.22000', 'SP0', 'Multiprocessor Free')\n",
      "# csv,import,ok,2.48,2.48,2022-07-22 14:40:19,mnist_autoencoder,None,TODO,beige,Windows,('10', '10.0.22000', 'SP0', 'Multiprocessor Free')\n",
      "# csv,data-load,ok,0.204,0.204,2022-07-22 14:40:21,mnist_autoencoder,None,TODO,beige,Windows,('10', '10.0.22000', 'SP0', 'Multiprocessor Free')\n",
      "# csv,compile,ok,0.006,0.006,2022-07-22 14:40:21,mnist_autoencoder,None,TODO,beige,Windows,('10', '10.0.22000', 'SP0', 'Multiprocessor Free')\n",
      "# csv,train,ok,25.502,25.502,2022-07-22 14:40:21,mnist_autoencoder,None,TODO,beige,Windows,('10', '10.0.22000', 'SP0', 'Multiprocessor Free')\n",
      "# csv,test,ok,0.461,0.461,2022-07-22 14:40:47,mnist_autoencoder,None,TODO,beige,Windows,('10', '10.0.22000', 'SP0', 'Multiprocessor Free')\n",
      "\n"
     ]
    }
   ]
  },
  {
   "cell_type": "markdown",
   "metadata": {
    "id": "rkD7IrsbCRIJ",
    "pycharm": {
     "name": "#%% md\n"
    }
   },
   "source": [
    "# REFERENCES\n",
    "\n",
    "1. [Adavnced Keras Deep Learning Book](https://github.com/PacktPublishing/Advanced-Deep-Learning-with-Keras)"
   ]
  }
 ]
}