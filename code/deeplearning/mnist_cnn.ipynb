{
 "nbformat": 4,
 "nbformat_minor": 0,
 "metadata": {
  "colab": {
   "name": "mnist-cnn.ipynb",
   "provenance": []
  },
  "kernelspec": {
   "name": "python3",
   "display_name": "Python 3"
  }
 },
 "cells": [
  {
   "cell_type": "markdown",
   "metadata": {
    "id": "4kyB8MUKn7Vh",
    "pycharm": {
     "name": "#%% md\n"
    }
   },
   "source": [
    "# MNIST with Convolutional Neural Networks\n",
    "TODO: Run mnist_cnn on PyCharm"
   ]
  },
  {
   "cell_type": "markdown",
   "metadata": {
    "id": "YyFM4icCoAaX",
    "pycharm": {
     "name": "#%% md\n"
    }
   },
   "source": [
    "## Pre-requisites\n",
    "\n",
    "Install the following Python packages\n",
    "\n",
    "1. cloudmesh-installer\n",
    "2. cloudmesh-common"
   ]
  },
  {
   "cell_type": "code",
   "execution_count": null,
   "outputs": [],
   "source": [
    "try:\n",
    "    from cloudmesh.common.StopWatch import StopWatch\n",
    "except:  # noqa: E722\n",
    "    ! pip install cloudmesh-common\n",
    "    from cloudmesh.common.StopWatch import StopWatch"
   ],
   "metadata": {
    "collapsed": false,
    "pycharm": {
     "name": "#%%\n"
    }
   }
  },
  {
   "cell_type": "markdown",
   "source": [
    "## Exporting Output Graphs"
   ],
   "metadata": {
    "collapsed": false,
    "pycharm": {
     "name": "#%% md\n"
    }
   }
  },
  {
   "cell_type": "code",
   "execution_count": null,
   "outputs": [],
   "source": [
    "def save(graph, filename):\n",
    "    if os.path.exists(\"images\"):\n",
    "        pass\n",
    "    else:\n",
    "        Shell.mkdir(\"images\")\n",
    "    plot_model(graph, to_file=f'images/{filename}.png', show_shapes=True)\n",
    "    plot_model(graph, to_file=f'images/{filename}.pdf', show_shapes=True)"
   ],
   "metadata": {
    "collapsed": false,
    "pycharm": {
     "name": "#%%\n"
    }
   }
  },
  {
   "cell_type": "markdown",
   "source": [
    "## Import Libraries"
   ],
   "metadata": {
    "collapsed": false,
    "pycharm": {
     "name": "#%% md\n"
    }
   }
  },
  {
   "cell_type": "code",
   "execution_count": null,
   "outputs": [],
   "source": [
    "StopWatch.start('total')\n",
    "StopWatch.start('import')\n",
    "StopWatch.progress(0)\n",
    "\n",
    "import os    # noqa: E402\n",
    "import cpuinfo    # noqa: E402\n",
    "import numpy as np    # noqa: E402\n",
    "from keras.models import Sequential\n",
    "from keras.layers import Activation, Dense, Dropout    # noqa: E402\n",
    "from keras.layers import Conv2D, MaxPooling2D, Flatten, AveragePooling2D    # noqa: E402\n",
    "from keras.utils import to_categorical, plot_model    # noqa: E402\n",
    "from keras.datasets import mnist    # noqa: E402\n",
    "from cloudmesh.common.systeminfo import os_is_windows    # noqa: E402\n",
    "from cloudmesh.common.Shell import Shell    # noqa: E402\n",
    "\n",
    "StopWatch.stop('import')\n",
    "StopWatch.progress(5)"
   ],
   "metadata": {
    "collapsed": false,
    "pycharm": {
     "name": "#%%\n"
    }
   }
  },
  {
   "cell_type": "markdown",
   "source": [
    "## Data Load"
   ],
   "metadata": {
    "collapsed": false,
    "pycharm": {
     "name": "#%% md\n"
    }
   }
  },
  {
   "cell_type": "code",
   "execution_count": null,
   "outputs": [],
   "source": [
    "StopWatch.start('data-load')\n",
    "\n",
    "(x_train, y_train), (x_test, y_test) = mnist.load_data()\n",
    "\n",
    "StopWatch.stop('data-load')\n",
    "StopWatch.progress(20)"
   ],
   "metadata": {
    "collapsed": false,
    "pycharm": {
     "name": "#%%\n"
    }
   }
  },
  {
   "cell_type": "markdown",
   "source": [
    "## Data Pre-Process"
   ],
   "metadata": {
    "collapsed": false,
    "pycharm": {
     "name": "#%% md\n"
    }
   }
  },
  {
   "cell_type": "code",
   "execution_count": null,
   "outputs": [],
   "source": [
    "StopWatch.start(\"data-pre-process\")\n",
    "\n",
    "num_labels = len(np.unique(y_train))\n",
    "\n",
    "y_train = to_categorical(y_train)\n",
    "y_test = to_categorical(y_test)\n",
    "\n",
    "image_size = x_train.shape[1]\n",
    "x_train = np.reshape(x_train,[-1, image_size, image_size, 1])\n",
    "x_test = np.reshape(x_test,[-1, image_size, image_size, 1])\n",
    "x_train = x_train.astype('float32') / 255\n",
    "x_test = x_test.astype('float32') / 255\n",
    "\n",
    "input_shape = (image_size, image_size, 1)\n",
    "print(input_shape)\n",
    "\n",
    "StopWatch.stop(\"data-pre-process\")\n",
    "StopWatch.progress(40)"
   ],
   "metadata": {
    "collapsed": false,
    "pycharm": {
     "name": "#%%\n"
    }
   }
  },
  {
   "cell_type": "markdown",
   "source": [
    "## Define Model"
   ],
   "metadata": {
    "collapsed": false,
    "pycharm": {
     "name": "#%% md\n"
    }
   }
  },
  {
   "cell_type": "code",
   "execution_count": null,
   "outputs": [],
   "source": [
    "StopWatch.start(\"compile\")\n",
    "\n",
    "batch_size = 128\n",
    "kernel_size = 3\n",
    "pool_size = 2\n",
    "filters = 64\n",
    "dropout = 0.2\n",
    "\n",
    "model = Sequential()\n",
    "model.add(Conv2D(filters=filters,\n",
    "                 kernel_size=kernel_size,\n",
    "                 activation='relu',\n",
    "                 input_shape=input_shape,\n",
    "                 padding='same'))\n",
    "model.add(MaxPooling2D(pool_size))\n",
    "model.add(Conv2D(filters=filters,\n",
    "                 kernel_size=kernel_size,\n",
    "                 activation='relu',\n",
    "                 input_shape=input_shape,\n",
    "                 padding='same'))\n",
    "model.add(MaxPooling2D(pool_size))\n",
    "model.add(Conv2D(filters=filters,\n",
    "                 kernel_size=kernel_size,\n",
    "                 activation='relu',\n",
    "                 padding='same'))\n",
    "model.add(MaxPooling2D(pool_size))\n",
    "model.add(Conv2D(filters=filters,\n",
    "                 kernel_size=kernel_size,\n",
    "                 activation='relu'))\n",
    "model.add(Flatten())\n",
    "model.add(Dropout(dropout))\n",
    "model.add(Dense(num_labels))\n",
    "model.add(Activation('softmax'))\n",
    "model.summary()\n",
    "save(model, 'mnist_cnn')\n",
    "\n",
    "model.compile(loss='categorical_crossentropy',\n",
    "              optimizer='adam',\n",
    "              metrics=['accuracy'])\n",
    "\n",
    "StopWatch.stop(\"compile\")\n",
    "StopWatch.progress(60)"
   ],
   "metadata": {
    "collapsed": false,
    "pycharm": {
     "name": "#%%\n"
    }
   }
  },
  {
   "cell_type": "markdown",
   "source": [
    "# Train"
   ],
   "metadata": {
    "collapsed": false,
    "pycharm": {
     "name": "#%% md\n"
    }
   }
  },
  {
   "cell_type": "code",
   "execution_count": null,
   "outputs": [],
   "source": [
    "StopWatch.start('train')\n",
    "\n",
    "model.fit(x_train, y_train, epochs=10, batch_size=batch_size)\n",
    "\n",
    "StopWatch.stop('train')\n",
    "StopWatch.progress(80)"
   ],
   "metadata": {
    "collapsed": false,
    "pycharm": {
     "name": "#%%\n"
    }
   }
  },
  {
   "cell_type": "markdown",
   "source": [
    "## Test"
   ],
   "metadata": {
    "collapsed": false,
    "pycharm": {
     "name": "#%% md\n"
    }
   }
  },
  {
   "cell_type": "code",
   "execution_count": null,
   "outputs": [],
   "source": [
    "StopWatch.start('test')\n",
    "\n",
    "loss, acc = model.evaluate(x_test, y_test, batch_size=batch_size)\n",
    "print(\"\\nTest accuracy: %.1f%%\" % (100.0 * acc))\n",
    "\n",
    "StopWatch.stop('test')\n",
    "StopWatch.stop('total')\n",
    "StopWatch.progress(100)\n",
    "\n",
    "if os_is_windows():\n",
    "    user = os.environ[\"USERNAME\"]\n",
    "else:\n",
    "    try:\n",
    "        user = os.environ['USER']\n",
    "    except:\n",
    "        user = os.system('basename $HOME')\n",
    "\n",
    "try:\n",
    "    gpuname = ''\n",
    "    for line in open('mnist_cnn.log', 'r'):\n",
    "        if 'GPU' in line and line[-2] == ')':\n",
    "            gpuname = gpuname + line[:line.find('(')] + '\\n'\n",
    "except:\n",
    "    gpuname = cpuinfo.get_cpu_info()['brand_raw']\n",
    "\n",
    "tag = 'mnist_cnn'\n",
    "\n",
    "StopWatch.benchmark(tag=tag, node=gpuname, user=user)"
   ],
   "metadata": {
    "collapsed": false,
    "pycharm": {
     "name": "#%%\n"
    }
   }
  }
 ]
}