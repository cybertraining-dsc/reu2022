{
 "cells": [
  {
   "cell_type": "code",
   "execution_count": 6,
   "metadata": {
    "collapsed": true,
    "pycharm": {
     "name": "#%%\n"
    }
   },
   "outputs": [],
   "source": [
    "import glob\n",
    "import pandas as pd\n",
    "from IPython.display import display"
   ]
  },
  {
   "cell_type": "code",
   "execution_count": 7,
   "outputs": [
    {
     "name": "stdout",
     "output_type": "stream",
     "text": [
      "/Users/grey/Desktop/github/cloudmesh-community/cm/reu2022/code/deeplearning/mnist\r\n"
     ]
    }
   ],
   "source": [
    "!pwd"
   ],
   "metadata": {
    "collapsed": false,
    "pycharm": {
     "name": "#%%\n"
    }
   }
  },
  {
   "cell_type": "code",
   "execution_count": 17,
   "outputs": [
    {
     "name": "stdout",
     "output_type": "stream",
     "text": [
      "GGG ['result/results-gregor-desktop.log', 'result/m1-max.log']\n",
      "result/results-gregor-desktop.log\n"
     ]
    },
    {
     "data": {
      "text/plain": "                             timer     time  \\\n0                        mlp_mnist   17.903   \n1                mnist_autoencoder   14.554   \n2                        mnist_cnn   23.554   \n3                       mnist_lstm   14.557   \n4              mnist_mlp_with_lstm   99.600   \n5                        mnist_rnn   26.577   \n6  mnist_with_distributed_training  111.674   \n7               mnist_with_pytorch   44.553   \n\n                                                 tag uname.node     user  \\\n0  gregor-desktop-AMD Ryzen 9 5950X 16-Core Proce...     gregor  desktop   \n1  gregor-desktop-AMD Ryzen 9 5950X 16-Core Proce...     gregor  desktop   \n2  gregor-desktop-AMD Ryzen 9 5950X 16-Core Proce...     gregor  desktop   \n3  gregor-desktop-AMD Ryzen 9 5950X 16-Core Proce...     gregor  desktop   \n4  gregor-desktop-AMD Ryzen 9 5950X 16-Core Proce...     gregor  desktop   \n5  gregor-desktop-AMD Ryzen 9 5950X 16-Core Proce...     gregor  desktop   \n6  gregor-desktop-AMD Ryzen 9 5950X 16-Core Proce...     gregor  desktop   \n7  gregor-desktop-AMD Ryzen 9 5950X 16-Core Proce...     gregor  desktop   \n\n  uname.system                                   platform.version  \n0        Linux  #44~20.04.1-Ubuntu SMP Fri Jun 24 13:27:29 UTC...  \n1        Linux  #44~20.04.1-Ubuntu SMP Fri Jun 24 13:27:29 UTC...  \n2        Linux  #44~20.04.1-Ubuntu SMP Fri Jun 24 13:27:29 UTC...  \n3        Linux  #44~20.04.1-Ubuntu SMP Fri Jun 24 13:27:29 UTC...  \n4        Linux  #44~20.04.1-Ubuntu SMP Fri Jun 24 13:27:29 UTC...  \n5        Linux  #44~20.04.1-Ubuntu SMP Fri Jun 24 13:27:29 UTC...  \n6        Linux  #44~20.04.1-Ubuntu SMP Fri Jun 24 13:27:29 UTC...  \n7        Linux  #44~20.04.1-Ubuntu SMP Fri Jun 24 13:27:29 UTC...  ",
      "text/html": "<div>\n<style scoped>\n    .dataframe tbody tr th:only-of-type {\n        vertical-align: middle;\n    }\n\n    .dataframe tbody tr th {\n        vertical-align: top;\n    }\n\n    .dataframe thead th {\n        text-align: right;\n    }\n</style>\n<table border=\"1\" class=\"dataframe\">\n  <thead>\n    <tr style=\"text-align: right;\">\n      <th></th>\n      <th>timer</th>\n      <th>time</th>\n      <th>tag</th>\n      <th>uname.node</th>\n      <th>user</th>\n      <th>uname.system</th>\n      <th>platform.version</th>\n    </tr>\n  </thead>\n  <tbody>\n    <tr>\n      <th>0</th>\n      <td>mlp_mnist</td>\n      <td>17.903</td>\n      <td>gregor-desktop-AMD Ryzen 9 5950X 16-Core Proce...</td>\n      <td>gregor</td>\n      <td>desktop</td>\n      <td>Linux</td>\n      <td>#44~20.04.1-Ubuntu SMP Fri Jun 24 13:27:29 UTC...</td>\n    </tr>\n    <tr>\n      <th>1</th>\n      <td>mnist_autoencoder</td>\n      <td>14.554</td>\n      <td>gregor-desktop-AMD Ryzen 9 5950X 16-Core Proce...</td>\n      <td>gregor</td>\n      <td>desktop</td>\n      <td>Linux</td>\n      <td>#44~20.04.1-Ubuntu SMP Fri Jun 24 13:27:29 UTC...</td>\n    </tr>\n    <tr>\n      <th>2</th>\n      <td>mnist_cnn</td>\n      <td>23.554</td>\n      <td>gregor-desktop-AMD Ryzen 9 5950X 16-Core Proce...</td>\n      <td>gregor</td>\n      <td>desktop</td>\n      <td>Linux</td>\n      <td>#44~20.04.1-Ubuntu SMP Fri Jun 24 13:27:29 UTC...</td>\n    </tr>\n    <tr>\n      <th>3</th>\n      <td>mnist_lstm</td>\n      <td>14.557</td>\n      <td>gregor-desktop-AMD Ryzen 9 5950X 16-Core Proce...</td>\n      <td>gregor</td>\n      <td>desktop</td>\n      <td>Linux</td>\n      <td>#44~20.04.1-Ubuntu SMP Fri Jun 24 13:27:29 UTC...</td>\n    </tr>\n    <tr>\n      <th>4</th>\n      <td>mnist_mlp_with_lstm</td>\n      <td>99.600</td>\n      <td>gregor-desktop-AMD Ryzen 9 5950X 16-Core Proce...</td>\n      <td>gregor</td>\n      <td>desktop</td>\n      <td>Linux</td>\n      <td>#44~20.04.1-Ubuntu SMP Fri Jun 24 13:27:29 UTC...</td>\n    </tr>\n    <tr>\n      <th>5</th>\n      <td>mnist_rnn</td>\n      <td>26.577</td>\n      <td>gregor-desktop-AMD Ryzen 9 5950X 16-Core Proce...</td>\n      <td>gregor</td>\n      <td>desktop</td>\n      <td>Linux</td>\n      <td>#44~20.04.1-Ubuntu SMP Fri Jun 24 13:27:29 UTC...</td>\n    </tr>\n    <tr>\n      <th>6</th>\n      <td>mnist_with_distributed_training</td>\n      <td>111.674</td>\n      <td>gregor-desktop-AMD Ryzen 9 5950X 16-Core Proce...</td>\n      <td>gregor</td>\n      <td>desktop</td>\n      <td>Linux</td>\n      <td>#44~20.04.1-Ubuntu SMP Fri Jun 24 13:27:29 UTC...</td>\n    </tr>\n    <tr>\n      <th>7</th>\n      <td>mnist_with_pytorch</td>\n      <td>44.553</td>\n      <td>gregor-desktop-AMD Ryzen 9 5950X 16-Core Proce...</td>\n      <td>gregor</td>\n      <td>desktop</td>\n      <td>Linux</td>\n      <td>#44~20.04.1-Ubuntu SMP Fri Jun 24 13:27:29 UTC...</td>\n    </tr>\n  </tbody>\n</table>\n</div>"
     },
     "metadata": {},
     "output_type": "display_data"
    },
    {
     "name": "stdout",
     "output_type": "stream",
     "text": [
      "result/m1-max.log\n"
     ]
    },
    {
     "data": {
      "text/plain": "                             timer      time               tag uname.node  \\\n0                        mlp_mnist    23.599  m1-gregor-arm-m1         m1   \n1                mnist_autoencoder    40.672  m1-gregor-arm-m1         m1   \n2                        mnist_cnn   147.222  m1-gregor-arm-m1         m1   \n3                       mnist_lstm   130.028  m1-gregor-arm-m1         m1   \n4              mnist_mlp_with_lstm  3629.028  m1-gregor-arm-m1         m1   \n5                        mnist_rnn    56.243  m1-gregor-arm-m1         m1   \n6  mnist_with_distributed_training  3885.402  m1-gregor-arm-m1         m1   \n7               mnist_with_pytorch    23.775  m1-gregor-arm-m1         m1   \n\n     user uname.system  platform.version  \n0  gregor       Darwin              12.5  \n1  gregor       Darwin              12.5  \n2  gregor       Darwin              12.5  \n3  gregor       Darwin              12.5  \n4  gregor       Darwin              12.5  \n5  gregor       Darwin              12.5  \n6  gregor       Darwin              12.5  \n7  gregor       Darwin              12.5  ",
      "text/html": "<div>\n<style scoped>\n    .dataframe tbody tr th:only-of-type {\n        vertical-align: middle;\n    }\n\n    .dataframe tbody tr th {\n        vertical-align: top;\n    }\n\n    .dataframe thead th {\n        text-align: right;\n    }\n</style>\n<table border=\"1\" class=\"dataframe\">\n  <thead>\n    <tr style=\"text-align: right;\">\n      <th></th>\n      <th>timer</th>\n      <th>time</th>\n      <th>tag</th>\n      <th>uname.node</th>\n      <th>user</th>\n      <th>uname.system</th>\n      <th>platform.version</th>\n    </tr>\n  </thead>\n  <tbody>\n    <tr>\n      <th>0</th>\n      <td>mlp_mnist</td>\n      <td>23.599</td>\n      <td>m1-gregor-arm-m1</td>\n      <td>m1</td>\n      <td>gregor</td>\n      <td>Darwin</td>\n      <td>12.5</td>\n    </tr>\n    <tr>\n      <th>1</th>\n      <td>mnist_autoencoder</td>\n      <td>40.672</td>\n      <td>m1-gregor-arm-m1</td>\n      <td>m1</td>\n      <td>gregor</td>\n      <td>Darwin</td>\n      <td>12.5</td>\n    </tr>\n    <tr>\n      <th>2</th>\n      <td>mnist_cnn</td>\n      <td>147.222</td>\n      <td>m1-gregor-arm-m1</td>\n      <td>m1</td>\n      <td>gregor</td>\n      <td>Darwin</td>\n      <td>12.5</td>\n    </tr>\n    <tr>\n      <th>3</th>\n      <td>mnist_lstm</td>\n      <td>130.028</td>\n      <td>m1-gregor-arm-m1</td>\n      <td>m1</td>\n      <td>gregor</td>\n      <td>Darwin</td>\n      <td>12.5</td>\n    </tr>\n    <tr>\n      <th>4</th>\n      <td>mnist_mlp_with_lstm</td>\n      <td>3629.028</td>\n      <td>m1-gregor-arm-m1</td>\n      <td>m1</td>\n      <td>gregor</td>\n      <td>Darwin</td>\n      <td>12.5</td>\n    </tr>\n    <tr>\n      <th>5</th>\n      <td>mnist_rnn</td>\n      <td>56.243</td>\n      <td>m1-gregor-arm-m1</td>\n      <td>m1</td>\n      <td>gregor</td>\n      <td>Darwin</td>\n      <td>12.5</td>\n    </tr>\n    <tr>\n      <th>6</th>\n      <td>mnist_with_distributed_training</td>\n      <td>3885.402</td>\n      <td>m1-gregor-arm-m1</td>\n      <td>m1</td>\n      <td>gregor</td>\n      <td>Darwin</td>\n      <td>12.5</td>\n    </tr>\n    <tr>\n      <th>7</th>\n      <td>mnist_with_pytorch</td>\n      <td>23.775</td>\n      <td>m1-gregor-arm-m1</td>\n      <td>m1</td>\n      <td>gregor</td>\n      <td>Darwin</td>\n      <td>12.5</td>\n    </tr>\n  </tbody>\n</table>\n</div>"
     },
     "metadata": {},
     "output_type": "display_data"
    }
   ],
   "source": [
    "files = glob.glob(\"result/*.log\")\n",
    "\n",
    "print (\"GGG\", files)\n",
    "\n",
    "df = pd.DataFrame()\n",
    "\n",
    "for file in files:\n",
    "\tprint (file)\n",
    "\tdata = pd.read_csv(file)\n",
    "\tdata = data.drop([\"status\", \"sum\", \"start\", \"msg\", \"# csv\"], axis=1)\n",
    "\tdisplay(data)\n",
    "\t# add it to df in what format is needed\n"
   ],
   "metadata": {
    "collapsed": false,
    "pycharm": {
     "name": "#%%\n"
    }
   }
  },
  {
   "cell_type": "code",
   "execution_count": 5,
   "outputs": [
    {
     "ename": "ModuleNotFoundError",
     "evalue": "No module named 'seaborn'",
     "output_type": "error",
     "traceback": [
      "\u001B[0;31m---------------------------------------------------------------------------\u001B[0m",
      "\u001B[0;31mModuleNotFoundError\u001B[0m                       Traceback (most recent call last)",
      "Input \u001B[0;32mIn [5]\u001B[0m, in \u001B[0;36m<cell line: 3>\u001B[0;34m()\u001B[0m\n\u001B[1;32m      1\u001B[0m \u001B[38;5;28;01mimport\u001B[39;00m \u001B[38;5;21;01mmatplotlib\u001B[39;00m\u001B[38;5;21;01m.\u001B[39;00m\u001B[38;5;21;01mpyplot\u001B[39;00m \u001B[38;5;28;01mas\u001B[39;00m \u001B[38;5;21;01mplt\u001B[39;00m\n\u001B[0;32m----> 3\u001B[0m \u001B[38;5;28;01mimport\u001B[39;00m \u001B[38;5;21;01mseaborn\u001B[39;00m \u001B[38;5;28;01mas\u001B[39;00m \u001B[38;5;21;01msb\u001B[39;00m\n\u001B[1;32m      5\u001B[0m \u001B[38;5;66;03m#we want somethinglike multicolumn barchart\u001B[39;00m\n\u001B[1;32m      7\u001B[0m df \u001B[38;5;241m=\u001B[39m sb\u001B[38;5;241m.\u001B[39mload_dataset(\u001B[38;5;124m'\u001B[39m\u001B[38;5;124mtitanic\u001B[39m\u001B[38;5;124m'\u001B[39m)\n",
      "\u001B[0;31mModuleNotFoundError\u001B[0m: No module named 'seaborn'"
     ]
    }
   ],
   "source": [
    "import matplotlib.pyplot as plt\n",
    "\n",
    "import seaborn as sb\n",
    "\n",
    "#we want somethinglike multicolumn barchart\n",
    "\n",
    "df = sb.load_dataset('titanic')\n",
    "\n",
    "df = df.groupby(['pclass', 'survived']).agg(mean=(\"age\", 'mean'))\n",
    "\n",
    "df = df.reset_index()\n",
    "\n",
    "sb.barplot(x=\"pclass\", y=\"mean\", hue=\"survived\", data=df)\n",
    "\n",
    "plt.show()"
   ],
   "metadata": {
    "collapsed": false,
    "pycharm": {
     "name": "#%%\n"
    }
   }
  },
  {
   "cell_type": "code",
   "execution_count": null,
   "outputs": [],
   "source": [
    "# on x axis we want mnist prg name, we want columns of user amchines in each of these categories"
   ],
   "metadata": {
    "collapsed": false,
    "pycharm": {
     "name": "#%%\n"
    }
   }
  }
 ],
 "metadata": {
  "kernelspec": {
   "display_name": "Python 3",
   "language": "python",
   "name": "python3"
  },
  "language_info": {
   "codemirror_mode": {
    "name": "ipython",
    "version": 2
   },
   "file_extension": ".py",
   "mimetype": "text/x-python",
   "name": "python",
   "nbconvert_exporter": "python",
   "pygments_lexer": "ipython2",
   "version": "2.7.6"
  }
 },
 "nbformat": 4,
 "nbformat_minor": 0
}