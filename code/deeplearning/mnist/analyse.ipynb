{
 "cells": [
  {
   "cell_type": "code",
   "execution_count": 9,
   "metadata": {
    "collapsed": true,
    "pycharm": {
     "name": "#%%\n"
    }
   },
   "outputs": [],
   "source": [
    "import glob\n",
    "import pandas as pd\n"
   ]
  },
  {
   "cell_type": "code",
   "execution_count": 12,
   "outputs": [
    {
     "name": "stdout",
     "output_type": "stream",
     "text": [
      "/home/green/Desktop/cm/reu2022/code/deeplearning\r\n"
     ]
    }
   ],
   "source": [
    "!pwd\n"
   ],
   "metadata": {
    "collapsed": false,
    "pycharm": {
     "name": "#%%\n"
    }
   }
  },
  {
   "cell_type": "code",
   "execution_count": 13,
   "outputs": [
    {
     "name": "stdout",
     "output_type": "stream",
     "text": [
      "GGG ['mnist//result/m1-max.log', 'mnist//result/results-gregor-desktop.log']\n",
      "mnist//result/m1-max.log\n",
      "   # csv                            timer status      time       sum  \\\n",
      "0  # csv                        mlp_mnist     ok    23.599    23.599   \n",
      "1  # csv                mnist_autoencoder     ok    40.672    40.672   \n",
      "2  # csv                        mnist_cnn     ok   147.222   147.222   \n",
      "3  # csv                       mnist_lstm     ok   130.028   130.028   \n",
      "4  # csv              mnist_mlp_with_lstm     ok  3629.028  3629.028   \n",
      "5  # csv                        mnist_rnn     ok    56.243    56.243   \n",
      "6  # csv  mnist_with_distributed_training     ok  3885.402  3885.402   \n",
      "7  # csv               mnist_with_pytorch     ok    23.775    23.775   \n",
      "\n",
      "                 start               tag   msg uname.node    user  \\\n",
      "0  2022-07-26 11:55:25  m1-gregor-arm-m1  None         m1  gregor   \n",
      "1  2022-07-26 11:55:49  m1-gregor-arm-m1  None         m1  gregor   \n",
      "2  2022-07-26 11:56:30  m1-gregor-arm-m1  None         m1  gregor   \n",
      "3  2022-07-26 11:58:57  m1-gregor-arm-m1  None         m1  gregor   \n",
      "4  2022-07-26 12:01:07  m1-gregor-arm-m1  None         m1  gregor   \n",
      "5  2022-07-26 13:01:36  m1-gregor-arm-m1  None         m1  gregor   \n",
      "6  2022-07-26 13:02:32  m1-gregor-arm-m1  None         m1  gregor   \n",
      "7  2022-07-26 14:07:17  m1-gregor-arm-m1  None         m1  gregor   \n",
      "\n",
      "  uname.system  platform.version  \n",
      "0       Darwin              12.5  \n",
      "1       Darwin              12.5  \n",
      "2       Darwin              12.5  \n",
      "3       Darwin              12.5  \n",
      "4       Darwin              12.5  \n",
      "5       Darwin              12.5  \n",
      "6       Darwin              12.5  \n",
      "7       Darwin              12.5  \n",
      "mnist//result/results-gregor-desktop.log\n",
      "   # csv                            timer status     time      sum  \\\n",
      "0  # csv                        mlp_mnist     ok   17.903   17.903   \n",
      "1  # csv                mnist_autoencoder     ok   14.554   14.554   \n",
      "2  # csv                        mnist_cnn     ok   23.554   23.554   \n",
      "3  # csv                       mnist_lstm     ok   14.557   14.557   \n",
      "4  # csv              mnist_mlp_with_lstm     ok   99.600   99.600   \n",
      "5  # csv                        mnist_rnn     ok   26.577   26.577   \n",
      "6  # csv  mnist_with_distributed_training     ok  111.674  111.674   \n",
      "7  # csv               mnist_with_pytorch     ok   44.553   44.553   \n",
      "\n",
      "                 start                                                tag  \\\n",
      "0  2022-07-26 14:07:37  gregor-desktop-AMD Ryzen 9 5950X 16-Core Proce...   \n",
      "1  2022-07-26 14:07:54  gregor-desktop-AMD Ryzen 9 5950X 16-Core Proce...   \n",
      "2  2022-07-26 14:08:09  gregor-desktop-AMD Ryzen 9 5950X 16-Core Proce...   \n",
      "3  2022-07-26 14:08:33  gregor-desktop-AMD Ryzen 9 5950X 16-Core Proce...   \n",
      "4  2022-07-26 14:08:47  gregor-desktop-AMD Ryzen 9 5950X 16-Core Proce...   \n",
      "5  2022-07-26 14:10:27  gregor-desktop-AMD Ryzen 9 5950X 16-Core Proce...   \n",
      "6  2022-07-26 14:10:53  gregor-desktop-AMD Ryzen 9 5950X 16-Core Proce...   \n",
      "7  2022-07-26 14:12:45  gregor-desktop-AMD Ryzen 9 5950X 16-Core Proce...   \n",
      "\n",
      "    msg uname.node     user uname.system  \\\n",
      "0  None     gregor  desktop        Linux   \n",
      "1  None     gregor  desktop        Linux   \n",
      "2  None     gregor  desktop        Linux   \n",
      "3  None     gregor  desktop        Linux   \n",
      "4  None     gregor  desktop        Linux   \n",
      "5  None     gregor  desktop        Linux   \n",
      "6  None     gregor  desktop        Linux   \n",
      "7  None     gregor  desktop        Linux   \n",
      "\n",
      "                                    platform.version  \n",
      "0  #44~20.04.1-Ubuntu SMP Fri Jun 24 13:27:29 UTC...  \n",
      "1  #44~20.04.1-Ubuntu SMP Fri Jun 24 13:27:29 UTC...  \n",
      "2  #44~20.04.1-Ubuntu SMP Fri Jun 24 13:27:29 UTC...  \n",
      "3  #44~20.04.1-Ubuntu SMP Fri Jun 24 13:27:29 UTC...  \n",
      "4  #44~20.04.1-Ubuntu SMP Fri Jun 24 13:27:29 UTC...  \n",
      "5  #44~20.04.1-Ubuntu SMP Fri Jun 24 13:27:29 UTC...  \n",
      "6  #44~20.04.1-Ubuntu SMP Fri Jun 24 13:27:29 UTC...  \n",
      "7  #44~20.04.1-Ubuntu SMP Fri Jun 24 13:27:29 UTC...  \n"
     ]
    }
   ],
   "source": [
    "files = glob.glob(\"mnist//result/*.log\")\n",
    "\n",
    "print (\"GGG\", files)\n",
    "\n",
    "df = pd.DataFrame()\n",
    "\n",
    "for file in files:\n",
    "\tprint (file)\n",
    "\tdata = pd.read_csv(file)\n",
    "\t# add it to df in what format is needed\n"
   ],
   "metadata": {
    "collapsed": false,
    "pycharm": {
     "name": "#%%\n"
    }
   }
  },
  {
   "cell_type": "code",
   "execution_count": 15,
   "outputs": [
    {
     "data": {
      "text/plain": "<Figure size 432x288 with 1 Axes>",
      "image/png": "[encoded data removed]"
     },
     "metadata": {
      "needs_background": "light"
     },
     "output_type": "display_data"
    }
   ],
   "source": [
    "import matplotlib.pyplot as plt\n",
    "\n",
    "import seaborn as sb\n",
    "\n",
    "#we want somethinglike multicolumn barchart\n",
    "\n",
    "df = sb.load_dataset('titanic')\n",
    "\n",
    "df = df.groupby(['pclass', 'survived']).agg(mean=(\"age\", 'mean'))\n",
    "\n",
    "df = df.reset_index()\n",
    "\n",
    "sb.barplot(x=\"pclass\", y=\"mean\", hue=\"survived\", data=df)\n",
    "\n",
    "plt.show()"
   ],
   "metadata": {
    "collapsed": false,
    "pycharm": {
     "name": "#%%\n"
    }
   }
  },
  {
   "cell_type": "code",
   "execution_count": null,
   "outputs": [],
   "source": [
    "# on x axis we want mnist prg name, we want columns of user amchines in each of these categories"
   ],
   "metadata": {
    "collapsed": false,
    "pycharm": {
     "name": "#%%\n"
    }
   }
  }
 ],
 "metadata": {
  "kernelspec": {
   "display_name": "Python 3",
   "language": "python",
   "name": "python3"
  },
  "language_info": {
   "codemirror_mode": {
    "name": "ipython",
    "version": 2
   },
   "file_extension": ".py",
   "mimetype": "text/x-python",
   "name": "python",
   "nbconvert_exporter": "python",
   "pygments_lexer": "ipython2",
   "version": "2.7.6"
  }
 },
 "nbformat": 4,
 "nbformat_minor": 0
}