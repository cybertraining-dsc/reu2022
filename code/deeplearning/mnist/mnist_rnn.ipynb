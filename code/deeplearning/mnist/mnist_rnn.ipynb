{
 "nbformat": 4,
 "nbformat_minor": 0,
 "metadata": {
  "colab": {
   "name": "mnist-rnn.ipynb",
   "provenance": []
  },
  "kernelspec": {
   "name": "python3",
   "display_name": "Python 3"
  }
 },
 "cells": [
  {
   "cell_type": "markdown",
   "metadata": {
    "id": "4kyB8MUKn7Vh"
   },
   "source": [
    "# MNIST with Recurrent Neural Networks\n",
    "This program runs in about 46.033 seconds (Windows 11, i7, 16 GB)"
   ]
  },
  {
   "cell_type": "markdown",
   "metadata": {
    "id": "YyFM4icCoAaX"
   },
   "source": [
    "## Pre-requisites\n",
    "\n",
    "Install the following Python packages\n",
    "\n",
    "1. cloudmesh-installer\n",
    "2. cloudmesh-common"
   ]
  },
  {
   "cell_type": "code",
   "metadata": {
    "colab": {
     "base_uri": "https://localhost:8080/"
    },
    "id": "u63awVMPoD7Y",
    "outputId": "ca3297ad-339c-4483-afdc-bff00b9dea1b"
   },
   "source": [
    "try:\n",
    "    from cloudmesh.common.StopWatch import StopWatch\n",
    "except:  # noqa: E722\n",
    "    ! pip install cloudmesh-common\n",
    "    from cloudmesh.common.StopWatch import StopWatch"
   ],
   "execution_count": 1,
   "outputs": []
  },
  {
   "cell_type": "markdown",
   "source": [
    "## Exporting Output Graphs"
   ],
   "metadata": {
    "collapsed": false
   }
  },
  {
   "cell_type": "code",
   "execution_count": 2,
   "outputs": [],
   "source": [
    "def save(graph, filename):\n",
    "    if os.path.exists(\"images\"):\n",
    "        pass\n",
    "    else:\n",
    "        Shell.mkdir(\"images\")\n",
    "    plot_model(graph, to_file=f'images/{filename}.png', show_shapes=True)\n",
    "    plot_model(graph, to_file=f'images/{filename}.pdf', show_shapes=True)"
   ],
   "metadata": {
    "collapsed": false
   }
  },
  {
   "cell_type": "markdown",
   "metadata": {
    "id": "RlBJ-XuWopPh"
   },
   "source": [
    "## Import Libraries"
   ]
  },
  {
   "cell_type": "code",
   "metadata": {
    "id": "RylyDeO2oC4m"
   },
   "source": [
    "StopWatch.start(\"total\")\n",
    "StopWatch.start(\"import\")\n",
    "import os    # noqa: E402\n",
    "import cpuinfo    # noqa: E402\n",
    "import numpy as np    # noqa: E402\n",
    "from keras.models import Sequential    # noqa: E402\n",
    "from keras.layers import Dense, Activation, SimpleRNN    # noqa: E402\n",
    "from keras.utils import to_categorical, plot_model    # noqa: E402\n",
    "from keras.datasets import mnist    # noqa: E402\n",
    "from cloudmesh.common.systeminfo import os_is_windows    # noqa: E402\n",
    "from cloudmesh.common.Shell import Shell    # noqa: E402\n",
    "\n",
    "filename = Shell.map_filename(f'~/reu2022/code/deeplearning/mnist/mnist_rnn.log')\n",
    "StopWatch.progress(0, filename=filename)\n",
    "\n",
    "StopWatch.stop(\"import\")\n",
    "StopWatch.progress(5, filename=filename)"
   ],
   "execution_count": 3,
   "outputs": [
    {
     "name": "stdout",
     "output_type": "stream",
     "text": [
      "# cloudmesh status=running progress=0 pid=3064\n",
      "# cloudmesh status=running progress=7 pid=3064\n"
     ]
    },
    {
     "data": {
      "text/plain": "'# cloudmesh status=running progress=7 pid=3064'"
     },
     "execution_count": 3,
     "metadata": {},
     "output_type": "execute_result"
    }
   ]
  },
  {
   "cell_type": "markdown",
   "source": [
    "## Data Load"
   ],
   "metadata": {
    "collapsed": false
   }
  },
  {
   "cell_type": "code",
   "execution_count": 4,
   "outputs": [
    {
     "name": "stdout",
     "output_type": "stream",
     "text": [
      "# cloudmesh status=running progress=8 pid=3064\n"
     ]
    },
    {
     "data": {
      "text/plain": "'# cloudmesh status=running progress=8 pid=3064'"
     },
     "execution_count": 4,
     "metadata": {},
     "output_type": "execute_result"
    }
   ],
   "source": [
    "StopWatch.start(\"data-load\")\n",
    "\n",
    "(x_train, y_train), (x_test, y_test) = mnist.load_data()\n",
    "\n",
    "StopWatch.stop(\"data-load\")\n",
    "StopWatch.progress(6, filename=filename)"
   ],
   "metadata": {
    "collapsed": false
   }
  },
  {
   "cell_type": "markdown",
   "metadata": {
    "id": "e2lUNBJxore4"
   },
   "source": [
    "## Data Pre-Process"
   ]
  },
  {
   "cell_type": "code",
   "metadata": {
    "id": "3X9sLwfUocZ6"
   },
   "source": [
    "StopWatch.start(\"data-pre-process\")\n",
    "\n",
    "num_labels = len(np.unique(y_train))\n",
    "\n",
    "y_train = to_categorical(y_train)\n",
    "y_test = to_categorical(y_test)\n",
    "\n",
    "image_size = x_train.shape[1]\n",
    "x_train = np.reshape(x_train,[-1, image_size, image_size])\n",
    "x_test = np.reshape(x_test,[-1, image_size, image_size])\n",
    "x_train = x_train.astype('float32') / 255\n",
    "x_test = x_test.astype('float32') / 255\n",
    "\n",
    "StopWatch.stop(\"data-pre-process\")\n",
    "StopWatch.progress(7, filename=filename)"
   ],
   "execution_count": 5,
   "outputs": [
    {
     "name": "stdout",
     "output_type": "stream",
     "text": [
      "# cloudmesh status=running progress=9 pid=3064\n"
     ]
    },
    {
     "data": {
      "text/plain": "'# cloudmesh status=running progress=9 pid=3064'"
     },
     "execution_count": 5,
     "metadata": {},
     "output_type": "execute_result"
    }
   ]
  },
  {
   "cell_type": "markdown",
   "metadata": {
    "id": "O8DwuhcaowYQ"
   },
   "source": [
    "## Define Model"
   ]
  },
  {
   "cell_type": "code",
   "metadata": {
    "colab": {
     "base_uri": "https://localhost:8080/"
    },
    "id": "O4tidxRFofEj",
    "outputId": "8abfcea0-3cc5-44f5-d462-3cf37f09d888"
   },
   "source": [
    "StopWatch.start(\"compile\")\n",
    "\n",
    "input_shape = (image_size, image_size)\n",
    "batch_size = 128\n",
    "units = 256\n",
    "dropout = 0.2\n",
    "\n",
    "model = Sequential()\n",
    "model.add(SimpleRNN(units=units,\n",
    "                    dropout=dropout,\n",
    "                    input_shape=input_shape, return_sequences=True))\n",
    "model.add(SimpleRNN(units=units,\n",
    "                    dropout=dropout,\n",
    "                    return_sequences=True))\n",
    "model.add(SimpleRNN(units=units,\n",
    "                    dropout=dropout,\n",
    "                    return_sequences=False))\n",
    "model.add(Dense(num_labels))\n",
    "model.add(Activation('softmax'))\n",
    "model.summary()\n",
    "save(model, 'mnist_rnn')\n",
    "\n",
    "model.compile(loss='categorical_crossentropy',\n",
    "              optimizer='sgd',\n",
    "              metrics=['accuracy'])\n",
    "\n",
    "StopWatch.stop(\"compile\")\n",
    "StopWatch.progress(8, filename=filename)"
   ],
   "execution_count": 6,
   "outputs": [
    {
     "name": "stdout",
     "output_type": "stream",
     "text": [
      "Model: \"sequential\"\n",
      "_________________________________________________________________\n",
      " Layer (type)                Output Shape              Param #   \n",
      "=================================================================\n",
      " simple_rnn (SimpleRNN)      (None, 28, 256)           72960     \n",
      "                                                                 \n",
      " simple_rnn_1 (SimpleRNN)    (None, 28, 256)           131328    \n",
      "                                                                 \n",
      " simple_rnn_2 (SimpleRNN)    (None, 256)               131328    \n",
      "                                                                 \n",
      " dense (Dense)               (None, 10)                2570      \n",
      "                                                                 \n",
      " activation (Activation)     (None, 10)                0         \n",
      "                                                                 \n",
      "=================================================================\n",
      "Total params: 338,186\n",
      "Trainable params: 338,186\n",
      "Non-trainable params: 0\n",
      "_________________________________________________________________\n",
      "# cloudmesh status=running progress=10 pid=3064\n"
     ]
    },
    {
     "data": {
      "text/plain": "'# cloudmesh status=running progress=10 pid=3064'"
     },
     "execution_count": 6,
     "metadata": {},
     "output_type": "execute_result"
    }
   ]
  },
  {
   "cell_type": "markdown",
   "metadata": {
    "id": "ZxW3sG8WoyYC"
   },
   "source": [
    "## Train"
   ]
  },
  {
   "cell_type": "code",
   "metadata": {
    "colab": {
     "base_uri": "https://localhost:8080/"
    },
    "id": "SjT5wffFoiEg",
    "outputId": "9474f86a-21c8-4cb0-8299-1743ae48b075"
   },
   "source": [
    "StopWatch.start(\"train\")\n",
    "\n",
    "model.fit(x_train, y_train, epochs=1, batch_size=batch_size)\n",
    "\n",
    "StopWatch.stop(\"train\")\n",
    "StopWatch.progress(95, filename=filename)"
   ],
   "execution_count": 7,
   "outputs": [
    {
     "name": "stdout",
     "output_type": "stream",
     "text": [
      "469/469 [==============================] - 56s 117ms/step - loss: 0.6035 - accuracy: 0.8131\n",
      "# cloudmesh status=running progress=95 pid=3064\n"
     ]
    },
    {
     "data": {
      "text/plain": "'# cloudmesh status=running progress=95 pid=3064'"
     },
     "execution_count": 7,
     "metadata": {},
     "output_type": "execute_result"
    }
   ]
  },
  {
   "cell_type": "markdown",
   "metadata": {
    "id": "E3jjqPJqoljt"
   },
   "source": [
    "## Test"
   ]
  },
  {
   "cell_type": "code",
   "metadata": {
    "colab": {
     "base_uri": "https://localhost:8080/"
    },
    "id": "2B1-bFcvokdd",
    "outputId": "6aff2c20-5e3c-4b1b-a052-a215d7efe356"
   },
   "source": [
    "StopWatch.start(\"evaluate\")\n",
    "\n",
    "loss, acc = model.evaluate(x_test, y_test, batch_size=batch_size)\n",
    "print(\"\\nTest accuracy: %.1f%%\" % (100.0 * acc))\n",
    "\n",
    "StopWatch.stop(\"evaluate\")\n",
    "StopWatch.stop(\"total\")\n",
    "StopWatch.progress(100, filename=filename)\n",
    "\n",
    "if os_is_windows():\n",
    "    user = os.environ[\"USERNAME\"]\n",
    "else:\n",
    "    try:\n",
    "        user = os.environ['USER']\n",
    "    except:  # noqa: E722\n",
    "        user = os.system('basename $HOME')\n",
    "\n",
    "try:\n",
    "    gpuname = ''\n",
    "    for line in open('mlp_mnist.log', 'r'):\n",
    "        if 'GPU' in line and line[-2] == ')':\n",
    "            gpuname = gpuname + line[:line.find('(')] + '\\n'\n",
    "except:  # noqa: E722\n",
    "    gpuname = cpuinfo.get_cpu_info()['brand_raw']\n",
    "\n",
    "tag = 'mlp_mnist'\n",
    "\n",
    "StopWatch.benchmark(tag=tag, node=gpuname, user=user)"
   ],
   "execution_count": 8,
   "outputs": [
    {
     "name": "stdout",
     "output_type": "stream",
     "text": [
      "79/79 [==============================] - 3s 31ms/step - loss: 0.2736 - accuracy: 0.9161\n",
      "\n",
      "Test accuracy: 91.6%\n",
      "# cloudmesh status=running progress=100 pid=3064\n",
      "\n",
      "+------------------+----------------------------------------------------------------------------------+\n",
      "| Attribute        | Value                                                                            |\n",
      "|------------------+----------------------------------------------------------------------------------|\n",
      "| cpu              |                                                                                  |\n",
      "| cpu_cores        | 4                                                                                |\n",
      "| cpu_count        | 8                                                                                |\n",
      "| cpu_threads      | 8                                                                                |\n",
      "| date             | 2022-07-25 13:36:26.939956                                                       |\n",
      "| frequency        | scpufreq(current=2803.0, min=0.0, max=2803.0)                                    |\n",
      "| mem.available    | 6.5 GiB                                                                          |\n",
      "| mem.free         | 6.5 GiB                                                                          |\n",
      "| mem.percent      | 59.1 %                                                                           |\n",
      "| mem.total        | 15.8 GiB                                                                         |\n",
      "| mem.used         | 9.3 GiB                                                                          |\n",
      "| platform.version | ('10', '10.0.22000', 'SP0', 'Multiprocessor Free')                               |\n",
      "| python           | 3.10.5 (tags/v3.10.5:f377153, Jun  6 2022, 16:14:13) [MSC v.1929 64 bit (AMD64)] |\n",
      "| python.pip       | 22.1.2                                                                           |\n",
      "| python.version   | 3.10.5                                                                           |\n",
      "| sys.platform     | win32                                                                            |\n",
      "| uname.machine    | AMD64                                                                            |\n",
      "| uname.node       | 11th Gen Intel(R) Core(TM) i7-1165G7 @ 2.80GHz                                   |\n",
      "| uname.processor  | Intel64 Family 6 Model 140 Stepping 1, GenuineIntel                              |\n",
      "| uname.release    | 10                                                                               |\n",
      "| uname.system     | Windows                                                                          |\n",
      "| uname.version    | 10.0.22000                                                                       |\n",
      "| user             | abeck                                                                            |\n",
      "+------------------+----------------------------------------------------------------------------------+\n",
      "\n",
      "+------------------+----------+--------+--------+---------------------+-----------+-------+------------------------------------------------+--------+---------+----------------------------------------------------+\n",
      "| Name             | Status   |   Time |    Sum | Start               | tag       | msg   | Node                                           | User   | OS      | Version                                            |\n",
      "|------------------+----------+--------+--------+---------------------+-----------+-------+------------------------------------------------+--------+---------+----------------------------------------------------|\n",
      "| total            | ok       | 62.621 | 62.621 | 2022-07-25 13:35:22 | mlp_mnist |       | 11th Gen Intel(R) Core(TM) i7-1165G7 @ 2.80GHz | abeck  | Windows | ('10', '10.0.22000', 'SP0', 'Multiprocessor Free') |\n",
      "| import           | ok       |  2.192 |  2.192 | 2022-07-25 13:35:22 | mlp_mnist |       | 11th Gen Intel(R) Core(TM) i7-1165G7 @ 2.80GHz | abeck  | Windows | ('10', '10.0.22000', 'SP0', 'Multiprocessor Free') |\n",
      "| data-load        | ok       |  0.219 |  0.219 | 2022-07-25 13:35:24 | mlp_mnist |       | 11th Gen Intel(R) Core(TM) i7-1165G7 @ 2.80GHz | abeck  | Windows | ('10', '10.0.22000', 'SP0', 'Multiprocessor Free') |\n",
      "| data-pre-process | ok       |  0.117 |  0.117 | 2022-07-25 13:35:25 | mlp_mnist |       | 11th Gen Intel(R) Core(TM) i7-1165G7 @ 2.80GHz | abeck  | Windows | ('10', '10.0.22000', 'SP0', 'Multiprocessor Free') |\n",
      "| compile          | ok       |  0.898 |  0.898 | 2022-07-25 13:35:25 | mlp_mnist |       | 11th Gen Intel(R) Core(TM) i7-1165G7 @ 2.80GHz | abeck  | Windows | ('10', '10.0.22000', 'SP0', 'Multiprocessor Free') |\n",
      "| train            | ok       | 56.321 | 56.321 | 2022-07-25 13:35:26 | mlp_mnist |       | 11th Gen Intel(R) Core(TM) i7-1165G7 @ 2.80GHz | abeck  | Windows | ('10', '10.0.22000', 'SP0', 'Multiprocessor Free') |\n",
      "| evaluate         | ok       |  2.785 |  2.785 | 2022-07-25 13:36:22 | mlp_mnist |       | 11th Gen Intel(R) Core(TM) i7-1165G7 @ 2.80GHz | abeck  | Windows | ('10', '10.0.22000', 'SP0', 'Multiprocessor Free') |\n",
      "+------------------+----------+--------+--------+---------------------+-----------+-------+------------------------------------------------+--------+---------+----------------------------------------------------+\n",
      "# csv,timer,status,time,sum,start,tag,msg,uname.node,user,uname.system,platform.version\n",
      "# csv,total,ok,62.621,62.621,2022-07-25 13:35:22,mlp_mnist,None,11th Gen Intel(R) Core(TM) i7-1165G7 @ 2.80GHz,abeck,Windows,('10', '10.0.22000', 'SP0', 'Multiprocessor Free')\n",
      "# csv,import,ok,2.192,2.192,2022-07-25 13:35:22,mlp_mnist,None,11th Gen Intel(R) Core(TM) i7-1165G7 @ 2.80GHz,abeck,Windows,('10', '10.0.22000', 'SP0', 'Multiprocessor Free')\n",
      "# csv,data-load,ok,0.219,0.219,2022-07-25 13:35:24,mlp_mnist,None,11th Gen Intel(R) Core(TM) i7-1165G7 @ 2.80GHz,abeck,Windows,('10', '10.0.22000', 'SP0', 'Multiprocessor Free')\n",
      "# csv,data-pre-process,ok,0.117,0.117,2022-07-25 13:35:25,mlp_mnist,None,11th Gen Intel(R) Core(TM) i7-1165G7 @ 2.80GHz,abeck,Windows,('10', '10.0.22000', 'SP0', 'Multiprocessor Free')\n",
      "# csv,compile,ok,0.898,0.898,2022-07-25 13:35:25,mlp_mnist,None,11th Gen Intel(R) Core(TM) i7-1165G7 @ 2.80GHz,abeck,Windows,('10', '10.0.22000', 'SP0', 'Multiprocessor Free')\n",
      "# csv,train,ok,56.321,56.321,2022-07-25 13:35:26,mlp_mnist,None,11th Gen Intel(R) Core(TM) i7-1165G7 @ 2.80GHz,abeck,Windows,('10', '10.0.22000', 'SP0', 'Multiprocessor Free')\n",
      "# csv,evaluate,ok,2.785,2.785,2022-07-25 13:36:22,mlp_mnist,None,11th Gen Intel(R) Core(TM) i7-1165G7 @ 2.80GHz,abeck,Windows,('10', '10.0.22000', 'SP0', 'Multiprocessor Free')\n",
      "\n"
     ]
    }
   ]
  }
 ]
}
