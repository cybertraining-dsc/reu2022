{
 "nbformat": 4,
 "nbformat_minor": 0,
 "metadata": {
  "colab": {
   "name": "mlp-mnist.ipynb",
   "provenance": [],
   "collapsed_sections": []
  },
  "kernelspec": {
   "name": "python3",
   "display_name": "Python 3"
  }
 },
 "cells": [
  {
   "cell_type": "markdown",
   "metadata": {
    "id": "8J3LuF3DTEd8",
    "pycharm": {
     "name": "#%% md\n"
    }
   },
   "source": [
    "# Multi-Layer Perceptron with MNIST\n",
    "\n",
    "\n",
    "This program runs in about 29.620 seconds (Windows 11, Intel i7, 16 GB)"
   ]
  },
  {
   "cell_type": "markdown",
   "metadata": {
    "id": "tvHZtL7ETLDp",
    "pycharm": {
     "name": "#%% md\n"
    }
   },
   "source": [
    "## Pre-requisites\n",
    "\n",
    "Install the following Python packages\n",
    "\n",
    "1. cloudmesh-installer\n",
    "2. cloudmesh-common"
   ]
  },
  {
   "cell_type": "code",
   "metadata": {
    "id": "IE8l7YgQ_z2p",
    "colab": {
     "base_uri": "https://localhost:8080/"
    },
    "outputId": "2da8a3ef-6e20-4e56-d7b1-12dbe864d998",
    "pycharm": {
     "name": "#%%\n"
    }
   },
   "source": [
    "try:\n",
    "    from cloudmesh.common.StopWatch import StopWatch\n",
    "except:  # noqa: E722\n",
    "    !pip install cloudmesh-common\n",
    "    from cloudmesh.common.StopWatch import StopWatch"
   ],
   "execution_count": 9,
   "outputs": []
  },
  {
   "cell_type": "markdown",
   "source": [
    "## Exporting Output Graphs"
   ],
   "metadata": {
    "collapsed": false,
    "pycharm": {
     "name": "#%% md\n"
    }
   }
  },
  {
   "cell_type": "code",
   "execution_count": 10,
   "outputs": [],
   "source": [
    "def save(graph, filename):\n",
    "    if os.path.exists(\"images\"):\n",
    "        pass\n",
    "    else:\n",
    "        Shell.mkdir(\"images\")\n",
    "    plot_model(graph, to_file=f'images/{filename}.png', show_shapes=True)\n",
    "    plot_model(graph, to_file=f'images/{filename}.pdf', show_shapes=True)"
   ],
   "metadata": {
    "collapsed": false,
    "pycharm": {
     "name": "#%%\n"
    }
   }
  },
  {
   "cell_type": "markdown",
   "source": [
    "## Import Libraries"
   ],
   "metadata": {
    "collapsed": false,
    "pycharm": {
     "name": "#%% md\n"
    }
   }
  },
  {
   "cell_type": "code",
   "execution_count": 11,
   "outputs": [
    {
     "name": "stdout",
     "output_type": "stream",
     "text": [
      "# cloudmesh status=running progress=0 pid=4796\n",
      "# cloudmesh status=running progress=10 pid=4796\n"
     ]
    },
    {
     "data": {
      "text/plain": "'# cloudmesh status=running progress=10 pid=4796'"
     },
     "execution_count": 3,
     "metadata": {},
     "output_type": "execute_result"
    },
    {
     "name": "stdout",
     "output_type": "stream",
     "text": [
      "# cloudmesh status=running progress=0 pid=4796\n",
      "# cloudmesh status=running progress=10 pid=4796\n"
     ]
    },
    {
     "data": {
      "text/plain": "'# cloudmesh status=running progress=10 pid=4796'"
     },
     "execution_count": 11,
     "metadata": {},
     "output_type": "execute_result"
    }
   ],
   "source": [
    "StopWatch.start(\"total\")\n",
    "StopWatch.start(\"import\")\n",
    "StopWatch.progress(0)\n",
    "\n",
    "import os    # noqa: E402\n",
    "import cpuinfo  # noqa: E402\n",
    "import numpy as np    # noqa: E402\n",
    "import tensorflow as tf\n",
    "from keras.models import Sequential    # noqa: E402\n",
    "from keras.layers import Dense, Activation, Dropout    # noqa: E402\n",
    "from keras.utils import to_categorical, plot_model    # noqa: E402\n",
    "from keras.datasets import mnist    # noqa: E402\n",
    "from cloudmesh.common.systeminfo import os_is_windows    # noqa: E402\n",
    "from cloudmesh.common.Shell import Shell    # noqa: E402\n",
    "from cloudmesh.common.util import writefile    # noqa: E402\n",
    "\n",
    "filename = os.path.basename(__file__)\n",
    "filename = os.path.splitext(filename)[0]\n",
    "filename += '.log'\n",
    "filename = Shell.map_filename(f'./{filename}').path\n",
    "Shell.rm(filename)\n",
    "writefile(filename, 'progress=0')\n",
    "\n",
    "StopWatch.stop(\"import\")\n",
    "StopWatch.progress(10)\n",
    "writefile(filename, 'progress=10')"
   ],
   "metadata": {
    "collapsed": false,
    "pycharm": {
     "name": "#%%\n"
    }
   }
  },
  {
   "cell_type": "markdown",
   "source": [
    "## Data Load"
   ],
   "metadata": {
    "collapsed": false,
    "pycharm": {
     "name": "#%% md\n"
    }
   }
  },
  {
   "cell_type": "code",
   "execution_count": 12,
   "outputs": [
    {
     "name": "stdout",
     "output_type": "stream",
     "text": [
      "# cloudmesh status=running progress=11 pid=4796\n"
     ]
    },
    {
     "data": {
      "text/plain": "'# cloudmesh status=running progress=11 pid=4796'"
     },
     "execution_count": 4,
     "metadata": {},
     "output_type": "execute_result"
    },
    {
     "name": "stdout",
     "output_type": "stream",
     "text": [
      "# cloudmesh status=running progress=11 pid=4796\n"
     ]
    },
    {
     "data": {
      "text/plain": "'# cloudmesh status=running progress=11 pid=4796'"
     },
     "execution_count": 12,
     "metadata": {},
     "output_type": "execute_result"
    }
   ],
   "source": [
    "StopWatch.start(\"data-load\")\n",
    "\n",
    "(x_train, y_train), (x_test, y_test) = mnist.load_data()\n",
    "\n",
    "StopWatch.stop(\"data-load\")\n",
    "StopWatch.progress(11)\n",
    "writefile(filename, 'progress=11')"
   ],
   "metadata": {
    "collapsed": false,
    "pycharm": {
     "name": "#%%\n"
    }
   }
  },
  {
   "cell_type": "markdown",
   "source": [
    "## Data Pre-Process"
   ],
   "metadata": {
    "collapsed": false,
    "pycharm": {
     "name": "#%% md\n"
    }
   }
  },
  {
   "cell_type": "code",
   "execution_count": 13,
   "outputs": [
    {
     "name": "stdout",
     "output_type": "stream",
     "text": [
      "# cloudmesh status=running progress=12 pid=4796\n"
     ]
    },
    {
     "data": {
      "text/plain": "'# cloudmesh status=running progress=12 pid=4796'"
     },
     "execution_count": 5,
     "metadata": {},
     "output_type": "execute_result"
    },
    {
     "name": "stdout",
     "output_type": "stream",
     "text": [
      "# cloudmesh status=running progress=12 pid=4796\n"
     ]
    },
    {
     "data": {
      "text/plain": "'# cloudmesh status=running progress=12 pid=4796'"
     },
     "execution_count": 13,
     "metadata": {},
     "output_type": "execute_result"
    }
   ],
   "source": [
    "StopWatch.start(\"data-pre-process\")\n",
    "\n",
    "num_labels = len(np.unique(y_train))\n",
    "\n",
    "y_train = to_categorical(y_train)\n",
    "y_test = to_categorical(y_test)\n",
    "\n",
    "image_size = x_train.shape[1]\n",
    "input_size = image_size * image_size\n",
    "\n",
    "x_train = np.reshape(x_train, [-1, input_size])\n",
    "x_train = x_train.astype('float32') / 255\n",
    "x_test = np.reshape(x_test, [-1, input_size])\n",
    "x_test = x_test.astype('float32') / 255\n",
    "\n",
    "StopWatch.stop(\"data-pre-process\")\n",
    "StopWatch.progress(12)\n",
    "writefile(filename, 'progress=12')"
   ],
   "metadata": {
    "collapsed": false,
    "pycharm": {
     "name": "#%%\n"
    }
   }
  },
  {
   "cell_type": "markdown",
   "source": [
    "## Define Model"
   ],
   "metadata": {
    "collapsed": false,
    "pycharm": {
     "name": "#%% md\n"
    }
   }
  },
  {
   "cell_type": "code",
   "execution_count": 14,
   "outputs": [
    {
     "name": "stdout",
     "output_type": "stream",
     "text": [
      "Model: \"sequential\"\n",
      "_________________________________________________________________\n",
      " Layer (type)                Output Shape              Param #   \n",
      "=================================================================\n",
      " dense (Dense)               (None, 512)               401920    \n",
      "                                                                 \n",
      " activation (Activation)     (None, 512)               0         \n",
      "                                                                 \n",
      " dropout (Dropout)           (None, 512)               0         \n",
      "                                                                 \n",
      " dense_1 (Dense)             (None, 512)               262656    \n",
      "                                                                 \n",
      " activation_1 (Activation)   (None, 512)               0         \n",
      "                                                                 \n",
      " dropout_1 (Dropout)         (None, 512)               0         \n",
      "                                                                 \n",
      " dense_2 (Dense)             (None, 512)               262656    \n",
      "                                                                 \n",
      " activation_2 (Activation)   (None, 512)               0         \n",
      "                                                                 \n",
      " dropout_2 (Dropout)         (None, 512)               0         \n",
      "                                                                 \n",
      " dense_3 (Dense)             (None, 512)               262656    \n",
      "                                                                 \n",
      " activation_3 (Activation)   (None, 512)               0         \n",
      "                                                                 \n",
      " dropout_3 (Dropout)         (None, 512)               0         \n",
      "                                                                 \n",
      " dense_4 (Dense)             (None, 10)                5130      \n",
      "                                                                 \n",
      " activation_4 (Activation)   (None, 10)                0         \n",
      "                                                                 \n",
      "=================================================================\n",
      "Total params: 1,195,018\n",
      "Trainable params: 1,195,018\n",
      "Non-trainable params: 0\n",
      "_________________________________________________________________\n",
      "# cloudmesh status=running progress=13 pid=4796\n"
     ]
    },
    {
     "data": {
      "text/plain": "'# cloudmesh status=running progress=13 pid=4796'"
     },
     "execution_count": 6,
     "metadata": {},
     "output_type": "execute_result"
    },
    {
     "name": "stdout",
     "output_type": "stream",
     "text": [
      "Model: \"sequential_1\"\n",
      "_________________________________________________________________\n",
      " Layer (type)                Output Shape              Param #   \n",
      "=================================================================\n",
      " dense_5 (Dense)             (None, 512)               401920    \n",
      "                                                                 \n",
      " activation_5 (Activation)   (None, 512)               0         \n",
      "                                                                 \n",
      " dropout_4 (Dropout)         (None, 512)               0         \n",
      "                                                                 \n",
      " dense_6 (Dense)             (None, 512)               262656    \n",
      "                                                                 \n",
      " activation_6 (Activation)   (None, 512)               0         \n",
      "                                                                 \n",
      " dropout_5 (Dropout)         (None, 512)               0         \n",
      "                                                                 \n",
      " dense_7 (Dense)             (None, 512)               262656    \n",
      "                                                                 \n",
      " activation_7 (Activation)   (None, 512)               0         \n",
      "                                                                 \n",
      " dropout_6 (Dropout)         (None, 512)               0         \n",
      "                                                                 \n",
      " dense_8 (Dense)             (None, 512)               262656    \n",
      "                                                                 \n",
      " activation_8 (Activation)   (None, 512)               0         \n",
      "                                                                 \n",
      " dropout_7 (Dropout)         (None, 512)               0         \n",
      "                                                                 \n",
      " dense_9 (Dense)             (None, 10)                5130      \n",
      "                                                                 \n",
      " activation_9 (Activation)   (None, 10)                0         \n",
      "                                                                 \n",
      "=================================================================\n",
      "Total params: 1,195,018\n",
      "Trainable params: 1,195,018\n",
      "Non-trainable params: 0\n",
      "_________________________________________________________________\n",
      "# cloudmesh status=running progress=13 pid=4796\n"
     ]
    },
    {
     "data": {
      "text/plain": "'# cloudmesh status=running progress=13 pid=4796'"
     },
     "execution_count": 14,
     "metadata": {},
     "output_type": "execute_result"
    }
   ],
   "source": [
    "StopWatch.start(\"compile\")\n",
    "\n",
    "batch_size = 128\n",
    "hidden_units = 512\n",
    "dropout = 0.45\n",
    "\n",
    "model = Sequential()\n",
    "model.add(Dense(hidden_units, input_dim=input_size))\n",
    "model.add(Activation('relu'))\n",
    "model.add(Dropout(dropout))\n",
    "model.add(Dense(hidden_units))\n",
    "model.add(Activation('relu'))\n",
    "model.add(Dropout(dropout))\n",
    "model.add(Dense(hidden_units))\n",
    "model.add(Activation('relu'))\n",
    "model.add(Dropout(dropout))\n",
    "model.add(Dense(hidden_units))\n",
    "model.add(Activation('relu'))\n",
    "model.add(Dropout(dropout))\n",
    "model.add(Dense(num_labels))\n",
    "model.add(Activation('softmax'))\n",
    "model.summary()\n",
    "save(model, 'mlp_mnist')\n",
    "\n",
    "model.compile(loss='categorical_crossentropy',\n",
    "              optimizer='adam',\n",
    "              metrics=['accuracy'])\n",
    "\n",
    "StopWatch.stop(\"compile\")\n",
    "StopWatch.progress(13)\n",
    "writefile(filename, 'progress=13')"
   ],
   "metadata": {
    "collapsed": false,
    "pycharm": {
     "name": "#%%\n"
    }
   }
  },
  {
   "cell_type": "markdown",
   "source": [
    "## Train"
   ],
   "metadata": {
    "collapsed": false,
    "pycharm": {
     "name": "#%% md\n"
    }
   }
  },
  {
   "cell_type": "code",
   "execution_count": 15,
   "outputs": [
    {
     "name": "stdout",
     "output_type": "stream",
     "text": [
      "Epoch 1/5\n",
      "469/469 [==============================] - 6s 13ms/step - loss: 0.4373 - accuracy: 0.8621\n",
      "Epoch 2/5\n",
      "469/469 [==============================] - 6s 13ms/step - loss: 0.1930 - accuracy: 0.9439\n",
      "Epoch 3/5\n",
      "469/469 [==============================] - 6s 12ms/step - loss: 0.1540 - accuracy: 0.9560\n",
      "Epoch 4/5\n",
      "469/469 [==============================] - 6s 12ms/step - loss: 0.1353 - accuracy: 0.9618\n",
      "Epoch 5/5\n",
      "469/469 [==============================] - 6s 12ms/step - loss: 0.1199 - accuracy: 0.9654\n",
      "# cloudmesh status=running progress=98 pid=4796\n"
     ]
    },
    {
     "data": {
      "text/plain": "'# cloudmesh status=running progress=98 pid=4796'"
     },
     "execution_count": 7,
     "metadata": {},
     "output_type": "execute_result"
    },
    {
     "name": "stdout",
     "output_type": "stream",
     "text": [
      "Epoch 1/5\n",
      "469/469 [==============================] - 6s 12ms/step - loss: 0.4415 - accuracy: 0.8613\n",
      "Epoch 2/5\n",
      "469/469 [==============================] - 6s 12ms/step - loss: 0.1883 - accuracy: 0.9463\n",
      "Epoch 3/5\n",
      "469/469 [==============================] - 6s 12ms/step - loss: 0.1571 - accuracy: 0.9552\n",
      "Epoch 4/5\n",
      "469/469 [==============================] - 6s 13ms/step - loss: 0.1318 - accuracy: 0.9624\n",
      "Epoch 5/5\n",
      "469/469 [==============================] - 7s 15ms/step - loss: 0.1168 - accuracy: 0.9666\n",
      "# cloudmesh status=running progress=98 pid=4796\n"
     ]
    },
    {
     "data": {
      "text/plain": "'# cloudmesh status=running progress=98 pid=4796'"
     },
     "execution_count": 15,
     "metadata": {},
     "output_type": "execute_result"
    }
   ],
   "source": [
    "StopWatch.start(\"train\")\n",
    "\n",
    "model.fit(x_train, y_train, epochs=5, batch_size=batch_size)\n",
    "\n",
    "StopWatch.stop(\"train\")\n",
    "StopWatch.progress(98)\n",
    "writefile(filename, 'progress=98')"
   ],
   "metadata": {
    "collapsed": false,
    "pycharm": {
     "name": "#%%\n"
    }
   }
  },
  {
   "cell_type": "markdown",
   "source": [
    "## Test"
   ],
   "metadata": {
    "collapsed": false,
    "pycharm": {
     "name": "#%% md\n"
    }
   }
  },
  {
   "cell_type": "code",
   "metadata": {
    "id": "eu-7aFi0_u10",
    "colab": {
     "base_uri": "https://localhost:8080/"
    },
    "outputId": "31276960-8d54-4890-b5c0-83e07ca5aca3",
    "pycharm": {
     "name": "#%%\n"
    }
   },
   "source": [
    "StopWatch.start(\"test\")\n",
    "\n",
    "loss, acc = model.evaluate(x_test, y_test, batch_size=batch_size)\n",
    "print(\"\\nTest accuracy: %.1f%%\" % (100.0 * acc))\n",
    "\n",
    "StopWatch.stop(\"test\")\n",
    "StopWatch.stop(\"total\")\n",
    "StopWatch.progress(100)\n",
    "writefile(filename, 'progress=100')\n",
    "\n",
    "if os_is_windows():\n",
    "    user = os.environ[\"USERNAME\"]\n",
    "else:\n",
    "    try:\n",
    "        user = os.environ['USER']\n",
    "    except:  # noqa: E722\n",
    "        user = os.system('basename $HOME')\n",
    "\n",
    "try:\n",
    "    gpuname = ''\n",
    "    for line in open('mlp_mnist.log', 'r'):\n",
    "        if 'GPU' in line and line[-2] == ')':\n",
    "            gpuname = gpuname + line[:line.find('(')] + '\\n'\n",
    "except:  # noqa: E722\n",
    "    gpuname = cpuinfo.get_cpu_info()['brand_raw']\n",
    "\n",
    "tag = 'mlp_mnist'\n",
    "\n",
    "StopWatch.benchmark(tag=tag, node=gpuname, user=user)"
   ],
   "execution_count": 16,
   "outputs": [
    {
     "name": "stdout",
     "output_type": "stream",
     "text": [
      "79/79 [==============================] - 0s 4ms/step - loss: 0.0846 - accuracy: 0.9751\n",
      "\n",
      "Test accuracy: 97.5%\n",
      "# cloudmesh status=running progress=100 pid=4796\n",
      "\n",
      "+------------------+----------------------------------------------------------------------------------+\n",
      "| Attribute        | Value                                                                            |\n",
      "|------------------+----------------------------------------------------------------------------------|\n",
      "| cpu              |                                                                                  |\n",
      "| cpu_cores        | 4                                                                                |\n",
      "| cpu_count        | 8                                                                                |\n",
      "| cpu_threads      | 8                                                                                |\n",
      "| date             | 2022-07-26 17:22:09.240896                                                       |\n",
      "| frequency        | scpufreq(current=2803.0, min=0.0, max=2803.0)                                    |\n",
      "| mem.available    | 5.9 GiB                                                                          |\n",
      "| mem.free         | 5.9 GiB                                                                          |\n",
      "| mem.percent      | 62.6 %                                                                           |\n",
      "| mem.total        | 15.8 GiB                                                                         |\n",
      "| mem.used         | 9.9 GiB                                                                          |\n",
      "| platform.version | ('10', '10.0.22000', 'SP0', 'Multiprocessor Free')                               |\n",
      "| python           | 3.10.5 (tags/v3.10.5:f377153, Jun  6 2022, 16:14:13) [MSC v.1929 64 bit (AMD64)] |\n",
      "| python.pip       | 22.2                                                                             |\n",
      "| python.version   | 3.10.5                                                                           |\n",
      "| sys.platform     | win32                                                                            |\n",
      "| uname.machine    | AMD64                                                                            |\n",
      "| uname.node       | 11th Gen Intel(R) Core(TM) i7-1165G7 @ 2.80GHz                                   |\n",
      "| uname.processor  | Intel64 Family 6 Model 140 Stepping 1, GenuineIntel                              |\n",
      "| uname.release    | 10                                                                               |\n",
      "| uname.system     | Windows                                                                          |\n",
      "| uname.version    | 10.0.22000                                                                       |\n",
      "| user             | abeck                                                                            |\n",
      "+------------------+----------------------------------------------------------------------------------+\n",
      "\n",
      "+------------------+----------+--------+--------+---------------------+-----------+-------+------------------------------------------------+--------+---------+----------------------------------------------------+\n",
      "| Name             | Status   |   Time |    Sum | Start               | tag       | msg   | Node                                           | User   | OS      | Version                                            |\n",
      "|------------------+----------+--------+--------+---------------------+-----------+-------+------------------------------------------------+--------+---------+----------------------------------------------------|\n",
      "| total            | ok       | 33.548 | 33.548 | 2022-07-26 17:21:33 | mlp_mnist |       | 11th Gen Intel(R) Core(TM) i7-1165G7 @ 2.80GHz | abeck  | Windows | ('10', '10.0.22000', 'SP0', 'Multiprocessor Free') |\n",
      "| import           | ok       |  2.403 |  2.403 | 2022-07-26 17:21:33 | mlp_mnist |       | 11th Gen Intel(R) Core(TM) i7-1165G7 @ 2.80GHz | abeck  | Windows | ('10', '10.0.22000', 'SP0', 'Multiprocessor Free') |\n",
      "| data-load        | ok       |  0.194 |  0.194 | 2022-07-26 17:21:36 | mlp_mnist |       | 11th Gen Intel(R) Core(TM) i7-1165G7 @ 2.80GHz | abeck  | Windows | ('10', '10.0.22000', 'SP0', 'Multiprocessor Free') |\n",
      "| data-pre-process | ok       |  0.133 |  0.133 | 2022-07-26 17:21:36 | mlp_mnist |       | 11th Gen Intel(R) Core(TM) i7-1165G7 @ 2.80GHz | abeck  | Windows | ('10', '10.0.22000', 'SP0', 'Multiprocessor Free') |\n",
      "| compile          | ok       |  0.62  |  0.62  | 2022-07-26 17:21:36 | mlp_mnist |       | 11th Gen Intel(R) Core(TM) i7-1165G7 @ 2.80GHz | abeck  | Windows | ('10', '10.0.22000', 'SP0', 'Multiprocessor Free') |\n",
      "| train            | ok       | 29.562 | 29.562 | 2022-07-26 17:21:37 | mlp_mnist |       | 11th Gen Intel(R) Core(TM) i7-1165G7 @ 2.80GHz | abeck  | Windows | ('10', '10.0.22000', 'SP0', 'Multiprocessor Free') |\n",
      "| test             | ok       |  0.538 |  0.538 | 2022-07-26 17:22:06 | mlp_mnist |       | 11th Gen Intel(R) Core(TM) i7-1165G7 @ 2.80GHz | abeck  | Windows | ('10', '10.0.22000', 'SP0', 'Multiprocessor Free') |\n",
      "+------------------+----------+--------+--------+---------------------+-----------+-------+------------------------------------------------+--------+---------+----------------------------------------------------+\n",
      "# csv,timer,status,time,sum,start,tag,msg,uname.node,user,uname.system,platform.version\n",
      "# csv,total,ok,33.548,33.548,2022-07-26 17:21:33,mlp_mnist,None,11th Gen Intel(R) Core(TM) i7-1165G7 @ 2.80GHz,abeck,Windows,('10', '10.0.22000', 'SP0', 'Multiprocessor Free')\n",
      "# csv,import,ok,2.403,2.403,2022-07-26 17:21:33,mlp_mnist,None,11th Gen Intel(R) Core(TM) i7-1165G7 @ 2.80GHz,abeck,Windows,('10', '10.0.22000', 'SP0', 'Multiprocessor Free')\n",
      "# csv,data-load,ok,0.194,0.194,2022-07-26 17:21:36,mlp_mnist,None,11th Gen Intel(R) Core(TM) i7-1165G7 @ 2.80GHz,abeck,Windows,('10', '10.0.22000', 'SP0', 'Multiprocessor Free')\n",
      "# csv,data-pre-process,ok,0.133,0.133,2022-07-26 17:21:36,mlp_mnist,None,11th Gen Intel(R) Core(TM) i7-1165G7 @ 2.80GHz,abeck,Windows,('10', '10.0.22000', 'SP0', 'Multiprocessor Free')\n",
      "# csv,compile,ok,0.62,0.62,2022-07-26 17:21:36,mlp_mnist,None,11th Gen Intel(R) Core(TM) i7-1165G7 @ 2.80GHz,abeck,Windows,('10', '10.0.22000', 'SP0', 'Multiprocessor Free')\n",
      "# csv,train,ok,29.562,29.562,2022-07-26 17:21:37,mlp_mnist,None,11th Gen Intel(R) Core(TM) i7-1165G7 @ 2.80GHz,abeck,Windows,('10', '10.0.22000', 'SP0', 'Multiprocessor Free')\n",
      "# csv,test,ok,0.538,0.538,2022-07-26 17:22:06,mlp_mnist,None,11th Gen Intel(R) Core(TM) i7-1165G7 @ 2.80GHz,abeck,Windows,('10', '10.0.22000', 'SP0', 'Multiprocessor Free')\n",
      "\n",
      "79/79 [==============================] - 1s 5ms/step - loss: 0.0755 - accuracy: 0.9784\n",
      "\n",
      "Test accuracy: 97.8%\n",
      "# cloudmesh status=running progress=100 pid=4796\n",
      "\n",
      "+------------------+----------------------------------------------------------------------------------+\n",
      "| Attribute        | Value                                                                            |\n",
      "|------------------+----------------------------------------------------------------------------------|\n",
      "| cpu              |                                                                                  |\n",
      "| cpu_cores        | 4                                                                                |\n",
      "| cpu_count        | 8                                                                                |\n",
      "| cpu_threads      | 8                                                                                |\n",
      "| date             | 2022-07-26 17:22:42.840760                                                       |\n",
      "| frequency        | scpufreq(current=2803.0, min=0.0, max=2803.0)                                    |\n",
      "| mem.available    | 5.8 GiB                                                                          |\n",
      "| mem.free         | 5.8 GiB                                                                          |\n",
      "| mem.percent      | 63.4 %                                                                           |\n",
      "| mem.total        | 15.8 GiB                                                                         |\n",
      "| mem.used         | 10.0 GiB                                                                         |\n",
      "| platform.version | ('10', '10.0.22000', 'SP0', 'Multiprocessor Free')                               |\n",
      "| python           | 3.10.5 (tags/v3.10.5:f377153, Jun  6 2022, 16:14:13) [MSC v.1929 64 bit (AMD64)] |\n",
      "| python.pip       | 22.2                                                                             |\n",
      "| python.version   | 3.10.5                                                                           |\n",
      "| sys.platform     | win32                                                                            |\n",
      "| uname.machine    | AMD64                                                                            |\n",
      "| uname.node       | 11th Gen Intel(R) Core(TM) i7-1165G7 @ 2.80GHz                                   |\n",
      "| uname.processor  | Intel64 Family 6 Model 140 Stepping 1, GenuineIntel                              |\n",
      "| uname.release    | 10                                                                               |\n",
      "| uname.system     | Windows                                                                          |\n",
      "| uname.version    | 10.0.22000                                                                       |\n",
      "| user             | abeck                                                                            |\n",
      "+------------------+----------------------------------------------------------------------------------+\n",
      "\n",
      "+------------------+----------+--------+--------+---------------------+-----------+-------+------------------------------------------------+--------+---------+----------------------------------------------------+\n",
      "| Name             | Status   |   Time |    Sum | Start               | tag       | msg   | Node                                           | User   | OS      | Version                                            |\n",
      "|------------------+----------+--------+--------+---------------------+-----------+-------+------------------------------------------------+--------+---------+----------------------------------------------------|\n",
      "| total            | ok       | 31.823 | 65.371 | 2022-07-26 17:22:09 | mlp_mnist |       | 11th Gen Intel(R) Core(TM) i7-1165G7 @ 2.80GHz | abeck  | Windows | ('10', '10.0.22000', 'SP0', 'Multiprocessor Free') |\n",
      "| import           | ok       |  0.003 |  2.406 | 2022-07-26 17:22:09 | mlp_mnist |       | 11th Gen Intel(R) Core(TM) i7-1165G7 @ 2.80GHz | abeck  | Windows | ('10', '10.0.22000', 'SP0', 'Multiprocessor Free') |\n",
      "| data-load        | ok       |  0.269 |  0.463 | 2022-07-26 17:22:09 | mlp_mnist |       | 11th Gen Intel(R) Core(TM) i7-1165G7 @ 2.80GHz | abeck  | Windows | ('10', '10.0.22000', 'SP0', 'Multiprocessor Free') |\n",
      "| data-pre-process | ok       |  0.192 |  0.325 | 2022-07-26 17:22:09 | mlp_mnist |       | 11th Gen Intel(R) Core(TM) i7-1165G7 @ 2.80GHz | abeck  | Windows | ('10', '10.0.22000', 'SP0', 'Multiprocessor Free') |\n",
      "| compile          | ok       |  0.541 |  1.161 | 2022-07-26 17:22:09 | mlp_mnist |       | 11th Gen Intel(R) Core(TM) i7-1165G7 @ 2.80GHz | abeck  | Windows | ('10', '10.0.22000', 'SP0', 'Multiprocessor Free') |\n",
      "| train            | ok       | 30.131 | 59.694 | 2022-07-26 17:22:10 | mlp_mnist |       | 11th Gen Intel(R) Core(TM) i7-1165G7 @ 2.80GHz | abeck  | Windows | ('10', '10.0.22000', 'SP0', 'Multiprocessor Free') |\n",
      "| test             | ok       |  0.613 |  1.151 | 2022-07-26 17:22:40 | mlp_mnist |       | 11th Gen Intel(R) Core(TM) i7-1165G7 @ 2.80GHz | abeck  | Windows | ('10', '10.0.22000', 'SP0', 'Multiprocessor Free') |\n",
      "+------------------+----------+--------+--------+---------------------+-----------+-------+------------------------------------------------+--------+---------+----------------------------------------------------+\n",
      "# csv,timer,status,time,sum,start,tag,msg,uname.node,user,uname.system,platform.version\n",
      "# csv,total,ok,31.823,65.371,2022-07-26 17:22:09,mlp_mnist,None,11th Gen Intel(R) Core(TM) i7-1165G7 @ 2.80GHz,abeck,Windows,('10', '10.0.22000', 'SP0', 'Multiprocessor Free')\n",
      "# csv,import,ok,0.003,2.406,2022-07-26 17:22:09,mlp_mnist,None,11th Gen Intel(R) Core(TM) i7-1165G7 @ 2.80GHz,abeck,Windows,('10', '10.0.22000', 'SP0', 'Multiprocessor Free')\n",
      "# csv,data-load,ok,0.269,0.463,2022-07-26 17:22:09,mlp_mnist,None,11th Gen Intel(R) Core(TM) i7-1165G7 @ 2.80GHz,abeck,Windows,('10', '10.0.22000', 'SP0', 'Multiprocessor Free')\n",
      "# csv,data-pre-process,ok,0.192,0.325,2022-07-26 17:22:09,mlp_mnist,None,11th Gen Intel(R) Core(TM) i7-1165G7 @ 2.80GHz,abeck,Windows,('10', '10.0.22000', 'SP0', 'Multiprocessor Free')\n",
      "# csv,compile,ok,0.541,1.161,2022-07-26 17:22:09,mlp_mnist,None,11th Gen Intel(R) Core(TM) i7-1165G7 @ 2.80GHz,abeck,Windows,('10', '10.0.22000', 'SP0', 'Multiprocessor Free')\n",
      "# csv,train,ok,30.131,59.694,2022-07-26 17:22:10,mlp_mnist,None,11th Gen Intel(R) Core(TM) i7-1165G7 @ 2.80GHz,abeck,Windows,('10', '10.0.22000', 'SP0', 'Multiprocessor Free')\n",
      "# csv,test,ok,0.613,1.151,2022-07-26 17:22:40,mlp_mnist,None,11th Gen Intel(R) Core(TM) i7-1165G7 @ 2.80GHz,abeck,Windows,('10', '10.0.22000', 'SP0', 'Multiprocessor Free')\n",
      "\n"
     ]
    }
   ]
  },
  {
   "cell_type": "markdown",
   "metadata": {
    "id": "rkD7IrsbCRIJ",
    "pycharm": {
     "name": "#%% md\n"
    }
   },
   "source": [
    "# REFERENCES\n",
    "\n",
    "1. [Adavnced Keras Deep Learning Book](https://github.com/PacktPublishing/Advanced-Deep-Learning-with-Keras)"
   ]
  }
 ]
}