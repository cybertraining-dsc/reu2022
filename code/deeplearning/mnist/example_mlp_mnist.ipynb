{
 "nbformat": 4,
 "nbformat_minor": 0,
 "metadata": {
  "colab": {
   "name": "mlp-mnist.ipynb",
   "provenance": [],
   "collapsed_sections": []
  },
  "kernelspec": {
   "name": "python3",
   "display_name": "Python 3"
  }
 },
 "cells": [
  {
   "cell_type": "markdown",
   "metadata": {
    "id": "8J3LuF3DTEd8",
    "pycharm": {
     "name": "#%% md\n"
    }
   },
   "source": [
    "# Multi-Layer Perceptron with MNIST\n",
    "\n",
    "\n",
    "This program runs in about 33.795 seconds (Windows 11, i7, 16 GB)"
   ]
  },
  {
   "cell_type": "markdown",
   "metadata": {
    "id": "tvHZtL7ETLDp",
    "pycharm": {
     "name": "#%% md\n"
    }
   },
   "source": [
    "## Pre-requisites\n",
    "\n",
    "Install the following Python packages\n",
    "\n",
    "1. cloudmesh-installer\n",
    "2. cloudmesh-common"
   ]
  },
  {
   "cell_type": "code",
   "metadata": {
    "id": "IE8l7YgQ_z2p",
    "colab": {
     "base_uri": "https://localhost:8080/"
    },
    "outputId": "2da8a3ef-6e20-4e56-d7b1-12dbe864d998",
    "pycharm": {
     "name": "#%%\n"
    }
   },
   "source": [
    "try:\n",
    "    from cloudmesh.common.StopWatch import StopWatch\n",
    "except:  # noqa: E722\n",
    "    ! pip install cloudmesh-common\n",
    "    from cloudmesh.common.StopWatch import StopWatch"
   ],
   "execution_count": 1,
   "outputs": []
  },
  {
   "cell_type": "code",
   "execution_count": 1,
   "outputs": [],
   "source": [],
   "metadata": {
    "collapsed": false,
    "pycharm": {
     "name": "#%%\n"
    }
   }
  },
  {
   "cell_type": "markdown",
   "metadata": {
    "id": "XYe7k1hvTYB7",
    "pycharm": {
     "name": "#%% md\n"
    }
   },
   "source": [
    "## Sample MLP with Tensorflow Keras"
   ]
  },
  {
   "cell_type": "code",
   "metadata": {
    "id": "eu-7aFi0_u10",
    "colab": {
     "base_uri": "https://localhost:8080/"
    },
    "outputId": "31276960-8d54-4890-b5c0-83e07ca5aca3",
    "pycharm": {
     "name": "#%%\n"
    }
   },
   "source": [
    "StopWatch.start(\"total\")\n",
    "\n",
    "StopWatch.start(\"import\")\n",
    "import time \n",
    "\n",
    "import numpy as np\n",
    "from keras.models import Sequential\n",
    "from keras.layers import Dense, Activation, Dropout\n",
    "from keras.utils import to_categorical, plot_model\n",
    "from keras.datasets import mnist\n",
    "# import pydotplus\n",
    "from keras.utils.vis_utils import model_to_dot\n",
    "# from keras.utils.vis_utils import pydot\n",
    "StopWatch.stop(\"import\")\n",
    "\n",
    "\n",
    "# StopWatch.progress(0)\n",
    "\n",
    "StopWatch.start(\"data-load\")\n",
    "(x_train, y_train), (x_test, y_test) = mnist.load_data()\n",
    "StopWatch.stop(\"data-load\")\n",
    "# StopWatch.progress(1)\n",
    "\n",
    "num_labels = len(np.unique(y_train))\n",
    "\n",
    "\n",
    "y_train = to_categorical(y_train)\n",
    "y_test = to_categorical(y_test)\n",
    "\n",
    "\n",
    "image_size = x_train.shape[1]\n",
    "input_size = image_size * image_size\n",
    "\n",
    "\n",
    "x_train = np.reshape(x_train, [-1, input_size])\n",
    "x_train = x_train.astype('float32') / 255\n",
    "x_test = np.reshape(x_test, [-1, input_size])\n",
    "x_test = x_test.astype('float32') / 255\n",
    "\n",
    "batch_size = 128\n",
    "hidden_units = 512\n",
    "dropout = 0.45\n",
    "\n",
    "model = Sequential()\n",
    "model.add(Dense(hidden_units, input_dim=input_size))\n",
    "model.add(Activation('relu'))\n",
    "model.add(Dropout(dropout))\n",
    "model.add(Dense(hidden_units))\n",
    "model.add(Activation('relu'))\n",
    "model.add(Dropout(dropout))\n",
    "model.add(Dense(hidden_units))\n",
    "model.add(Activation('relu'))\n",
    "model.add(Dropout(dropout))\n",
    "model.add(Dense(hidden_units))\n",
    "model.add(Activation('relu'))\n",
    "model.add(Dropout(dropout))\n",
    "model.add(Dense(num_labels))\n",
    "model.add(Activation('softmax'))\n",
    "model.summary()\n",
    "plot_model(model, to_file='mlp-mnist.png', show_shapes=True)\n",
    "\n",
    "# StopWatch.progress(2)\n",
    "StopWatch.start(\"compile\")\n",
    "model.compile(loss='categorical_crossentropy',\n",
    "              optimizer='adam',\n",
    "              metrics=['accuracy'])\n",
    "StopWatch.stop(\"compile\")\n",
    "# StopWatch.progress(3)\n",
    "StopWatch.start(\"train\")\n",
    "model.fit(x_train, y_train, epochs=5, batch_size=batch_size)\n",
    "StopWatch.stop(\"train\")\n",
    "\n",
    "# StopWatch.progress(99)\n",
    "StopWatch.start(\"test\")\n",
    "loss, acc = model.evaluate(x_test, y_test, batch_size=batch_size)\n",
    "\n",
    "result = 100.0 * acc\n",
    "\n",
    "print(\"\\nTest accuracy: %.1f%%\" % (result))\n",
    "\n",
    "StopWatch.stop(\"test\")\n",
    "StopWatch.stop(\"total\")\n",
    "StopWatch.event(\"accuracy\", msg=result)\n",
    "\n",
    "StopWatch.benchmark()\n",
    "# StopWatch.progress(100)\n"
   ],
   "execution_count": 3,
   "outputs": [
    {
     "name": "stdout",
     "output_type": "stream",
     "text": [
      "Model: \"sequential_1\"\n",
      "_________________________________________________________________\n",
      " Layer (type)                Output Shape              Param #   \n",
      "=================================================================\n",
      " dense_5 (Dense)             (None, 512)               401920    \n",
      "                                                                 \n",
      " activation_5 (Activation)   (None, 512)               0         \n",
      "                                                                 \n",
      " dropout_4 (Dropout)         (None, 512)               0         \n",
      "                                                                 \n",
      " dense_6 (Dense)             (None, 512)               262656    \n",
      "                                                                 \n",
      " activation_6 (Activation)   (None, 512)               0         \n",
      "                                                                 \n",
      " dropout_5 (Dropout)         (None, 512)               0         \n",
      "                                                                 \n",
      " dense_7 (Dense)             (None, 512)               262656    \n",
      "                                                                 \n",
      " activation_7 (Activation)   (None, 512)               0         \n",
      "                                                                 \n",
      " dropout_6 (Dropout)         (None, 512)               0         \n",
      "                                                                 \n",
      " dense_8 (Dense)             (None, 512)               262656    \n",
      "                                                                 \n",
      " activation_8 (Activation)   (None, 512)               0         \n",
      "                                                                 \n",
      " dropout_7 (Dropout)         (None, 512)               0         \n",
      "                                                                 \n",
      " dense_9 (Dense)             (None, 10)                5130      \n",
      "                                                                 \n",
      " activation_9 (Activation)   (None, 10)                0         \n",
      "                                                                 \n",
      "=================================================================\n",
      "Total params: 1,195,018\n",
      "Trainable params: 1,195,018\n",
      "Non-trainable params: 0\n",
      "_________________________________________________________________\n",
      "Epoch 1/5\n",
      "469/469 [==============================] - 4s 7ms/step - loss: 0.4382 - accuracy: 0.8620\n",
      "Epoch 2/5\n",
      "469/469 [==============================] - 4s 8ms/step - loss: 0.1913 - accuracy: 0.9463\n",
      "Epoch 3/5\n",
      "469/469 [==============================] - 3s 7ms/step - loss: 0.1515 - accuracy: 0.9568\n",
      "Epoch 4/5\n",
      "469/469 [==============================] - 4s 8ms/step - loss: 0.1321 - accuracy: 0.9626\n",
      "Epoch 5/5\n",
      "469/469 [==============================] - 4s 7ms/step - loss: 0.1143 - accuracy: 0.9682\n",
      "79/79 [==============================] - 0s 3ms/step - loss: 0.0700 - accuracy: 0.9778\n",
      "\n",
      "Test accuracy: 97.8%\n",
      "\n",
      "+------------------+--------------------------------------------------------------------------------------------------------+\n",
      "| Attribute        | Value                                                                                                  |\n",
      "|------------------+--------------------------------------------------------------------------------------------------------|\n",
      "| cpu              | Apple M1 Max                                                                                           |\n",
      "| cpu_cores        | 10                                                                                                     |\n",
      "| cpu_count        | 10                                                                                                     |\n",
      "| cpu_threads      | 10                                                                                                     |\n",
      "| date             | 2022-07-26 18:01:29.291689                                                                             |\n",
      "| frequency        | None                                                                                                   |\n",
      "| mem.active       | 22.3 GiB                                                                                               |\n",
      "| mem.available    | 37.8 GiB                                                                                               |\n",
      "| mem.free         | 15.5 GiB                                                                                               |\n",
      "| mem.inactive     | 17.5 GiB                                                                                               |\n",
      "| mem.percent      | 41.0 %                                                                                                 |\n",
      "| mem.total        | 64.0 GiB                                                                                               |\n",
      "| mem.used         | 24.4 GiB                                                                                               |\n",
      "| mem.wired        | 2.1 GiB                                                                                                |\n",
      "| platform.version | 12.5                                                                                                   |\n",
      "| python           | 3.10.5 (v3.10.5:f377153967, Jun  6 2022, 12:36:10) [Clang 13.0.0 (clang-1300.0.29.30)]                 |\n",
      "| python.pip       | 22.1.2                                                                                                 |\n",
      "| python.version   | 3.10.5                                                                                                 |\n",
      "| sys.platform     | darwin                                                                                                 |\n",
      "| uname.machine    | arm64                                                                                                  |\n",
      "| uname.node       | mars-3745                                                                                              |\n",
      "| uname.processor  | arm                                                                                                    |\n",
      "| uname.release    | 21.6.0                                                                                                 |\n",
      "| uname.system     | Darwin                                                                                                 |\n",
      "| uname.version    | Darwin Kernel Version 21.6.0: Sat Jun 18 17:07:22 PDT 2022; root:xnu-8020.140.41~1/RELEASE_ARM64_T6000 |\n",
      "| user             | grey                                                                                                   |\n",
      "+------------------+--------------------------------------------------------------------------------------------------------+\n",
      "\n",
      "+-----------+----------+--------+--------+---------------------+-------+-------+-----------+--------+--------+-----------+\n",
      "| Name      | Status   |   Time |    Sum | Start               | tag   |   msg | Node      | User   | OS     |   Version |\n",
      "|-----------+----------+--------+--------+---------------------+-------+-------+-----------+--------+--------+-----------|\n",
      "| total     | ok       | 18.069 | 38.704 | 2022-07-26 18:01:11 |       |       | mars-3745 | grey   | Darwin |      12.5 |\n",
      "| import    | ok       |  0     |  2.569 | 2022-07-26 18:01:11 |       |       | mars-3745 | grey   | Darwin |      12.5 |\n",
      "| data-load | ok       |  0.121 |  0.229 | 2022-07-26 18:01:11 |       |       | mars-3745 | grey   | Darwin |      12.5 |\n",
      "| compile   | ok       |  0.005 |  0.01  | 2022-07-26 18:01:11 |       |       | mars-3745 | grey   | Darwin |      12.5 |\n",
      "| train     | ok       | 17.416 | 34.64  | 2022-07-26 18:01:11 |       |       | mars-3745 | grey   | Darwin |      12.5 |\n",
      "| test      | ok       |  0.29  |  0.6   | 2022-07-26 18:01:28 |       |       | mars-3745 | grey   | Darwin |      12.5 |\n",
      "| accuracy  | ok       |  0     |  0     | 2022-07-26 18:01:29 |       | 97.78 | mars-3745 | grey   | Darwin |      12.5 |\n",
      "+-----------+----------+--------+--------+---------------------+-------+-------+-----------+--------+--------+-----------+\n",
      "# csv,timer,status,time,sum,start,tag,msg,uname.node,user,uname.system,platform.version\n",
      "# csv,total,ok,18.069,38.704,2022-07-26 18:01:11,,None,mars-3745,grey,Darwin,12.5\n",
      "# csv,import,ok,0.0,2.569,2022-07-26 18:01:11,,None,mars-3745,grey,Darwin,12.5\n",
      "# csv,data-load,ok,0.121,0.229,2022-07-26 18:01:11,,None,mars-3745,grey,Darwin,12.5\n",
      "# csv,compile,ok,0.005,0.01,2022-07-26 18:01:11,,None,mars-3745,grey,Darwin,12.5\n",
      "# csv,train,ok,17.416,34.64,2022-07-26 18:01:11,,None,mars-3745,grey,Darwin,12.5\n",
      "# csv,test,ok,0.29,0.6,2022-07-26 18:01:28,,None,mars-3745,grey,Darwin,12.5\n",
      "# csv,accuracy,ok,0.0,0.0,2022-07-26 18:01:29,,97.78000116348267,mars-3745,grey,Darwin,12.5\n",
      "\n"
     ]
    }
   ]
  },
  {
   "cell_type": "markdown",
   "metadata": {
    "id": "rkD7IrsbCRIJ",
    "pycharm": {
     "name": "#%% md\n"
    }
   },
   "source": [
    "# REFERENCES\n",
    "\n",
    "1. [Adavnced Keras Deep Learning Book](https://github.com/PacktPublishing/Advanced-Deep-Learning-with-Keras)"
   ]
  }
 ]
}