{
 "nbformat": 4,
 "nbformat_minor": 0,
 "metadata": {
  "colab": {
   "name": "E534-Higgs_Discovery-D.ipynb",
   "provenance": [],
   "collapsed_sections": []
  },
  "kernelspec": {
   "name": "python3",
   "display_name": "Python 3"
  }
 },
 "cells": [
  {
   "cell_type": "markdown",
   "metadata": {
    "id": "WmDU2D-8scGy",
    "colab_type": "text",
    "pycharm": {
     "name": "#%% md\n"
    }
   },
   "source": [
    "# D: Random Numbers"
   ],
   "outputs": []
  },
  {
   "cell_type": "code",
   "execution_count": 8,
   "outputs": [],
   "source": [
    "# This notebook discusses aspects of random number generation including seeds.\n",
    "# This program runs in about 3.713 seconds on 5950X, 128GB"
   ],
   "metadata": {
    "collapsed": false,
    "pycharm": {
     "name": "#%%\n"
    }
   }
  },
  {
   "cell_type": "code",
   "execution_count": 9,
   "outputs": [],
   "source": [
    "try:\n",
    "    from cloudmesh.common.StopWatch import StopWatch\n",
    "except:  # noqa: E722\n",
    "    ! pip install cloudmesh-common\n",
    "    from cloudmesh.common.StopWatch import StopWatch\n",
    "from cloudmesh.common.Shell import Shell"
   ],
   "metadata": {
    "collapsed": false,
    "pycharm": {
     "name": "#%%\n"
    }
   }
  },
  {
   "cell_type": "code",
   "execution_count": 10,
   "outputs": [
    {
     "name": "stdout",
     "output_type": "stream",
     "text": [
      "# cloudmesh status=running progress=0 pid=11428\n"
     ]
    }
   ],
   "source": [
    "StopWatch.progress(0)\n",
    "StopWatch.start(\"total\")\n",
    "StopWatch.start(\"import\")\n",
    "import numpy as np\n",
    "import matplotlib.pyplot as plt\n",
    "import os\n",
    "StopWatch.stop(\"import\")"
   ],
   "metadata": {
    "collapsed": false,
    "pycharm": {
     "name": "#%%\n"
    }
   }
  },
  {
   "cell_type": "code",
   "execution_count": 11,
   "outputs": [],
   "source": [
    "def save(file):\n",
    "    name = os.path.basename(file).replace(\".py\", \"\")\n",
    "    cwd = Shell.map_filename(\".\").path\n",
    "    Shell.mkdir(f\"{cwd}/images\")\n",
    "    plt.savefig(f'{cwd}/images/{name}.png',dpi=300)\n",
    "    plt.savefig(f'{cwd}/images/{name}.pdf')\n",
    "    plt.savefig(f'{cwd}/images/{name}.svg')\n",
    "    plt.show()"
   ],
   "metadata": {
    "collapsed": false,
    "pycharm": {
     "name": "#%%\n"
    }
   }
  },
  {
   "cell_type": "markdown",
   "source": [
    "## Part 1 Fixing Seed, fixes Random Numbers\n",
    "\n",
    "Create two sets of random numbers with the same seed(1234567) and plot them\n",
    "on top of each other. As identical sets of random numbers are created with\n",
    "identical seeds, you will get two plots exactly on top of each other."
   ],
   "metadata": {
    "collapsed": false,
    "pycharm": {
     "name": "#%% md\n"
    }
   }
  },
  {
   "cell_type": "code",
   "execution_count": 12,
   "outputs": [
    {
     "data": {
      "text/plain": "<Figure size 432x288 with 1 Axes>",
      "image/png": "[encoded data removed]"
     },
     "metadata": {
      "needs_background": "light"
     },
     "output_type": "display_data"
    }
   ],
   "source": [
    "StopWatch.start(\"calculate\")\n",
    "\n",
    "n = 42000\n",
    "seed = 1234567\n",
    "# set the seed of the random number generator to 1234567\n",
    "np.random.seed(seed=seed)\n",
    "# generate n random numbers between 110 and 140\n",
    "Base = 110 + 30* np.random.rand(n)\n",
    "\n",
    "plt.figure(\"On Top of Each Other\")\n",
    "# Plot the histogram for the first set\n",
    "plt.hist(Base, bins=15, range=(110, 140), alpha=0.5, color=\"blue\")\n",
    "\n",
    "# set the seed of the random number generator to 1234567 for the second set\n",
    "np.random.seed(seed=seed)\n",
    "# Generate the second set of random numbers\n",
    "Base2 = 110 + 30 * np.random.rand(n)\n",
    "plt.hist(Base2, bins=15, range=(110, 140), alpha=0.5, color=\"yellow\")\n",
    "\n",
    "# Plot the histogram for the second set\n",
    "plt.title(\"Two histograms on top of each other as identical random numbers\")\n",
    "save(\"stacked-histograms-2\")"
   ],
   "metadata": {
    "collapsed": false,
    "pycharm": {
     "name": "#%%\n"
    }
   }
  },
  {
   "cell_type": "markdown",
   "source": [
    "## Part 2 Varying Seed (randomly) gives distinct results\n",
    "\n",
    "Create two sets of random  numbers with different seeds and\n",
    "plot them on top of each other. Differences can be seen in the plot."
   ],
   "metadata": {
    "collapsed": false,
    "pycharm": {
     "name": "#%% md\n"
    }
   }
  },
  {
   "cell_type": "code",
   "execution_count": 13,
   "outputs": [
    {
     "data": {
      "text/plain": "<Figure size 432x288 with 1 Axes>",
      "image/png": "[encoded data removed]"
     },
     "metadata": {
      "needs_background": "light"
     },
     "output_type": "display_data"
    },
    {
     "name": "stdout",
     "output_type": "stream",
     "text": [
      "\n",
      "+------------------+----------------------------------------------------------------------------------+\n",
      "| Attribute        | Value                                                                            |\n",
      "|------------------+----------------------------------------------------------------------------------|\n",
      "| cpu              |                                                                                  |\n",
      "| cpu_cores        | 4                                                                                |\n",
      "| cpu_count        | 8                                                                                |\n",
      "| cpu_threads      | 8                                                                                |\n",
      "| date             | 2022-07-15 17:30:14.629052                                                       |\n",
      "| frequency        | scpufreq(current=1298.0, min=0.0, max=1498.0)                                    |\n",
      "| mem.available    | 6.2 GiB                                                                          |\n",
      "| mem.free         | 6.2 GiB                                                                          |\n",
      "| mem.percent      | 61.0 %                                                                           |\n",
      "| mem.total        | 15.8 GiB                                                                         |\n",
      "| mem.used         | 9.6 GiB                                                                          |\n",
      "| platform.version | ('10', '10.0.19043', 'SP0', 'Multiprocessor Free')                               |\n",
      "| python           | 3.10.5 (tags/v3.10.5:f377153, Jun  6 2022, 16:14:13) [MSC v.1929 64 bit (AMD64)] |\n",
      "| python.pip       | 22.1.2                                                                           |\n",
      "| python.version   | 3.10.5                                                                           |\n",
      "| sys.platform     | win32                                                                            |\n",
      "| uname.machine    | AMD64                                                                            |\n",
      "| uname.node       | LAPTOP-EONML8CQ                                                                  |\n",
      "| uname.processor  | Intel64 Family 6 Model 126 Stepping 5, GenuineIntel                              |\n",
      "| uname.release    | 10                                                                               |\n",
      "| uname.system     | Windows                                                                          |\n",
      "| uname.version    | 10.0.19043                                                                       |\n",
      "| user             | alibo                                                                            |\n",
      "+------------------+----------------------------------------------------------------------------------+\n",
      "\n",
      "+-----------+----------+--------+-------+---------------------+-------+-------+-----------------+--------+---------+----------------------------------------------------+\n",
      "| Name      | Status   |   Time |   Sum | Start               | tag   | msg   | Node            | User   | OS      | Version                                            |\n",
      "|-----------+----------+--------+-------+---------------------+-------+-------+-----------------+--------+---------+----------------------------------------------------|\n",
      "| total     | ok       |  1.328 | 7.507 | 2022-07-15 17:30:13 |       |       | LAPTOP-EONML8CQ | alibo  | Windows | ('10', '10.0.19043', 'SP0', 'Multiprocessor Free') |\n",
      "| import    | ok       |  0     | 1.103 | 2022-07-15 17:30:13 |       |       | LAPTOP-EONML8CQ | alibo  | Windows | ('10', '10.0.19043', 'SP0', 'Multiprocessor Free') |\n",
      "| calculate | ok       |  1.297 | 5.19  | 2022-07-15 17:30:13 |       |       | LAPTOP-EONML8CQ | alibo  | Windows | ('10', '10.0.19043', 'SP0', 'Multiprocessor Free') |\n",
      "+-----------+----------+--------+-------+---------------------+-------+-------+-----------------+--------+---------+----------------------------------------------------+\n",
      "# csv,timer,status,time,sum,start,tag,msg,uname.node,user,uname.system,platform.version\n",
      "# csv,total,ok,1.328,7.507,2022-07-15 17:30:13,,None,LAPTOP-EONML8CQ,alibo,Windows,('10', '10.0.19043', 'SP0', 'Multiprocessor Free')\n",
      "# csv,import,ok,0.0,1.103,2022-07-15 17:30:13,,None,LAPTOP-EONML8CQ,alibo,Windows,('10', '10.0.19043', 'SP0', 'Multiprocessor Free')\n",
      "# csv,calculate,ok,1.297,5.19,2022-07-15 17:30:13,,None,LAPTOP-EONML8CQ,alibo,Windows,('10', '10.0.19043', 'SP0', 'Multiprocessor Free')\n",
      "\n",
      "# cloudmesh status=running progress=100 pid=11428\n"
     ]
    }
   ],
   "source": [
    "plt.figure(\"Different\")\n",
    "# set the seed of the random number generator to 1234567 for the first\n",
    "# set of random numbers\n",
    "np.random.seed(seed=seed)\n",
    "# Generate a set of n random numbers between 110 and 140(first set)\n",
    "Base4 = 110 + 30 * np.random.rand(n)\n",
    "# plot histogram for the first set.\n",
    "plt.hist(Base4, bins=15, range=(110, 140), alpha=0.5, color=\"blue\")\n",
    "\n",
    "# Generate the second set of n numbers between 110 and 140. Note that for this\n",
    "# set the seed set will depend on where the first set ends.\n",
    "Base1 = 110 + 30 * np.random.rand(n)\n",
    "\n",
    "# Plot the histogram for the first seed set.\n",
    "plt.hist(Base1, bins=15, range=(110, 140), alpha=0.5, color=\"green\")\n",
    "# Set the seed value for the generator to be 7654321\n",
    "np.random.seed(seed=7654321)\n",
    "# Generate the third set of n numbers between 110 and 140.\n",
    "Base3 = 110 + 30 * np.random.rand(n)\n",
    "\n",
    "# Plot the third set.\n",
    "plt.hist(Base3, bins=15, range=(110, 140), alpha=0.5, color=\"red\")\n",
    "plt.title(\"Three distinct histograms as different random numbers\")\n",
    "# For Agg backend\n",
    "save(\"stacked-histograms-3\")\n",
    "StopWatch.stop(\"calculate\")\n",
    "\n",
    "StopWatch.stop(\"total\")\n",
    "StopWatch.benchmark()\n",
    "StopWatch.progress(100)"
   ],
   "metadata": {
    "collapsed": false,
    "pycharm": {
     "name": "#%%\n"
    }
   }
  },
  {
   "cell_type": "code",
   "execution_count": null,
   "outputs": [],
   "source": [],
   "metadata": {
    "collapsed": false,
    "pycharm": {
     "name": "#%%\n"
    }
   }
  }
 ]
}