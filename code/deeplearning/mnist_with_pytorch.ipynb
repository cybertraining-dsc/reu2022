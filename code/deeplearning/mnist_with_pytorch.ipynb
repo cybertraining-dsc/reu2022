{
 "nbformat": 4,
 "nbformat_minor": 0,
 "metadata": {
  "colab": {
   "name": "mnist_with_pytorch.ipynb",
   "provenance": [],
   "collapsed_sections": []
  },
  "kernelspec": {
   "name": "python3",
   "display_name": "Python 3"
  },
  "accelerator": "GPU"
 },
 "cells": [
  {
   "cell_type": "markdown",
   "metadata": {
    "id": "Z5achl3MnYXU",
    "pycharm": {
     "name": "#%% md\n"
    }
   },
   "source": [
    "# MNIST With PyTorch Training\n",
    "This program runs in about 52.337 seconds (Windows 11, i7, 16 GB)"
   ]
  },
  {
   "cell_type": "markdown",
   "metadata": {
    "id": "ncnRNj6wndZj",
    "pycharm": {
     "name": "#%% md\n"
    }
   },
   "source": [
    "## Prerequisites\n",
    "Install the following packages"
   ]
  },
  {
   "cell_type": "code",
   "execution_count": null,
   "outputs": [],
   "source": [
    "try:\n",
    "    from cloudmesh.common.StopWatch import StopWatch\n",
    "except:  # noqa: E722\n",
    "    ! pip install cloudmesh-common\n",
    "    from cloudmesh.common.StopWatch import StopWatch"
   ],
   "metadata": {
    "collapsed": false,
    "pycharm": {
     "name": "#%%\n"
    }
   }
  },
  {
   "cell_type": "markdown",
   "source": [
    "## Import Libraries"
   ],
   "metadata": {
    "collapsed": false,
    "pycharm": {
     "name": "#%% md\n"
    }
   }
  },
  {
   "cell_type": "code",
   "metadata": {
    "id": "nOB2NoPxlSep",
    "pycharm": {
     "name": "#%%\n"
    }
   },
   "source": [
    "StopWatch.start('total')\n",
    "StopWatch.start('import')\n",
    "StopWatch.progress(0)\n",
    "\n",
    "import torch    # noqa: E402\n",
    "from torchvision import datasets, transforms    # noqa: E402\n",
    "from torch import nn    # noqa: E402\n",
    "from torch import optim    # noqa: E402\n",
    "\n",
    "StopWatch.stop('import')\n",
    "StopWatch.progress(2)"
   ],
   "execution_count": 1,
   "outputs": [
    {
     "name": "stdout",
     "output_type": "stream",
     "text": [
      "# cloudmesh status=running progress=0 pid=12404\n"
     ]
    },
    {
     "name": "stderr",
     "output_type": "stream",
     "text": [
      "C:\\Users\\abeck\\ENV3\\lib\\site-packages\\tqdm\\auto.py:22: TqdmWarning: IProgress not found. Please update jupyter and ipywidgets. See https://ipywidgets.readthedocs.io/en/stable/user_install.html\n",
      "  from .autonotebook import tqdm as notebook_tqdm\n"
     ]
    },
    {
     "name": "stdout",
     "output_type": "stream",
     "text": [
      "# cloudmesh status=running progress=2 pid=12404\n"
     ]
    }
   ]
  },
  {
   "cell_type": "markdown",
   "metadata": {
    "id": "nbt5QydhnfqH",
    "pycharm": {
     "name": "#%% md\n"
    }
   },
   "source": [
    "## Pre-Process Data\n",
    "\n",
    "Here we download the data using PyTorch data utils and transform the data by using a normalization function. PyTorch provides a data loader abstraction called a `DataLoader` where we can set the batch size, data shuffle per batch loading. Each data loader expecte a Pytorch Dataset. The DataSet abstraction and DataLoader usage can be found [here](https://pytorch.org/tutorials/recipes/recipes/loading_data_recipe.html) "
   ]
  },
  {
   "cell_type": "code",
   "metadata": {
    "id": "yWKZO4sHlhSQ",
    "pycharm": {
     "name": "#%%\n"
    }
   },
   "source": [
    "StopWatch.start(\"preprocess\")\n",
    "\n",
    "# Data transformation function\n",
    "transform = transforms.Compose([transforms.ToTensor(),\n",
    "                              transforms.Normalize((0.5,), (0.5,)),\n",
    "                              ])\n",
    "\n",
    "# DataSet\n",
    "train_data_set = datasets.MNIST('drive/My Drive/mnist/data/', download=True, train=True, transform=transform)\n",
    "validation_data_set = datasets.MNIST('drive/My Drive/mnist/data/', download=True, train=False, transform=transform)\n",
    "\n",
    "\n",
    "train_loader = torch.utils.data.DataLoader(train_data_set, batch_size=32, shuffle=True)\n",
    "validation_loader = torch.utils.data.DataLoader(validation_data_set, batch_size=32, shuffle=True)\n",
    "\n",
    "StopWatch.stop(\"preprocess\")\n",
    "StopWatch.progress(3)"
   ],
   "execution_count": 2,
   "outputs": [
    {
     "name": "stdout",
     "output_type": "stream",
     "text": [
      "Downloading http://yann.lecun.com/exdb/mnist/train-images-idx3-ubyte.gz\n",
      "Downloading http://yann.lecun.com/exdb/mnist/train-images-idx3-ubyte.gz to drive/My Drive/mnist/data/MNIST\\raw\\train-images-idx3-ubyte.gz\n"
     ]
    },
    {
     "name": "stderr",
     "output_type": "stream",
     "text": [
      "100%|██████████| 9912422/9912422 [00:01<00:00, 5707423.76it/s]\n"
     ]
    },
    {
     "name": "stdout",
     "output_type": "stream",
     "text": [
      "Extracting drive/My Drive/mnist/data/MNIST\\raw\\train-images-idx3-ubyte.gz to drive/My Drive/mnist/data/MNIST\\raw\n",
      "\n",
      "Downloading http://yann.lecun.com/exdb/mnist/train-labels-idx1-ubyte.gz\n",
      "Downloading http://yann.lecun.com/exdb/mnist/train-labels-idx1-ubyte.gz to drive/My Drive/mnist/data/MNIST\\raw\\train-labels-idx1-ubyte.gz\n"
     ]
    },
    {
     "name": "stderr",
     "output_type": "stream",
     "text": [
      "100%|██████████| 28881/28881 [00:00<00:00, 28828104.19it/s]\n"
     ]
    },
    {
     "name": "stdout",
     "output_type": "stream",
     "text": [
      "Extracting drive/My Drive/mnist/data/MNIST\\raw\\train-labels-idx1-ubyte.gz to drive/My Drive/mnist/data/MNIST\\raw\n",
      "\n",
      "Downloading http://yann.lecun.com/exdb/mnist/t10k-images-idx3-ubyte.gz\n",
      "Downloading http://yann.lecun.com/exdb/mnist/t10k-images-idx3-ubyte.gz to drive/My Drive/mnist/data/MNIST\\raw\\t10k-images-idx3-ubyte.gz\n"
     ]
    },
    {
     "name": "stderr",
     "output_type": "stream",
     "text": [
      "100%|██████████| 1648877/1648877 [00:00<00:00, 5215801.05it/s]\n"
     ]
    },
    {
     "name": "stdout",
     "output_type": "stream",
     "text": [
      "Extracting drive/My Drive/mnist/data/MNIST\\raw\\t10k-images-idx3-ubyte.gz to drive/My Drive/mnist/data/MNIST\\raw\n",
      "\n",
      "Downloading http://yann.lecun.com/exdb/mnist/t10k-labels-idx1-ubyte.gz\n",
      "Downloading http://yann.lecun.com/exdb/mnist/t10k-labels-idx1-ubyte.gz to drive/My Drive/mnist/data/MNIST\\raw\\t10k-labels-idx1-ubyte.gz\n"
     ]
    },
    {
     "name": "stderr",
     "output_type": "stream",
     "text": [
      "100%|██████████| 4542/4542 [00:00<00:00, 7304650.60it/s]\n"
     ]
    },
    {
     "name": "stdout",
     "output_type": "stream",
     "text": [
      "Extracting drive/My Drive/mnist/data/MNIST\\raw\\t10k-labels-idx1-ubyte.gz to drive/My Drive/mnist/data/MNIST\\raw\n",
      "\n",
      "# cloudmesh status=running progress=3 pid=12404\n"
     ]
    }
   ]
  },
  {
   "cell_type": "markdown",
   "metadata": {
    "id": "NXrmy7jYniQn",
    "pycharm": {
     "name": "#%% md\n"
    }
   },
   "source": [
    "## Define Network\n",
    "\n",
    "Here we select the matching input size compared to the network definition. \n",
    "Here data reshaping or layer reshaping must be done to match input data shape with the network input shape. Also we define a set of hidden unit sizes along with the output layers size. The `output_size` must match with the number of labels associated with the classification problem. The hidden units can be chosesn depending on the problem. `nn.Sequential` is one way to create the network. Here we stack a set of linear layers along with a softmax layer for the classification as the output layer. "
   ]
  },
  {
   "cell_type": "code",
   "metadata": {
    "colab": {
     "base_uri": "https://localhost:8080/"
    },
    "id": "k65r0ZeHlzgY",
    "outputId": "f78eba4c-144a-436b-888f-464c7cd95488",
    "pycharm": {
     "name": "#%%\n"
    }
   },
   "source": [
    "StopWatch.start(\"network\")\n",
    "\n",
    "input_size = 784\n",
    "hidden_sizes = [128, 128, 64, 64]\n",
    "output_size = 10\n",
    "\n",
    "model = nn.Sequential(nn.Linear(input_size, hidden_sizes[0]),\n",
    "                      nn.ReLU(),\n",
    "                      nn.Linear(hidden_sizes[0], hidden_sizes[1]),\n",
    "                      nn.ReLU(),\n",
    "                      nn.Linear(hidden_sizes[1], hidden_sizes[2]),\n",
    "                      nn.ReLU(),\n",
    "                      nn.Linear(hidden_sizes[2], hidden_sizes[3]),\n",
    "                      nn.ReLU(),\n",
    "                      nn.Linear(hidden_sizes[3], output_size),\n",
    "                      nn.LogSoftmax(dim=1))\n",
    "\n",
    "                      \n",
    "print(model)\n",
    "\n",
    "StopWatch.stop(\"network\")\n",
    "StopWatch.progress(4)"
   ],
   "execution_count": 3,
   "outputs": [
    {
     "name": "stdout",
     "output_type": "stream",
     "text": [
      "Sequential(\n",
      "  (0): Linear(in_features=784, out_features=128, bias=True)\n",
      "  (1): ReLU()\n",
      "  (2): Linear(in_features=128, out_features=128, bias=True)\n",
      "  (3): ReLU()\n",
      "  (4): Linear(in_features=128, out_features=64, bias=True)\n",
      "  (5): ReLU()\n",
      "  (6): Linear(in_features=64, out_features=64, bias=True)\n",
      "  (7): ReLU()\n",
      "  (8): Linear(in_features=64, out_features=10, bias=True)\n",
      "  (9): LogSoftmax(dim=1)\n",
      ")\n",
      "# cloudmesh status=running progress=4 pid=12404\n"
     ]
    }
   ]
  },
  {
   "cell_type": "markdown",
   "metadata": {
    "id": "BzRdJkNJn3iB",
    "pycharm": {
     "name": "#%% md\n"
    }
   },
   "source": [
    "## Define Loss Function and Optimizer\n",
    "\n",
    "Read more about [Loss Functions](https://pytorch.org/docs/stable/nn.html#loss-functions) and [Optimizers](https://pytorch.org/docs/stable/optim.html) supported by PyTorch.\n",
    "\n",
    "\n",
    "\n"
   ]
  },
  {
   "cell_type": "code",
   "metadata": {
    "id": "8BgdSHzyl1cM",
    "pycharm": {
     "name": "#%%\n"
    }
   },
   "source": [
    "StopWatch.start('loss')\n",
    "\n",
    "criterion = nn.NLLLoss()\n",
    "optimizer = optim.SGD(model.parameters(), lr=0.003, momentum=0.9)\n",
    "\n",
    "StopWatch.stop('loss')\n",
    "StopWatch.progress(5)"
   ],
   "execution_count": 4,
   "outputs": [
    {
     "name": "stdout",
     "output_type": "stream",
     "text": [
      "# cloudmesh status=running progress=5 pid=12404\n"
     ]
    }
   ]
  },
  {
   "cell_type": "markdown",
   "metadata": {
    "id": "4BjYhjdFn9uG",
    "pycharm": {
     "name": "#%% md\n"
    }
   },
   "source": [
    "# Model Training"
   ]
  },
  {
   "cell_type": "code",
   "metadata": {
    "id": "PgZDncI-mEoM",
    "colab": {
     "base_uri": "https://localhost:8080/"
    },
    "outputId": "3205000a-7dd0-474c-bfea-6685b1b33859",
    "pycharm": {
     "name": "#%%\n"
    }
   },
   "source": [
    "StopWatch.start('train')\n",
    "\n",
    "epochs = 5\n",
    "\n",
    "for epoch in range(epochs):\n",
    "    loss_per_epoch = 0\n",
    "    for images, labels in train_loader:\n",
    "        images = images.view(images.shape[0], -1)\n",
    "    \n",
    "        # Gradients cleared per batch\n",
    "        optimizer.zero_grad()\n",
    "        \n",
    "        # Pass input to the model\n",
    "        output = model(images)\n",
    "        # Calculate loss after training compared to labels\n",
    "        loss = criterion(output, labels)\n",
    "        \n",
    "        # backpropagation \n",
    "        loss.backward()\n",
    "        \n",
    "        # optimizer step to update the weights\n",
    "        optimizer.step()\n",
    "        \n",
    "        loss_per_epoch += loss.item()\n",
    "    average_loss = loss_per_epoch / len(train_loader)\n",
    "    print(\"Epoch {} - Training loss: {}\".format(epoch, average_loss))\n",
    "\n",
    "StopWatch.stop('train')\n",
    "StopWatch.progress(97)"
   ],
   "execution_count": 5,
   "outputs": [
    {
     "name": "stdout",
     "output_type": "stream",
     "text": [
      "Epoch 0 - Training loss: 0.806366236380736\n",
      "Epoch 1 - Training loss: 0.22268100586583217\n",
      "Epoch 2 - Training loss: 0.15054172303676605\n",
      "Epoch 3 - Training loss: 0.12087311126689117\n",
      "Epoch 4 - Training loss: 0.10063299378032485\n",
      "# cloudmesh status=running progress=97 pid=12404\n"
     ]
    }
   ]
  },
  {
   "cell_type": "markdown",
   "metadata": {
    "id": "wn2Wh1AQoAgr",
    "pycharm": {
     "name": "#%% md\n"
    }
   },
   "source": [
    "## Model Evaluation\n",
    "\n",
    "Similar to training data loader, we use the validation loader to load batch by batch and run the feed-forward network to get the expected prediction and compared to the label associated with the data point. "
   ]
  },
  {
   "cell_type": "code",
   "metadata": {
    "colab": {
     "base_uri": "https://localhost:8080/"
    },
    "id": "zdOIB_sQmX6J",
    "outputId": "2169078c-1f2f-4cf4-d165-4f640d991702",
    "pycharm": {
     "name": "#%%\n"
    }
   },
   "source": [
    "StopWatch.start('evaluation')\n",
    "\n",
    "correct_predictions, all_count = 0, 0\n",
    "# enumerate data from the data validation loader (loads a batch at a time)\n",
    "for batch_id, (images,labels) in enumerate(validation_loader):\n",
    "  for i in range(len(labels)):\n",
    "    img = images[i].view(1, 784)\n",
    "    # at prediction stage, only feed-forward calculation is required. \n",
    "    with torch.no_grad():\n",
    "        logps = model(img)\n",
    "\n",
    "    # Output layer of the network uses a LogSoftMax layer\n",
    "    # Hence the probability must be calculated with the exponential values. \n",
    "    # The final layer returns an array of probabilities for each label\n",
    "    # Pick the maximum probability and the corresponding index\n",
    "    # The corresponding index is the predicted label \n",
    "    ps = torch.exp(logps)\n",
    "    probab = list(ps.numpy()[0])\n",
    "    pred_label = probab.index(max(probab))\n",
    "    true_label = labels.numpy()[i]\n",
    "    if(true_label == pred_label):\n",
    "      correct_predictions += 1\n",
    "    all_count += 1\n",
    "\n",
    "print(f\"Model Accuracy {(correct_predictions/all_count) * 100} %\")\n",
    "\n",
    "StopWatch.stop('evaluation')\n",
    "StopWatch.stop('total')\n",
    "StopWatch.benchmark()\n",
    "StopWatch.progress(100)"
   ],
   "execution_count": 6,
   "outputs": [
    {
     "name": "stdout",
     "output_type": "stream",
     "text": [
      "Model Accuracy 96.3 %\n",
      "\n",
      "+------------------+----------------------------------------------------------------------------------+\n",
      "| Attribute        | Value                                                                            |\n",
      "|------------------+----------------------------------------------------------------------------------|\n",
      "| cpu              |                                                                                  |\n",
      "| cpu_cores        | 4                                                                                |\n",
      "| cpu_count        | 8                                                                                |\n",
      "| cpu_threads      | 8                                                                                |\n",
      "| date             | 2022-07-15 13:30:56.604028                                                       |\n",
      "| frequency        | scpufreq(current=2803.0, min=0.0, max=2803.0)                                    |\n",
      "| mem.available    | 6.2 GiB                                                                          |\n",
      "| mem.free         | 6.2 GiB                                                                          |\n",
      "| mem.percent      | 60.6 %                                                                           |\n",
      "| mem.total        | 15.8 GiB                                                                         |\n",
      "| mem.used         | 9.6 GiB                                                                          |\n",
      "| platform.version | ('10', '10.0.22000', 'SP0', 'Multiprocessor Free')                               |\n",
      "| python           | 3.10.5 (tags/v3.10.5:f377153, Jun  6 2022, 16:14:13) [MSC v.1929 64 bit (AMD64)] |\n",
      "| python.pip       | 22.1.2                                                                           |\n",
      "| python.version   | 3.10.5                                                                           |\n",
      "| sys.platform     | win32                                                                            |\n",
      "| uname.machine    | AMD64                                                                            |\n",
      "| uname.node       | LAPTOP-DK9141G4                                                                  |\n",
      "| uname.processor  | Intel64 Family 6 Model 140 Stepping 1, GenuineIntel                              |\n",
      "| uname.release    | 10                                                                               |\n",
      "| uname.system     | Windows                                                                          |\n",
      "| uname.version    | 10.0.22000                                                                       |\n",
      "| user             | abeck                                                                            |\n",
      "+------------------+----------------------------------------------------------------------------------+\n",
      "\n",
      "+------------+----------+---------+---------+---------------------+-------+-------+-----------------+--------+---------+----------------------------------------------------+\n",
      "| Name       | Status   |    Time |     Sum | Start               | tag   | msg   | Node            | User   | OS      | Version                                            |\n",
      "|------------+----------+---------+---------+---------------------+-------+-------+-----------------+--------+---------+----------------------------------------------------|\n",
      "| total      | ok       | 107.582 | 107.582 | 2022-07-15 13:29:08 |       |       | LAPTOP-DK9141G4 | abeck  | Windows | ('10', '10.0.22000', 'SP0', 'Multiprocessor Free') |\n",
      "| import     | ok       |   3.3   |   3.3   | 2022-07-15 13:29:08 |       |       | LAPTOP-DK9141G4 | abeck  | Windows | ('10', '10.0.22000', 'SP0', 'Multiprocessor Free') |\n",
      "| preprocess | ok       |   3.861 |   3.861 | 2022-07-15 13:29:12 |       |       | LAPTOP-DK9141G4 | abeck  | Windows | ('10', '10.0.22000', 'SP0', 'Multiprocessor Free') |\n",
      "| network    | ok       |   0.015 |   0.015 | 2022-07-15 13:29:16 |       |       | LAPTOP-DK9141G4 | abeck  | Windows | ('10', '10.0.22000', 'SP0', 'Multiprocessor Free') |\n",
      "| loss       | ok       |   0.001 |   0.001 | 2022-07-15 13:29:16 |       |       | LAPTOP-DK9141G4 | abeck  | Windows | ('10', '10.0.22000', 'SP0', 'Multiprocessor Free') |\n",
      "| train      | ok       |  96.761 |  96.761 | 2022-07-15 13:29:16 |       |       | LAPTOP-DK9141G4 | abeck  | Windows | ('10', '10.0.22000', 'SP0', 'Multiprocessor Free') |\n",
      "| evaluation | ok       |   3.56  |   3.56  | 2022-07-15 13:30:52 |       |       | LAPTOP-DK9141G4 | abeck  | Windows | ('10', '10.0.22000', 'SP0', 'Multiprocessor Free') |\n",
      "+------------+----------+---------+---------+---------------------+-------+-------+-----------------+--------+---------+----------------------------------------------------+\n",
      "# csv,timer,status,time,sum,start,tag,msg,uname.node,user,uname.system,platform.version\n",
      "# csv,total,ok,107.582,107.582,2022-07-15 13:29:08,,None,LAPTOP-DK9141G4,abeck,Windows,('10', '10.0.22000', 'SP0', 'Multiprocessor Free')\n",
      "# csv,import,ok,3.3,3.3,2022-07-15 13:29:08,,None,LAPTOP-DK9141G4,abeck,Windows,('10', '10.0.22000', 'SP0', 'Multiprocessor Free')\n",
      "# csv,preprocess,ok,3.861,3.861,2022-07-15 13:29:12,,None,LAPTOP-DK9141G4,abeck,Windows,('10', '10.0.22000', 'SP0', 'Multiprocessor Free')\n",
      "# csv,network,ok,0.015,0.015,2022-07-15 13:29:16,,None,LAPTOP-DK9141G4,abeck,Windows,('10', '10.0.22000', 'SP0', 'Multiprocessor Free')\n",
      "# csv,loss,ok,0.001,0.001,2022-07-15 13:29:16,,None,LAPTOP-DK9141G4,abeck,Windows,('10', '10.0.22000', 'SP0', 'Multiprocessor Free')\n",
      "# csv,train,ok,96.761,96.761,2022-07-15 13:29:16,,None,LAPTOP-DK9141G4,abeck,Windows,('10', '10.0.22000', 'SP0', 'Multiprocessor Free')\n",
      "# csv,evaluation,ok,3.56,3.56,2022-07-15 13:30:52,,None,LAPTOP-DK9141G4,abeck,Windows,('10', '10.0.22000', 'SP0', 'Multiprocessor Free')\n",
      "\n",
      "# cloudmesh status=running progress=100 pid=12404\n"
     ]
    }
   ]
  },
  {
   "cell_type": "markdown",
   "metadata": {
    "id": "VT0COkaGPlLO",
    "pycharm": {
     "name": "#%% md\n"
    }
   },
   "source": [
    "### Reference: \n",
    "\n",
    "1. [Torch NN Sequential](https://pytorch.org/docs/stable/generated/torch.nn.Sequential.html)\n",
    "2. [Handwritten Digit Recognition Using PyTorch — Intro To Neural Networks](https://towardsdatascience.com/handwritten-digit-mnist-pytorch-977b5338e627)\n",
    "3. [MNIST Handwritten Digit Recognition in PyTorch](https://nextjournal.com/gkoehler/pytorch-mnist)\n"
   ]
  }
 ]
}