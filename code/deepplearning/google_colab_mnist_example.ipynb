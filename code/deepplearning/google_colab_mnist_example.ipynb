{
 "nbformat": 4,
 "nbformat_minor": 0,
 "metadata": {
  "colab": {
   "name": "google_colab_mnist_example.ipynb",
   "provenance": [],
   "collapsed_sections": [],
   "toc_visible": true,
   "include_colab_link": true
  },
  "kernelspec": {
   "name": "python3",
   "display_name": "Python 3"
  }
 },
 "cells": [
  {
   "cell_type": "markdown",
   "metadata": {
    "id": "KScAHZqbQ_Sr",
    "colab_type": "text",
    "pycharm": {
     "name": "#%% md\n"
    }
   },
   "source": [
    "# MNIST Classification "
   ]
  },
  {
   "cell_type": "markdown",
   "metadata": {
    "id": "eXNb7rQOQ2bW",
    "colab_type": "text",
    "pycharm": {
     "name": "#%% md\n"
    }
   },
   "source": [
    "\n",
    "In this lesson we discuss in how to create a simple IPython Notebook to solve\n",
    "an image classification problem. MNIST contains a set of pictures\n"
   ]
  },
  {
   "cell_type": "markdown",
   "metadata": {
    "id": "ZLpLVkFLRK-1",
    "colab_type": "text",
    "pycharm": {
     "name": "#%% md\n"
    }
   },
   "source": [
    "## Import Libraries \n",
    "\n",
    "Note: https://python-future.org/quickstart.html"
   ]
  },
  {
   "cell_type": "code",
   "execution_count": 1,
   "outputs": [],
   "source": [
    "try:\n",
    "    from cloudmesh.common.StopWatch import StopWatch\n",
    "except:  # noqa: E722\n",
    "    ! pip install cloudmesh-common\n",
    "    from cloudmesh.common.StopWatch import StopWatch"
   ],
   "metadata": {
    "collapsed": false,
    "pycharm": {
     "name": "#%%\n"
    }
   }
  },
  {
   "cell_type": "code",
   "execution_count": null,
   "outputs": [],
   "source": [
    "StopWatch.start('total')\n",
    "# from __future__ import absolute_import\n",
    "# from __future__ import division\n",
    "# from __future__ import print_function\n",
    "StopWatch.start('import')\n",
    "import numpy as np\n",
    "from keras.models import Sequential\n",
    "from keras.layers import Dense, Activation, Dropout\n",
    "from keras.utils import to_categorical, plot_model\n",
    "from keras.datasets import mnist\n",
    "StopWatch.stop('import')\n",
    "StopWatch.progress(0)"
   ],
   "metadata": {
    "collapsed": false,
    "pycharm": {
     "name": "#%%\n"
    }
   }
  },
  {
   "cell_type": "markdown",
   "source": [
    "## Pre-process data"
   ],
   "metadata": {
    "collapsed": false,
    "pycharm": {
     "name": "#%% md\n"
    }
   }
  },
  {
   "cell_type": "markdown",
   "source": [
    "### Load data \n",
    "\n",
    "First we load the data from the inbuilt mnist dataset from Keras\n",
    "Here we have to split the data set into training and testing data. \n",
    "The training data or testing data has two components. \n",
    "Training features and training labels. \n",
    "For instance every sample in the dataset has a corresponding label. \n",
    "In Mnist the training sample contains image data represented in terms of \n",
    "an array. The training labels are from 0-9. \n",
    "\n",
    "Here we say x_train for training data features and y_train as the training labels. Same goes for testing data. "
   ],
   "metadata": {
    "collapsed": false,
    "pycharm": {
     "name": "#%% md\n"
    }
   }
  },
  {
   "cell_type": "code",
   "execution_count": null,
   "outputs": [],
   "source": [
    "StopWatch.start('data-load')\n",
    "(x_train, y_train), (x_test, y_test) = mnist.load_data()\n",
    "StopWatch.stop('data-load')\n",
    "StopWatch.progress(20)"
   ],
   "metadata": {
    "collapsed": false,
    "pycharm": {
     "name": "#%%\n"
    }
   }
  },
  {
   "cell_type": "markdown",
   "source": [
    "### Identify Number of Classes\n",
    "\n",
    "As this is a number classification problem. We need to know how many classes are there. \n",
    "So we'll count the number of unique labels. "
   ],
   "metadata": {
    "collapsed": false,
    "pycharm": {
     "name": "#%% md\n"
    }
   }
  },
  {
   "cell_type": "code",
   "execution_count": null,
   "outputs": [],
   "source": [
    "num_labels = len(np.unique(y_train))\n",
    "num_labels"
   ],
   "metadata": {
    "collapsed": false,
    "pycharm": {
     "name": "#%%\n"
    }
   }
  },
  {
   "cell_type": "markdown",
   "source": [
    "### Convert Labels To One-Hot Vector\n",
    "\n",
    "Read more on one-hot vector. "
   ],
   "metadata": {
    "collapsed": false,
    "pycharm": {
     "name": "#%% md\n"
    }
   }
  },
  {
   "cell_type": "code",
   "execution_count": null,
   "outputs": [],
   "source": [
    "y_train = to_categorical(y_train)\n",
    "y_test = to_categorical(y_test)"
   ],
   "metadata": {
    "collapsed": false,
    "pycharm": {
     "name": "#%%\n"
    }
   }
  },
  {
   "cell_type": "markdown",
   "source": [
    "## Image Reshaping\n",
    "\n",
    "The training model is designed by considering the data as a vector.\n",
    "This is a model dependent modification. Here we assume the image is\n",
    "a squared shape image."
   ],
   "metadata": {
    "collapsed": false,
    "pycharm": {
     "name": "#%% md\n"
    }
   }
  },
  {
   "cell_type": "code",
   "execution_count": null,
   "outputs": [],
   "source": [
    "image_size = x_train.shape[1]\n",
    "input_size = image_size * image_size"
   ],
   "metadata": {
    "collapsed": false,
    "pycharm": {
     "name": "#%%\n"
    }
   }
  },
  {
   "cell_type": "markdown",
   "source": [
    "## Resize and Normalize\n",
    "\n",
    "The next step is to continue the reshaping to a fit into a vector\n",
    "and normalize the data. Image values are from 0 - 255, so an \n",
    "easy way to normalize is to divide by the maximum value. \n"
   ],
   "metadata": {
    "collapsed": false,
    "pycharm": {
     "name": "#%% md\n"
    }
   }
  },
  {
   "cell_type": "code",
   "execution_count": null,
   "outputs": [],
   "source": [
    "x_train = np.reshape(x_train, [-1, input_size])\n",
    "x_train = x_train.astype('float32') / 255\n",
    "x_test = np.reshape(x_test, [-1, input_size])\n",
    "x_test = x_test.astype('float32') / 255"
   ],
   "metadata": {
    "collapsed": false,
    "pycharm": {
     "name": "#%%\n"
    }
   }
  },
  {
   "cell_type": "markdown",
   "source": [
    "## Create a Keras Model\n",
    "\n",
    "Keras is a neural network library. The summary function provides tabular summary on the model you created. And the plot_model function provides a grpah on the network you created. "
   ],
   "metadata": {
    "collapsed": false,
    "pycharm": {
     "name": "#%% md\n"
    }
   }
  },
  {
   "cell_type": "code",
   "execution_count": null,
   "outputs": [],
   "source": [
    "# Create Model\n",
    "# network parameters\n",
    "batch_size = 4\n",
    "hidden_units = 64\n",
    "\n",
    "model = Sequential()\n",
    "model.add(Dense(hidden_units, input_dim=input_size))\n",
    "model.add(Dense(num_labels))\n",
    "model.add(Activation('softmax'))\n",
    "model.summary()\n",
    "plot_model(model, to_file='mlp-mnist.png', show_shapes=True)\n",
    "StopWatch.progress(40)"
   ],
   "metadata": {
    "collapsed": false,
    "pycharm": {
     "name": "#%%\n"
    }
   }
  },
  {
   "cell_type": "markdown",
   "source": [
    "## Compile and Train\n",
    "\n",
    "A keras model need to be compiled before it can be used to train\n",
    "the model. In the compile function, you can provide the optimization\n",
    "that you want to add, metrics you expect and the type of loss function\n",
    "you need to use. \n",
    "\n",
    "Here we use adam optimizer, a famous optimizer used in neural networks. \n",
    "\n",
    "The loss funtion we have used is the categorical_crossentropy. \n",
    "\n",
    "Once the model is compiled, then the fit function is called upon passing the number of epochs, traing data and batch size. \n",
    "\n",
    "The batch size determines the number of elements used per minibatch in optimizing the function. \n",
    "\n",
    "**Note: Change the number of epochs, batch size and see what happens.**\n",
    "\n"
   ],
   "metadata": {
    "collapsed": false,
    "pycharm": {
     "name": "#%% md\n"
    }
   }
  },
  {
   "cell_type": "code",
   "execution_count": null,
   "outputs": [],
   "source": [
    "StopWatch.start('compile')\n",
    "model.compile(loss='categorical_crossentropy',\n",
    "              optimizer='adam',\n",
    "              metrics=['accuracy'])\n",
    "StopWatch.progress(60)\n",
    "StopWatch.stop('compile')\n",
    "\n",
    "StopWatch.start('train')\n",
    "model.fit(x_train, y_train, epochs=3, batch_size=batch_size)\n",
    "StopWatch.progress(80)\n",
    "StopWatch.stop('train')"
   ],
   "metadata": {
    "collapsed": false,
    "pycharm": {
     "name": "#%%\n"
    }
   }
  },
  {
   "cell_type": "markdown",
   "source": [
    "## Testing \n",
    "\n",
    "Now we can test the trained model. Use the evaluate function by passing\n",
    "test data and batch size and the accuracy and the loss value can be retrieved.\n",
    "\n",
    "**MNIST_V1.0|Exercise: Try to observe the network behavior by changing the number of epochs, batch size and record the best accuracy that you can gain. Here you can record what happens when you change these values. Describe your observations in 50-100 words.**\n"
   ],
   "metadata": {
    "collapsed": false,
    "pycharm": {
     "name": "#%% md\n"
    }
   }
  },
  {
   "cell_type": "code",
   "execution_count": null,
   "outputs": [],
   "source": [
    "loss, acc = model.evaluate(x_test, y_test, batch_size=batch_size)\n",
    "print(\"\\nTest accuracy: %.1f%%\" % (100.0 * acc))\n",
    "StopWatch.progress(100)\n",
    "StopWatch.stop('total')\n",
    "StopWatch.benchmark()"
   ],
   "metadata": {
    "collapsed": false,
    "pycharm": {
     "name": "#%%\n"
    }
   }
  },
  {
   "cell_type": "markdown",
   "metadata": {
    "id": "b2fDpqnfcEmC",
    "colab_type": "text",
    "pycharm": {
     "name": "#%% md\n"
    }
   },
   "source": [
    "## Final Note\n",
    "\n",
    "This programme can be defined as a hello world programme in deep\n",
    "learning. Objective of this exercise is not to teach you the depths of\n",
    "deep learning. But to teach you basic concepts that may need to design a\n",
    "simple network to solve a problem. Before running the whole code, read\n",
    "all the instructions before a code section. \n",
    "\n",
    "## Homework\n",
    "\n",
    "**Solve Exercise MNIST_V1.0.**"
   ]
  },
  {
   "cell_type": "markdown",
   "metadata": {
    "id": "UufRkOsSRaUR",
    "colab_type": "text",
    "pycharm": {
     "name": "#%% md\n"
    }
   },
   "source": [
    "\n",
    "### Reference: \n",
    "\n",
    "[Orignal Source to Source Code](https://github.com/PacktPublishing/Advanced-Deep-Learning-with-Keras)\n"
   ]
  },
  {
   "cell_type": "markdown",
   "source": [
    "\n",
    "### Reference: \n",
    "\n",
    "[Orignal Source to Source Code](https://github.com/PacktPublishing/Advanced-Deep-Learning-with-Keras)"
   ],
   "metadata": {
    "collapsed": false,
    "pycharm": {
     "name": "#%% md\n"
    }
   }
  }
 ]
}