{
 "nbformat": 4,
 "nbformat_minor": 0,
 "metadata": {
  "colab": {
   "name": "E534-Higgs_Discovery-C.ipynb",
   "provenance": []
  },
  "kernelspec": {
   "name": "python3",
   "display_name": "Python 3"
  }
 },
 "cells": [
  {
   "cell_type": "markdown",
   "metadata": {
    "id": "i5Oe6aI8o277",
    "colab_type": "text",
    "pycharm": {
     "name": "#%% md\n"
    }
   },
   "source": [
    "# C: Gaussian Distributions and Counting Experiments\n",
    "\n",
    "This file contains code for the unit:Number Theory.\n",
    "\n",
    "This program runs in about 14.96 seconds (Windows 10, 16 GB)"
   ]
  },
  {
   "cell_type": "code",
   "execution_count": 16,
   "outputs": [],
   "source": [
    "try:\n",
    "    from cloudmesh.common.StopWatch import StopWatch\n",
    "except:  # noqa: E722\n",
    "    ! pip install cloudmesh-common\n",
    "    from cloudmesh.common.StopWatch import StopWatch\n",
    "from cloudmesh.common.Shell import Shell"
   ],
   "metadata": {
    "collapsed": false,
    "pycharm": {
     "name": "#%%\n"
    }
   }
  },
  {
   "cell_type": "markdown",
   "metadata": {
    "id": "vWu7UiPpo9Ug",
    "colab_type": "text",
    "pycharm": {
     "name": "#%% md\n"
    }
   },
   "source": [
    "## Part 1 25 Events 40000 Times\n",
    "\n",
    "Illustrating Gaussian errors"
   ]
  },
  {
   "cell_type": "code",
   "metadata": {
    "id": "vvXX7eZkpEx5",
    "colab_type": "code",
    "colab": {},
    "pycharm": {
     "name": "#%%\n"
    }
   },
   "source": [
    "StopWatch.start(\"total\")\n",
    "StopWatch.start(\"import\")\n",
    "import numpy as np\n",
    "import matplotlib.pyplot as plt\n",
    "from scipy.special import ndtri\n",
    "from cloudmesh.common.util import path_expand\n",
    "import os\n",
    "StopWatch.stop(\"import\")"
   ],
   "execution_count": 17,
   "outputs": []
  },
  {
   "cell_type": "code",
   "execution_count": null,
   "outputs": [],
   "source": [
    "def save(file):\n",
    "  name = os.path.basename(file).replace(\".py\", \"\")\n",
    "  cwd = Shell.map_filename(\".\")\n",
    "  Shell.mkdir(f\"{cwd}/images\")\n",
    "  plt.savefig(f'{cwd}/images/{name}.png',dpi=300)\n",
    "  plt.savefig(f'{cwd}/images/{name}.pdf')\n",
    "  plt.savefig(f'{cwd}/images/{name}.svg')\n",
    "  plt.show()"
   ],
   "metadata": {
    "collapsed": false,
    "pycharm": {
     "name": "#%%\n"
    }
   }
  },
  {
   "cell_type": "markdown",
   "metadata": {
    "id": "ubImL4nOpGaZ",
    "colab_type": "text",
    "pycharm": {
     "name": "#%% md\n"
    }
   },
   "source": [
    "Method that returns returns value of the gaussian given an input array and mean and standard deviation"
   ]
  },
  {
   "cell_type": "code",
   "execution_count": null,
   "outputs": [],
   "source": [
    "def Normal(x, mu,sigma):\n",
    "    return np.exp(- (x-mu)**2/(2*sigma**2))/(sigma*np.sqrt(2*np.pi))\n",
    "\n",
    "'''Counting 25 events 40000 times'''\n",
    "StopWatch.start(\"create-gaussian-25-40000\")\n",
    "Events25 = np.random.rand(1000000)              # generate 25*40000 = 1,000,000 random numbers\n",
    "Counters25 = np.zeros(40000)                    # generate an array with 40000 entries all set to 0\n",
    "for value in Events25:\n",
    "    Place = int(40000 * value)                  # Scale the random values to range between 0 to 40000\n",
    "    Counters25[Place] += 1                      # Increment counts for the value as per the scaled value\n",
    "StopWatch.stop(\"create-gaussian-25-40000\")\n",
    "# Plot- The result of counting 25 events 40000 times as well as the errors, one sigma, one percent, 99 percent.\n",
    "# Plot title is \"Count 25 Events 40000 times\"\n",
    "StopWatch.start(\"plot-gaussian-25-40000\")\n",
    "plt.figure(\"Count 25 Events 40000 times\")\n",
    "# plot histogram with 50 bins. Store Number of counts/bin and bin edges\n",
    "Numcounts25, binedges25, patches = plt.hist(Counters25, bins = 50, range = (0, 50), color = \"green\", alpha = 0.5)\n",
    "centers25 = 0.5 * (binedges25[1:] + binedges25[:-1]) # Computing bin centers as means of the bin edge values\n",
    "y25 = 40000 * Normal(centers25, 25, np.sqrt(25))     # Compute the y values(as per the gaussian function)\n",
    "xbar25 = np.zeros(2)                                                                                                \n",
    "ybar25 = np.zeros(2)                                                                                                \n",
    "xbar25[0] = 25 - np.sqrt(25)                 # Compute the one sigma values as\n",
    "xbar25[1] = 25 + np.sqrt(25)                 # mean +-error(on the mean value)\n",
    "# Computing y values as per the gaussian function for the X values\n",
    "ybar25 = 40000 * Normal(xbar25, 25, np.sqrt(25))\n",
    "# plot the line joining the 2 one sigma points\n",
    "plt.plot(xbar25, ybar25, color=\"red\", alpha=1.0, lw=5)\n",
    "# plot the gaussian function passing through the center of each bin\n",
    "plt.plot(centers25, y25, alpha=1.0, color=\"red\", lw=5)\n",
    "\n",
    "errors25 = np.sqrt(y25)                                # Compute the expected error on Y-values\n",
    "plt.errorbar(centers25, y25, yerr=errors25, linestyle='None', linewidth=3.0, markeredgewidth=3.0, marker='o', color='black', markersize= 5.0 )     #Plot the errors on Y values\n",
    "\n",
    "prob1percent25 = 25 + np.sqrt(25) * ndtri(0.01)                 # compute the 1% point - x value\n",
    "prob99percent25 = 25 + np.sqrt(25) * ndtri(0.99)                # compute the 99% point - x value\n",
    "y1percent25 = 40000*Normal(prob1percent25, 25, np.sqrt(25))     # compute the 1% point - y value\n",
    "y99percent25 = 40000*Normal(prob99percent25, 25, np.sqrt(25))   # compute the 99% point - y value\n",
    "#Perform labelling operations for the plots\n",
    "plt.annotate('One percent', xycoords=\"data\", textcoords='offset points', arrowprops=dict(facecolor='black', arrowstyle=\"->\"), xytext =(-75, 50), xy=(prob1percent25, y1percent25))\n",
    "plt.annotate('99 percent', xycoords=\"data\", textcoords='offset points', arrowprops=dict(facecolor='black', arrowstyle=\"->\"), xytext =(30, 50), xy=(prob99percent25, y99percent25))\n",
    "plt.annotate('One Sigma', xycoords=\"data\", textcoords='offset points', xy=(20,ybar25[0]), xytext=(-70,30), arrowprops=dict(facecolor='black', arrowstyle=\"->\"))\n",
    "plt.annotate('One Sigma', xycoords=\"data\", textcoords='offset points', xy=(30,ybar25[1]), xytext=(30,30), arrowprops=dict(facecolor='black', arrowstyle=\"->\"))\n",
    "plt.title(\"25 Events Counted 40000 times\", backgroundcolor=\"white\")\n",
    "save(\"gaussian-25-40000\")\n",
    "StopWatch.stop(\"plot-gaussian-25-40000\")"
   ],
   "metadata": {
    "collapsed": false,
    "pycharm": {
     "name": "#%%\n"
    }
   }
  },
  {
   "cell_type": "markdown",
   "source": [
    "## Part 2 250 Events Counted 40000 times\n",
    "\n",
    "\n",
    "\n",
    "A similar experiment as above is performed with 250 events being performed 40000 times. Refer to the documentation of the above section."
   ],
   "metadata": {
    "collapsed": false,
    "pycharm": {
     "name": "#%% md\n"
    }
   }
  },
  {
   "cell_type": "code",
   "execution_count": null,
   "outputs": [],
   "source": [
    "StopWatch.start(\"data-create\")\n",
    "Events250 = np.random.rand(10000000)\n",
    "Counters250 = np.zeros(40000)\n",
    "for value in Events250:\n",
    "    Place = int(40000 * value)\n",
    "    Counters250[Place] +=1\n",
    "StopWatch.stop(\"data-create\")\n",
    "# Plot- The result of counting 250 events 40000 times as well as the errors, one sigma, one percent, 99 percent.\n",
    "# This is identocal to plotting described above. Refer to the documentation of the above section. Plot title is\n",
    "# Count 250 Events 40000 times\n",
    "StopWatch.start(\"data-plot\")\n",
    "StopWatch.progress(25)\n",
    "plt.figure(\"Count 250 Events 40000 times\")\n",
    "Numcounts250, binedges250, patches=plt.hist(Counters250, bins=200, range=(150,350), color=\"green\", alpha=0.5)\n",
    "centers250 = 0.5*(binedges250[1:] + binedges250[:-1])\n",
    "y250 = 40000 * Normal(centers250, 250, np.sqrt(250))\n",
    "errors250 = np.sqrt(y250)\n",
    "xbar250 = np.zeros(2)\n",
    "ybar250 = np.zeros(2)\n",
    "xbar250[0] = 250 - np.sqrt(250)\n",
    "xbar250[1] = 250 + np.sqrt(250)\n",
    "ybar250 = 40000*Normal(xbar250, 250, np.sqrt(250))\n",
    "plt.plot(xbar250, ybar250, color=\"red\", alpha=1.0, lw=5)\n",
    "plt.plot(centers250, y250, alpha=1.0, color=\"red\", lw=5)\n",
    "plt.errorbar(centers250, y250, yerr=errors250, linestyle='None', linewidth=3.0, markeredgewidth=3.0, marker ='o', color='black', markersize= 5.0 )\n",
    "\n",
    "prob1percent250=250 + np.sqrt(250) * ndtri(0.01)\n",
    "prob99percent250 = 250 + np.sqrt(250) * ndtri(0.99)\n",
    "y1percent250 = 4000*Normal(prob1percent250, 250, np.sqrt(250))\n",
    "y99percent250 = 4000*Normal(prob99percent250, 250, np.sqrt(250))\n",
    "plt.annotate('One percent', xycoords=\"data\", textcoords='offset points', arrowprops=dict(facecolor='black', arrowstyle=\"->\"), xytext =(-75, 50), xy=(prob1percent250, y1percent250))\n",
    "plt.annotate('99 percent', xycoords=\"data\", textcoords='offset points', arrowprops=dict(facecolor='black', arrowstyle=\"->\"), xytext =(30, 50), xy=(prob99percent250, y99percent250))\n",
    "plt.annotate('One Sigma', xycoords=\"data\", textcoords='offset points', xy=(xbar250[0],ybar250[0]), xytext=(-120,30), arrowprops=dict(facecolor='black', arrowstyle=\"->\"))\n",
    "plt.annotate('One Sigma', xycoords=\"data\", textcoords='offset points', xy=(xbar250[1],ybar250[1]), xytext=(30,30), arrowprops=dict(facecolor='black', arrowstyle=\"->\"))\n",
    "plt.title(\"250 Events Counted 40000 times\", backgroundcolor=\"white\")\n",
    "save(f'hc-random-data{2}')\n",
    "StopWatch.stop(\"data-plot\")"
   ],
   "metadata": {
    "collapsed": false,
    "pycharm": {
     "name": "#%%\n"
    }
   }
  },
  {
   "cell_type": "markdown",
   "source": [
    "## Part 3 250 (mean) events each 400 times\n",
    "\n",
    "The above experiment is repeated with 250 events, each event repeating 400 times. It is performed with 2 different seeds for random numbers."
   ],
   "metadata": {
    "collapsed": false,
    "pycharm": {
     "name": "#%% md\n"
    }
   }
  },
  {
   "cell_type": "code",
   "execution_count": null,
   "outputs": [],
   "source": [
    "# First random set\n",
    "StopWatch.start(\"data-event-250-400\")\n",
    "Events250A = np.random.rand(100000)\n",
    "Counters250A = np.zeros(400)\n",
    "for value in Events250A:\n",
    "    Place = int(400 * value)\n",
    "    Counters250A[Place] +=1\n",
    "StopWatch.stop(\"data-event-250-400\")\n",
    "# Plot- The result of counting 250 events 400 times as well as the errors, one sigma, one percent, 99 percent.\n",
    "# This is identical to plotting described above. Refer to the documentation of the above section. Plot title is\n",
    "# Count 250 Events 400 times I\n",
    "StopWatch.start(\"plot-event-250-400\")\n",
    "plt.figure(\"Count 250 Events 400 times I\")\n",
    "Numcounts250A, binedges250A, patches = plt.hist(Counters250A, bins=100, range=(200,300), color=\"green\", alpha=0.5)\n",
    "centers250A = 0.5*(binedges250A[1:] + binedges250A[:-1])\n",
    "y250A = 400 * Normal(centers250A, 250, np.sqrt(250))\n",
    "xbar250A = np.zeros(2)\n",
    "ybar250A = np.zeros(2)\n",
    "xbar250A[0] = 250 - np.sqrt(250)\n",
    "xbar250A[1] = 250 + np.sqrt(250)\n",
    "ybar250A = 400*Normal(xbar250A, 250, np.sqrt(250))\n",
    "plt.plot(xbar250A, ybar250A, color=\"red\", alpha=1.0, lw=5)\n",
    "plt.plot(centers250A, y250A, alpha=1.0, color=\"red\", lw=5)\n",
    "\n",
    "prob1percent250A = 250 + np.sqrt(250) * ndtri(0.01)\n",
    "prob99percent250A = 250 + np.sqrt(250) * ndtri(0.99)\n",
    "y1percent250A = 400*Normal(prob1percent250A, 250, np.sqrt(250))\n",
    "y99percent250A = 400*Normal(prob99percent250A, 250, np.sqrt(250))\n",
    "plt.annotate('One percent', xycoords=\"data\", textcoords='offset points', arrowprops=dict(facecolor='black', arrowstyle=\"->\"), xytext =(-50, 50), xy=(prob1percent250A, y1percent250A))\n",
    "plt.annotate('99 percent', xycoords=\"data\", textcoords='offset points', arrowprops=dict(facecolor='black', arrowstyle=\"->\"), xytext =(-10, 50), xy=(prob99percent250A, y99percent250A))\n",
    "plt.annotate('One Sigma', xycoords=\"data\", textcoords='offset points', xy=(xbar250A[0],ybar250A[0]), xytext=(-100,30), arrowprops=dict(facecolor='black', arrowstyle=\"->\"))\n",
    "plt.annotate('One Sigma', xycoords=\"data\", textcoords='offset points', xy=(xbar250A[1],ybar250A[1]), xytext=(40,30), arrowprops=dict(facecolor='black', arrowstyle=\"->\"))\n",
    "plt.title(\"250 Events Counted 400 times. One Seed\", backgroundcolor=\"white\")\n",
    "# Second random set.\n",
    "Events250A = np.random.rand(100000)\n",
    "Counters250A = np.zeros(400)\n",
    "for value in Events250A:\n",
    "    Place = int(400 * value)\n",
    "    Counters250A[Place] +=1\n",
    "# Plot- The result of counting 250 events 400 times as well as the errors, one sigma, one percent, 99 percent with\n",
    "# separate seed. This is identical to plotting described above. Refer to the documentation of the above section\n",
    "# Plot title is Count 250 Events 400 times II\n",
    "plt.figure(\"Count 250 Events 400 times II\")\n",
    "Numcounts250A, binedges250A, patches=plt.hist(Counters250A, bins=100, range=(200, 300), color=\"green\", alpha=0.5)\n",
    "centers250A = 0.5 * (binedges250A[1:] + binedges250A[:-1])\n",
    "y250A = 400 * Normal(centers250A, 250, np.sqrt(250))\n",
    "xbar250A = np.zeros(2)\n",
    "ybar250A = np.zeros(2)\n",
    "xbar250A[0] = 250 - np.sqrt(250)\n",
    "xbar250A[1] = 250 + np.sqrt(250)\n",
    "ybar250A = 400 * Normal(xbar250A, 250, np.sqrt(250))\n",
    "plt.plot(xbar250A, ybar250A, color=\"red\", alpha=1.0, lw=5)\n",
    "plt.plot(centers250A, y250A, alpha=1.0, color=\"red\", lw=5)\n",
    "\n",
    "prob1percent250A = 250 + np.sqrt(250) * ndtri(0.01)\n",
    "prob99percent250A = 250 + np.sqrt(250) * ndtri(0.99)\n",
    "y1percent250A = 400 * Normal(prob1percent250A, 250, np.sqrt(250))\n",
    "y99percent250A = 400 * Normal(prob99percent250A, 250, np.sqrt(250))\n",
    "plt.annotate('One percent', xycoords=\"data\", textcoords='offset points', arrowprops=dict(facecolor='black', arrowstyle=\"->\"), xytext =(-50, 50), xy=(prob1percent250A, y1percent250A))\n",
    "plt.annotate('99 percent', xycoords=\"data\", textcoords='offset points', arrowprops=dict(facecolor='black', arrowstyle=\"->\"), xytext=(-10, 50), xy=(prob99percent250A, y99percent250A))\n",
    "plt.annotate('One Sigma', xycoords=\"data\", textcoords='offset points', xy=(xbar250A[0],ybar250A[0]), xytext=(-100,30), arrowprops=dict(facecolor='black', arrowstyle=\"->\"))\n",
    "plt.annotate('One Sigma', xycoords=\"data\", textcoords='offset points', xy=(xbar250A[1],ybar250A[1]), xytext=(40,30), arrowprops=dict(facecolor='black', arrowstyle=\"->\"))\n",
    "plt.title(\"250 Events Counted 400 times. Another Seed\", backgroundcolor=\"white\")\n",
    "save(f'hc-random-data{3}.png')\n",
    "StopWatch.stop(\"plot-event-250-400\")\n",
    "StopWatch.progress(50)"
   ],
   "metadata": {
    "collapsed": false,
    "pycharm": {
     "name": "#%%\n"
    }
   }
  },
  {
   "cell_type": "markdown",
   "source": [
    "## Part 4 Different Seeds counting 250 events 400 times\n",
    "\n",
    "The above experiment is repeated with 250 events, each event repeating 400. It is performed with 2 different seeds for random numbers. The number of bins is decreased to 20."
   ],
   "metadata": {
    "collapsed": false,
    "pycharm": {
     "name": "#%% md\n"
    }
   }
  },
  {
   "cell_type": "code",
   "execution_count": null,
   "outputs": [],
   "source": [
    "# First set of random numbers\n",
    "StopWatch.start(\"2seeds-250-400\")\n",
    "Events250C = np.random.rand(100000)\n",
    "Counters250C = np.zeros(400)\n",
    "for value in Events250C:\n",
    "    Place = int(400 * value)\n",
    "    Counters250C[Place] +=1\n",
    "# Plot- The result of counting 250 events 400 times as well as the errors, one sigma, one percent, 99 percent. The\n",
    "# number of bins is decreased to 20. This is identical to plotting described above. Refer to the documentation of the\n",
    "# above section. Plot title is Count 250 Events 400 times Larger Bins\n",
    "plt.figure(\"Count 250 Events 400 times Larger Bins.\")\n",
    "Numcounts250C, binedges250C, patches = plt.hist(Counters250C, bins=20, range=(200,300), color=\"green\", alpha=0.5)\n",
    "centers250C = 0.5*(binedges250C[1:] + binedges250C[:-1])\n",
    "y250C = 2000 * Normal(centers250C, 250, np.sqrt(250))\n",
    "xbar250C = np.zeros(2)\n",
    "ybar250C = np.zeros(2)\n",
    "xbar250C[0] = 250 - np.sqrt(250)\n",
    "xbar250C[1] = 250 + np.sqrt(250)\n",
    "ybar250C = 2000*Normal(xbar250C, 250, np.sqrt(250))\n",
    "plt.plot(xbar250C, ybar250C, color=\"red\", alpha=1.0, lw=5)\n",
    "plt.plot(centers250C, y250C, alpha=1.0, color=\"red\", lw=5)\n",
    "\n",
    "prob1percent250C = 250 + np.sqrt(250) * ndtri(0.01)\n",
    "prob99percent250C = 250 + np.sqrt(250) * ndtri(0.99)\n",
    "y1percent250C = 2000 * Normal(prob1percent250C, 250, np.sqrt(250))\n",
    "y99percent250C = 2000 * Normal(prob99percent250C, 250, np.sqrt(250))\n",
    "plt.annotate('One percent', xycoords=\"data\", textcoords='offset points', arrowprops=dict(facecolor='black', arrowstyle=\"->\"), xytext=(-50, 50), xy=(prob1percent250C, y1percent250C))\n",
    "plt.annotate('99 percent', xycoords=\"data\", textcoords='offset points', arrowprops=dict(facecolor='black', arrowstyle=\"->\"), xytext=(-10, 50), xy=(prob99percent250C, y99percent250C))\n",
    "plt.annotate('One Sigma', xycoords=\"data\", textcoords='offset points', xy=(xbar250C[0],ybar250C[0]), xytext=(-120,30), arrowprops=dict(facecolor='black', arrowstyle=\"->\"))\n",
    "plt.annotate('One Sigma', xycoords=\"data\", textcoords='offset points', xy=(xbar250C[1],ybar250C[1]), xytext=(30,30), arrowprops=dict(facecolor='black', arrowstyle=\"->\"))\n",
    "plt.title(\"250 Events Counted 400 times. Larger Bins(5).\", backgroundcolor=\"white\")\n",
    "save(\"2seeds-250-400\")\n",
    "\n",
    "# second set of random numbers\n",
    "Events250C = np.random.rand(100000)\n",
    "Counters250C = np.zeros(400)\n",
    "for value in Events250C:\n",
    "    Place = int(400 * value)\n",
    "    Counters250C[Place] +=1\n",
    "\n",
    "# Plot- The result of counting 250 events 400 times as well as the errors, one sigma, one percent, 99 percent with\n",
    "# separate seed. The number of bins is decreased to 20 The number of bins is decreased to 20. This is identical to\n",
    "# plotting described above. Refer to the documentation of the above section. Plot title is Count 250 Events 400 times\n",
    "# Larger Bins. Another Seed\n",
    "StopWatch.start(\"data-plot\")\n",
    "plt.figure(\"Count 250 Events 400 times Larger Bins. Another Seed\")\n",
    "Numcounts250C, binedges250C, patches=plt.hist(Counters250C, bins=20, range=(200,300), color=\"green\", alpha=0.5)\n",
    "centers250C = 0.5*(binedges250C[1:] + binedges250C[:-1])\n",
    "y250C = 2000 * Normal(centers250C, 250, np.sqrt(250))\n",
    "xbar250C = np.zeros(2)\n",
    "ybar250C = np.zeros(2)\n",
    "xbar250C[0] = 250 - np.sqrt(250)\n",
    "xbar250C[1] = 250 + np.sqrt(250)\n",
    "ybar250C = 2000*Normal(xbar250C, 250, np.sqrt(250))\n",
    "plt.plot(xbar250C, ybar250C, color=\"red\", alpha=1.0, lw=5)\n",
    "plt.plot(centers250C, y250C, alpha=1.0, color=\"red\", lw=5)\n",
    "\n",
    "prob1percent250C = 250 + np.sqrt(250) * ndtri(0.01)\n",
    "prob99percent250C = 250 + np.sqrt(250) * ndtri(0.99)\n",
    "y1percent250C = 2000*Normal(prob1percent250C, 250, np.sqrt(250))\n",
    "y99percent250C = 2000*Normal(prob99percent250C, 250, np.sqrt(250))\n",
    "plt.annotate('One percent', xycoords=\"data\", textcoords='offset points', arrowprops=dict(facecolor='black', arrowstyle=\"->\"), xytext =(-50, 50), xy=(prob1percent250C, y1percent250C))\n",
    "plt.annotate('99 percent', xycoords=\"data\", textcoords='offset points', arrowprops=dict(facecolor='black', arrowstyle=\"->\"), xytext =(-10, 50), xy=(prob99percent250C, y99percent250C))\n",
    "plt.annotate('One Sigma', xycoords=\"data\", textcoords='offset points', xy=(xbar250C[0],ybar250C[0]), xytext=(-120,30), arrowprops=dict(facecolor='black', arrowstyle=\"->\"))\n",
    "plt.annotate('One Sigma', xycoords=\"data\", textcoords='offset points', xy=(xbar250C[1],ybar250C[1]), xytext=(30,30), arrowprops=dict(facecolor='black', arrowstyle=\"->\"))\n",
    "plt.title(\"250 Events Counted 400 times. Larger Bins(5). Another Seed\", backgroundcolor=\"white\")\n",
    "save(f\"hc-random-data{4}.png\")\n",
    "StopWatch.stop(\"2seeds-250-400\")\n",
    "StopWatch.progress(75)"
   ],
   "metadata": {
    "collapsed": false,
    "pycharm": {
     "name": "#%%\n"
    }
   }
  },
  {
   "cell_type": "markdown",
   "source": [
    "## Part 5 counting 250 events 4000 times\n",
    "\n",
    "The above experiment is repeated with 250 events, each event repeating 4000. It is performed with 2 different seeds for random numbers. The number of bins is 100."
   ],
   "metadata": {
    "collapsed": false,
    "pycharm": {
     "name": "#%% md\n"
    }
   }
  },
  {
   "cell_type": "code",
   "execution_count": null,
   "outputs": [],
   "source": [
    "# Random set 1\n",
    "StopWatch.start(\"2seeds-250-4000\")\n",
    "Events250B = np.random.rand(1000000)\n",
    "Counters250B = np.zeros(4000)\n",
    "for value in Events250B:\n",
    "    Place = int(4000 * value)\n",
    "    Counters250B[Place] +=1\n",
    "\n",
    "# Plot- The result of counting 250 events 4000 times as well as the errors, one sigma, one percent, 99 percent with\n",
    "# separate seed.This is identical to plotting described above. Refer to the documentation of the above section.\n",
    "# Plot title is Count 250 Events 4000 times\n",
    "plt.figure(\"Count 250 Events 4000 times\")\n",
    "Numcounts250B, binedges250B, patches = plt.hist(Counters250B, bins=100, range=(200,300), color=\"green\", alpha=0.5)\n",
    "centers250B = 0.5*(binedges250B[1:] + binedges250B[:-1])\n",
    "y250B = 4000 * Normal(centers250B, 250, np.sqrt(250))\n",
    "xbar250B = np.zeros(2)\n",
    "ybar250B = np.zeros(2)\n",
    "xbar250B[0] = 250 - np.sqrt(250)\n",
    "xbar250B[1] = 250 + np.sqrt(250)\n",
    "ybar250B = 4000*Normal(xbar250B, 250, np.sqrt(250))\n",
    "plt.plot(xbar250B, ybar250B, color=\"red\", alpha=1.0, lw=5)\n",
    "plt.plot(centers250B, y250B, alpha=1.0, color=\"red\", lw=5)\n",
    "\n",
    "prob1percent250B = 250 + np.sqrt(250) * ndtri(0.01)\n",
    "prob99percent250B = 250 + np.sqrt(250) * ndtri(0.99)\n",
    "y1percent250B = 4000*Normal(prob1percent250B, 250, np.sqrt(250))\n",
    "y99percent250B = 4000*Normal(prob99percent250B, 250, np.sqrt(250))\n",
    "plt.annotate('One percent', xycoords=\"data\", textcoords='offset points', arrowprops=dict(facecolor='black', arrowstyle=\"->\"), xytext =(-50, 50), xy=(prob1percent250B, y1percent250B))\n",
    "plt.annotate('99 percent', xycoords=\"data\", textcoords='offset points', arrowprops=dict(facecolor='black', arrowstyle=\"->\"), xytext =(-10, 50), xy=(prob99percent250B, y99percent250B))\n",
    "plt.annotate('One Sigma', xycoords=\"data\", textcoords='offset points', xy=(xbar250B[0],ybar250B[0]), xytext=(-120,30), arrowprops=dict(facecolor='black', arrowstyle=\"->\"))\n",
    "plt.annotate('One Sigma', xycoords=\"data\", textcoords='offset points', xy=(xbar250B[1],ybar250B[1]), xytext=(30,30), arrowprops=dict(facecolor='black', arrowstyle=\"->\"))\n",
    "plt.title(\"250 Events Counted 4000 times.\", backgroundcolor=\"white\")\n",
    "\n",
    "# Second random set\n",
    "Events250B=np.random.rand(1000000)\n",
    "Counters250B=np.zeros(4000)\n",
    "for value in Events250B:\n",
    "    Place=int(4000 * value)\n",
    "    Counters250B[Place] +=1\n",
    "\n",
    "# Plot- The result of counting 250 events 4000 times as well as the errors, one sigma, one percent, 99 percent with\n",
    "# separate seed. This is identical to plotting described above. Refer to the documentation of the above section\n",
    "# Plot title is Count 250 Events 4000 times Another Seed\n",
    "plt.figure(\"Count 250 Events 4000 times Another Seed\")\n",
    "Numcounts250B, binedges250B, patches=plt.hist(Counters250B, bins=100, range=(200,300), color=\"green\", alpha=0.5)\n",
    "centers250B=0.5*(binedges250B[1:] + binedges250B[:-1])\n",
    "y250B=4000 * Normal(centers250B, 250, np.sqrt(250))\n",
    "xbar250B=np.zeros(2)\n",
    "ybar250B=np.zeros(2)\n",
    "xbar250B[0]=250 - np.sqrt(250)\n",
    "xbar250B[1]=250 + np.sqrt(250)\n",
    "ybar250B=4000*Normal(xbar250B, 250, np.sqrt(250))\n",
    "plt.plot(xbar250B, ybar250B, color=\"red\", alpha=1.0, lw=5)\n",
    "plt.plot(centers250B, y250B, alpha=1.0, color=\"red\", lw=5)\n",
    "\n",
    "prob1percent250B = 250 + np.sqrt(250) * ndtri(0.01)\n",
    "prob99percent250B = 250 + np.sqrt(250) * ndtri(0.99)\n",
    "y1percent250B = 4000*Normal(prob1percent250B, 250, np.sqrt(250))\n",
    "y99percent250B = 4000*Normal(prob99percent250B, 250, np.sqrt(250))\n",
    "plt.annotate('One percent', xycoords=\"data\", textcoords='offset points', arrowprops=dict(facecolor='black', arrowstyle=\"->\"), xytext =(-50, 50), xy=(prob1percent250B, y1percent250B))\n",
    "plt.annotate('99 percent', xycoords=\"data\", textcoords='offset points', arrowprops=dict(facecolor='black', arrowstyle=\"->\"), xytext =(-10, 50), xy=(prob99percent250B, y99percent250B))\n",
    "plt.annotate('One Sigma', xycoords=\"data\", textcoords='offset points', xy=(xbar250B[0],ybar250B[0]), xytext=(-120,30), arrowprops=dict(facecolor='black', arrowstyle=\"->\"))\n",
    "plt.annotate('One Sigma', xycoords=\"data\", textcoords='offset points', xy=(xbar250B[1],ybar250B[1]), xytext=(30,30), arrowprops=dict(facecolor='black', arrowstyle=\"->\"))\n",
    "plt.title(\"250 Events Counted 4000 times. Another Seed\", backgroundcolor=\"white\")\n",
    "# For Agg backen\n",
    "save(f\"hc-random-data{5}\")\n",
    "StopWatch.start(\"2seeds-250-4000\")\n",
    "StopWatch.stop(\"total\")\n",
    "StopWatch.progress(100)\n",
    "StopWatch.benchmark()"
   ],
   "metadata": {
    "collapsed": false,
    "pycharm": {
     "name": "#%%\n"
    }
   }
  },
  {
   "cell_type": "code",
   "execution_count": null,
   "outputs": [],
   "source": [],
   "metadata": {
    "collapsed": false,
    "pycharm": {
     "name": "#%%\n"
    }
   }
  }
 ]
}