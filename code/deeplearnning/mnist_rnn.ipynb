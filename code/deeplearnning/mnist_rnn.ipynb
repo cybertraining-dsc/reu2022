{
 "nbformat": 4,
 "nbformat_minor": 0,
 "metadata": {
  "colab": {
   "name": "mnist-rnn.ipynb",
   "provenance": []
  },
  "kernelspec": {
   "name": "python3",
   "display_name": "Python 3"
  }
 },
 "cells": [
  {
   "cell_type": "markdown",
   "metadata": {
    "id": "4kyB8MUKn7Vh",
    "pycharm": {
     "name": "#%% md\n"
    }
   },
   "source": [
    "# MNIST with Recurrent Neural Networks\n",
    "This program runs in about 46.033 seconds (Windows 11, i7, 16 GB)"
   ]
  },
  {
   "cell_type": "markdown",
   "metadata": {
    "id": "YyFM4icCoAaX",
    "pycharm": {
     "name": "#%% md\n"
    }
   },
   "source": [
    "## Prerequisites\n",
    "\n",
    "Install the following packages"
   ]
  },
  {
   "cell_type": "code",
   "metadata": {
    "colab": {
     "base_uri": "https://localhost:8080/"
    },
    "id": "u63awVMPoD7Y",
    "outputId": "ca3297ad-339c-4483-afdc-bff00b9dea1b",
    "pycharm": {
     "name": "#%%\n"
    }
   },
   "source": [
    "try:\n",
    "    from cloudmesh.common.StopWatch import StopWatch\n",
    "except:  # noqa: E722\n",
    "    ! pip install cloudmesh-common\n",
    "    from cloudmesh.common.StopWatch import StopWatch"
   ],
   "execution_count": 1,
   "outputs": []
  },
  {
   "cell_type": "markdown",
   "metadata": {
    "id": "RlBJ-XuWopPh",
    "pycharm": {
     "name": "#%% md\n"
    }
   },
   "source": [
    "## Import Libraries"
   ]
  },
  {
   "cell_type": "code",
   "metadata": {
    "id": "RylyDeO2oC4m",
    "pycharm": {
     "name": "#%%\n"
    }
   },
   "source": [
    "StopWatch.start(\"total\")\n",
    "StopWatch.start(\"import\")\n",
    "StopWatch.progress(0)\n",
    "\n",
    "import numpy as np    # noqa: E402\n",
    "# import tensorflow as tf\n",
    "from keras.models import Sequential    # noqa: E402\n",
    "from keras.layers import Dense, Activation, SimpleRNN    # noqa: E402\n",
    "from keras.utils import to_categorical, plot_model    # noqa: E402\n",
    "from keras.datasets import mnist    # noqa: E402\n",
    "from cloudmesh.common.StopWatch import StopWatch    # noqa: E402\n",
    "\n",
    "StopWatch.stop(\"import\")\n",
    "StopWatch.progress(7)"
   ],
   "execution_count": 2,
   "outputs": [
    {
     "name": "stdout",
     "output_type": "stream",
     "text": [
      "# cloudmesh status=running progress=0 pid=20152\n",
      "# cloudmesh status=running progress=1 pid=20152\n"
     ]
    }
   ]
  },
  {
   "cell_type": "markdown",
   "metadata": {
    "id": "e2lUNBJxore4",
    "pycharm": {
     "name": "#%% md\n"
    }
   },
   "source": [
    "## Download Data and Pre-Process"
   ]
  },
  {
   "cell_type": "code",
   "metadata": {
    "id": "3X9sLwfUocZ6",
    "pycharm": {
     "name": "#%%\n"
    }
   },
   "source": [
    "StopWatch.start(\"data-load\")\n",
    "(x_train, y_train), (x_test, y_test) = mnist.load_data()\n",
    "StopWatch.stop(\"data-load\")\n",
    "StopWatch.progress(8)\n",
    "\n",
    "StopWatch.start(\"data-pre-process\")\n",
    "num_labels = len(np.unique(y_train))\n",
    "\n",
    "\n",
    "y_train = to_categorical(y_train)\n",
    "y_test = to_categorical(y_test)\n",
    "\n",
    "\n",
    "image_size = x_train.shape[1]\n",
    "x_train = np.reshape(x_train,[-1, image_size, image_size])\n",
    "x_test = np.reshape(x_test,[-1, image_size, image_size])\n",
    "x_train = x_train.astype('float32') / 255\n",
    "x_test = x_test.astype('float32') / 255\n",
    "StopWatch.stop(\"data-pre-process\")\n",
    "StopWatch.progress(9)\n",
    "\n",
    "input_shape = (image_size, image_size)\n",
    "batch_size = 128\n",
    "units = 256\n",
    "dropout = 0.2"
   ],
   "execution_count": 3,
   "outputs": [
    {
     "name": "stdout",
     "output_type": "stream",
     "text": [
      "# cloudmesh status=running progress=2 pid=20152\n",
      "# cloudmesh status=running progress=3 pid=20152\n"
     ]
    }
   ]
  },
  {
   "cell_type": "markdown",
   "metadata": {
    "id": "O8DwuhcaowYQ",
    "pycharm": {
     "name": "#%% md\n"
    }
   },
   "source": [
    "## Define Model"
   ]
  },
  {
   "cell_type": "code",
   "metadata": {
    "colab": {
     "base_uri": "https://localhost:8080/"
    },
    "id": "O4tidxRFofEj",
    "outputId": "8abfcea0-3cc5-44f5-d462-3cf37f09d888",
    "pycharm": {
     "name": "#%%\n"
    }
   },
   "source": [
    "StopWatch.start(\"compile\")\n",
    "model = Sequential()\n",
    "model.add(SimpleRNN(units=units,\n",
    "                    dropout=dropout,\n",
    "                    input_shape=input_shape, return_sequences=True))\n",
    "model.add(SimpleRNN(units=units,\n",
    "                    dropout=dropout,\n",
    "                    return_sequences=True))\n",
    "model.add(SimpleRNN(units=units,\n",
    "                    dropout=dropout,\n",
    "                    return_sequences=False))\n",
    "model.add(Dense(num_labels))\n",
    "model.add(Activation('softmax'))\n",
    "model.summary()\n",
    "plot_model(model, to_file='rnn-mnist.png', show_shapes=True)\n",
    "\n",
    "\n",
    "model.compile(loss='categorical_crossentropy',\n",
    "              optimizer='sgd',\n",
    "              metrics=['accuracy'])\n",
    "StopWatch.stop(\"compile\")\n",
    "StopWatch.progress(10)"
   ],
   "execution_count": 4,
   "outputs": [
    {
     "name": "stdout",
     "output_type": "stream",
     "text": [
      "Model: \"sequential\"\n",
      "_________________________________________________________________\n",
      " Layer (type)                Output Shape              Param #   \n",
      "=================================================================\n",
      " simple_rnn (SimpleRNN)      (None, 28, 256)           72960     \n",
      "                                                                 \n",
      " simple_rnn_1 (SimpleRNN)    (None, 28, 256)           131328    \n",
      "                                                                 \n",
      " simple_rnn_2 (SimpleRNN)    (None, 256)               131328    \n",
      "                                                                 \n",
      " dense (Dense)               (None, 10)                2570      \n",
      "                                                                 \n",
      " activation (Activation)     (None, 10)                0         \n",
      "                                                                 \n",
      "=================================================================\n",
      "Total params: 338,186\n",
      "Trainable params: 338,186\n",
      "Non-trainable params: 0\n",
      "_________________________________________________________________\n",
      "# cloudmesh status=running progress=4 pid=20152\n"
     ]
    }
   ]
  },
  {
   "cell_type": "markdown",
   "metadata": {
    "id": "ZxW3sG8WoyYC",
    "pycharm": {
     "name": "#%% md\n"
    }
   },
   "source": [
    "## Train"
   ]
  },
  {
   "cell_type": "code",
   "metadata": {
    "colab": {
     "base_uri": "https://localhost:8080/"
    },
    "id": "SjT5wffFoiEg",
    "outputId": "9474f86a-21c8-4cb0-8299-1743ae48b075",
    "pycharm": {
     "name": "#%%\n"
    }
   },
   "source": [
    "StopWatch.start(\"train\")\n",
    "model.fit(x_train, y_train, epochs=1, batch_size=batch_size)\n",
    "StopWatch.stop(\"train\")\n",
    "StopWatch.progress(95)"
   ],
   "execution_count": 5,
   "outputs": [
    {
     "name": "stdout",
     "output_type": "stream",
     "text": [
      "469/469 [==============================] - 40s 81ms/step - loss: 0.5971 - accuracy: 0.8170\n",
      "# cloudmesh status=running progress=99 pid=20152\n"
     ]
    }
   ]
  },
  {
   "cell_type": "markdown",
   "metadata": {
    "id": "E3jjqPJqoljt",
    "pycharm": {
     "name": "#%% md\n"
    }
   },
   "source": [
    "## Test"
   ]
  },
  {
   "cell_type": "code",
   "metadata": {
    "colab": {
     "base_uri": "https://localhost:8080/"
    },
    "id": "2B1-bFcvokdd",
    "outputId": "6aff2c20-5e3c-4b1b-a052-a215d7efe356",
    "pycharm": {
     "name": "#%%\n"
    }
   },
   "source": [
    "StopWatch.start(\"evaluate\")\n",
    "loss, acc = model.evaluate(x_test, y_test, batch_size=batch_size)\n",
    "print(\"\\nTest accuracy: %.1f%%\" % (100.0 * acc))\n",
    "StopWatch.stop(\"evaluate\")\n",
    "\n",
    "StopWatch.stop(\"total\")\n",
    "StopWatch.benchmark()\n",
    "StopWatch.progress(100)"
   ],
   "execution_count": 6,
   "outputs": [
    {
     "name": "stdout",
     "output_type": "stream",
     "text": [
      "79/79 [==============================] - 2s 26ms/step - loss: 0.2430 - accuracy: 0.9261\n",
      "\n",
      "Test accuracy: 92.6%\n",
      "\n",
      "+------------------+----------------------------------------------------------------------------------+\n",
      "| Attribute        | Value                                                                            |\n",
      "|------------------+----------------------------------------------------------------------------------|\n",
      "| cpu              |                                                                                  |\n",
      "| cpu_cores        | 4                                                                                |\n",
      "| cpu_count        | 8                                                                                |\n",
      "| cpu_threads      | 8                                                                                |\n",
      "| date             | 2022-07-14 17:32:39.529391                                                       |\n",
      "| frequency        | scpufreq(current=2803.0, min=0.0, max=2803.0)                                    |\n",
      "| mem.available    | 5.1 GiB                                                                          |\n",
      "| mem.free         | 5.1 GiB                                                                          |\n",
      "| mem.percent      | 67.9 %                                                                           |\n",
      "| mem.total        | 15.8 GiB                                                                         |\n",
      "| mem.used         | 10.7 GiB                                                                         |\n",
      "| platform.version | ('10', '10.0.22000', 'SP0', 'Multiprocessor Free')                               |\n",
      "| python           | 3.10.5 (tags/v3.10.5:f377153, Jun  6 2022, 16:14:13) [MSC v.1929 64 bit (AMD64)] |\n",
      "| python.pip       | 22.1.2                                                                           |\n",
      "| python.version   | 3.10.5                                                                           |\n",
      "| sys.platform     | win32                                                                            |\n",
      "| uname.machine    | AMD64                                                                            |\n",
      "| uname.node       | LAPTOP-DK9141G4                                                                  |\n",
      "| uname.processor  | Intel64 Family 6 Model 140 Stepping 1, GenuineIntel                              |\n",
      "| uname.release    | 10                                                                               |\n",
      "| uname.system     | Windows                                                                          |\n",
      "| uname.version    | 10.0.22000                                                                       |\n",
      "| user             | abeck                                                                            |\n",
      "+------------------+----------------------------------------------------------------------------------+\n",
      "\n",
      "+------------------+----------+--------+--------+---------------------+-------+-------+-----------------+--------+---------+----------------------------------------------------+\n",
      "| Name             | Status   |   Time |    Sum | Start               | tag   | msg   | Node            | User   | OS      | Version                                            |\n",
      "|------------------+----------+--------+--------+---------------------+-------+-------+-----------------+--------+---------+----------------------------------------------------|\n",
      "| total            | ok       | 46.033 | 46.033 | 2022-07-14 17:31:53 |       |       | LAPTOP-DK9141G4 | abeck  | Windows | ('10', '10.0.22000', 'SP0', 'Multiprocessor Free') |\n",
      "| import           | ok       |  3.118 |  3.118 | 2022-07-14 17:31:53 |       |       | LAPTOP-DK9141G4 | abeck  | Windows | ('10', '10.0.22000', 'SP0', 'Multiprocessor Free') |\n",
      "| data-load        | ok       |  0.164 |  0.164 | 2022-07-14 17:31:56 |       |       | LAPTOP-DK9141G4 | abeck  | Windows | ('10', '10.0.22000', 'SP0', 'Multiprocessor Free') |\n",
      "| data-pre-process | ok       |  0.162 |  0.162 | 2022-07-14 17:31:56 |       |       | LAPTOP-DK9141G4 | abeck  | Windows | ('10', '10.0.22000', 'SP0', 'Multiprocessor Free') |\n",
      "| compile          | ok       |  0.404 |  0.404 | 2022-07-14 17:31:56 |       |       | LAPTOP-DK9141G4 | abeck  | Windows | ('10', '10.0.22000', 'SP0', 'Multiprocessor Free') |\n",
      "| train            | ok       | 39.708 | 39.708 | 2022-07-14 17:31:57 |       |       | LAPTOP-DK9141G4 | abeck  | Windows | ('10', '10.0.22000', 'SP0', 'Multiprocessor Free') |\n",
      "| evaluate         | ok       |  2.365 |  2.365 | 2022-07-14 17:32:37 |       |       | LAPTOP-DK9141G4 | abeck  | Windows | ('10', '10.0.22000', 'SP0', 'Multiprocessor Free') |\n",
      "+------------------+----------+--------+--------+---------------------+-------+-------+-----------------+--------+---------+----------------------------------------------------+\n",
      "# csv,timer,status,time,sum,start,tag,msg,uname.node,user,uname.system,platform.version\n",
      "# csv,total,ok,46.033,46.033,2022-07-14 17:31:53,,None,LAPTOP-DK9141G4,abeck,Windows,('10', '10.0.22000', 'SP0', 'Multiprocessor Free')\n",
      "# csv,import,ok,3.118,3.118,2022-07-14 17:31:53,,None,LAPTOP-DK9141G4,abeck,Windows,('10', '10.0.22000', 'SP0', 'Multiprocessor Free')\n",
      "# csv,data-load,ok,0.164,0.164,2022-07-14 17:31:56,,None,LAPTOP-DK9141G4,abeck,Windows,('10', '10.0.22000', 'SP0', 'Multiprocessor Free')\n",
      "# csv,data-pre-process,ok,0.162,0.162,2022-07-14 17:31:56,,None,LAPTOP-DK9141G4,abeck,Windows,('10', '10.0.22000', 'SP0', 'Multiprocessor Free')\n",
      "# csv,compile,ok,0.404,0.404,2022-07-14 17:31:56,,None,LAPTOP-DK9141G4,abeck,Windows,('10', '10.0.22000', 'SP0', 'Multiprocessor Free')\n",
      "# csv,train,ok,39.708,39.708,2022-07-14 17:31:57,,None,LAPTOP-DK9141G4,abeck,Windows,('10', '10.0.22000', 'SP0', 'Multiprocessor Free')\n",
      "# csv,evaluate,ok,2.365,2.365,2022-07-14 17:32:37,,None,LAPTOP-DK9141G4,abeck,Windows,('10', '10.0.22000', 'SP0', 'Multiprocessor Free')\n",
      "\n",
      "# cloudmesh status=running progress=100 pid=20152\n"
     ]
    }
   ]
  }
 ]
}