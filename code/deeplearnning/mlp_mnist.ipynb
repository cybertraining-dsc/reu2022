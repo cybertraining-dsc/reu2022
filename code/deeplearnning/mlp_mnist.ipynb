{
 "nbformat": 4,
 "nbformat_minor": 0,
 "metadata": {
  "colab": {
   "name": "mlp-mnist.ipynb",
   "provenance": [],
   "collapsed_sections": []
  },
  "kernelspec": {
   "name": "python3",
   "display_name": "Python 3"
  }
 },
 "cells": [
  {
   "cell_type": "markdown",
   "metadata": {
    "id": "8J3LuF3DTEd8",
    "pycharm": {
     "name": "#%% md\n"
    }
   },
   "source": [
    "# Multi-Layer Perceptron with MNIST\n",
    "\n",
    "\n",
    "This program runs in about 33.795 seconds (Windows 11, i7, 16 GB)"
   ]
  },
  {
   "cell_type": "markdown",
   "metadata": {
    "id": "tvHZtL7ETLDp",
    "pycharm": {
     "name": "#%% md\n"
    }
   },
   "source": [
    "## Pre-requisites\n",
    "\n",
    "Install the following Python packages\n",
    "\n",
    "1. cloudmesh-installer\n",
    "2. cloudmesh-common"
   ]
  },
  {
   "cell_type": "code",
   "metadata": {
    "id": "IE8l7YgQ_z2p",
    "colab": {
     "base_uri": "https://localhost:8080/"
    },
    "outputId": "2da8a3ef-6e20-4e56-d7b1-12dbe864d998",
    "pycharm": {
     "name": "#%%\n"
    }
   },
   "source": [
    "try:\n",
    "    from cloudmesh.common.StopWatch import StopWatch\n",
    "except:  # noqa: E722\n",
    "    ! pip install cloudmesh-common\n",
    "    from cloudmesh.common.StopWatch import StopWatch"
   ],
   "execution_count": 3,
   "outputs": []
  },
  {
   "cell_type": "markdown",
   "metadata": {
    "id": "XYe7k1hvTYB7",
    "pycharm": {
     "name": "#%% md\n"
    }
   },
   "source": [
    "## Sample MLP with Tensorflow Keras"
   ]
  },
  {
   "cell_type": "code",
   "metadata": {
    "id": "eu-7aFi0_u10",
    "colab": {
     "base_uri": "https://localhost:8080/"
    },
    "outputId": "31276960-8d54-4890-b5c0-83e07ca5aca3",
    "pycharm": {
     "name": "#%%\n"
    }
   },
   "source": [
    "StopWatch.start(\"total\")\n",
    "\n",
    "StopWatch.start(\"import\")\n",
    "import time    # noqa: E402\n",
    "\n",
    "import numpy as np    # noqa: E402\n",
    "from keras.models import Sequential    # noqa: E402\n",
    "from keras.layers import Dense, Activation, Dropout    # noqa: E402\n",
    "from keras.utils import to_categorical, plot_model    # noqa: E402\n",
    "from keras.datasets import mnist    # noqa: E402\n",
    "# import pydotplus\n",
    "# from keras.utils.vis_utils import model_to_dot\n",
    "# from keras.utils.vis_utils import pydot\n",
    "StopWatch.stop(\"import\")\n",
    "\n",
    "\n",
    "StopWatch.progress(0)\n",
    "\n",
    "StopWatch.start(\"data-load\")\n",
    "(x_train, y_train), (x_test, y_test) = mnist.load_data()\n",
    "StopWatch.stop(\"data-load\")\n",
    "StopWatch.progress(1)\n",
    "\n",
    "num_labels = len(np.unique(y_train))\n",
    "\n",
    "\n",
    "y_train = to_categorical(y_train)\n",
    "y_test = to_categorical(y_test)\n",
    "\n",
    "\n",
    "image_size = x_train.shape[1]\n",
    "input_size = image_size * image_size\n",
    "\n",
    "\n",
    "x_train = np.reshape(x_train, [-1, input_size])\n",
    "x_train = x_train.astype('float32') / 255\n",
    "x_test = np.reshape(x_test, [-1, input_size])\n",
    "x_test = x_test.astype('float32') / 255\n",
    "\n",
    "batch_size = 128\n",
    "hidden_units = 512\n",
    "dropout = 0.45\n",
    "\n",
    "model = Sequential()\n",
    "model.add(Dense(hidden_units, input_dim=input_size))\n",
    "model.add(Activation('relu'))\n",
    "model.add(Dropout(dropout))\n",
    "model.add(Dense(hidden_units))\n",
    "model.add(Activation('relu'))\n",
    "model.add(Dropout(dropout))\n",
    "model.add(Dense(hidden_units))\n",
    "model.add(Activation('relu'))\n",
    "model.add(Dropout(dropout))\n",
    "model.add(Dense(hidden_units))\n",
    "model.add(Activation('relu'))\n",
    "model.add(Dropout(dropout))\n",
    "model.add(Dense(num_labels))\n",
    "model.add(Activation('softmax'))\n",
    "model.summary()\n",
    "plot_model(model, to_file='images/mlp-mnist.png', show_shapes=True)\n",
    "\n",
    "StopWatch.progress(2)\n",
    "StopWatch.start(\"compile\")\n",
    "model.compile(loss='categorical_crossentropy',\n",
    "              optimizer='adam',\n",
    "              metrics=['accuracy'])\n",
    "StopWatch.stop(\"compile\")\n",
    "StopWatch.progress(3)\n",
    "StopWatch.start(\"train\")\n",
    "model.fit(x_train, y_train, epochs=5, batch_size=batch_size)\n",
    "StopWatch.stop(\"train\")\n",
    "\n",
    "StopWatch.progress(99)\n",
    "StopWatch.start(\"test\")\n",
    "loss, acc = model.evaluate(x_test, y_test, batch_size=batch_size)\n",
    "print(\"\\nTest accuracy: %.1f%%\" % (100.0 * acc))\n",
    "StopWatch.stop(\"test\")\n",
    "StopWatch.stop(\"total\")\n",
    "\n",
    "StopWatch.benchmark()\n",
    "StopWatch.progress(100)\n"
   ],
   "execution_count": 4,
   "outputs": [
    {
     "name": "stdout",
     "output_type": "stream",
     "text": [
      "# cloudmesh status=running progress=0 pid=15352\n",
      "# cloudmesh status=running progress=1 pid=15352\n",
      "Model: \"sequential_1\"\n",
      "_________________________________________________________________\n",
      " Layer (type)                Output Shape              Param #   \n",
      "=================================================================\n",
      " dense_5 (Dense)             (None, 512)               401920    \n",
      "                                                                 \n",
      " activation_5 (Activation)   (None, 512)               0         \n",
      "                                                                 \n",
      " dropout_4 (Dropout)         (None, 512)               0         \n",
      "                                                                 \n",
      " dense_6 (Dense)             (None, 512)               262656    \n",
      "                                                                 \n",
      " activation_6 (Activation)   (None, 512)               0         \n",
      "                                                                 \n",
      " dropout_5 (Dropout)         (None, 512)               0         \n",
      "                                                                 \n",
      " dense_7 (Dense)             (None, 512)               262656    \n",
      "                                                                 \n",
      " activation_7 (Activation)   (None, 512)               0         \n",
      "                                                                 \n",
      " dropout_6 (Dropout)         (None, 512)               0         \n",
      "                                                                 \n",
      " dense_8 (Dense)             (None, 512)               262656    \n",
      "                                                                 \n",
      " activation_8 (Activation)   (None, 512)               0         \n",
      "                                                                 \n",
      " dropout_7 (Dropout)         (None, 512)               0         \n",
      "                                                                 \n",
      " dense_9 (Dense)             (None, 10)                5130      \n",
      "                                                                 \n",
      " activation_9 (Activation)   (None, 10)                0         \n",
      "                                                                 \n",
      "=================================================================\n",
      "Total params: 1,195,018\n",
      "Trainable params: 1,195,018\n",
      "Non-trainable params: 0\n",
      "_________________________________________________________________\n",
      "# cloudmesh status=running progress=2 pid=15352\n",
      "# cloudmesh status=running progress=3 pid=15352\n",
      "Epoch 1/5\n",
      "469/469 [==============================] - 14s 28ms/step - loss: 0.4389 - accuracy: 0.8630\n",
      "Epoch 2/5\n",
      "469/469 [==============================] - 14s 29ms/step - loss: 0.1897 - accuracy: 0.9452\n",
      "Epoch 3/5\n",
      "469/469 [==============================] - 13s 27ms/step - loss: 0.1529 - accuracy: 0.9569\n",
      "Epoch 4/5\n",
      "469/469 [==============================] - 10s 21ms/step - loss: 0.1311 - accuracy: 0.9625\n",
      "Epoch 5/5\n",
      "469/469 [==============================] - 9s 20ms/step - loss: 0.1196 - accuracy: 0.9651\n",
      "# cloudmesh status=running progress=99 pid=15352\n",
      "79/79 [==============================] - 1s 8ms/step - loss: 0.0889 - accuracy: 0.9764\n",
      "\n",
      "Test accuracy: 97.6%\n",
      "\n",
      "+------------------+----------------------------------------------------------------------------------+\n",
      "| Attribute        | Value                                                                            |\n",
      "|------------------+----------------------------------------------------------------------------------|\n",
      "| cpu              |                                                                                  |\n",
      "| cpu_cores        | 4                                                                                |\n",
      "| cpu_count        | 8                                                                                |\n",
      "| cpu_threads      | 8                                                                                |\n",
      "| date             | 2022-07-15 17:42:10.970680                                                       |\n",
      "| frequency        | scpufreq(current=1298.0, min=0.0, max=1498.0)                                    |\n",
      "| mem.available    | 4.4 GiB                                                                          |\n",
      "| mem.free         | 4.4 GiB                                                                          |\n",
      "| mem.percent      | 72.0 %                                                                           |\n",
      "| mem.total        | 15.8 GiB                                                                         |\n",
      "| mem.used         | 11.4 GiB                                                                         |\n",
      "| platform.version | ('10', '10.0.19043', 'SP0', 'Multiprocessor Free')                               |\n",
      "| python           | 3.10.5 (tags/v3.10.5:f377153, Jun  6 2022, 16:14:13) [MSC v.1929 64 bit (AMD64)] |\n",
      "| python.pip       | 22.1.2                                                                           |\n",
      "| python.version   | 3.10.5                                                                           |\n",
      "| sys.platform     | win32                                                                            |\n",
      "| uname.machine    | AMD64                                                                            |\n",
      "| uname.node       | LAPTOP-EONML8CQ                                                                  |\n",
      "| uname.processor  | Intel64 Family 6 Model 126 Stepping 5, GenuineIntel                              |\n",
      "| uname.release    | 10                                                                               |\n",
      "| uname.system     | Windows                                                                          |\n",
      "| uname.version    | 10.0.19043                                                                       |\n",
      "| user             | alibo                                                                            |\n",
      "+------------------+----------------------------------------------------------------------------------+\n",
      "\n",
      "+-----------+----------+--------+---------+---------------------+-------+-------+-----------------+--------+---------+----------------------------------------------------+\n",
      "| Name      | Status   |   Time |     Sum | Start               | tag   | msg   | Node            | User   | OS      | Version                                            |\n",
      "|-----------+----------+--------+---------+---------------------+-------+-------+-----------------+--------+---------+----------------------------------------------------|\n",
      "| total     | ok       | 62.01  | 132.771 | 2022-07-15 17:41:08 |       |       | LAPTOP-EONML8CQ | alibo  | Windows | ('10', '10.0.19043', 'SP0', 'Multiprocessor Free') |\n",
      "| import    | ok       |  0     |   5.305 | 2022-07-15 17:41:08 |       |       | LAPTOP-EONML8CQ | alibo  | Windows | ('10', '10.0.19043', 'SP0', 'Multiprocessor Free') |\n",
      "| data-load | ok       |  0.457 |   0.722 | 2022-07-15 17:41:08 |       |       | LAPTOP-EONML8CQ | alibo  | Windows | ('10', '10.0.19043', 'SP0', 'Multiprocessor Free') |\n",
      "| compile   | ok       |  0.012 |   0.021 | 2022-07-15 17:41:10 |       |       | LAPTOP-EONML8CQ | alibo  | Windows | ('10', '10.0.19043', 'SP0', 'Multiprocessor Free') |\n",
      "| train     | ok       | 59.689 | 121.279 | 2022-07-15 17:41:10 |       |       | LAPTOP-EONML8CQ | alibo  | Windows | ('10', '10.0.19043', 'SP0', 'Multiprocessor Free') |\n",
      "| test      | ok       |  0.941 |   2.835 | 2022-07-15 17:42:10 |       |       | LAPTOP-EONML8CQ | alibo  | Windows | ('10', '10.0.19043', 'SP0', 'Multiprocessor Free') |\n",
      "+-----------+----------+--------+---------+---------------------+-------+-------+-----------------+--------+---------+----------------------------------------------------+\n",
      "# csv,timer,status,time,sum,start,tag,msg,uname.node,user,uname.system,platform.version\n",
      "# csv,total,ok,62.01,132.771,2022-07-15 17:41:08,,None,LAPTOP-EONML8CQ,alibo,Windows,('10', '10.0.19043', 'SP0', 'Multiprocessor Free')\n",
      "# csv,import,ok,0.0,5.305,2022-07-15 17:41:08,,None,LAPTOP-EONML8CQ,alibo,Windows,('10', '10.0.19043', 'SP0', 'Multiprocessor Free')\n",
      "# csv,data-load,ok,0.457,0.722,2022-07-15 17:41:08,,None,LAPTOP-EONML8CQ,alibo,Windows,('10', '10.0.19043', 'SP0', 'Multiprocessor Free')\n",
      "# csv,compile,ok,0.012,0.021,2022-07-15 17:41:10,,None,LAPTOP-EONML8CQ,alibo,Windows,('10', '10.0.19043', 'SP0', 'Multiprocessor Free')\n",
      "# csv,train,ok,59.689,121.279,2022-07-15 17:41:10,,None,LAPTOP-EONML8CQ,alibo,Windows,('10', '10.0.19043', 'SP0', 'Multiprocessor Free')\n",
      "# csv,test,ok,0.941,2.835,2022-07-15 17:42:10,,None,LAPTOP-EONML8CQ,alibo,Windows,('10', '10.0.19043', 'SP0', 'Multiprocessor Free')\n",
      "\n",
      "# cloudmesh status=running progress=100 pid=15352\n"
     ]
    }
   ]
  },
  {
   "cell_type": "markdown",
   "metadata": {
    "id": "rkD7IrsbCRIJ",
    "pycharm": {
     "name": "#%% md\n"
    }
   },
   "source": [
    "# REFERENCES\n",
    "\n",
    "1. [Adavnced Keras Deep Learning Book](https://github.com/PacktPublishing/Advanced-Deep-Learning-with-Keras)"
   ]
  }
 ]
}