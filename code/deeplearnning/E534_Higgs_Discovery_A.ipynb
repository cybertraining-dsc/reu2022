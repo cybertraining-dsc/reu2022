{
 "nbformat": 4,
 "nbformat_minor": 0,
 "metadata": {
  "colab": {
   "name": "E534-Higgs_Discovery-A.ipynb",
   "provenance": []
  },
  "kernelspec": {
   "name": "python3",
   "display_name": "Python 3"
  }
 },
 "cells": [
  {
   "cell_type": "markdown",
   "source": [
    "# A: Studying Higgs Boson Analysis. Signal and Background\n",
    "\n",
    "Sloping background as in real experiment.\n",
    "This program runs in about 4.946 seconds (Windows 10, 16 GB)"
   ],
   "metadata": {
    "collapsed": false,
    "pycharm": {
     "name": "#%% md\n"
    }
   }
  },
  {
   "cell_type": "markdown",
   "source": [
    "## Part 1 The Background\n",
    "\n",
    "This file contains the code for the unit \"The Elusive Mr. Higgs\".It explains the experiment with the Higgs signal\n",
    "and background signal under different settings. In this part we look at the Background."
   ],
   "metadata": {
    "collapsed": false,
    "pycharm": {
     "name": "#%% md\n"
    }
   }
  },
  {
   "cell_type": "code",
   "execution_count": 1,
   "outputs": [],
   "source": [
    "try:\n",
    "    from cloudmesh.common.StopWatch import StopWatch\n",
    "except:  # noqa: E722\n",
    "    ! pip install cloudmesh-common\n",
    "    from cloudmesh.common.StopWatch import StopWatch"
   ],
   "metadata": {
    "collapsed": false,
    "pycharm": {
     "name": "#%%\n"
    }
   }
  },
  {
   "cell_type": "code",
   "execution_count": 2,
   "outputs": [
    {
     "name": "stdout",
     "output_type": "stream",
     "text": [
      "# cloudmesh status=running progress=0 pid=8004\n"
     ]
    }
   ],
   "source": [
    "StopWatch.start(\"total\")\n",
    "StopWatch.progress(0)\n",
    "StopWatch.start(\"import\")\n",
    "import numpy as np    # noqa: E402\n",
    "import matplotlib.pyplot as plt    # noqa: E402\n",
    "import pylab    # noqa: E402\n",
    "import os\n",
    "StopWatch.stop(\"import\")"
   ],
   "metadata": {
    "collapsed": false,
    "pycharm": {
     "name": "#%%\n"
    }
   }
  },
  {
   "cell_type": "code",
   "execution_count": 3,
   "outputs": [],
   "source": [
    "def save(file):\n",
    "  name = os.path.basename(file).replace(\".py\", \"\")\n",
    "  cwd = os.getcwd()\n",
    "  plt.savefig(f'{cwd}/images/{name}.png',dpi=300)\n",
    "  plt.savefig(f'{cwd}/images/{name}.pdf')\n",
    "  plt.savefig(f'{cwd}/images/{name}.svg')\n",
    "  plt.show()"
   ],
   "metadata": {
    "collapsed": false,
    "pycharm": {
     "name": "#%%\n"
    }
   }
  },
  {
   "cell_type": "code",
   "execution_count": null,
   "outputs": [],
   "source": [
    "# Create the background for the setup and plot the same\n",
    "n = 42000\n",
    "\n",
    "StopWatch.start(f\"create-randomdata-{n}\")\n",
    "\n",
    "# A random array have 42000 elements according to the uniform distribution.\n",
    "# The numbers generated will between 0 and 1\n",
    "testrand = np.random.rand(n)\n",
    "\n",
    "# Generating a uniform background(base) between a 110 GeV and 140 GeV\n",
    "Base = 110 + 30 * np.random.rand(n)\n",
    "\n",
    "# To create a boolean index which has True for 100% samples at 110GeV;\n",
    "# This percentage reduces linearly as the value for background increases and\n",
    "# has ture for 50% samples as 140 GeV\n",
    "index = (1.0 - 0.5 * (Base-110)/30) > testrand\n",
    "\n",
    "# This generates a sloping background. Here the values in base corresponding the\n",
    "# True values in \"index\" are retained rest are discarded. So this has a\n",
    "# distribution as described above\n",
    "sloping = Base[index]\n",
    "StopWatch.stop(f\"create-randomdata-{n}\")\n",
    "\n",
    "# Plotting - Sloping Background with title Sloping\n",
    "\n",
    "StopWatch.start(\"plot-sloping\")\n",
    "plt.figure(\"Sloping\")\n",
    "plt.hist(sloping, bins=15, range=(110, 140), color=\"green\")\n",
    "plt.title(\"Sloping Background from 42000 events\", backgroundcolor=\"white\")\n",
    "save(\"sloping\")\n",
    "StopWatch.stop(\"plot-sloping\")"
   ],
   "metadata": {
    "collapsed": false,
    "pycharm": {
     "name": "#%%\n"
    }
   }
  },
  {
   "cell_type": "markdown",
   "source": [
    "## Part 2 The Higgs Signal\n",
    "\n",
    "Create a Gaussian Higgs signal(Gaussian signal is what we will get due to error in measurement). The width\n",
    "of the Gaussian indicated the extent of measurement error. This signal has 300 samples.\n",
    "We compare two histogram choices -- 2 GeV or 0.5 GeV  -- each for two measurement errors 0.5 and 2 GeV.\n",
    "In the next part Part 3, we combine signal and background"
   ],
   "metadata": {
    "collapsed": false,
    "pycharm": {
     "name": "#%% md\n"
    }
   }
  },
  {
   "cell_type": "code",
   "execution_count": 4,
   "outputs": [
    {
     "ename": "FileNotFoundError",
     "evalue": "[Errno 2] No such file or directory: '/filepath/higgsalone-1.png'",
     "output_type": "error",
     "traceback": [
      "\u001B[1;31m---------------------------------------------------------------------------\u001B[0m",
      "\u001B[1;31mFileNotFoundError\u001B[0m                         Traceback (most recent call last)",
      "Input \u001B[1;32mIn [4]\u001B[0m, in \u001B[0;36m<cell line: 15>\u001B[1;34m()\u001B[0m\n\u001B[0;32m     13\u001B[0m plt\u001B[38;5;241m.\u001B[39mhist(narrowGauss, bins\u001B[38;5;241m=\u001B[39m\u001B[38;5;241m15\u001B[39m, \u001B[38;5;28mrange\u001B[39m\u001B[38;5;241m=\u001B[39m(\u001B[38;5;241m110\u001B[39m, \u001B[38;5;241m140\u001B[39m), color\u001B[38;5;241m=\u001B[39m\u001B[38;5;124m\"\u001B[39m\u001B[38;5;124mblack\u001B[39m\u001B[38;5;124m\"\u001B[39m)\n\u001B[0;32m     14\u001B[0m plt\u001B[38;5;241m.\u001B[39mtitle(\u001B[38;5;124m\"\u001B[39m\u001B[38;5;124m2 Gev and 0.5 GeV Higgs in 2 GeV bins on their own\u001B[39m\u001B[38;5;124m\"\u001B[39m, backgroundcolor\u001B[38;5;241m=\u001B[39m\u001B[38;5;124m\"\u001B[39m\u001B[38;5;124mwhite\u001B[39m\u001B[38;5;124m\"\u001B[39m)\n\u001B[1;32m---> 15\u001B[0m \u001B[43msave\u001B[49m\u001B[43m(\u001B[49m\u001B[38;5;124;43m\"\u001B[39;49m\u001B[38;5;124;43mhiggsalone-1\u001B[39;49m\u001B[38;5;124;43m\"\u001B[39;49m\u001B[43m)\u001B[49m\n\u001B[0;32m     16\u001B[0m plt\u001B[38;5;241m.\u001B[39mfigure(\u001B[38;5;124m\"\u001B[39m\u001B[38;5;124mHiggsAlone-2\u001B[39m\u001B[38;5;124m\"\u001B[39m)\n\u001B[0;32m     17\u001B[0m plt\u001B[38;5;241m.\u001B[39mhist(gauss, bins\u001B[38;5;241m=\u001B[39m\u001B[38;5;241m60\u001B[39m, \u001B[38;5;28mrange\u001B[39m\u001B[38;5;241m=\u001B[39m(\u001B[38;5;241m110\u001B[39m, \u001B[38;5;241m140\u001B[39m), color\u001B[38;5;241m=\u001B[39m\u001B[38;5;124m\"\u001B[39m\u001B[38;5;124mred\u001B[39m\u001B[38;5;124m\"\u001B[39m)\n",
      "Input \u001B[1;32mIn [3]\u001B[0m, in \u001B[0;36msave\u001B[1;34m(file)\u001B[0m\n\u001B[0;32m      1\u001B[0m \u001B[38;5;28;01mdef\u001B[39;00m \u001B[38;5;21msave\u001B[39m(file):\n\u001B[0;32m      2\u001B[0m   name \u001B[38;5;241m=\u001B[39m os\u001B[38;5;241m.\u001B[39mpath\u001B[38;5;241m.\u001B[39mbasename(file)\u001B[38;5;241m.\u001B[39mreplace(\u001B[38;5;124m\"\u001B[39m\u001B[38;5;124m.py\u001B[39m\u001B[38;5;124m\"\u001B[39m, \u001B[38;5;124m\"\u001B[39m\u001B[38;5;124m\"\u001B[39m)\n\u001B[1;32m----> 3\u001B[0m   \u001B[43mplt\u001B[49m\u001B[38;5;241;43m.\u001B[39;49m\u001B[43msavefig\u001B[49m\u001B[43m(\u001B[49m\u001B[38;5;124;43mf\u001B[39;49m\u001B[38;5;124;43m'\u001B[39;49m\u001B[38;5;124;43m/filepath/\u001B[39;49m\u001B[38;5;132;43;01m{\u001B[39;49;00m\u001B[43mname\u001B[49m\u001B[38;5;132;43;01m}\u001B[39;49;00m\u001B[38;5;124;43m.png\u001B[39;49m\u001B[38;5;124;43m'\u001B[39;49m\u001B[43m)\u001B[49m\n\u001B[0;32m      4\u001B[0m   plt\u001B[38;5;241m.\u001B[39msavefig(\u001B[38;5;124mf\u001B[39m\u001B[38;5;124m'\u001B[39m\u001B[38;5;124mfilepath/\u001B[39m\u001B[38;5;132;01m{\u001B[39;00mname\u001B[38;5;132;01m}\u001B[39;00m\u001B[38;5;124m.pdf\u001B[39m\u001B[38;5;124m'\u001B[39m)\n\u001B[0;32m      5\u001B[0m   plt\u001B[38;5;241m.\u001B[39msavefig(\u001B[38;5;124mf\u001B[39m\u001B[38;5;124m'\u001B[39m\u001B[38;5;124mfilepath/\u001B[39m\u001B[38;5;132;01m{\u001B[39;00mname\u001B[38;5;132;01m}\u001B[39;00m\u001B[38;5;124m.svg\u001B[39m\u001B[38;5;124m'\u001B[39m)\n",
      "File \u001B[1;32m~\\ENV3\\lib\\site-packages\\matplotlib\\pyplot.py:979\u001B[0m, in \u001B[0;36msavefig\u001B[1;34m(*args, **kwargs)\u001B[0m\n\u001B[0;32m    976\u001B[0m \u001B[38;5;129m@_copy_docstring_and_deprecators\u001B[39m(Figure\u001B[38;5;241m.\u001B[39msavefig)\n\u001B[0;32m    977\u001B[0m \u001B[38;5;28;01mdef\u001B[39;00m \u001B[38;5;21msavefig\u001B[39m(\u001B[38;5;241m*\u001B[39margs, \u001B[38;5;241m*\u001B[39m\u001B[38;5;241m*\u001B[39mkwargs):\n\u001B[0;32m    978\u001B[0m     fig \u001B[38;5;241m=\u001B[39m gcf()\n\u001B[1;32m--> 979\u001B[0m     res \u001B[38;5;241m=\u001B[39m fig\u001B[38;5;241m.\u001B[39msavefig(\u001B[38;5;241m*\u001B[39margs, \u001B[38;5;241m*\u001B[39m\u001B[38;5;241m*\u001B[39mkwargs)\n\u001B[0;32m    980\u001B[0m     fig\u001B[38;5;241m.\u001B[39mcanvas\u001B[38;5;241m.\u001B[39mdraw_idle()   \u001B[38;5;66;03m# need this if 'transparent=True' to reset colors\u001B[39;00m\n\u001B[0;32m    981\u001B[0m     \u001B[38;5;28;01mreturn\u001B[39;00m res\n",
      "File \u001B[1;32m~\\ENV3\\lib\\site-packages\\matplotlib\\figure.py:3046\u001B[0m, in \u001B[0;36mFigure.savefig\u001B[1;34m(self, fname, transparent, **kwargs)\u001B[0m\n\u001B[0;32m   3042\u001B[0m     \u001B[38;5;28;01mfor\u001B[39;00m ax \u001B[38;5;129;01min\u001B[39;00m \u001B[38;5;28mself\u001B[39m\u001B[38;5;241m.\u001B[39maxes:\n\u001B[0;32m   3043\u001B[0m         stack\u001B[38;5;241m.\u001B[39menter_context(\n\u001B[0;32m   3044\u001B[0m             ax\u001B[38;5;241m.\u001B[39mpatch\u001B[38;5;241m.\u001B[39m_cm_set(facecolor\u001B[38;5;241m=\u001B[39m\u001B[38;5;124m'\u001B[39m\u001B[38;5;124mnone\u001B[39m\u001B[38;5;124m'\u001B[39m, edgecolor\u001B[38;5;241m=\u001B[39m\u001B[38;5;124m'\u001B[39m\u001B[38;5;124mnone\u001B[39m\u001B[38;5;124m'\u001B[39m))\n\u001B[1;32m-> 3046\u001B[0m \u001B[38;5;28mself\u001B[39m\u001B[38;5;241m.\u001B[39mcanvas\u001B[38;5;241m.\u001B[39mprint_figure(fname, \u001B[38;5;241m*\u001B[39m\u001B[38;5;241m*\u001B[39mkwargs)\n",
      "File \u001B[1;32m~\\ENV3\\lib\\site-packages\\matplotlib\\backend_bases.py:2319\u001B[0m, in \u001B[0;36mFigureCanvasBase.print_figure\u001B[1;34m(self, filename, dpi, facecolor, edgecolor, orientation, format, bbox_inches, pad_inches, bbox_extra_artists, backend, **kwargs)\u001B[0m\n\u001B[0;32m   2315\u001B[0m \u001B[38;5;28;01mtry\u001B[39;00m:\n\u001B[0;32m   2316\u001B[0m     \u001B[38;5;66;03m# _get_renderer may change the figure dpi (as vector formats\u001B[39;00m\n\u001B[0;32m   2317\u001B[0m     \u001B[38;5;66;03m# force the figure dpi to 72), so we need to set it again here.\u001B[39;00m\n\u001B[0;32m   2318\u001B[0m     \u001B[38;5;28;01mwith\u001B[39;00m cbook\u001B[38;5;241m.\u001B[39m_setattr_cm(\u001B[38;5;28mself\u001B[39m\u001B[38;5;241m.\u001B[39mfigure, dpi\u001B[38;5;241m=\u001B[39mdpi):\n\u001B[1;32m-> 2319\u001B[0m         result \u001B[38;5;241m=\u001B[39m print_method(\n\u001B[0;32m   2320\u001B[0m             filename,\n\u001B[0;32m   2321\u001B[0m             facecolor\u001B[38;5;241m=\u001B[39mfacecolor,\n\u001B[0;32m   2322\u001B[0m             edgecolor\u001B[38;5;241m=\u001B[39medgecolor,\n\u001B[0;32m   2323\u001B[0m             orientation\u001B[38;5;241m=\u001B[39morientation,\n\u001B[0;32m   2324\u001B[0m             bbox_inches_restore\u001B[38;5;241m=\u001B[39m_bbox_inches_restore,\n\u001B[0;32m   2325\u001B[0m             \u001B[38;5;241m*\u001B[39m\u001B[38;5;241m*\u001B[39mkwargs)\n\u001B[0;32m   2326\u001B[0m \u001B[38;5;28;01mfinally\u001B[39;00m:\n\u001B[0;32m   2327\u001B[0m     \u001B[38;5;28;01mif\u001B[39;00m bbox_inches \u001B[38;5;129;01mand\u001B[39;00m restore_bbox:\n",
      "File \u001B[1;32m~\\ENV3\\lib\\site-packages\\matplotlib\\backend_bases.py:1648\u001B[0m, in \u001B[0;36m_check_savefig_extra_args.<locals>.wrapper\u001B[1;34m(*args, **kwargs)\u001B[0m\n\u001B[0;32m   1640\u001B[0m     _api\u001B[38;5;241m.\u001B[39mwarn_deprecated(\n\u001B[0;32m   1641\u001B[0m         \u001B[38;5;124m'\u001B[39m\u001B[38;5;124m3.3\u001B[39m\u001B[38;5;124m'\u001B[39m, name\u001B[38;5;241m=\u001B[39mname, removal\u001B[38;5;241m=\u001B[39m\u001B[38;5;124m'\u001B[39m\u001B[38;5;124m3.6\u001B[39m\u001B[38;5;124m'\u001B[39m,\n\u001B[0;32m   1642\u001B[0m         message\u001B[38;5;241m=\u001B[39m\u001B[38;5;124m'\u001B[39m\u001B[38;5;132;01m%(name)s\u001B[39;00m\u001B[38;5;124m() got unexpected keyword argument \u001B[39m\u001B[38;5;124m\"\u001B[39m\u001B[38;5;124m'\u001B[39m\n\u001B[0;32m   1643\u001B[0m                 \u001B[38;5;241m+\u001B[39m arg \u001B[38;5;241m+\u001B[39m \u001B[38;5;124m'\u001B[39m\u001B[38;5;124m\"\u001B[39m\u001B[38;5;124m which is no longer supported as of \u001B[39m\u001B[38;5;124m'\u001B[39m\n\u001B[0;32m   1644\u001B[0m                 \u001B[38;5;124m'\u001B[39m\u001B[38;5;132;01m%(since)s\u001B[39;00m\u001B[38;5;124m and will become an error \u001B[39m\u001B[38;5;124m'\u001B[39m\n\u001B[0;32m   1645\u001B[0m                 \u001B[38;5;124m'\u001B[39m\u001B[38;5;132;01m%(removal)s\u001B[39;00m\u001B[38;5;124m'\u001B[39m)\n\u001B[0;32m   1646\u001B[0m     kwargs\u001B[38;5;241m.\u001B[39mpop(arg)\n\u001B[1;32m-> 1648\u001B[0m \u001B[38;5;28;01mreturn\u001B[39;00m func(\u001B[38;5;241m*\u001B[39margs, \u001B[38;5;241m*\u001B[39m\u001B[38;5;241m*\u001B[39mkwargs)\n",
      "File \u001B[1;32m~\\ENV3\\lib\\site-packages\\matplotlib\\_api\\deprecation.py:415\u001B[0m, in \u001B[0;36mdelete_parameter.<locals>.wrapper\u001B[1;34m(*inner_args, **inner_kwargs)\u001B[0m\n\u001B[0;32m    405\u001B[0m     deprecation_addendum \u001B[38;5;241m=\u001B[39m (\n\u001B[0;32m    406\u001B[0m         \u001B[38;5;124mf\u001B[39m\u001B[38;5;124m\"\u001B[39m\u001B[38;5;124mIf any parameter follows \u001B[39m\u001B[38;5;132;01m{\u001B[39;00mname\u001B[38;5;132;01m!r}\u001B[39;00m\u001B[38;5;124m, they should be passed as \u001B[39m\u001B[38;5;124m\"\u001B[39m\n\u001B[0;32m    407\u001B[0m         \u001B[38;5;124mf\u001B[39m\u001B[38;5;124m\"\u001B[39m\u001B[38;5;124mkeyword, not positionally.\u001B[39m\u001B[38;5;124m\"\u001B[39m)\n\u001B[0;32m    408\u001B[0m     warn_deprecated(\n\u001B[0;32m    409\u001B[0m         since,\n\u001B[0;32m    410\u001B[0m         name\u001B[38;5;241m=\u001B[39m\u001B[38;5;28mrepr\u001B[39m(name),\n\u001B[1;32m   (...)\u001B[0m\n\u001B[0;32m    413\u001B[0m                  \u001B[38;5;28;01melse\u001B[39;00m deprecation_addendum,\n\u001B[0;32m    414\u001B[0m         \u001B[38;5;241m*\u001B[39m\u001B[38;5;241m*\u001B[39mkwargs)\n\u001B[1;32m--> 415\u001B[0m \u001B[38;5;28;01mreturn\u001B[39;00m func(\u001B[38;5;241m*\u001B[39minner_args, \u001B[38;5;241m*\u001B[39m\u001B[38;5;241m*\u001B[39minner_kwargs)\n",
      "File \u001B[1;32m~\\ENV3\\lib\\site-packages\\matplotlib\\backends\\backend_agg.py:541\u001B[0m, in \u001B[0;36mFigureCanvasAgg.print_png\u001B[1;34m(self, filename_or_obj, metadata, pil_kwargs, *args)\u001B[0m\n\u001B[0;32m    494\u001B[0m \u001B[38;5;124;03m\"\"\"\u001B[39;00m\n\u001B[0;32m    495\u001B[0m \u001B[38;5;124;03mWrite the figure to a PNG file.\u001B[39;00m\n\u001B[0;32m    496\u001B[0m \n\u001B[1;32m   (...)\u001B[0m\n\u001B[0;32m    538\u001B[0m \u001B[38;5;124;03m    *metadata*, including the default 'Software' key.\u001B[39;00m\n\u001B[0;32m    539\u001B[0m \u001B[38;5;124;03m\"\"\"\u001B[39;00m\n\u001B[0;32m    540\u001B[0m FigureCanvasAgg\u001B[38;5;241m.\u001B[39mdraw(\u001B[38;5;28mself\u001B[39m)\n\u001B[1;32m--> 541\u001B[0m \u001B[43mmpl\u001B[49m\u001B[38;5;241;43m.\u001B[39;49m\u001B[43mimage\u001B[49m\u001B[38;5;241;43m.\u001B[39;49m\u001B[43mimsave\u001B[49m\u001B[43m(\u001B[49m\n\u001B[0;32m    542\u001B[0m \u001B[43m    \u001B[49m\u001B[43mfilename_or_obj\u001B[49m\u001B[43m,\u001B[49m\u001B[43m \u001B[49m\u001B[38;5;28;43mself\u001B[39;49m\u001B[38;5;241;43m.\u001B[39;49m\u001B[43mbuffer_rgba\u001B[49m\u001B[43m(\u001B[49m\u001B[43m)\u001B[49m\u001B[43m,\u001B[49m\u001B[43m \u001B[49m\u001B[38;5;28;43mformat\u001B[39;49m\u001B[38;5;241;43m=\u001B[39;49m\u001B[38;5;124;43m\"\u001B[39;49m\u001B[38;5;124;43mpng\u001B[39;49m\u001B[38;5;124;43m\"\u001B[39;49m\u001B[43m,\u001B[49m\u001B[43m \u001B[49m\u001B[43morigin\u001B[49m\u001B[38;5;241;43m=\u001B[39;49m\u001B[38;5;124;43m\"\u001B[39;49m\u001B[38;5;124;43mupper\u001B[39;49m\u001B[38;5;124;43m\"\u001B[39;49m\u001B[43m,\u001B[49m\n\u001B[0;32m    543\u001B[0m \u001B[43m    \u001B[49m\u001B[43mdpi\u001B[49m\u001B[38;5;241;43m=\u001B[39;49m\u001B[38;5;28;43mself\u001B[39;49m\u001B[38;5;241;43m.\u001B[39;49m\u001B[43mfigure\u001B[49m\u001B[38;5;241;43m.\u001B[39;49m\u001B[43mdpi\u001B[49m\u001B[43m,\u001B[49m\u001B[43m \u001B[49m\u001B[43mmetadata\u001B[49m\u001B[38;5;241;43m=\u001B[39;49m\u001B[43mmetadata\u001B[49m\u001B[43m,\u001B[49m\u001B[43m \u001B[49m\u001B[43mpil_kwargs\u001B[49m\u001B[38;5;241;43m=\u001B[39;49m\u001B[43mpil_kwargs\u001B[49m\u001B[43m)\u001B[49m\n",
      "File \u001B[1;32m~\\ENV3\\lib\\site-packages\\matplotlib\\image.py:1675\u001B[0m, in \u001B[0;36mimsave\u001B[1;34m(fname, arr, vmin, vmax, cmap, format, origin, dpi, metadata, pil_kwargs)\u001B[0m\n\u001B[0;32m   1673\u001B[0m pil_kwargs\u001B[38;5;241m.\u001B[39msetdefault(\u001B[38;5;124m\"\u001B[39m\u001B[38;5;124mformat\u001B[39m\u001B[38;5;124m\"\u001B[39m, \u001B[38;5;28mformat\u001B[39m)\n\u001B[0;32m   1674\u001B[0m pil_kwargs\u001B[38;5;241m.\u001B[39msetdefault(\u001B[38;5;124m\"\u001B[39m\u001B[38;5;124mdpi\u001B[39m\u001B[38;5;124m\"\u001B[39m, (dpi, dpi))\n\u001B[1;32m-> 1675\u001B[0m image\u001B[38;5;241m.\u001B[39msave(fname, \u001B[38;5;241m*\u001B[39m\u001B[38;5;241m*\u001B[39mpil_kwargs)\n",
      "File \u001B[1;32m~\\ENV3\\lib\\site-packages\\PIL\\Image.py:2317\u001B[0m, in \u001B[0;36mImage.save\u001B[1;34m(self, fp, format, **params)\u001B[0m\n\u001B[0;32m   2315\u001B[0m         fp \u001B[38;5;241m=\u001B[39m builtins\u001B[38;5;241m.\u001B[39mopen(filename, \u001B[38;5;124m\"\u001B[39m\u001B[38;5;124mr+b\u001B[39m\u001B[38;5;124m\"\u001B[39m)\n\u001B[0;32m   2316\u001B[0m     \u001B[38;5;28;01melse\u001B[39;00m:\n\u001B[1;32m-> 2317\u001B[0m         fp \u001B[38;5;241m=\u001B[39m \u001B[43mbuiltins\u001B[49m\u001B[38;5;241;43m.\u001B[39;49m\u001B[43mopen\u001B[49m\u001B[43m(\u001B[49m\u001B[43mfilename\u001B[49m\u001B[43m,\u001B[49m\u001B[43m \u001B[49m\u001B[38;5;124;43m\"\u001B[39;49m\u001B[38;5;124;43mw+b\u001B[39;49m\u001B[38;5;124;43m\"\u001B[39;49m\u001B[43m)\u001B[49m\n\u001B[0;32m   2319\u001B[0m \u001B[38;5;28;01mtry\u001B[39;00m:\n\u001B[0;32m   2320\u001B[0m     save_handler(\u001B[38;5;28mself\u001B[39m, fp, filename)\n",
      "\u001B[1;31mFileNotFoundError\u001B[0m: [Errno 2] No such file or directory: '/filepath/higgsalone-1.png'"
     ]
    },
    {
     "data": {
      "text/plain": "<Figure size 432x288 with 1 Axes>",
      "image/png": "[encoded data removed]"
     },
     "metadata": {
      "needs_background": "light"
     },
     "output_type": "display_data"
    }
   ],
   "source": [
    "StopWatch.start(\"create-gaussian-signal\")\n",
    "\n",
    "# The signal is centered at 126 GeV and has a width of 2.\n",
    "gauss = 2 * np.random.randn(300) + 126\n",
    "# A signal with centered at 126 GeV and width of 0.5 (Error in measurement is less than previous signal\"\n",
    "narrowGauss = 0.5 * np.random.randn(300) + 126\n",
    "\n",
    "StopWatch.stop(\"create-gaussian-signal\")\n",
    "# Plotting - The Higgs Signal with width 2.0 with title \"HiggsAlone\"\n",
    "StopWatch.start(\"plot-higgsalone\")\n",
    "plt.figure(\"HiggsAlone-1\")\n",
    "plt.hist(gauss, bins=15, range=(110, 140), color=\"red\")\n",
    "plt.hist(narrowGauss, bins=15, range=(110, 140), color=\"black\")\n",
    "plt.title(\"2 Gev and 0.5 GeV Higgs in 2 GeV bins on their own\", backgroundcolor=\"white\")\n",
    "save(\"higgsalone-1\")\n",
    "plt.figure(\"HiggsAlone-2\")\n",
    "plt.hist(gauss, bins=60, range=(110, 140), color=\"red\")\n",
    "plt.hist(narrowGauss, bins=60, range=(110, 140), color=\"black\")\n",
    "plt.title(\"2 Gev and 0.5 GeV Higgs in 0.5 GeV bins on their own\", backgroundcolor=\"white\")\n",
    "save(\"higgsalone-2\")\n",
    "StopWatch.stop(\"plot-higgsalone\")"
   ],
   "metadata": {
    "collapsed": false,
    "pycharm": {
     "name": "#%%\n"
    }
   }
  },
  {
   "cell_type": "markdown",
   "source": [
    "## Part 3 Higgs plus Background\n",
    "\n",
    "Create the actual Signal by combining the Higgs signals(Gaussian shape) and the sloping background signal.\n",
    "We look at 2 different widths for the Higgs\n",
    "\n",
    "Note Higgs width is entirely due to measurement error. The Higgs has a natural width as it is NOT stable\n",
    "but rather decays. This natural width can only be estimated at present from observed decay rate and it is\n",
    "< 10 MeV - a factor of more than 100 lower than observed width.\n",
    "\n",
    "As width coming from measurement errors, it is expected to be Gaussian. It would be a different shape\n",
    "(Breit Wigner) if coming from its Quantum properties.\n",
    "\n",
    "The three plots fix the measurement with at 0.5 GeV and vary your choice as a data analyst; namely the bin\n",
    "size of histogram. The 0.5 GeV bin size seems best."
   ],
   "metadata": {
    "collapsed": false,
    "pycharm": {
     "name": "#%% md\n"
    }
   }
  },
  {
   "cell_type": "code",
   "execution_count": null,
   "outputs": [],
   "source": [
    "StopWatch.start(\"concat-sloping-gauss\")\n",
    "total = np.concatenate((sloping, gauss))                # Accumalate the sloping Background and gauss(width = 2.0)\n",
    "narrowTotal = np.concatenate((sloping, narrowGauss))    # Accumalate the sloping background and narrowGauss(width = 0.5)\n",
    "StopWatch.stop(\"concat-sloping-gauss\")\n",
    "# Plotting - The 3 kinds of signals(Sloping Background, Higgs Signal, Combined Signal) where Higgs Signal has width 0.5.\n",
    "# The plot has 15 bins(each bin represents 2 GeV). Plot title is \"Total Narrow Higgs\"\n",
    "StopWatch.start(\"plot-narrow-higgs\")\n",
    "plt.figure(\"Total Narrow Higgs\")\n",
    "plt.hist(narrowTotal, bins=15, range=(110, 140), alpha=0.5, color=\"blue\")   # Total Signal\n",
    "plt.hist(sloping, bins=15, range=(110, 140), alpha=0.5, color=\"green\")      # Sloping Signal.\n",
    "plt.hist(narrowGauss, bins=15, range=(110, 140), alpha=0.5, color=\"red\")    # Only the Higgs Signal.\n",
    "plt.title(\"0.5 Gev Higgs in 2 GeV bins with Sloping Background\", backgroundcolor=\"white\")\n",
    "save(\"total-narrow-higgs\")\n",
    "StopWatch.progress(25)\n",
    "\n",
    "# Plotting - The 3 kinds of signals(Sloping Background, Higgs Signal, Combined Signal) where Higgs Signal has width 0.5.\n",
    "# The plot has 30 bins(each bin represents 1GeV). Plot title is \"Total Narrow Higgs Bin 1 GeV\"\n",
    "plt.figure(\"Total Narrow Higgs Bin 1 GeV\")\n",
    "plt.hist(narrowTotal, bins=30, range=(110, 140), alpha=0.5, color=\"blue\")    # Total Signal\n",
    "plt.hist(sloping, bins=30, range=(110, 140), alpha=0.5, color=\"green\")       # Sloping Signal.\n",
    "plt.hist(narrowGauss, bins=30, range=(110, 140), alpha=0.5, color=\"red\")     # Only the Higgs Signal.\n",
    "plt.title(\"0.5 Gev Higgs in 1 GeV bins with Sloping Background\", backgroundcolor=\"white\")\n",
    "save(\"total-narrow-higgs-bin-1gev\")\n",
    "\n",
    "# Plotting - The 3 kinds of signals(Sloping Background, Higgs Signal, Combined Signal) where Higgs Signal has width 0.5.\n",
    "# The plot has 60 bins(each bin represents 0.5GeV). Plot title is \"Total Narrow Higgs Bin 0.5 GeV\"\n",
    "plt.figure(\"Total Narrow Higgs Bin 0.5 GeV\")\n",
    "plt.hist(narrowTotal, bins=60, range=(110, 140), alpha=0.5, color=\"blue\")   # Total Signal\n",
    "plt.hist(sloping, bins=60, range=(110, 140), alpha=0.5, color=\"green\")     # Sloping Signal.\n",
    "plt.hist(narrowGauss, bins=60, range=(110, 140), alpha=0.5, color=\"red\")   # Only the Higgs Signal.\n",
    "plt.title(\"0.5 Gev Higgs in 0.5 GeV bins with Sloping Background\", backgroundcolor=\"white\")\n",
    "save(\"total-narrow-higgs-bin-0.5gev\")\n",
    "StopWatch.stop(\"plot-narrow-higgs\")"
   ],
   "metadata": {
    "collapsed": false,
    "pycharm": {
     "name": "#%%\n"
    }
   }
  },
  {
   "cell_type": "markdown",
   "source": [
    "Here we look at a 2 GeV wide Higgs Boson. It does not stand out!"
   ],
   "metadata": {
    "collapsed": false,
    "pycharm": {
     "name": "#%% md\n"
    }
   }
  },
  {
   "cell_type": "code",
   "execution_count": null,
   "outputs": [],
   "source": [
    "# Plotting - The 3 kinds of signals(Sloping Background, Higgs Signal, Combined Signal) signal where Higgs Signal\n",
    "# has width 2.0. The plot has 15 bins(each bin represents 2GeV). Plot title is \"Total Wide Higgs Bin 2 GeV\"\n",
    "StopWatch.start(\"plot-wide-higgs\")\n",
    "plt.figure(\"Total Wide Higgs Bin 2 GeV\")\n",
    "# We store the histogram values(number of members per bin) and bin edges.\n",
    "values, binedges, junk=plt.hist(total, bins=15, range=(110, 140), alpha=0.5, color=\"blue\")           # Total Signal.\n",
    "plt.hist(sloping, bins=15, range=(110, 140), alpha=0.5, color=\"green\")                               # Sloping Signal.\n",
    "plt.hist(gauss, bins=15, range=(110, 140), alpha=0.5, color=\"red\")                                   # Only the Higgs Signal.\n",
    "plt.title(\"2 Gev Higgs in 2 GeV bins with Sloping Background\", backgroundcolor=\"white\")\n",
    "save(\"wide-higgs\")\n",
    "StopWatch.stop(\"plot-wide-higgs\")\n",
    "\n",
    "StopWatch.progress(50)"
   ],
   "metadata": {
    "collapsed": false,
    "pycharm": {
     "name": "#%%\n"
    }
   }
  },
  {
   "cell_type": "markdown",
   "source": [
    "## Part 4 Error Estimates\n",
    "\n",
    "Computing the bin Centers and Errors where latter come from rule for counting experiments that an\n",
    "observation of N events has an error sqrt(N)/ The error bars are quite small as 2500 has error 50\n",
    "which is 2%). They are bigger at the end when we reduce total number of events."
   ],
   "metadata": {
    "collapsed": false,
    "pycharm": {
     "name": "#%% md\n"
    }
   }
  },
  {
   "cell_type": "code",
   "execution_count": null,
   "outputs": [],
   "source": [
    "StopWatch.start(\"compute-error\")\n",
    "centers = 0.5 * (binedges[1:] + binedges[:-1])                # Computing bin center as the average of its 2 bin-edges.\n",
    "errors = np.sqrt(values)                                      # Computing expected error as the square root of values.\n",
    "StopWatch.stop(\"compute-error\")\n",
    "# Plotting - The 3 kinds of signals(Sloping Background, Higgs Signal, Combined Signal) and expected errors where Higgs Signal has\n",
    "# width 2.0. The plot has 60 bins (each bin represents 0.5GeV). Plot title is \"Total Wide Higgs Bin 2 GeV with errors\"\n",
    "StopWatch.start(\"plot-wide-higgs-error\")\n",
    "plt.figure(\"Total Wide Higgs Bin 2 GeV with errors\")\n",
    "plt.hist(total, bins=15, range=(110, 140), alpha=0.5, color=\"blue\")                                 # The total signal\n",
    "plt.hist(sloping, bins=15, range=(110, 140), alpha=0.5, color=\"green\")                              # Sloping Signal.\n",
    "plt.hist(gauss, bins=15, range=(110, 140), alpha=0.5, color=\"red\")                                  # Only the Higgs Signal.\n",
    "plt.errorbar(centers, values, yerr=errors, ls='None', marker='x', color='black', markersize=6.0)    # The error bar\n",
    "plt.title(\"2 Gev Higgs in 2 GeV bins with Sloping Background + Errors\", backgroundcolor=\"white\")\n",
    "save(\"wide-higgs-error\")\n",
    "StopWatch.stop(\"plot-wide-higgs-error\")"
   ],
   "metadata": {
    "collapsed": false,
    "pycharm": {
     "name": "#%%\n"
    }
   }
  },
  {
   "cell_type": "markdown",
   "source": [
    "## Part 5 A Larger Signal\n",
    "\n",
    "Creating a Higgs Signal with 30000 elements. If we use this against the original backgrounds, we study\n",
    "the effect of making the Higgs 100 times more likely(The original number of Higgs samples was 300)."
   ],
   "metadata": {
    "collapsed": false,
    "pycharm": {
     "name": "#%% md\n"
    }
   }
  },
  {
   "cell_type": "code",
   "execution_count": null,
   "outputs": [],
   "source": [
    "n = 30000\n",
    "print('Higgs on its own with no background')\n",
    "StopWatch.start(f\"create-higgs-signal-{n}\")\n",
    "gaussbig = 2 * np.random.randn(n) +126                  # Creating a Higgs Signal with 30000 elements and width of 2.0\n",
    "gaussnarrowbig = 0.5 * np.random.randn(n) +126          # Creating a Higgs Signal with 30000 elements and width of 0.5\n",
    "                                                            # (less error in measurement than previous case)\n",
    "totalbig = np.concatenate((sloping, gaussbig))\n",
    "StopWatch.stop(f\"create-higgs-signal-{n}\")\n",
    "# Plotting - The Pure Higgs Signals with weight 0.5 and 2. The signal with 30,000 elements is used. Plot has 60\n",
    "# bins (each of size .5GeV). Plot title is \"30000 Higgs in 0.5 GeV bins\"\n",
    "StopWatch.start(f\"plot-higgs-{n}\")\n",
    "plt.figure(\"30000 Higgs in 0.5 GeV bins\")\n",
    "plt.hist(gaussnarrowbig, bins=60, range=(110, 140), alpha=0.5) #Higgs signal\n",
    "plt.hist(gaussbig, bins=60, range=(110, 140), alpha=0.5)\n",
    "plt.title(\"30000 Narrow and Wide Higgs in 0.5 GeV bins\", backgroundcolor=\"white\")\n",
    "save(f\"higgs-{n}\")\n",
    "StopWatch.stop(f\"plot-higgs-{n}\")\n",
    "\n",
    "print('\\nLarge Higgs signal on original size background')\n",
    "\n",
    "# Plotting - The 3 kinds of signals(Sloping Background, Higgs Signal, Combined Signal) where Higgs Signal has width 2.0 and is 100\n",
    "# times more frequent. The plot has 15 bins (each bin represents 2GeV). Plot title is \"Total Wide Higgs Bin 2 GeV 100 times Higgs\"\n",
    "StopWatch.start(\"plot-sloping-higgs-combined\")\n",
    "plt.figure(\"Total Wide Higgs Bin 2 GeV 100 times Higgs\")\n",
    "plt.hist(totalbig, bins=15, range=(110, 140), alpha=0.5)      # Total signal with Higgs being 100 times more frequent\n",
    "plt.hist(sloping, bins=15, range=(110, 140), alpha=0.5)       # sloping background\n",
    "plt.hist(gaussbig, bins=15, range=(110, 140), alpha=0.5)      # Higgs signal with 30,000 elements\n",
    "plt.title(\"Total Wide Higgs Bin 2 GeV 100 times Higgs\", backgroundcolor=\"white\")\n",
    "save(\"sloping-higgs-combined\")\n",
    "StopWatch.stop(\"plot-sloping-higgs-combined\")\n",
    "StopWatch.progress(75)"
   ],
   "metadata": {
    "collapsed": false,
    "pycharm": {
     "name": "#%%\n"
    }
   }
  },
  {
   "cell_type": "markdown",
   "source": [
    "## Part 6 A Small Experiment (1% original)\n",
    "\n",
    "Creating a setup with 1% data. Now the background has initially 420 elements.\n",
    "This data fluctuates too much and you won't see any signal from Higgs (only 3 particles expected)"
   ],
   "metadata": {
    "collapsed": false,
    "pycharm": {
     "name": "#%% md\n"
    }
   }
  },
  {
   "cell_type": "code",
   "execution_count": null,
   "outputs": [],
   "source": [
    "StopWatch.start(\"small-experiment-1%\")\n",
    "testrand420 = np.random.rand(420)                               # Creating random array with 420 elements.\n",
    "Base420 = 110 + 30 * np.random.rand(420)                        # Creating Background with 420 events\n",
    "index420 = (1.0 - 0.5 * (Base420-110)/30) > testrand420         # Creating index to get the sloping background.\n",
    "Sloping420 = Base420[index420]                                  # Creating Sloping Background\n",
    "# Plot - Plotting the 1% background data. Plot has 15 bins(each 2GeV). Plot title is \"Sloping 420 Events\"\n",
    "plt.figure(\"Sloping 420 Events\")\n",
    "plt.hist(Sloping420, bins=15, range=(110, 140))\n",
    "plt.title(\"Sloping Background from 420 events (1%)\", backgroundcolor=\"white\")\n",
    "save(\"small-experiment-1\")\n",
    "StopWatch.stop(\"small-experiment-1%\")"
   ],
   "metadata": {
    "collapsed": false,
    "pycharm": {
     "name": "#%%\n"
    }
   }
  },
  {
   "cell_type": "markdown",
   "source": [
    "## Part 7 Medium Size Experiment\n",
    "\n",
    "Creating setup with 10% data(4200 elements for background, 30 elements for Higgs signal) and computing the errors."
   ],
   "metadata": {
    "collapsed": false,
    "pycharm": {
     "name": "#%% md\n"
    }
   }
  },
  {
   "cell_type": "code",
   "execution_count": null,
   "outputs": [],
   "source": [
    "StopWatch.start(\"medium-experiment-10%\")\n",
    "testrand4200 = np.random.rand(4200)                             # Creating random array with 4200 elements.\n",
    "Base4200 = 110 + 30 * np.random.rand(4200)                      # Creating Background with 4200 events\n",
    "index4200 = (1.0 - 0.5 * (Base4200-110)/30) > testrand4200      # Creating index to get the sloping background.\n",
    "Sloping4200 = Base4200[index4200]                               # Creating Sloping Background\n",
    "gauss30 = 2 * np.random.randn(30) + 126                          # Creating Higgs signal with width 2.0 and center at 126GeV\n",
    "total10percent = np.concatenate((Sloping4200, gauss30))         # Combining the Higgs signal and sloping background\n",
    "# Plotting - The 3 kinds of signals(Sloping Background, Higgs Signal, Combined Signal) where Higgs Signal has width 2.0 for 10%\n",
    "# of data. The plot has 15 bins(each bin represents 2GeV). Plot tile is \"Total Sloping Background 10% Data\"\n",
    "plt.figure(\"Total Sloping Background 10% Data\")\n",
    "values10percent, binedges10percent, junk = plt.hist(total10percent, bins=15, range=(110,140), alpha=0.5, color=\"blue\")\n",
    "# Total signal and storing the number values/bin and the bin edges.\n",
    "plt.hist(Sloping4200, bins=15, range=(110, 140), alpha=0.5, color=\"green\")                   # Sloping background\n",
    "plt.hist(gauss30, bins=15, range=(110, 140), alpha=0.5, color=\"red\")                          # Higgs Signal(width 2.0)\n",
    "plt.title(\"Total with Sloping Background from 4200 events (10%)\", backgroundcolor=\"white\")\n",
    "save(\"medium-sloping-10\")\n",
    "\n",
    "# Plotting - The 3 kinds of signals(Sloping Background, Higgs Signal, Combined Signal) and the error where Higgs Signal has width\n",
    "# 2.0 for 10% of data. The plot has 15 bins(each bin represents 2GeV). Plot title is \"Total Sloping Background 10% Data with errors\"\n",
    "plt.figure(\"Total Sloping Background 10% Data with errors\")\n",
    "centers10percent = 0.5 * (binedges10percent[1:] + binedges10percent[:-1])           # Computing the bin centers\n",
    "errors10percent = np.sqrt(values10percent)                                          # Computing expected errors\n",
    "plt.hist(total10percent, bins=15, range=(110, 140), alpha=0.5, color=\"blue\")       # Plotting the total signal\n",
    "plt.hist(Sloping4200, bins=15, range=(110, 140), alpha=0.5, color=\"green\")         # Plotting the sloping background\n",
    "plt.hist(gauss30, bins=15, range=(110, 140), alpha=0.5, color=\"red\")               # Plotting the Higgs Signal\n",
    "plt.errorbar(centers10percent, values10percent, yerr=errors10percent, ls='None', marker='x', color='black', markersize=6.0)\n",
    "# Plotting the error\n",
    "plt.title(\"Total with Sloping Background from 4200 events (10%) + Errors\", backgroundcolor=\"white\")\n",
    "save(\"medium-sloping-10-4200\")\n",
    "StopWatch.stop(\"medium-experiment-10%\")\n",
    "StopWatch.stop(\"total\")\n",
    "StopWatch.progress(100)\n",
    "StopWatch.benchmark()"
   ],
   "metadata": {
    "collapsed": false,
    "pycharm": {
     "name": "#%%\n"
    }
   }
  }
 ]
}