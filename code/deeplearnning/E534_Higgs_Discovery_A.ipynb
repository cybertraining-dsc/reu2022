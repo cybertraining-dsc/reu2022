{
 "nbformat": 4,
 "nbformat_minor": 0,
 "metadata": {
  "colab": {
   "name": "E534-Higgs_Discovery-A.ipynb",
   "provenance": []
  },
  "kernelspec": {
   "name": "python3",
   "display_name": "Python 3"
  }
 },
 "cells": [
  {
   "cell_type": "markdown",
   "metadata": {
    "id": "SZS0wkHPlyFO",
    "colab_type": "text",
    "pycharm": {
     "name": "#%% md\n"
    }
   },
   "source": [
    "# A: Studying Higgs Boson Analysis. Signal and Background\n",
    "\n",
    "Sloping background as in real experiment"
   ]
  },
  {
   "cell_type": "markdown",
   "source": [
    "## Part 1 The Background\n",
    "\n",
    "This file contains the code for the unit \"The Elusive Mr. Higgs\". It explains the experiment with the Higgs signal and background signal under different settings\n",
    "\n",
    "In this part we look at the Background"
   ],
   "metadata": {
    "collapsed": false,
    "pycharm": {
     "name": "#%% md\n"
    }
   }
  },
  {
   "cell_type": "code",
   "execution_count": 2,
   "outputs": [],
   "source": [
    "try:\n",
    "    from cloudmesh.common.StopWatch import StopWatch\n",
    "except:  # noqa: E722\n",
    "    ! pip install cloudmesh-common\n",
    "    from cloudmesh.common.StopWatch import StopWatch"
   ],
   "metadata": {
    "collapsed": false,
    "pycharm": {
     "name": "#%%\n"
    }
   }
  },
  {
   "cell_type": "code",
   "execution_count": null,
   "outputs": [],
   "source": [
    "StopWatch.start(\"total\")\n",
    "StopWatch.start(\"import\")\n",
    "import numpy as np    # noqa: E402\n",
    "import matplotlib.pyplot as plt    # noqa: E402\n",
    "import pylab    # noqa: E402\n",
    "StopWatch.stop(\"import\")"
   ],
   "metadata": {
    "collapsed": false,
    "pycharm": {
     "name": "#%%\n"
    }
   }
  },
  {
   "cell_type": "code",
   "execution_count": null,
   "outputs": [],
   "source": [
    "StopWatch.start(\"Part 1\")\n",
    "''' Create the background for the setup and plot the same'''\n",
    "StopWatch.start(\"data-create-1\")\n",
    "testrand = np.random.rand(42000)                    #A random array have 42000 elements according to the uniform distribution. The numbers generated will between 0 and 1\n",
    "Base = 110 + 30* np.random.rand(42000)              #Generating a uniform background(base) between a 110 GeV and 140 GeV \n",
    "index = (1.0 - 0.5* (Base-110)/30) > testrand       #To create a boolean index which has True for 100% samples at 110GeV; This percentage reduces linearly as the value for background increases and has ture for 50% samples as 140 GeV\n",
    "sloping = Base[index]                               #This generates a sloping background. Here the values in base corresponding the True values in \"index\" are retained rest are discarded. So this has a distribution as desribed above\n",
    "StopWatch.stop(\"data-create-1\")\n",
    "####Plotting - Sloping Background. \n",
    "####See The Plot named \"Sloping\"\n",
    "StopWatch.start(\"data-plot-1\")\n",
    "plt.figure(\"Sloping\")\n",
    "plt.hist(sloping, bins=15, range =(110,140), color = \"green\")\n",
    "plt.title(\"Sloping Background from 42000 events\", backgroundcolor = \"white\")\n",
    "plt.show()\n",
    "StopWatch.stop(\"data-plot-1\")\n",
    "StopWatch.stop(\"Part 1\")"
   ],
   "metadata": {
    "collapsed": false,
    "pycharm": {
     "name": "#%%\n"
    }
   }
  },
  {
   "cell_type": "markdown",
   "source": [
    "## Part 2 The Higgs Signal\n",
    "\n",
    "Create a Gaussian Higgs signal(Gaussian signal is what we will get due to error in measurement). The width of the Gaussian indicated the extent of measurement error. This signal has 300 samples.\n",
    "\n",
    "We compare two histogram choices -- 2 GeV or 0.5 GeV  -- each for twop measurement errors 0.5 and 2 GeV\n",
    "\n",
    "In the next part Part 3, we combine signal and background"
   ],
   "metadata": {
    "collapsed": false,
    "pycharm": {
     "name": "#%% md\n"
    }
   }
  },
  {
   "cell_type": "code",
   "execution_count": null,
   "outputs": [],
   "source": [
    "StopWatch.start(\"Part 2\")\n",
    "StopWatch.start(\"data-create-2\")\n",
    "gauss = 2 * np.random.randn(300) +126               #The signal is centered at 126 GeV and has a width of 2.\n",
    "narrowGauss = 0.5 * np.random.randn(300) +126        #A signal with centered at 126 GeV and width of 0.5(Error in measurement is less than previous signal\"\n",
    "StopWatch.start(\"data-create-2\")\n",
    "####Plotting - The Higgs Signal with width 2.0. \n",
    "####See The Plot named \"HiggsAlone\"\n",
    "StopWatch.start(\"data-plot-2\")\n",
    "plt.figure(\"HiggsAlone-1\")\n",
    "plt.hist(gauss, bins=15, range =(110,140), color = \"red\")\n",
    "plt.hist(narrowGauss, bins=15, range =(110,140), color = \"black\")\n",
    "plt.title(\"2 Gev and 0.5 GeV Higgs in 2 GeV bins on their own\", backgroundcolor = \"white\")\n",
    "plt.show()\n",
    "plt.figure(\"HiggsAlone-2\")\n",
    "plt.hist(gauss, bins=60, range =(110,140), color = \"red\")\n",
    "plt.hist(narrowGauss, bins=60, range =(110,140), color = \"black\")\n",
    "plt.title(\"2 Gev and 0.5 GeV Higgs in 0.5 GeV bins on their own\", backgroundcolor = \"white\")\n",
    "plt.show()\n",
    "StopWatch.stop(\"data-create-2\")\n",
    "StopWatch.stop(\"Part 2\")"
   ],
   "metadata": {
    "collapsed": false,
    "pycharm": {
     "name": "#%%\n"
    }
   }
  },
  {
   "cell_type": "markdown",
   "source": [
    "## Part 3 Higgs plus Background\n",
    "\n",
    "Create the actual Signal by combining the Higgs signals(Gaussian shape) and the sloping background signal. \n",
    "\n",
    "We look at 2 different widths for the Higgs\n",
    "\n",
    "Note Higgs width is entirely due to measurement error. The Higgs has a natural width as it is NOT stable but rather decays. This natural width can only be estimated at present from observed decay rate and it is < 10 MeV - a factor of more than 100 lower than observed width. \n",
    "\n",
    "As width coming from measurement errors, it is expected to be Gaussian. It would be a different shape (Breit Wigner) if coming from its Quantum properties\n",
    "\n",
    "The three plots fix the measurement with at 0.5 GeV and vary your choice as a data analyst; namely the bin size of histogram. The 0.5 GeV bin size seems best"
   ],
   "metadata": {
    "collapsed": false,
    "pycharm": {
     "name": "#%% md\n"
    }
   }
  },
  {
   "cell_type": "code",
   "execution_count": null,
   "outputs": [],
   "source": [
    "StopWatch.start(\"Part 3\")\n",
    "StopWatch.start(\"data-create-3\")\n",
    "total = np.concatenate((sloping, gauss))            #Accumalate the sloping Background and gauss(width = 2.0)\n",
    "narrowTotal = np.concatenate((sloping, narrowGauss)) #Accumalate the sloping background and narrowGauss(width = 0.5)\n",
    "StopWatch.stop(\"data-create-3\")\n",
    "####Plotting - The 3 kinds of signals(Sloping Background, Higgs Signal, Combined Signal) where Higgs Signal has width 0.5. The plot has 15 bins(each bin represents 2 GeV). \n",
    "####See The Plot named \"Total Narrow Higgs\"\n",
    "StopWatch.start(\"data-plot-3\")\n",
    "plt.figure(\"Total Narrow Higgs\")\n",
    "plt.hist(narrowTotal, bins=15, range =(110,140), alpha = 0.5, color = \"blue\")   #Total Signal\n",
    "plt.hist(sloping, bins=15, range =(110,140), alpha = 0.5, color = \"green\")       #Sloping Signal.\n",
    "plt.hist(narrowGauss, bins=15, range =(110,140), alpha = 0.5, color = \"red\")   #Only the Higgs Signal.\n",
    "plt.title(\"0.5 Gev Higgs in 2 GeV bins with Sloping Background\", backgroundcolor = \"white\")\n",
    "plt.show()\n",
    "\n",
    "####Plotting - The 3 kinds of signals(Sloping Background, Higgs Signal, Combined Signal) where Higgs Signal has width 0.5. The plot has 30 bins(each bin represents 1GeV).\n",
    "####See The Plot named \"Total Narrow Higgs Bin 1 GeV\"\n",
    "plt.figure(\"Total Narrow Higgs Bin 1 GeV\")\n",
    "plt.hist(narrowTotal, bins=30, range =(110,140), alpha = 0.5, color = \"blue\")   #Total Signal\n",
    "plt.hist(sloping, bins=30, range =(110,140), alpha = 0.5, color = \"green\")       #Sloping Signal.      \n",
    "plt.hist(narrowGauss, bins=30, range =(110,140), alpha = 0.5, color = \"red\")   #Only the Higgs Signal.\n",
    "plt.title(\"0.5 Gev Higgs in 1 GeV bins with Sloping Background\", backgroundcolor = \"white\")\n",
    "plt.show()\n",
    "\n",
    "####Plotting - The 3 kinds of signals(Sloping Background, Higgs Signal, Combined Signal) where Higgs Signal has width 0.5. The plot has 60 bins(each bin represents 0.5GeV).\n",
    "####See The Plot named \"Total Narrow Higgs Bin 0.5 GeV\"\n",
    "plt.figure(\"Total Narrow Higgs Bin 0.5 GeV\")\n",
    "plt.hist(narrowTotal, bins=60, range =(110,140), alpha = 0.5, color = \"blue\")   #Total Signal\n",
    "plt.hist(sloping, bins=60, range =(110,140), alpha = 0.5, color = \"green\")       #Sloping Signal.\n",
    "plt.hist(narrowGauss, bins=60, range =(110,140), alpha = 0.5, color = \"red\")   #Only the Higgs Signal.\n",
    "plt.title(\"0.5 Gev Higgs in 0.5 GeV bins with Sloping Background\", backgroundcolor = \"white\")\n",
    "plt.show()"
   ],
   "metadata": {
    "collapsed": false,
    "pycharm": {
     "name": "#%%\n"
    }
   }
  },
  {
   "cell_type": "markdown",
   "source": [
    "Here we look at a 2 GeV wide Higgs Boson. It does not stand out!"
   ],
   "metadata": {
    "collapsed": false,
    "pycharm": {
     "name": "#%% md\n"
    }
   }
  },
  {
   "cell_type": "code",
   "execution_count": null,
   "outputs": [],
   "source": [
    "\n",
    "####Plotting - The 3 kinds of signals(Sloping Background, Higgs Signal, Combined Signal) signal where Higgs Signal has width 2.0. The plot has 15 bins(each bin represents 2GeV).\n",
    "####See The Plot named \"Total Wide Higgs Bin 2 GeV\"\n",
    "plt.figure(\"Total Wide Higgs Bin 2 GeV\")\n",
    "values, binedges, junk = plt.hist(total, bins=15, range =(110,140), alpha = 0.5, color = \"blue\")     #Total Signal. We also store the histogram values(number of members per bin) and binedges.\n",
    "plt.hist(sloping, bins=15, range =(110,140), alpha = 0.5, color = \"green\")                           #Sloping Signal.\n",
    "plt.hist(gauss, bins=15, range =(110,140), alpha = 0.5, color = \"red\")                               #Only the Higgs Signal.\n",
    "plt.title(\"2 Gev Higgs in 2 GeV bins with Sloping Background\", backgroundcolor = \"white\")\n",
    "plt.show()\n",
    "StopWatch.stop(\"data-plot-3\")\n",
    "StopWatch.stop(\"Part 3\")"
   ],
   "metadata": {
    "collapsed": false,
    "pycharm": {
     "name": "#%%\n"
    }
   }
  },
  {
   "cell_type": "markdown",
   "source": [
    "## Part 4 Error Estimates\n",
    "\n",
    "Computing the bin Centers and Errors where latter come from rule for counting experiments that an observation of N events has an error sqrt(N)\n",
    "\n",
    "The error bars are quite small as 2500 has error 50 which is 2%). They are bigger at the end when we reduce total number of events."
   ],
   "metadata": {
    "collapsed": false,
    "pycharm": {
     "name": "#%% md\n"
    }
   }
  },
  {
   "cell_type": "code",
   "execution_count": null,
   "outputs": [],
   "source": [
    "StopWatch.start(\"Part 4\")\n",
    "StopWatch.start(\"data-create-4\")\n",
    "centers = 0.5*(binedges[1:] + binedges[:-1])                            #Computing bin center as the average of its 2 bin-edges.\n",
    "errors = np.sqrt(values)                                                #Computing expected error as the square root of values.\n",
    "StopWatch.stop(\"data-create-4\")\n",
    "####Plotting - The 3 kinds of signals(Sloping Background, Higgs Signal, Combined Signal) and expected errors where Higgs Signal has width 2.0. The plot has 60 bins(each bin represents 0.5GeV).\n",
    "####See The Plot named \"Total Wide Higgs Bin 2 GeV with errors\"\n",
    "StopWatch.start(\"data-plot-4\")\n",
    "plt.figure(\"Total Wide Higgs Bin 2 GeV with errors\")\n",
    "plt.hist(total, bins=15, range =(110,140), alpha = 0.5, color = \"blue\")                                 #The total signal\n",
    "plt.hist(sloping, bins=15, range =(110,140), alpha = 0.5, color = \"green\")                              #Sloping Signal.\n",
    "plt.hist(gauss, bins=15, range =(110,140), alpha = 0.5, color = \"red\")                                  #Only the Higgs Signal.\n",
    "plt.errorbar(centers, values, yerr = errors, ls='None', marker ='x', color = 'black', markersize= 6.0 ) #The error bar\n",
    "plt.title(\"2 Gev Higgs in 2 GeV bins with Sloping Background + Errors\", backgroundcolor = \"white\")\n",
    "plt.show()\n",
    "StopWatch.stop(\"data-plot-4\")\n",
    "StopWatch.stop(\"Part 4\")"
   ],
   "metadata": {
    "collapsed": false,
    "pycharm": {
     "name": "#%%\n"
    }
   }
  },
  {
   "cell_type": "markdown",
   "source": [
    "## Part 5 A Larger Signal\n",
    "\n",
    "Creating a Higgs Signal with 30000 elements. If we use this against the original backgrounds, we study the effect of making the Higgs 100 times more likely(The original number of Higgs samples was 300)."
   ],
   "metadata": {
    "collapsed": false,
    "pycharm": {
     "name": "#%% md\n"
    }
   }
  },
  {
   "cell_type": "code",
   "execution_count": null,
   "outputs": [],
   "source": [
    "StopWatch.start(\"Part 5\")\n",
    "print('Higgs on its own with no background')\n",
    "StopWatch.start(\"data-create-5\")\n",
    "gaussbig = 2 * np.random.randn(30000) +126                  #Creating a Higgs Signal with 30000 elements and width of 2.0\n",
    "gaussnarrowbig = 0.5 * np.random.randn(30000) +126          #Creating a Higgs Signal with 30000 elements and width of 0.5(less error in measurement than previous case)\n",
    "totalbig = np.concatenate((sloping, gaussbig))\n",
    "StopWatch.stop(\"data-create-5\")\n",
    "####Plotting - The Pure Higgs Signals with weight 0.5 and 2. The signal with 30,000 elements is used. Plot has 60 bins(each of size .5GeV).\n",
    "####See The Plot named \"30000 Higgs in 0.5 GeV bins\"\n",
    "StopWatch.start(\"data-plot-5\")\n",
    "plt.figure(\"30000 Higgs in 0.5 GeV bins\")\n",
    "plt.hist(gaussnarrowbig, bins=60, range =(110,140), alpha = 0.5) #Higgs signal \n",
    "plt.hist(gaussbig, bins=60, range =(110,140), alpha = 0.5)\n",
    "plt.title(\"30000 Narrow and Wide Higgs in 0.5 GeV bins\", backgroundcolor = \"white\")\n",
    "plt.show()\n",
    "\n",
    "print('\\nLarge Higgs signal on original size background')\n",
    "\n",
    "####Plotting - The 3 kinds of signals(Sloping Background, Higgs Signal, Combined Signal) where Higgs Signal has width 2.0 and is 100 times more frequent. The plot has 15 bins(each bin represents 2GeV).\n",
    "####See The Plot named \"Total Wide Higgs Bin 2 GeV 100 times Higgs\" \n",
    "plt.figure(\"Total Wide Higgs Bin 2 GeV 100 times Higgs\")\n",
    "plt.hist(totalbig, bins=15, range =(110,140), alpha = 0.5)                          #Total signal with Higgs being 100 times more frequent\n",
    "plt.hist(sloping, bins=15, range =(110,140), alpha = 0.5)                           #sloping background\n",
    "plt.hist(gaussbig, bins=15, range =(110,140), alpha = 0.5)                          #Higgs signal with 30,000 elements\n",
    "plt.title(\"Total Wide Higgs Bin 2 GeV 100 times Higgs\", backgroundcolor = \"white\")\n",
    "plt.show()\n",
    "StopWatch.stop(\"data-plot-5\")\n",
    "StopWatch.stop(\"Part 5\")"
   ],
   "metadata": {
    "collapsed": false,
    "pycharm": {
     "name": "#%%\n"
    }
   }
  },
  {
   "cell_type": "markdown",
   "source": [
    "## Part 6 A Small Experiment (1% original)\n",
    "\n",
    "Creating a setup with 1% data. Now the background has initially 420 elements\n",
    "\n",
    "This data fluctuates too much and you wont see any signal from Higgs (only 3 particles expected)"
   ],
   "metadata": {
    "collapsed": false,
    "pycharm": {
     "name": "#%% md\n"
    }
   }
  },
  {
   "cell_type": "code",
   "execution_count": null,
   "outputs": [],
   "source": [
    "StopWatch.start(\"Part 6\")\n",
    "StopWatch.start(\"data-create-6\")\n",
    "testrand420 = np.random.rand(420)                               #Creating random array with 420 elements.\n",
    "Base420 = 110 + 30* np.random.rand(420)                         #Creating Background with 420 events \n",
    "index420 = (1.0 - 0.5* (Base420-110)/30) > testrand420          #Creating index to get the sloping background.\n",
    "Sloping420 = Base420[index420]                                  #Creating Sloping Background\n",
    "StopWatch.stop(\"data-create-6\")\n",
    "#### Plot - Plotting the 1% background data. Plot has 15 bins(each 2GeV)\n",
    "####See The Plot named \"Sloping 420 Events\"\n",
    "StopWatch.start(\"data-plot-6\")\n",
    "plt.figure(\"Sloping 420 Events\")\n",
    "plt.hist(Sloping420, bins=15, range =(110,140))\n",
    "plt.title(\"Sloping Background from 420 events (1%)\", backgroundcolor = \"white\")\n",
    "plt.show()\n",
    "StopWatch.stop(\"data-plot-6\")\n",
    "StopWatch.stop(\"Part 6\")"
   ],
   "metadata": {
    "collapsed": false,
    "pycharm": {
     "name": "#%%\n"
    }
   }
  },
  {
   "cell_type": "markdown",
   "source": [
    "## Part 7 Medium Size Experiment\n",
    "\n",
    "Creating setup with 10% data(4200 elements for background, 30 elements for Higgs signal) and computing the errors."
   ],
   "metadata": {
    "collapsed": false,
    "pycharm": {
     "name": "#%% md\n"
    }
   }
  },
  {
   "cell_type": "code",
   "execution_count": null,
   "outputs": [],
   "source": [
    "StopWatch.start(\"Part 7\")\n",
    "StopWatch.start(\"data-create-7\")\n",
    "testrand4200 = np.random.rand(4200)                             #Creating random array with 4200 elements.\n",
    "Base4200 = 110 + 30* np.random.rand(4200)                       #Creating Background with 4200 events \n",
    "index4200 = (1.0 - 0.5* (Base4200-110)/30) > testrand4200       #Creating index to get the sloping background.\n",
    "Sloping4200 = Base4200[index4200]                               #Creating Sloping Background\n",
    "gauss30 = 2 * np.random.randn(30) +126                          #Creating Higgs signal with width 2.0 and center at 126GeV\n",
    "total10percent = np.concatenate((Sloping4200, gauss30))         #Combining the Higgs signal and sloping background\n",
    "StopWatch.stop(\"data-create-7\")\n",
    "####Plotting - The 3 kinds of signals(Sloping Background, Higgs Signal, Combined Signal) where Higgs Signal has width 2.0 for 10% of data. The plot has 15 bins(each bin represents 2GeV).\n",
    "####See The Plot named \"Total Sloping Background 10% Data\"\n",
    "StopWatch.start(\"data-plot-7\")\n",
    "plt.figure(\"Total Sloping Background 10% Data\")\n",
    "values10percent, binedges10percent, junk = plt.hist(total10percent, bins=15, range =(110,140), alpha = 0.5, color = \"blue\") #Total signal and storing the number values/bin and the bin edges.\n",
    "plt.hist(Sloping4200, bins=15, range =(110,140), alpha = 0.5, color = \"green\")                                              #Sloping background\n",
    "plt.hist(gauss30, bins=15, range =(110,140), alpha = 0.5, color = \"red\")                                                    #Higgs Signal(width 2.0)\n",
    "plt.title(\"Total with Sloping Background from 4200 events (10%)\", backgroundcolor = \"white\")\n",
    "plt.show()\n",
    "\n",
    "####Plotting - The 3 kinds of signals(Sloping Background, Higgs Signal, Combined Signal) and the error where Higgs Signal has width 2.0 for 10% of data. The plot has 15 bins(each bin represents 2GeV).\n",
    "####See The Plot named \"Total Sloping Background 10% Data with errors\"\n",
    "plt.figure(\"Total Sloping Background 10% Data with errors\")\n",
    "centers10percent = 0.5*(binedges10percent[1:] + binedges10percent[:-1])             #Computing the bin centers\n",
    "errors10percent = np.sqrt(values10percent)                                          #Computing expected errors\n",
    "plt.hist(total10percent, bins=15, range =(110,140), alpha = 0.5, color = \"blue\")    #Plotting the total signal\n",
    "plt.hist(Sloping4200, bins=15, range =(110,140), alpha = 0.5, color = \"green\")      #Plotting the sloping background\n",
    "plt.hist(gauss30, bins=15, range =(110,140), alpha = 0.5, color = \"red\")            #Plotting the Higgs Signal\n",
    "plt.errorbar(centers10percent, values10percent, yerr = errors10percent, ls='None', marker ='x', color = 'black', markersize= 6.0 ) #Plotting the error\n",
    "plt.title(\"Total with Sloping Background from 4200 events (10%) + Errors\", backgroundcolor = \"white\")\n",
    "plt.show()\n",
    "StopWatch.stop(\"data-plot-7\")\n",
    "StopWatch.stop(\"Part 7\")\n",
    "StopWatch.stop(\"total\")"
   ],
   "metadata": {
    "collapsed": false,
    "pycharm": {
     "name": "#%%\n"
    }
   }
  }
 ]
}