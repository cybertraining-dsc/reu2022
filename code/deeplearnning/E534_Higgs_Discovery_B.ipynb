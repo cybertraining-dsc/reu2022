{
 "nbformat": 4,
 "nbformat_minor": 0,
 "metadata": {
  "colab": {
   "name": "E534-Higgs_Discovery-B.ipynb",
   "provenance": [],
   "collapsed_sections": []
  },
  "kernelspec": {
   "name": "python3",
   "display_name": "Python 3"
  }
 },
 "cells": [
  {
   "cell_type": "markdown",
   "source": [
    "# B: Studying Higgs Boson Analysis. Signal and Background\n",
    "\n",
    "## Study of a Uniform -- not a Sloping Background"
   ],
   "metadata": {
    "collapsed": false,
    "pycharm": {
     "name": "#%% md\n"
    }
   }
  },
  {
   "cell_type": "code",
   "execution_count": null,
   "outputs": [],
   "source": [
    "try:\n",
    "    from cloudmesh.common.StopWatch import StopWatch\n",
    "except:  # noqa: E722\n",
    "    ! pip install cloudmesh-common\n",
    "    from cloudmesh.common.StopWatch import StopWatch\n",
    "from cloudmesh.common.Shell import Shell"
   ],
   "metadata": {
    "collapsed": false,
    "pycharm": {
     "name": "#%%\n"
    }
   }
  },
  {
   "cell_type": "code",
   "execution_count": null,
   "outputs": [],
   "source": [
    "StopWatch.start(\"total\")\n",
    "StopWatch.progress(0)\n",
    "StopWatch.start(\"import\")\n",
    "import numpy as np    # noqa: E402\n",
    "import matplotlib.pyplot as plt    # noqa: E402\n",
    "import os\n",
    "# import pylab\n",
    "StopWatch.stop(\"import\")\n",
    "\n",
    "def save(file):\n",
    "  name = os.path.basename(file).replace(\".py\", \"\")\n",
    "  cwd = Shell.map_filename(\".\")\n",
    "  Shell.mkdir(f\"{cwd}/images\")\n",
    "  plt.savefig(f'{cwd}/images/{name}.png',dpi=300)\n",
    "  plt.savefig(f'{cwd}/images/{name}.pdf')\n",
    "  plt.savefig(f'{cwd}/images/{name}.svg')\n",
    "  plt.show()"
   ],
   "metadata": {
    "collapsed": false,
    "pycharm": {
     "name": "#%%\n"
    }
   }
  },
  {
   "cell_type": "code",
   "execution_count": null,
   "outputs": [],
   "source": [
    "n = 42000\n",
    "StopWatch.start(f\"create-randomdata-{n}\")\n",
    "Base = 110 + 30 * np.random.rand(n)\n",
    "# Base is set of observations with an expected 2800 background events  per bin\n",
    "# Note we assume here flat but in class I used a \"sloping\" curve that represented experiment better\n",
    "gauss = 2 * np.random.randn(300) + 126\n",
    "# Gauss is Number of Higgs particles\n",
    "simpletotal = np.concatenate((Base, gauss))\n",
    "# simpletotal is Higgs+Background\n",
    "StopWatch.stop(f\"create-randomdata-{n}\")\n",
    "StopWatch.progress(30)\n",
    "\n",
    "StopWatch.start(\"plot-wide-higgs-2gev\")\n",
    "plt.figure(\"Total Wide Higgs Bin 2 GeV\")\n",
    "values, binedges, junk = plt.hist(simpletotal, bins=15, range=(110,140), alpha=0.5, color=\"blue\")\n",
    "centers = 0.5 * (binedges[1:] + binedges[:-1])\n",
    "# centers is center of each bin\n",
    "# values is number of events in each bin\n",
    "# :-1 is same as :Largest Index-1\n",
    "# binedges[:-1] gets you lower limit of bin\n",
    "# 1: gives you array starts at second index (labelled 1 as first index 0)\n",
    "# binedges[1:] is upper limit of each bin\n",
    "# Note binedges has Number of Bins + 1 entries; centers has Number of Bins entries\n",
    "errors =np.sqrt(values)\n",
    "# errors is expected error for each bin\n",
    "plt.hist(Base, bins=15, range =(110,140), alpha = 0.5, color=\"green\")\n",
    "plt.hist(gauss, bins=15, range =(110,140), alpha = 0.5, color=\"red\")\n",
    "plt.errorbar(centers, values, yerr = errors, ls='None', marker ='x', color = 'black', markersize= 6.0 )\n",
    "plt.title(\"Uniform Background from 42000 events; 2 Gev Higgs\", backgroundcolor = \"white\")\n",
    "# For Agg backend\n",
    "save(\"wide-higgs-2gev\")\n",
    "StopWatch.stop(\"plot-wide-higgs-2gev\")\n",
    "StopWatch.progress(60)\n",
    "\n",
    "StopWatch.start(\"create-narrow-gauss\")\n",
    "NarrowGauss = 0.5 * np.random.randn(300) + 126\n",
    "# NarrowGauss is Number of Higgs particles\n",
    "simpletotal = np.concatenate((Base, NarrowGauss))\n",
    "plt.figure(\"Total Narrow Higgs Bin 2 GeV\")\n",
    "values, binedges, junk = plt.hist(simpletotal, bins=15, range =(110,140), alpha = 0.5, color=\"blue\")\n",
    "centers = 0.5*(binedges[1:] + binedges[:-1])\n",
    "errors =np.sqrt(values)\n",
    "StopWatch.stop(\"create-narrow-gauss\")\n",
    "StopWatch.progress(80)\n",
    "\n",
    "StopWatch.start(\"plot-narrow-gauss\")\n",
    "plt.hist(Base, bins=15, range=(110,140), alpha=0.5, color=\"green\")\n",
    "plt.hist(NarrowGauss, bins=15, range=(110, 140), alpha=0.5, color=\"red\")\n",
    "plt.errorbar(centers, values, yerr=errors, ls='None', marker ='x', color='black', markersize=6.0 )\n",
    "plt.title(\"Uniform Background from 42000 events; 0.5 Gev Higgs\", backgroundcolor=\"white\")\n",
    "save(\"narrow-gauss\")\n",
    "StopWatch.stop(\"plot-narrow-gauss\")\n",
    "StopWatch.progress(85)\n",
    "\n",
    "StopWatch.start(\"plot-total-narrow-higgs-0.5gev\")\n",
    "plt.figure(\"Total Narrow Higgs Bin 0.5 GeV\")\n",
    "values, binedges, junk = plt.hist(simpletotal, bins=60, range=(110, 140), alpha=0.5, color=\"blue\")\n",
    "centers = 0.5*(binedges[1:] + binedges[:-1])\n",
    "errors =np.sqrt(values)\n",
    "StopWatch.progress(90)\n",
    "\n",
    "plt.hist(Base, bins=60, range=(110, 140), alpha=0.5, color=\"green\")\n",
    "plt.hist(NarrowGauss, bins=60, range=(110,140), alpha=0.5, color=\"red\")\n",
    "plt.errorbar(centers, values, yerr=errors, ls='None', marker ='x', color='black', markersize=6.0 )\n",
    "plt.title(\"Uniform Background from 42000 events; 0.5 Gev Higgs\", backgroundcolor=\"white\")\n",
    "save(\"total-narrow-higgs-0.5gev\")\n",
    "StopWatch.stop(\"plot-total-narrow-higgs\")\n",
    "StopWatch.stop(\"total\")\n",
    "StopWatch.benchmark()\n",
    "StopWatch.progress(100)"
   ],
   "metadata": {
    "collapsed": false,
    "pycharm": {
     "name": "#%%\n"
    }
   }
  }
 ]
}