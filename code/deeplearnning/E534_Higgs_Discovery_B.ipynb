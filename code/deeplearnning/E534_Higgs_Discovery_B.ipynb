{
 "nbformat": 4,
 "nbformat_minor": 0,
 "metadata": {
  "colab": {
   "name": "E534-Higgs_Discovery-B.ipynb",
   "provenance": [],
   "collapsed_sections": []
  },
  "kernelspec": {
   "name": "python3",
   "display_name": "Python 3"
  }
 },
 "cells": [
  {
   "cell_type": "markdown",
   "source": [
    "# B: Studying Higgs Boson Analysis. Signal and Background\n",
    "\n",
    "This program runs in about 1.194 seconds (Windows 10, 16 GB)\n",
    "\n",
    "## Study of a Uniform -- not a Sloping Background"
   ],
   "metadata": {
    "collapsed": false,
    "pycharm": {
     "name": "#%% md\n"
    }
   }
  },
  {
   "cell_type": "code",
   "execution_count": null,
   "outputs": [],
   "source": [
    "try:\n",
    "    from cloudmesh.common.StopWatch import StopWatch\n",
    "except:  # noqa: E722\n",
    "    ! pip install cloudmesh-common\n",
    "    from cloudmesh.common.StopWatch import StopWatch"
   ],
   "metadata": {
    "collapsed": false,
    "pycharm": {
     "name": "#%%\n"
    }
   }
  },
  {
   "cell_type": "code",
   "execution_count": null,
   "outputs": [],
   "source": [
    "StopWatch.start(\"total\")\n",
    "StopWatch.start(\"import\")\n",
    "import numpy as np\n",
    "import matplotlib.pyplot as plt\n",
    "import pylab\n",
    "StopWatch.stop(\"import\")\n",
    "\n",
    "StopWatch.start(\"data-create-1\")\n",
    "Base = 110 + 30 * np.random.rand(42000)\n",
    "# Base is set of observations with an expected 2800 background events  per bin\n",
    "# Note we assume here flat but in class I used a \"sloping\" curve that represented experiment better\n",
    "gauss = 2 * np.random.randn(300) + 126\n",
    "# Gauss is Number of Higgs particles\n",
    "simpletotal = np.concatenate((Base, gauss))\n",
    "# simpletotal is Higgs+Background\n",
    "StopWatch.stop(\"data-create-1\")\n",
    "\n",
    "StopWatch.start(\"data-plot-1\")\n",
    "plt.figure(\"Total Wide Higgs Bin 2 GeV\")\n",
    "values, binedges, junk = plt.hist(simpletotal, bins=15, range=(110,140), alpha=0.5, color=\"blue\")\n",
    "centers = 0.5 * (binedges[1:] + binedges[:-1])\n",
    "# centers is center of each bin\n",
    "# values is number of events in each bin\n",
    "# :-1 is same as :Largest Index-1\n",
    "# binedges[:-1] gets you lower limit of bin\n",
    "# 1: gives you array starts at second index (labelled 1 as first index 0)\n",
    "# binedges[1:] is upper limit of each bin\n",
    "# Note binedges has Number of Bins + 1 entries; centers has Number of Bins entries\n",
    "errors =np.sqrt(values)\n",
    "# errors is expected error for each bin\n",
    "plt.hist(Base, bins=15, range =(110,140), alpha = 0.5, color=\"green\")\n",
    "plt.hist(gauss, bins=15, range =(110,140), alpha = 0.5, color=\"red\")\n",
    "plt.errorbar(centers, values, yerr = errors, ls='None', marker ='x', color = 'black', markersize= 6.0 )\n",
    "plt.title(\"Uniform Background from 42000 events; 2 Gev Higgs\", backgroundcolor = \"white\")\n",
    "# For Agg backend\n",
    "plt.show()\n",
    "StopWatch.stop(\"data-plot-1\")\n",
    "\n",
    "StopWatch.start(\"data-create-2\")\n",
    "NarrowGauss = 0.5 * np.random.randn(300) + 126\n",
    "# NarrowGauss is Number of Higgs particles\n",
    "simpletotal = np.concatenate((Base, NarrowGauss))\n",
    "plt.figure(\"Total Narrow Higgs Bin 2 GeV\")\n",
    "values, binedges, junk = plt.hist(simpletotal, bins=15, range =(110,140), alpha = 0.5, color=\"blue\")\n",
    "centers = 0.5*(binedges[1:] + binedges[:-1])\n",
    "errors =np.sqrt(values)\n",
    "StopWatch.stop(\"data-create-2\")\n",
    "StopWatch.start(\"data-plot-2\")\n",
    "plt.hist(Base, bins=15, range =(110,140), alpha = 0.5, color=\"green\")\n",
    "plt.hist(NarrowGauss, bins=15, range =(110,140), alpha = 0.5, color=\"red\")\n",
    "plt.errorbar(centers, values, yerr = errors, ls='None', marker ='x', color = 'black', markersize= 6.0 )\n",
    "plt.title(\"Uniform Background from 42000 events; 0.5 Gev Higgs\", backgroundcolor = \"white\")\n",
    "plt.show()\n",
    "StopWatch.stop(\"data-plot-2\")\n",
    "\n",
    "StopWatch.start(\"data-create-3\")\n",
    "plt.figure(\"Total Narrow Higgs Bin 0.5 GeV\")\n",
    "values, binedges, junk = plt.hist(simpletotal, bins=60, range =(110,140), alpha = 0.5, color=\"blue\")\n",
    "centers = 0.5*(binedges[1:] + binedges[:-1])\n",
    "errors =np.sqrt(values)\n",
    "StopWatch.stop(\"data-create-3\")\n",
    "StopWatch.start(\"data-plot-3\")\n",
    "plt.hist(Base, bins=60, range =(110,140), alpha = 0.5, color=\"green\")\n",
    "plt.hist(NarrowGauss, bins=60, range =(110,140), alpha = 0.5, color=\"red\")\n",
    "plt.errorbar(centers, values, yerr = errors, ls='None', marker ='x', color = 'black', markersize= 6.0 )\n",
    "plt.title(\"Uniform Background from 42000 events; 0.5 Gev Higgs\", backgroundcolor = \"white\")\n",
    "plt.show()\n",
    "StopWatch.stop(\"data-plot-3\")\n",
    "StopWatch.stop(\"total\")\n",
    "StopWatch.benchmark()"
   ],
   "metadata": {
    "collapsed": false,
    "pycharm": {
     "name": "#%%\n"
    }
   }
  },
  {
   "cell_type": "code",
   "execution_count": null,
   "outputs": [],
   "source": [],
   "metadata": {
    "collapsed": false,
    "pycharm": {
     "name": "#%%\n"
    }
   }
  },
  {
   "cell_type": "code",
   "execution_count": null,
   "outputs": [],
   "source": [],
   "metadata": {
    "collapsed": false,
    "pycharm": {
     "name": "#%%\n"
    }
   }
  }
 ]
}