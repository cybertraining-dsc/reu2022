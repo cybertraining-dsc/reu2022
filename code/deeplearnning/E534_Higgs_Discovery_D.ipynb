{
  "nbformat": 4,
  "nbformat_minor": 0,
  "metadata": {
    "colab": {
      "name": "E534-Higgs_Discovery-D.ipynb",
      "provenance": [],
      "collapsed_sections": []
    },
    "kernelspec": {
      "name": "python3",
      "display_name": "Python 3"
    }
  },
  "cells": [
    {
      "cell_type": "markdown",
      "metadata": {
        "id": "WmDU2D-8scGy",
        "colab_type": "text"
      },
      "source": [
        "# D: Random Numbers\n",
        "\n",
        "This notebook discusses aspects of random number generation including seeds."
      ]
    },
    {
      "cell_type": "code",
      "metadata": {
        "id": "IQS0HdxvsgVb",
        "colab_type": "code",
        "colab": {}
      },
      "source": [
        "import numpy as np\n",
        "import matplotlib.pyplot as plt"
      ],
      "execution_count": null,
      "outputs": []
    },
    {
      "cell_type": "markdown",
      "metadata": {
        "id": "aCeR86musliw",
        "colab_type": "text"
      },
      "source": [
        "## Part 1 Fixing Seed, fixes Random Numbers\n",
        "\n",
        "Create two sets of random numbers with the same seed(1234567) and plot them on top of each other. As identical sets of random numbers are created with identical seeds, you will get two plots exactly on top of each other."
      ]
    },
    {
      "cell_type": "code",
      "metadata": {
        "id": "j-lRNAWpsAer",
        "colab_type": "code",
        "colab": {
          "base_uri": "https://localhost:8080/",
          "height": 281
        },
        "outputId": "d1918651-f992-49fa-bd92-4a102c24d4cb"
      },
      "source": [
        "np.random.seed(seed=1234567)                                            #set the seed of the random number generator to 1234567\n",
        "Base = 110 + 30* np.random.rand(42000)                                  #generate 42000 random numbers between 110 and 140\n",
        "plt.figure(\"On Top of Each Other\")\n",
        "plt.hist(Base, bins=15, range =(110,140), alpha = 0.5, color=\"blue\")    #Plot the histogram for the first set\n",
        "\n",
        "np.random.seed(seed=1234567)                                            #set the seed of the random number generator to 1234567 for the second set\n",
        "Base2 = 110 + 30* np.random.rand(42000)                                 #Generate the second set of random numbers\n",
        "plt.hist(Base2, bins=15, range =(110,140), alpha = 0.5, color=\"yellow\") #Plot the histogram for the second set\n",
        "plt.title(\"Two histograms on top of each other as identical random numbers\")\n",
        "plt.show()"
      ],
      "execution_count": null,
      "outputs": [
        {
          "output_type": "display_data",
          "data": {
            "image/png": "[encoded data removed]",
            "text/plain": [
              "<Figure size 432x288 with 1 Axes>"
            ]
          },
          "metadata": {
            "tags": [],
            "needs_background": "light"
          }
        }
      ]
    },
    {
      "cell_type": "markdown",
      "metadata": {
        "id": "Z9LviRLSss-c",
        "colab_type": "text"
      },
      "source": [
        "## Part 2 Varying Seed (randomly) gives distinct results\n",
        "\n",
        "Create two sets of random  numbers with different seeds and plot them on top of each other. Differences can be seen in the plot."
      ]
    },
    {
      "cell_type": "code",
      "metadata": {
        "id": "B4IxU4VUskky",
        "colab_type": "code",
        "colab": {
          "base_uri": "https://localhost:8080/",
          "height": 281
        },
        "outputId": "d06ea326-19dc-4dc9-c0e4-cd5f64e5c834"
      },
      "source": [
        "plt.figure(\"Different\")\n",
        "np.random.seed(seed=1234567)                                            #set the seed of the random number generator to 1234567 for the first set of random numbers\n",
        "Base4 = 110 + 30* np.random.rand(42000)                                 #Generate a set of 42000 random numbers between 110 and 140(first set)\n",
        "plt.hist(Base4, bins=15, range =(110,140), alpha = 0.5, color=\"blue\")   #plot histogram for the first set.\n",
        "Base1 = 110 + 30* np.random.rand(42000)                                 #Generate the second set of 42000 numbers between 110 and 140. Note that for this set the seed set will depend on where the first set ends.\n",
        "plt.hist(Base1, bins=15, range =(110,140), alpha = 0.5, color=\"green\")  #Plot the histogram for the first seed set.\n",
        "np.random.seed(seed=7654321)                                            #Set the seed value for the generator to be 7654321\n",
        "Base3 = 110 + 30* np.random.rand(42000)                                 #Generate the third set of 42000 numbers between 110 and 140.\n",
        "plt.hist(Base3, bins=15, range =(110,140), alpha = 0.5, color=\"red\")    #Plot the third set.\n",
        "plt.title(\"Three distinct histograms as different random numbers\")\n",
        "# For Agg backend\n",
        "plt.show()"
      ],
      "execution_count": null,
      "outputs": [
        {
          "output_type": "display_data",
          "data": {
            "image/png": "[encoded data removed]",
            "text/plain": [
              "<Figure size 432x288 with 1 Axes>"
            ]
          },
          "metadata": {
            "tags": [],
            "needs_background": "light"
          }
        }
      ]
    }
  ]
}