{
 "nbformat": 4,
 "nbformat_minor": 0,
 "metadata": {
  "colab": {
   "name": "E534-Higgs_Discovery-D.ipynb",
   "provenance": [],
   "collapsed_sections": []
  },
  "kernelspec": {
   "name": "python3",
   "display_name": "Python 3"
  }
 },
 "cells": [
  {
   "cell_type": "markdown",
   "metadata": {
    "id": "WmDU2D-8scGy",
    "colab_type": "text",
    "pycharm": {
     "name": "#%% md\n"
    }
   },
   "source": [
    "# D: Random Numbers"
   ],
   "outputs": []
  },
  {
   "cell_type": "code",
   "execution_count": 1,
   "outputs": [],
   "source": [
    "# This notebook discusses aspects of random number generation including seeds.\n",
    "# This program runs in about 1.58 seconds (Windows 10, 16 GB)\n",
    "# This program runs in about 3.713 seconds on 5950X, 128GB"
   ],
   "metadata": {
    "collapsed": false,
    "pycharm": {
     "name": "#%%\n"
    }
   }
  },
  {
   "cell_type": "code",
   "execution_count": 2,
   "outputs": [],
   "source": [
    "try:\n",
    "    from cloudmesh.common.StopWatch import StopWatch\n",
    "except:  # noqa: E722\n",
    "    ! pip install cloudmesh-common\n",
    "    from cloudmesh.common.StopWatch import StopWatch\n",
    "from cloudmesh.common.Shell import Shell"
   ],
   "metadata": {
    "collapsed": false,
    "pycharm": {
     "name": "#%%\n"
    }
   }
  },
  {
   "cell_type": "code",
   "metadata": {
    "id": "IQS0HdxvsgVb",
    "colab_type": "code",
    "colab": {},
    "pycharm": {
     "name": "#%%\n"
    }
   },
   "source": [
    "StopWatch.progress(0)\n",
    "StopWatch.start(\"total\")\n",
    "StopWatch.start(\"import\")\n",
    "import numpy as np\n",
    "import matplotlib.pyplot as plt\n",
    "import os\n",
    "StopWatch.stop(\"import\")"
   ],
   "execution_count": 3,
   "outputs": [
    {
     "name": "stdout",
     "output_type": "stream",
     "text": [
      "# cloudmesh status=running progress=0 pid=14164\n"
     ]
    }
   ]
  },
  {
   "cell_type": "code",
   "execution_count": 4,
   "outputs": [],
   "source": [
    "def save(file):\n",
    "  name = os.path.basename(file).replace(\".py\", \"\")\n",
    "  cwd = Shell.map_filename(\".\")\n",
    "  Shell.mkdir(f\"{cwd}/images\")\n",
    "  plt.savefig(f'{cwd}/images/{name}.png',dpi=300)\n",
    "  plt.savefig(f'{cwd}/images/{name}.pdf')\n",
    "  plt.savefig(f'{cwd}/images/{name}.svg')\n",
    "  plt.show()"
   ],
   "metadata": {
    "collapsed": false,
    "pycharm": {
     "name": "#%%\n"
    }
   }
  },
  {
   "cell_type": "markdown",
   "metadata": {
    "id": "aCeR86musliw",
    "colab_type": "text",
    "pycharm": {
     "name": "#%% md\n"
    }
   },
   "source": [
    "## Part 1 Fixing Seed, fixes Random Numbers\n",
    "\n",
    "Create two sets of random numbers with the same seed(1234567) and plot them\n",
    "on top of each other. As identical sets of random numbers are created with\n",
    "identical seeds, you will get two plots exactly on top of each other."
   ]
  },
  {
   "cell_type": "code",
   "metadata": {
    "id": "j-lRNAWpsAer",
    "colab_type": "code",
    "colab": {
     "base_uri": "https://localhost:8080/",
     "height": 281
    },
    "outputId": "d1918651-f992-49fa-bd92-4a102c24d4cb",
    "pycharm": {
     "name": "#%%\n"
    }
   },
   "source": [
    "StopWatch.start(\"calculate\")\n",
    "\n",
    "n = 42000\n",
    "seed = 1234567\n",
    "# set the seed of the random number generator to 1234567\n",
    "np.random.seed(seed=seed)\n",
    "# generate n random numbers between 110 and 140\n",
    "Base = 110 + 30* np.random.rand(n)\n",
    "\n",
    "plt.figure(\"On Top of Each Other\")\n",
    "# Plot the histogram for the first set\n",
    "plt.hist(Base, bins=15, range=(110, 140), alpha=0.5, color=\"blue\")\n",
    "\n",
    "# set the seed of the random number generator to 1234567 for the second set\n",
    "np.random.seed(seed=seed)\n",
    "# Generate the second set of random numbers\n",
    "Base2 = 110 + 30 * np.random.rand(n)\n",
    "plt.hist(Base2, bins=15, range=(110, 140), alpha=0.5, color=\"yellow\")\n",
    "\n",
    "# Plot the histogram for the second set\n",
    "plt.title(\"Two histograms on top of each other as identical random numbers\")\n",
    "save(\"stacked-histograms-2\")"
   ],
   "execution_count": 5,
   "outputs": [
    {
     "ename": "KeyError",
     "evalue": "'HOME'",
     "output_type": "error",
     "traceback": [
      "\u001B[1;31m---------------------------------------------------------------------------\u001B[0m",
      "\u001B[1;31mKeyError\u001B[0m                                  Traceback (most recent call last)",
      "Input \u001B[1;32mIn [5]\u001B[0m, in \u001B[0;36m<cell line: 22>\u001B[1;34m()\u001B[0m\n\u001B[0;32m     20\u001B[0m \u001B[38;5;66;03m# Plot the histogram for the second set\u001B[39;00m\n\u001B[0;32m     21\u001B[0m plt\u001B[38;5;241m.\u001B[39mtitle(\u001B[38;5;124m\"\u001B[39m\u001B[38;5;124mTwo histograms on top of each other as identical random numbers\u001B[39m\u001B[38;5;124m\"\u001B[39m)\n\u001B[1;32m---> 22\u001B[0m \u001B[43msave\u001B[49m\u001B[43m(\u001B[49m\u001B[38;5;124;43m\"\u001B[39;49m\u001B[38;5;124;43mstacked-histograms-2\u001B[39;49m\u001B[38;5;124;43m\"\u001B[39;49m\u001B[43m)\u001B[49m\n",
      "Input \u001B[1;32mIn [4]\u001B[0m, in \u001B[0;36msave\u001B[1;34m(file)\u001B[0m\n\u001B[0;32m      1\u001B[0m \u001B[38;5;28;01mdef\u001B[39;00m \u001B[38;5;21msave\u001B[39m(file):\n\u001B[0;32m      2\u001B[0m   name \u001B[38;5;241m=\u001B[39m os\u001B[38;5;241m.\u001B[39mpath\u001B[38;5;241m.\u001B[39mbasename(file)\u001B[38;5;241m.\u001B[39mreplace(\u001B[38;5;124m\"\u001B[39m\u001B[38;5;124m.py\u001B[39m\u001B[38;5;124m\"\u001B[39m, \u001B[38;5;124m\"\u001B[39m\u001B[38;5;124m\"\u001B[39m)\n\u001B[1;32m----> 3\u001B[0m   cwd \u001B[38;5;241m=\u001B[39m \u001B[43mShell\u001B[49m\u001B[38;5;241;43m.\u001B[39;49m\u001B[43mmap_filename\u001B[49m\u001B[43m(\u001B[49m\u001B[38;5;124;43m\"\u001B[39;49m\u001B[38;5;124;43m.\u001B[39;49m\u001B[38;5;124;43m\"\u001B[39;49m\u001B[43m)\u001B[49m\n\u001B[0;32m      4\u001B[0m   Shell\u001B[38;5;241m.\u001B[39mmkdir(\u001B[38;5;124mf\u001B[39m\u001B[38;5;124m\"\u001B[39m\u001B[38;5;132;01m{\u001B[39;00mcwd\u001B[38;5;132;01m}\u001B[39;00m\u001B[38;5;124m/images\u001B[39m\u001B[38;5;124m\"\u001B[39m)\n\u001B[0;32m      5\u001B[0m   plt\u001B[38;5;241m.\u001B[39msavefig(\u001B[38;5;124mf\u001B[39m\u001B[38;5;124m'\u001B[39m\u001B[38;5;132;01m{\u001B[39;00mcwd\u001B[38;5;132;01m}\u001B[39;00m\u001B[38;5;124m/images/\u001B[39m\u001B[38;5;132;01m{\u001B[39;00mname\u001B[38;5;132;01m}\u001B[39;00m\u001B[38;5;124m.png\u001B[39m\u001B[38;5;124m'\u001B[39m,dpi\u001B[38;5;241m=\u001B[39m\u001B[38;5;241m300\u001B[39m)\n",
      "File \u001B[1;32m~\\cm\\cloudmesh-common\\cloudmesh\\common\\Shell.py:500\u001B[0m, in \u001B[0;36mShell.map_filename\u001B[1;34m(name)\u001B[0m\n\u001B[0;32m    497\u001B[0m _name \u001B[38;5;241m=\u001B[39m \u001B[38;5;28mstr\u001B[39m(name)\n\u001B[0;32m    498\u001B[0m result \u001B[38;5;241m=\u001B[39m dotdict()\n\u001B[1;32m--> 500\u001B[0m result\u001B[38;5;241m.\u001B[39muser \u001B[38;5;241m=\u001B[39m os\u001B[38;5;241m.\u001B[39mpath\u001B[38;5;241m.\u001B[39mbasename(\u001B[43mos\u001B[49m\u001B[38;5;241;43m.\u001B[39;49m\u001B[43menviron\u001B[49m\u001B[43m[\u001B[49m\u001B[38;5;124;43m\"\u001B[39;49m\u001B[38;5;124;43mHOME\u001B[39;49m\u001B[38;5;124;43m\"\u001B[39;49m\u001B[43m]\u001B[49m)\n\u001B[0;32m    501\u001B[0m result\u001B[38;5;241m.\u001B[39mhost \u001B[38;5;241m=\u001B[39m \u001B[38;5;124m\"\u001B[39m\u001B[38;5;124mlocalhost\u001B[39m\u001B[38;5;124m\"\u001B[39m\n\u001B[0;32m    502\u001B[0m result\u001B[38;5;241m.\u001B[39mprotocol \u001B[38;5;241m=\u001B[39m \u001B[38;5;124m\"\u001B[39m\u001B[38;5;124mlocalhost\u001B[39m\u001B[38;5;124m\"\u001B[39m\n",
      "File \u001B[1;32m~\\AppData\\Local\\Programs\\Python\\Python310\\lib\\os.py:679\u001B[0m, in \u001B[0;36m_Environ.__getitem__\u001B[1;34m(self, key)\u001B[0m\n\u001B[0;32m    676\u001B[0m     value \u001B[38;5;241m=\u001B[39m \u001B[38;5;28mself\u001B[39m\u001B[38;5;241m.\u001B[39m_data[\u001B[38;5;28mself\u001B[39m\u001B[38;5;241m.\u001B[39mencodekey(key)]\n\u001B[0;32m    677\u001B[0m \u001B[38;5;28;01mexcept\u001B[39;00m \u001B[38;5;167;01mKeyError\u001B[39;00m:\n\u001B[0;32m    678\u001B[0m     \u001B[38;5;66;03m# raise KeyError with the original key value\u001B[39;00m\n\u001B[1;32m--> 679\u001B[0m     \u001B[38;5;28;01mraise\u001B[39;00m \u001B[38;5;167;01mKeyError\u001B[39;00m(key) \u001B[38;5;28;01mfrom\u001B[39;00m \u001B[38;5;28mNone\u001B[39m\n\u001B[0;32m    680\u001B[0m \u001B[38;5;28;01mreturn\u001B[39;00m \u001B[38;5;28mself\u001B[39m\u001B[38;5;241m.\u001B[39mdecodevalue(value)\n",
      "\u001B[1;31mKeyError\u001B[0m: 'HOME'"
     ]
    },
    {
     "data": {
      "text/plain": "<Figure size 432x288 with 1 Axes>",
      "image/png": "[encoded data removed]"
     },
     "metadata": {
      "needs_background": "light"
     },
     "output_type": "display_data"
    }
   ]
  },
  {
   "cell_type": "markdown",
   "metadata": {
    "id": "Z9LviRLSss-c",
    "colab_type": "text",
    "pycharm": {
     "name": "#%% md\n"
    }
   },
   "source": [
    "## Part 2 Varying Seed (randomly) gives distinct results\n",
    "\n",
    "Create two sets of random  numbers with different seeds and\n",
    "plot them on top of each other. Differences can be seen in the plot."
   ]
  },
  {
   "cell_type": "code",
   "execution_count": null,
   "outputs": [],
   "source": [
    "plt.figure(\"Different\")\n",
    "# set the seed of the random number generator to 1234567 for the first\n",
    "# set of random numbers\n",
    "np.random.seed(seed=seed)\n",
    "# Generate a set of n random numbers between 110 and 140(first set)\n",
    "Base4 = 110 + 30 * np.random.rand(n)\n",
    "# plot histogram for the first set.\n",
    "plt.hist(Base4, bins=15, range=(110, 140), alpha=0.5, color=\"blue\")\n",
    "\n",
    "# Generate the second set of n numbers between 110 and 140. Note that for this\n",
    "# set the seed set will depend on where the first set ends.\n",
    "Base1 = 110 + 30 * np.random.rand(n)\n",
    "\n",
    "# Plot the histogram for the first seed set.\n",
    "plt.hist(Base1, bins=15, range=(110, 140), alpha=0.5, color=\"green\")\n",
    "# Set the seed value for the generator to be 7654321\n",
    "np.random.seed(seed=7654321)\n",
    "# Generate the third set of n numbers between 110 and 140.\n",
    "Base3 = 110 + 30 * np.random.rand(n)\n",
    "\n",
    "# Plot the third set.\n",
    "plt.hist(Base3, bins=15, range=(110, 140), alpha=0.5, color=\"red\")\n",
    "plt.title(\"Three distinct histograms as different random numbers\")\n",
    "# For Agg backend\n",
    "save(\"stacked-histograms-3\")\n",
    "StopWatch.stop(\"calculate\")\n",
    "\n",
    "StopWatch.stop(\"total\")\n",
    "StopWatch.benchmark()\n",
    "StopWatch.progress(100)"
   ],
   "metadata": {
    "collapsed": false,
    "pycharm": {
     "name": "#%%\n"
    }
   }
  },
  {
   "cell_type": "code",
   "execution_count": null,
   "outputs": [],
   "source": [],
   "metadata": {
    "collapsed": false,
    "pycharm": {
     "name": "#%%\n"
    }
   }
  }
 ]
}