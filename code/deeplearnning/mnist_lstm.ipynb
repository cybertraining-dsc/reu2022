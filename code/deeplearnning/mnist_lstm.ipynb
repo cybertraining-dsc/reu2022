{
 "nbformat": 4,
 "nbformat_minor": 0,
 "metadata": {
  "colab": {
   "name": "mnist_lstm.ipynb",
   "provenance": []
  },
  "kernelspec": {
   "name": "python3",
   "display_name": "Python 3"
  }
 },
 "cells": [
  {
   "cell_type": "markdown",
   "metadata": {
    "id": "tYXhqJSiIlC3",
    "pycharm": {
     "name": "#%% md\n"
    }
   },
   "source": [
    "# Simple LSTM with MNIST"
   ]
  },
  {
   "cell_type": "code",
   "metadata": {
    "id": "UN5aC7CYBnGR",
    "colab": {
     "base_uri": "https://localhost:8080/"
    },
    "outputId": "e42502ca-f6f0-43e1-cba1-52336cf82bf1",
    "pycharm": {
     "name": "#%%\n"
    }
   },
   "source": [
    "!pip3 install cloudmesh-installer\n",
    "!pip3 install cloudmesh-common"
   ],
   "execution_count": 1,
   "outputs": [
    {
     "name": "stdout",
     "output_type": "stream",
     "text": [
      "Requirement already satisfied: cloudmesh-installer in /Users/jacksonmiskill/ENV3/lib/python3.10/site-packages (4.4.46)\r\n",
      "Requirement already satisfied: pytest-cov in /Users/jacksonmiskill/ENV3/lib/python3.10/site-packages (from cloudmesh-installer) (3.0.0)\r\n",
      "Requirement already satisfied: flake8 in /Users/jacksonmiskill/ENV3/lib/python3.10/site-packages (from cloudmesh-installer) (4.0.1)\r\n",
      "Requirement already satisfied: pip-tools in /Users/jacksonmiskill/ENV3/lib/python3.10/site-packages (from cloudmesh-installer) (6.6.2)\r\n",
      "Requirement already satisfied: wheel in /Users/jacksonmiskill/ENV3/lib/python3.10/site-packages (from cloudmesh-installer) (0.37.1)\r\n",
      "Requirement already satisfied: pytest in /Users/jacksonmiskill/ENV3/lib/python3.10/site-packages (from cloudmesh-installer) (7.1.2)\r\n",
      "Requirement already satisfied: coverage in /Users/jacksonmiskill/ENV3/lib/python3.10/site-packages (from cloudmesh-installer) (6.4.1)\r\n",
      "Requirement already satisfied: docopt in /Users/jacksonmiskill/ENV3/lib/python3.10/site-packages (from cloudmesh-installer) (0.6.2)\r\n",
      "Requirement already satisfied: bump2version==1.0.0 in /Users/jacksonmiskill/ENV3/lib/python3.10/site-packages (from cloudmesh-installer) (1.0.0)\r\n",
      "Requirement already satisfied: colorama in /Users/jacksonmiskill/ENV3/lib/python3.10/site-packages (from cloudmesh-installer) (0.4.5)\r\n",
      "Requirement already satisfied: requests in /Users/jacksonmiskill/ENV3/lib/python3.10/site-packages (from cloudmesh-installer) (2.28.0)\r\n",
      "Requirement already satisfied: oyaml in /Users/jacksonmiskill/ENV3/lib/python3.10/site-packages (from cloudmesh-installer) (1.0)\r\n",
      "Requirement already satisfied: tabulate in /Users/jacksonmiskill/ENV3/lib/python3.10/site-packages (from cloudmesh-installer) (0.8.10)\r\n",
      "Requirement already satisfied: humanize in /Users/jacksonmiskill/ENV3/lib/python3.10/site-packages (from cloudmesh-installer) (4.2.1)\r\n",
      "Requirement already satisfied: ordered-set in /Users/jacksonmiskill/ENV3/lib/python3.10/site-packages (from cloudmesh-installer) (4.1.0)\r\n",
      "Requirement already satisfied: pipdeptree in /Users/jacksonmiskill/ENV3/lib/python3.10/site-packages (from cloudmesh-installer) (2.2.1)\r\n",
      "Requirement already satisfied: python-hostlist in /Users/jacksonmiskill/ENV3/lib/python3.10/site-packages (from cloudmesh-installer) (1.21)\r\n",
      "Requirement already satisfied: psutil in /Users/jacksonmiskill/ENV3/lib/python3.10/site-packages (from cloudmesh-installer) (5.9.1)\r\n",
      "Requirement already satisfied: cloudmesh-common in /Users/jacksonmiskill/cm/cloudmesh-common (from cloudmesh-installer) (4.3.123)\r\n",
      "Requirement already satisfied: pytz in /Users/jacksonmiskill/ENV3/lib/python3.10/site-packages (from cloudmesh-common->cloudmesh-installer) (2022.1)\r\n",
      "Requirement already satisfied: simplejson in /Users/jacksonmiskill/ENV3/lib/python3.10/site-packages (from cloudmesh-common->cloudmesh-installer) (3.17.6)\r\n",
      "Requirement already satisfied: python-dateutil in /Users/jacksonmiskill/ENV3/lib/python3.10/site-packages (from cloudmesh-common->cloudmesh-installer) (2.8.2)\r\n",
      "Requirement already satisfied: pyfiglet in /Users/jacksonmiskill/ENV3/lib/python3.10/site-packages (from cloudmesh-common->cloudmesh-installer) (0.8.post1)\r\n",
      "Requirement already satisfied: tqdm in /Users/jacksonmiskill/ENV3/lib/python3.10/site-packages (from cloudmesh-common->cloudmesh-installer) (4.64.0)\r\n",
      "Requirement already satisfied: pycodestyle<2.9.0,>=2.8.0 in /Users/jacksonmiskill/ENV3/lib/python3.10/site-packages (from flake8->cloudmesh-installer) (2.8.0)\r\n",
      "Requirement already satisfied: pyflakes<2.5.0,>=2.4.0 in /Users/jacksonmiskill/ENV3/lib/python3.10/site-packages (from flake8->cloudmesh-installer) (2.4.0)\r\n",
      "Requirement already satisfied: mccabe<0.7.0,>=0.6.0 in /Users/jacksonmiskill/ENV3/lib/python3.10/site-packages (from flake8->cloudmesh-installer) (0.6.1)\r\n",
      "Requirement already satisfied: pyyaml in /Users/jacksonmiskill/ENV3/lib/python3.10/site-packages (from oyaml->cloudmesh-installer) (6.0)\r\n",
      "Requirement already satisfied: setuptools in /Users/jacksonmiskill/ENV3/lib/python3.10/site-packages (from pip-tools->cloudmesh-installer) (58.1.0)\r\n",
      "Requirement already satisfied: pip>=21.2 in /Users/jacksonmiskill/ENV3/lib/python3.10/site-packages (from pip-tools->cloudmesh-installer) (22.1.2)\r\n",
      "Requirement already satisfied: pep517 in /Users/jacksonmiskill/ENV3/lib/python3.10/site-packages (from pip-tools->cloudmesh-installer) (0.12.0)\r\n",
      "Requirement already satisfied: click>=7 in /Users/jacksonmiskill/ENV3/lib/python3.10/site-packages (from pip-tools->cloudmesh-installer) (8.1.3)\r\n",
      "Requirement already satisfied: iniconfig in /Users/jacksonmiskill/ENV3/lib/python3.10/site-packages (from pytest->cloudmesh-installer) (1.1.1)\r\n",
      "Requirement already satisfied: pluggy<2.0,>=0.12 in /Users/jacksonmiskill/ENV3/lib/python3.10/site-packages (from pytest->cloudmesh-installer) (1.0.0)\r\n",
      "Requirement already satisfied: packaging in /Users/jacksonmiskill/ENV3/lib/python3.10/site-packages (from pytest->cloudmesh-installer) (21.3)\r\n",
      "Requirement already satisfied: attrs>=19.2.0 in /Users/jacksonmiskill/ENV3/lib/python3.10/site-packages (from pytest->cloudmesh-installer) (21.4.0)\r\n",
      "Requirement already satisfied: py>=1.8.2 in /Users/jacksonmiskill/ENV3/lib/python3.10/site-packages (from pytest->cloudmesh-installer) (1.11.0)\r\n",
      "Requirement already satisfied: tomli>=1.0.0 in /Users/jacksonmiskill/ENV3/lib/python3.10/site-packages (from pytest->cloudmesh-installer) (2.0.1)\r\n",
      "Requirement already satisfied: charset-normalizer~=2.0.0 in /Users/jacksonmiskill/ENV3/lib/python3.10/site-packages (from requests->cloudmesh-installer) (2.0.12)\r\n",
      "Requirement already satisfied: idna<4,>=2.5 in /Users/jacksonmiskill/ENV3/lib/python3.10/site-packages (from requests->cloudmesh-installer) (3.3)\r\n",
      "Requirement already satisfied: certifi>=2017.4.17 in /Users/jacksonmiskill/ENV3/lib/python3.10/site-packages (from requests->cloudmesh-installer) (2022.6.15)\r\n",
      "Requirement already satisfied: urllib3<1.27,>=1.21.1 in /Users/jacksonmiskill/ENV3/lib/python3.10/site-packages (from requests->cloudmesh-installer) (1.26.9)\r\n",
      "Requirement already satisfied: pyparsing!=3.0.5,>=2.0.2 in /Users/jacksonmiskill/ENV3/lib/python3.10/site-packages (from packaging->pytest->cloudmesh-installer) (3.0.9)\r\n",
      "Requirement already satisfied: six>=1.5 in /Users/jacksonmiskill/ENV3/lib/python3.10/site-packages (from python-dateutil->cloudmesh-common->cloudmesh-installer) (1.16.0)\r\n",
      "Requirement already satisfied: cloudmesh-common in /Users/jacksonmiskill/cm/cloudmesh-common (4.3.123)\r\n",
      "Requirement already satisfied: psutil in /Users/jacksonmiskill/ENV3/lib/python3.10/site-packages (from cloudmesh-common) (5.9.1)\r\n",
      "Requirement already satisfied: pytz in /Users/jacksonmiskill/ENV3/lib/python3.10/site-packages (from cloudmesh-common) (2022.1)\r\n",
      "Requirement already satisfied: python-hostlist in /Users/jacksonmiskill/ENV3/lib/python3.10/site-packages (from cloudmesh-common) (1.21)\r\n",
      "Requirement already satisfied: simplejson in /Users/jacksonmiskill/ENV3/lib/python3.10/site-packages (from cloudmesh-common) (3.17.6)\r\n",
      "Requirement already satisfied: oyaml in /Users/jacksonmiskill/ENV3/lib/python3.10/site-packages (from cloudmesh-common) (1.0)\r\n",
      "Requirement already satisfied: colorama in /Users/jacksonmiskill/ENV3/lib/python3.10/site-packages (from cloudmesh-common) (0.4.5)\r\n",
      "Requirement already satisfied: humanize in /Users/jacksonmiskill/ENV3/lib/python3.10/site-packages (from cloudmesh-common) (4.2.1)\r\n",
      "Requirement already satisfied: python-dateutil in /Users/jacksonmiskill/ENV3/lib/python3.10/site-packages (from cloudmesh-common) (2.8.2)\r\n",
      "Requirement already satisfied: tabulate in /Users/jacksonmiskill/ENV3/lib/python3.10/site-packages (from cloudmesh-common) (0.8.10)\r\n",
      "Requirement already satisfied: requests in /Users/jacksonmiskill/ENV3/lib/python3.10/site-packages (from cloudmesh-common) (2.28.0)\r\n",
      "Requirement already satisfied: pyfiglet in /Users/jacksonmiskill/ENV3/lib/python3.10/site-packages (from cloudmesh-common) (0.8.post1)\r\n",
      "Requirement already satisfied: tqdm in /Users/jacksonmiskill/ENV3/lib/python3.10/site-packages (from cloudmesh-common) (4.64.0)\r\n",
      "Requirement already satisfied: pyyaml in /Users/jacksonmiskill/ENV3/lib/python3.10/site-packages (from oyaml->cloudmesh-common) (6.0)\r\n",
      "Requirement already satisfied: six>=1.5 in /Users/jacksonmiskill/ENV3/lib/python3.10/site-packages (from python-dateutil->cloudmesh-common) (1.16.0)\r\n",
      "Requirement already satisfied: charset-normalizer~=2.0.0 in /Users/jacksonmiskill/ENV3/lib/python3.10/site-packages (from requests->cloudmesh-common) (2.0.12)\r\n",
      "Requirement already satisfied: certifi>=2017.4.17 in /Users/jacksonmiskill/ENV3/lib/python3.10/site-packages (from requests->cloudmesh-common) (2022.6.15)\r\n",
      "Requirement already satisfied: urllib3<1.27,>=1.21.1 in /Users/jacksonmiskill/ENV3/lib/python3.10/site-packages (from requests->cloudmesh-common) (1.26.9)\r\n",
      "Requirement already satisfied: idna<4,>=2.5 in /Users/jacksonmiskill/ENV3/lib/python3.10/site-packages (from requests->cloudmesh-common) (3.3)\r\n"
     ]
    }
   ]
  },
  {
   "cell_type": "code",
   "metadata": {
    "id": "Qn-x5O_xBiit",
    "pycharm": {
     "name": "#%%\n"
    }
   },
   "source": [
    "try:\n",
    "    from cloudmesh.common.StopWatch import StopWatch\n",
    "except:  # noqa: E722\n",
    "    ! pip install cloudmesh-common\n",
    "    from cloudmesh.common.StopWatch import StopWatch\n",
    "\n",
    "# from __future__ import absolute_import\n",
    "# from __future__ import division\n",
    "# from __future__ import print_function\n",
    "\n",
    "StopWatch.start('import')\n",
    "import numpy as np\n",
    "import tensorflow as tf\n",
    "from tensorflow.keras.models import Sequential\n",
    "from tensorflow.keras.layers import Dense, Activation, SimpleRNN, InputLayer, LSTM\n",
    "from tensorflow.keras.utils import to_categorical, plot_model\n",
    "from tensorflow.keras.datasets import mnist\n",
    "from cloudmesh.common.StopWatch import StopWatch\n",
    "StopWatch.stop('import')"
   ],
   "execution_count": 5,
   "outputs": []
  },
  {
   "cell_type": "markdown",
   "metadata": {
    "id": "m44N0arzvqx5",
    "pycharm": {
     "name": "#%% md\n"
    }
   },
   "source": [
    "## Data Pre-Process"
   ]
  },
  {
   "cell_type": "code",
   "metadata": {
    "id": "amkZr0dbvt7M",
    "pycharm": {
     "name": "#%%\n"
    }
   },
   "source": [
    "StopWatch.start(\"data-load\")\n",
    "StopWatch.progress(0)\n",
    "(x_train, y_train), (x_test, y_test) = mnist.load_data()\n",
    "StopWatch.stop(\"data-load\")\n",
    "\n",
    "\n",
    "StopWatch.start(\"data-pre-process\")\n",
    "num_labels = len(np.unique(y_train))\n",
    "\n",
    "\n",
    "y_train = to_categorical(y_train)\n",
    "y_test = to_categorical(y_test)\n",
    "\n",
    "\n",
    "image_size = x_train.shape[1]\n",
    "x_train = np.reshape(x_train,[-1, image_size, image_size])\n",
    "x_test = np.reshape(x_test,[-1, image_size, image_size])\n",
    "x_train = x_train.astype('float32') / 255\n",
    "x_test = x_test.astype('float32') / 255\n",
    "StopWatch.stop(\"data-pre-process\")\n",
    "\n",
    "input_shape = (image_size, image_size)\n",
    "batch_size = 128\n",
    "units = 256\n",
    "dropout = 0.2"
   ],
   "execution_count": 6,
   "outputs": [
    {
     "name": "stdout",
     "output_type": "stream",
     "text": [
      "# cloudmesh status=running progress=0 pid=21707\n"
     ]
    }
   ]
  },
  {
   "cell_type": "markdown",
   "metadata": {
    "id": "Ku3FZI9VvvDt",
    "pycharm": {
     "name": "#%% md\n"
    }
   },
   "source": [
    "## Define Model"
   ]
  },
  {
   "cell_type": "code",
   "metadata": {
    "colab": {
     "base_uri": "https://localhost:8080/"
    },
    "id": "3Xr1SPagvxpq",
    "outputId": "710fd539-dd43-4b42-8ab7-926e5e48493b",
    "pycharm": {
     "name": "#%%\n"
    }
   },
   "source": [
    "StopWatch.progress(20)\n",
    "StopWatch.start(\"compile\")\n",
    "model = Sequential()\n",
    "model.add(LSTM(units=units,                      \n",
    "                     input_shape=input_shape,\n",
    "                     return_sequences=True))\n",
    "model.add(LSTM(units=units, \n",
    "                     dropout=dropout,                      \n",
    "                     return_sequences=True))\n",
    "model.add(LSTM(units=units, \n",
    "                     dropout=dropout,                      \n",
    "                     return_sequences=False))\n",
    "model.add(Dense(num_labels))\n",
    "model.add(Activation('softmax'))\n",
    "model.summary()\n",
    "plot_model(model, to_file='rnn-mnist.png', show_shapes=True)\n",
    "\n",
    "StopWatch.progress(40)\n",
    "model.compile(loss='categorical_crossentropy',\n",
    "              optimizer='sgd',\n",
    "              metrics=['accuracy'])\n",
    "StopWatch.stop(\"compile\")"
   ],
   "execution_count": 7,
   "outputs": [
    {
     "name": "stdout",
     "output_type": "stream",
     "text": [
      "# cloudmesh status=running progress=20 pid=21707\n"
     ]
    },
    {
     "name": "stderr",
     "output_type": "stream",
     "text": [
      "2022-07-14 13:47:40.581121: I tensorflow/core/platform/cpu_feature_guard.cc:193] This TensorFlow binary is optimized with oneAPI Deep Neural Network Library (oneDNN) to use the following CPU instructions in performance-critical operations:  AVX2 FMA\n",
      "To enable them in other operations, rebuild TensorFlow with the appropriate compiler flags.\n"
     ]
    },
    {
     "name": "stdout",
     "output_type": "stream",
     "text": [
      "Model: \"sequential\"\n",
      "_________________________________________________________________\n",
      " Layer (type)                Output Shape              Param #   \n",
      "=================================================================\n",
      " lstm (LSTM)                 (None, 28, 256)           291840    \n",
      "                                                                 \n",
      " lstm_1 (LSTM)               (None, 28, 256)           525312    \n",
      "                                                                 \n",
      " lstm_2 (LSTM)               (None, 256)               525312    \n",
      "                                                                 \n",
      " dense (Dense)               (None, 10)                2570      \n",
      "                                                                 \n",
      " activation (Activation)     (None, 10)                0         \n",
      "                                                                 \n",
      "=================================================================\n",
      "Total params: 1,345,034\n",
      "Trainable params: 1,345,034\n",
      "Non-trainable params: 0\n",
      "_________________________________________________________________\n",
      "# cloudmesh status=running progress=40 pid=21707\n"
     ]
    }
   ]
  },
  {
   "cell_type": "markdown",
   "metadata": {
    "id": "0hwr9YOzv4aY",
    "pycharm": {
     "name": "#%% md\n"
    }
   },
   "source": [
    "## Train"
   ]
  },
  {
   "cell_type": "code",
   "metadata": {
    "colab": {
     "base_uri": "https://localhost:8080/"
    },
    "id": "Xe9Mskn7v5cv",
    "outputId": "056b3d18-4054-4016-ec8e-fa095d6022e0",
    "pycharm": {
     "name": "#%%\n"
    }
   },
   "source": [
    "StopWatch.progress(60)\n",
    "StopWatch.start(\"train\")\n",
    "model.fit(x_train, y_train, epochs=1, batch_size=batch_size)\n",
    "StopWatch.stop(\"train\")"
   ],
   "execution_count": 9,
   "outputs": [
    {
     "name": "stdout",
     "output_type": "stream",
     "text": [
      "# cloudmesh status=running progress=60 pid=21707\n",
      "469/469 [==============================] - 164s 351ms/step - loss: 2.1683 - accuracy: 0.2865\n"
     ]
    }
   ]
  },
  {
   "cell_type": "markdown",
   "metadata": {
    "id": "ZPGR0hNJv6ln",
    "pycharm": {
     "name": "#%% md\n"
    }
   },
   "source": [
    "## Test"
   ]
  },
  {
   "cell_type": "code",
   "metadata": {
    "colab": {
     "base_uri": "https://localhost:8080/"
    },
    "id": "-htoQ51sv71v",
    "outputId": "b1914c0d-b2cb-4950-8bed-1f578a93f0ab",
    "pycharm": {
     "name": "#%%\n"
    }
   },
   "source": [
    "StopWatch.progress(80)\n",
    "StopWatch.start(\"evaluate\")\n",
    "loss, acc = model.evaluate(x_test, y_test, batch_size=batch_size)\n",
    "print(\"\\nTest accuracy: %.1f%%\" % (100.0 * acc))\n",
    "StopWatch.stop(\"evaluate\")\n",
    "\n",
    "StopWatch.benchmark()\n",
    "StopWatch.progress(100)"
   ],
   "execution_count": 10,
   "outputs": [
    {
     "name": "stdout",
     "output_type": "stream",
     "text": [
      "# cloudmesh status=running progress=80 pid=21707\n",
      "79/79 [==============================] - 8s 90ms/step - loss: 1.9343 - accuracy: 0.3645\n",
      "\n",
      "Test accuracy: 36.4%\n",
      "\n",
      "+------------------+--------------------------------------------------------------------------------------------------+\n",
      "| Attribute        | Value                                                                                            |\n",
      "|------------------+--------------------------------------------------------------------------------------------------|\n",
      "| cpu              | Intel(R) Core(TM) i7-8557U CPU @ 1.70GHz                                                         |\n",
      "| cpu_cores        | 4                                                                                                |\n",
      "| cpu_count        | 8                                                                                                |\n",
      "| cpu_threads      | 8                                                                                                |\n",
      "| date             | 2022-07-14 17:51:28.091886                                                                       |\n",
      "| frequency        | scpufreq(current=1700, min=1700, max=1700)                                                       |\n",
      "| mem.active       | 4.7 GiB                                                                                          |\n",
      "| mem.available    | 5.1 GiB                                                                                          |\n",
      "| mem.free         | 410.5 MiB                                                                                        |\n",
      "| mem.inactive     | 4.6 GiB                                                                                          |\n",
      "| mem.percent      | 68.4 %                                                                                           |\n",
      "| mem.total        | 16.0 GiB                                                                                         |\n",
      "| mem.used         | 8.4 GiB                                                                                          |\n",
      "| mem.wired        | 3.8 GiB                                                                                          |\n",
      "| platform.version | 12.4                                                                                             |\n",
      "| python           | 3.10.5 (v3.10.5:f377153967, Jun  6 2022, 12:36:10) [Clang 13.0.0 (clang-1300.0.29.30)]           |\n",
      "| python.pip       | 22.1.2                                                                                           |\n",
      "| python.version   | 3.10.5                                                                                           |\n",
      "| sys.platform     | darwin                                                                                           |\n",
      "| uname.machine    | x86_64                                                                                           |\n",
      "| uname.node       | d-172-18-102-122.vpn.net.virginia.edu                                                            |\n",
      "| uname.processor  | i386                                                                                             |\n",
      "| uname.release    | 21.5.0                                                                                           |\n",
      "| uname.system     | Darwin                                                                                           |\n",
      "| uname.version    | Darwin Kernel Version 21.5.0: Tue Apr 26 21:08:22 PDT 2022; root:xnu-8020.121.3~4/RELEASE_X86_64 |\n",
      "| user             | jacksonmiskill                                                                                   |\n",
      "+------------------+--------------------------------------------------------------------------------------------------+\n",
      "\n",
      "+------------------+----------+---------+---------+---------------------+-------+-------+---------------------------------------+----------------+--------+-----------+\n",
      "| Name             | Status   |    Time |     Sum | Start               | tag   | msg   | Node                                  | User           | OS     |   Version |\n",
      "|------------------+----------+---------+---------+---------------------+-------+-------+---------------------------------------+----------------+--------+-----------|\n",
      "| import           | ok       |   0     |   3.731 | 2022-07-14 17:47:36 |       |       | d-172-18-102-122.vpn.net.virginia.edu | jacksonmiskill | Darwin |      12.4 |\n",
      "| data-load        | ok       |   0.237 |   0.237 | 2022-07-14 17:47:37 |       |       | d-172-18-102-122.vpn.net.virginia.edu | jacksonmiskill | Darwin |      12.4 |\n",
      "| data-pre-process | ok       |   0.144 |   0.144 | 2022-07-14 17:47:37 |       |       | d-172-18-102-122.vpn.net.virginia.edu | jacksonmiskill | Darwin |      12.4 |\n",
      "| compile          | ok       |   1.111 |   1.111 | 2022-07-14 17:47:40 |       |       | d-172-18-102-122.vpn.net.virginia.edu | jacksonmiskill | Darwin |      12.4 |\n",
      "| train            | ok       | 164.526 | 164.526 | 2022-07-14 17:48:05 |       |       | d-172-18-102-122.vpn.net.virginia.edu | jacksonmiskill | Darwin |      12.4 |\n",
      "| evaluate         | ok       |   8.191 |   8.191 | 2022-07-14 17:51:19 |       |       | d-172-18-102-122.vpn.net.virginia.edu | jacksonmiskill | Darwin |      12.4 |\n",
      "+------------------+----------+---------+---------+---------------------+-------+-------+---------------------------------------+----------------+--------+-----------+\n",
      "# csv,timer,status,time,sum,start,tag,msg,uname.node,user,uname.system,platform.version\n",
      "# csv,import,ok,0.0,3.731,2022-07-14 17:47:36,,None,d-172-18-102-122.vpn.net.virginia.edu,jacksonmiskill,Darwin,12.4\n",
      "# csv,data-load,ok,0.237,0.237,2022-07-14 17:47:37,,None,d-172-18-102-122.vpn.net.virginia.edu,jacksonmiskill,Darwin,12.4\n",
      "# csv,data-pre-process,ok,0.144,0.144,2022-07-14 17:47:37,,None,d-172-18-102-122.vpn.net.virginia.edu,jacksonmiskill,Darwin,12.4\n",
      "# csv,compile,ok,1.111,1.111,2022-07-14 17:47:40,,None,d-172-18-102-122.vpn.net.virginia.edu,jacksonmiskill,Darwin,12.4\n",
      "# csv,train,ok,164.526,164.526,2022-07-14 17:48:05,,None,d-172-18-102-122.vpn.net.virginia.edu,jacksonmiskill,Darwin,12.4\n",
      "# csv,evaluate,ok,8.191,8.191,2022-07-14 17:51:19,,None,d-172-18-102-122.vpn.net.virginia.edu,jacksonmiskill,Darwin,12.4\n",
      "\n",
      "# cloudmesh status=running progress=100 pid=21707\n"
     ]
    }
   ]
  },
  {
   "cell_type": "markdown",
   "metadata": {
    "id": "k8vqRCcsDEeu",
    "pycharm": {
     "name": "#%% md\n"
    }
   },
   "source": [
    "# References\n",
    "\n",
    "1. [Advance Deep Learning with Keras](https://github.com/PacktPublishing/Advanced-Deep-Learning-with-Keras)"
   ]
  }
 ]
}