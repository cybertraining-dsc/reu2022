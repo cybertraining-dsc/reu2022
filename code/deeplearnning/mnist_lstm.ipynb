{
 "nbformat": 4,
 "nbformat_minor": 0,
 "metadata": {
  "colab": {
   "name": "mnist_lstm.ipynb",
   "provenance": []
  },
  "kernelspec": {
   "name": "python3",
   "display_name": "Python 3"
  }
 },
 "cells": [
  {
   "cell_type": "markdown",
   "metadata": {
    "id": "tYXhqJSiIlC3",
    "pycharm": {
     "name": "#%% md\n"
    }
   },
   "source": [
    "# Simple LSTM with MNIST"
   ]
  },
  {
   "cell_type": "code",
   "metadata": {
    "id": "Qn-x5O_xBiit",
    "pycharm": {
     "name": "#%%\n"
    }
   },
   "source": [
    "try:\n",
    "    from cloudmesh.common.StopWatch import StopWatch\n",
    "except:  # noqa: E722\n",
    "    ! pip install cloudmesh-common\n",
    "    from cloudmesh.common.StopWatch import StopWatch\n",
    "\n",
    "# from __future__ import absolute_import\n",
    "# from __future__ import division\n",
    "# from __future__ import print_function\n",
    "StopWatch.start('total')\n",
    "StopWatch.start('import')\n",
    "import numpy as np\n",
    "import tensorflow as tf\n",
    "from tensorflow.keras.models import Sequential\n",
    "from tensorflow.keras.layers import Dense, Activation, SimpleRNN, InputLayer, LSTM\n",
    "from tensorflow.keras.utils import to_categorical, plot_model\n",
    "from tensorflow.keras.datasets import mnist\n",
    "from cloudmesh.common.StopWatch import StopWatch\n",
    "StopWatch.stop('import')\n",
    "StopWatch.progress(0)"
   ],
   "execution_count": 1,
   "outputs": [
    {
     "name": "stdout",
     "output_type": "stream",
     "text": [
      "# cloudmesh status=running progress=0 pid=3513\n"
     ]
    }
   ]
  },
  {
   "cell_type": "markdown",
   "metadata": {
    "id": "m44N0arzvqx5",
    "pycharm": {
     "name": "#%% md\n"
    }
   },
   "source": [
    "## Data Pre-Process"
   ]
  },
  {
   "cell_type": "code",
   "metadata": {
    "id": "amkZr0dbvt7M",
    "pycharm": {
     "name": "#%%\n"
    }
   },
   "source": [
    "StopWatch.start(\"data-load\")\n",
    "(x_train, y_train), (x_test, y_test) = mnist.load_data()\n",
    "StopWatch.stop(\"data-load\")\n",
    "\n",
    "\n",
    "StopWatch.start(\"data-pre-process\")\n",
    "num_labels = len(np.unique(y_train))\n",
    "\n",
    "\n",
    "y_train = to_categorical(y_train)\n",
    "y_test = to_categorical(y_test)\n",
    "\n",
    "\n",
    "image_size = x_train.shape[1]\n",
    "x_train = np.reshape(x_train,[-1, image_size, image_size])\n",
    "x_test = np.reshape(x_test,[-1, image_size, image_size])\n",
    "x_train = x_train.astype('float32') / 255\n",
    "x_test = x_test.astype('float32') / 255\n",
    "StopWatch.stop(\"data-pre-process\")\n",
    "\n",
    "input_shape = (image_size, image_size)\n",
    "batch_size = 128\n",
    "units = 256\n",
    "dropout = 0.2\n",
    "StopWatch.progress(20)"
   ],
   "execution_count": 2,
   "outputs": [
    {
     "name": "stdout",
     "output_type": "stream",
     "text": [
      "# cloudmesh status=running progress=20 pid=3513\n"
     ]
    }
   ]
  },
  {
   "cell_type": "markdown",
   "metadata": {
    "id": "Ku3FZI9VvvDt",
    "pycharm": {
     "name": "#%% md\n"
    }
   },
   "source": [
    "## Define Model"
   ]
  },
  {
   "cell_type": "code",
   "metadata": {
    "colab": {
     "base_uri": "https://localhost:8080/"
    },
    "id": "3Xr1SPagvxpq",
    "outputId": "710fd539-dd43-4b42-8ab7-926e5e48493b",
    "pycharm": {
     "name": "#%%\n"
    }
   },
   "source": [
    "StopWatch.progress(40)\n",
    "StopWatch.start(\"compile\")\n",
    "model = Sequential()\n",
    "model.add(LSTM(units=units,                      \n",
    "                     input_shape=input_shape,\n",
    "                     return_sequences=True))\n",
    "model.add(LSTM(units=units, \n",
    "                     dropout=dropout,                      \n",
    "                     return_sequences=True))\n",
    "model.add(LSTM(units=units, \n",
    "                     dropout=dropout,                      \n",
    "                     return_sequences=False))\n",
    "model.add(Dense(num_labels))\n",
    "model.add(Activation('softmax'))\n",
    "model.summary()\n",
    "plot_model(model, to_file='rnn-mnist.png', show_shapes=True)\n",
    "\n",
    "StopWatch.progress(60)\n",
    "model.compile(loss='categorical_crossentropy',\n",
    "              optimizer='sgd',\n",
    "              metrics=['accuracy'])\n",
    "StopWatch.stop(\"compile\")"
   ],
   "execution_count": 3,
   "outputs": [
    {
     "name": "stdout",
     "output_type": "stream",
     "text": [
      "# cloudmesh status=running progress=40 pid=3513\n"
     ]
    },
    {
     "name": "stderr",
     "output_type": "stream",
     "text": [
      "2022-07-15 10:10:35.186832: I tensorflow/core/platform/cpu_feature_guard.cc:193] This TensorFlow binary is optimized with oneAPI Deep Neural Network Library (oneDNN) to use the following CPU instructions in performance-critical operations:  AVX2 FMA\n",
      "To enable them in other operations, rebuild TensorFlow with the appropriate compiler flags.\n"
     ]
    },
    {
     "name": "stdout",
     "output_type": "stream",
     "text": [
      "Model: \"sequential\"\n",
      "_________________________________________________________________\n",
      " Layer (type)                Output Shape              Param #   \n",
      "=================================================================\n",
      " lstm (LSTM)                 (None, 28, 256)           291840    \n",
      "                                                                 \n",
      " lstm_1 (LSTM)               (None, 28, 256)           525312    \n",
      "                                                                 \n",
      " lstm_2 (LSTM)               (None, 256)               525312    \n",
      "                                                                 \n",
      " dense (Dense)               (None, 10)                2570      \n",
      "                                                                 \n",
      " activation (Activation)     (None, 10)                0         \n",
      "                                                                 \n",
      "=================================================================\n",
      "Total params: 1,345,034\n",
      "Trainable params: 1,345,034\n",
      "Non-trainable params: 0\n",
      "_________________________________________________________________\n",
      "# cloudmesh status=running progress=60 pid=3513\n"
     ]
    }
   ]
  },
  {
   "cell_type": "markdown",
   "metadata": {
    "id": "0hwr9YOzv4aY",
    "pycharm": {
     "name": "#%% md\n"
    }
   },
   "source": [
    "## Train"
   ]
  },
  {
   "cell_type": "code",
   "metadata": {
    "colab": {
     "base_uri": "https://localhost:8080/"
    },
    "id": "Xe9Mskn7v5cv",
    "outputId": "056b3d18-4054-4016-ec8e-fa095d6022e0",
    "pycharm": {
     "name": "#%%\n"
    }
   },
   "source": [
    "StopWatch.progress(80)\n",
    "StopWatch.start(\"train\")\n",
    "model.fit(x_train, y_train, epochs=1, batch_size=batch_size)\n",
    "StopWatch.stop(\"train\")"
   ],
   "execution_count": 4,
   "outputs": [
    {
     "name": "stdout",
     "output_type": "stream",
     "text": [
      "# cloudmesh status=running progress=80 pid=3513\n",
      "469/469 [==============================] - 154s 321ms/step - loss: 2.1995 - accuracy: 0.2611\n"
     ]
    }
   ]
  },
  {
   "cell_type": "markdown",
   "metadata": {
    "id": "ZPGR0hNJv6ln",
    "pycharm": {
     "name": "#%% md\n"
    }
   },
   "source": [
    "## Test"
   ]
  },
  {
   "cell_type": "code",
   "metadata": {
    "colab": {
     "base_uri": "https://localhost:8080/"
    },
    "id": "-htoQ51sv71v",
    "outputId": "b1914c0d-b2cb-4950-8bed-1f578a93f0ab",
    "pycharm": {
     "name": "#%%\n"
    }
   },
   "source": [
    "StopWatch.start(\"evaluate\")\n",
    "loss, acc = model.evaluate(x_test, y_test, batch_size=batch_size)\n",
    "print(\"\\nTest accuracy: %.1f%%\" % (100.0 * acc))\n",
    "StopWatch.stop(\"evaluate\")\n",
    "\n",
    "StopWatch.benchmark()\n",
    "StopWatch.progress(100)"
   ],
   "execution_count": 5,
   "outputs": [
    {
     "name": "stdout",
     "output_type": "stream",
     "text": [
      "79/79 [==============================] - 9s 106ms/step - loss: 1.9515 - accuracy: 0.3308\n",
      "\n",
      "Test accuracy: 33.1%\n",
      "\n",
      "+------------------+--------------------------------------------------------------------------------------------------+\n",
      "| Attribute        | Value                                                                                            |\n",
      "|------------------+--------------------------------------------------------------------------------------------------|\n",
      "| cpu              | Intel(R) Core(TM) i7-8557U CPU @ 1.70GHz                                                         |\n",
      "| cpu_cores        | 4                                                                                                |\n",
      "| cpu_count        | 8                                                                                                |\n",
      "| cpu_threads      | 8                                                                                                |\n",
      "| date             | 2022-07-15 14:13:24.106608                                                                       |\n",
      "| frequency        | scpufreq(current=1700, min=1700, max=1700)                                                       |\n",
      "| mem.active       | 6.0 GiB                                                                                          |\n",
      "| mem.available    | 6.4 GiB                                                                                          |\n",
      "| mem.free         | 478.7 MiB                                                                                        |\n",
      "| mem.inactive     | 6.0 GiB                                                                                          |\n",
      "| mem.percent      | 59.8 %                                                                                           |\n",
      "| mem.total        | 16.0 GiB                                                                                         |\n",
      "| mem.used         | 9.1 GiB                                                                                          |\n",
      "| mem.wired        | 3.1 GiB                                                                                          |\n",
      "| platform.version | 12.4                                                                                             |\n",
      "| python           | 3.10.5 (v3.10.5:f377153967, Jun  6 2022, 12:36:10) [Clang 13.0.0 (clang-1300.0.29.30)]           |\n",
      "| python.pip       | 22.1.2                                                                                           |\n",
      "| python.version   | 3.10.5                                                                                           |\n",
      "| sys.platform     | darwin                                                                                           |\n",
      "| uname.machine    | x86_64                                                                                           |\n",
      "| uname.node       | Jacksons-MacBook-Pro.local                                                                       |\n",
      "| uname.processor  | i386                                                                                             |\n",
      "| uname.release    | 21.5.0                                                                                           |\n",
      "| uname.system     | Darwin                                                                                           |\n",
      "| uname.version    | Darwin Kernel Version 21.5.0: Tue Apr 26 21:08:22 PDT 2022; root:xnu-8020.121.3~4/RELEASE_X86_64 |\n",
      "| user             | jacksonmiskill                                                                                   |\n",
      "+------------------+--------------------------------------------------------------------------------------------------+\n",
      "\n",
      "+------------------+----------+---------+---------+---------------------+-------+-------+----------------------------+----------------+--------+-----------+\n",
      "| Name             | Status   |    Time |     Sum | Start               | tag   | msg   | Node                       | User           | OS     |   Version |\n",
      "|------------------+----------+---------+---------+---------------------+-------+-------+----------------------------+----------------+--------+-----------|\n",
      "| total            | failed   |         |   0     | 2022-07-15 14:10:24 |       |       | Jacksons-MacBook-Pro.local | jacksonmiskill | Darwin |      12.4 |\n",
      "| import           | ok       |   4.815 |   4.815 | 2022-07-15 14:10:24 |       |       | Jacksons-MacBook-Pro.local | jacksonmiskill | Darwin |      12.4 |\n",
      "| data-load        | ok       |   0.236 |   0.236 | 2022-07-15 14:10:33 |       |       | Jacksons-MacBook-Pro.local | jacksonmiskill | Darwin |      12.4 |\n",
      "| data-pre-process | ok       |   0.111 |   0.111 | 2022-07-15 14:10:33 |       |       | Jacksons-MacBook-Pro.local | jacksonmiskill | Darwin |      12.4 |\n",
      "| compile          | ok       |   1.006 |   1.006 | 2022-07-15 14:10:35 |       |       | Jacksons-MacBook-Pro.local | jacksonmiskill | Darwin |      12.4 |\n",
      "| train            | ok       | 154.238 | 154.238 | 2022-07-15 14:10:40 |       |       | Jacksons-MacBook-Pro.local | jacksonmiskill | Darwin |      12.4 |\n",
      "| evaluate         | ok       |   9.425 |   9.425 | 2022-07-15 14:13:14 |       |       | Jacksons-MacBook-Pro.local | jacksonmiskill | Darwin |      12.4 |\n",
      "+------------------+----------+---------+---------+---------------------+-------+-------+----------------------------+----------------+--------+-----------+\n",
      "# csv,timer,status,time,sum,start,tag,msg,uname.node,user,uname.system,platform.version\n",
      "# csv,total,failed,None,0.0,2022-07-15 14:10:24,,None,Jacksons-MacBook-Pro.local,jacksonmiskill,Darwin,12.4\n",
      "# csv,import,ok,4.815,4.815,2022-07-15 14:10:24,,None,Jacksons-MacBook-Pro.local,jacksonmiskill,Darwin,12.4\n",
      "# csv,data-load,ok,0.236,0.236,2022-07-15 14:10:33,,None,Jacksons-MacBook-Pro.local,jacksonmiskill,Darwin,12.4\n",
      "# csv,data-pre-process,ok,0.111,0.111,2022-07-15 14:10:33,,None,Jacksons-MacBook-Pro.local,jacksonmiskill,Darwin,12.4\n",
      "# csv,compile,ok,1.006,1.006,2022-07-15 14:10:35,,None,Jacksons-MacBook-Pro.local,jacksonmiskill,Darwin,12.4\n",
      "# csv,train,ok,154.238,154.238,2022-07-15 14:10:40,,None,Jacksons-MacBook-Pro.local,jacksonmiskill,Darwin,12.4\n",
      "# csv,evaluate,ok,9.425,9.425,2022-07-15 14:13:14,,None,Jacksons-MacBook-Pro.local,jacksonmiskill,Darwin,12.4\n",
      "\n",
      "# cloudmesh status=running progress=100 pid=3513\n"
     ]
    }
   ]
  },
  {
   "cell_type": "markdown",
   "metadata": {
    "id": "k8vqRCcsDEeu",
    "pycharm": {
     "name": "#%% md\n"
    }
   },
   "source": [
    "# References\n",
    "\n",
    "1. [Advance Deep Learning with Keras](https://github.com/PacktPublishing/Advanced-Deep-Learning-with-Keras)"
   ]
  }
 ]
}