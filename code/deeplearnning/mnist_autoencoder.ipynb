{
 "nbformat": 4,
 "nbformat_minor": 0,
 "metadata": {
  "colab": {
   "name": "mnist_autoencoder.ipynb",
   "provenance": []
  },
  "kernelspec": {
   "name": "python3",
   "display_name": "Python 3"
  }
 },
 "cells": [
  {
   "cell_type": "markdown",
   "metadata": {
    "id": "I36wQ6WNyb39",
    "pycharm": {
     "name": "#%% md\n"
    }
   },
   "source": [
    "# MNIST Auto-Encoder"
   ]
  },
  {
   "cell_type": "markdown",
   "metadata": {
    "id": "eOCjEtiVyeid",
    "pycharm": {
     "name": "#%% md\n"
    }
   },
   "source": [
    "## Pre-requisites"
   ]
  },
  {
   "cell_type": "code",
   "metadata": {
    "colab": {
     "base_uri": "https://localhost:8080/"
    },
    "id": "o5-bGurjyUwO",
    "outputId": "779c6bab-a05f-423f-c3aa-c7592886839d",
    "pycharm": {
     "name": "#%%\n"
    }
   },
   "source": [
    "try:\n",
    "    from cloudmesh.common.StopWatch import StopWatch\n",
    "except:  # noqa: E722\n",
    "    ! pip install cloudmesh-common\n",
    "    from cloudmesh.common.StopWatch import StopWatch\n",
    "from cloudmesh.common.Shell import Shell"
   ],
   "execution_count": 8,
   "outputs": []
  },
  {
   "cell_type": "markdown",
   "metadata": {
    "id": "hphaPWTTykQ3",
    "pycharm": {
     "name": "#%% md\n"
    }
   },
   "source": [
    "## Import Libraries"
   ]
  },
  {
   "cell_type": "code",
   "execution_count": 9,
   "outputs": [
    {
     "name": "stdout",
     "output_type": "stream",
     "text": [
      "# cloudmesh status=running progress=0 pid=7240\n"
     ]
    }
   ],
   "source": [
    "StopWatch.start(\"total\")\n",
    "StopWatch.start(\"import\")\n",
    "import tensorflow as tf\n",
    "from keras.layers import Dense, Input\n",
    "from keras.layers import Conv2D, Flatten\n",
    "from keras.layers import Reshape, Conv2DTranspose\n",
    "from keras.models import Model\n",
    "from keras.datasets import mnist\n",
    "from keras.utils import plot_model\n",
    "from keras import backend as K\n",
    "\n",
    "import numpy as np\n",
    "import os\n",
    "import matplotlib.pyplot as plt\n",
    "StopWatch.stop(\"import\")\n",
    "StopWatch.progress(0)"
   ],
   "metadata": {
    "collapsed": false,
    "pycharm": {
     "name": "#%%\n"
    }
   }
  },
  {
   "cell_type": "code",
   "execution_count": 10,
   "outputs": [],
   "source": [
    "def save(file):\n",
    "    name = os.path.basename(file).replace(\".py\", \"\")\n",
    "    cwd = Shell.map_filename(\".\").path\n",
    "    Shell.mkdir(f\"{cwd}/images\")\n",
    "    plt.savefig(f'{cwd}/images/{name}.png',dpi=300)\n",
    "    plt.savefig(f'{cwd}/images/{name}.pdf')\n",
    "    plt.savefig(f'{cwd}/images/{name}.svg')\n",
    "    plt.show()"
   ],
   "metadata": {
    "collapsed": false,
    "pycharm": {
     "name": "#%%\n"
    }
   }
  },
  {
   "cell_type": "markdown",
   "source": [
    "## Pre-Process Data"
   ],
   "metadata": {
    "collapsed": false,
    "pycharm": {
     "name": "#%% md\n"
    }
   }
  },
  {
   "cell_type": "code",
   "execution_count": 11,
   "outputs": [
    {
     "name": "stdout",
     "output_type": "stream",
     "text": [
      "# cloudmesh status=running progress=20 pid=7240\n"
     ]
    }
   ],
   "source": [
    "StopWatch.start(\"data-load\")\n",
    "(x_train, y_train), (x_test, y_test) = mnist.load_data()\n",
    "StopWatch.stop(\"data-load\")\n",
    "StopWatch.progress(20)\n",
    "\n",
    "image_size = x_train.shape[1]\n",
    "x_train = np.reshape(x_train, [-1, image_size, image_size, 1])\n",
    "x_test = np.reshape(x_test, [-1, image_size, image_size, 1])\n",
    "x_train = x_train.astype('float32') / 255\n",
    "x_test = x_test.astype('float32') / 255\n",
    "\n",
    "input_shape = (image_size, image_size, 1)\n",
    "batch_size = 32\n",
    "kernel_size = 3\n",
    "latent_dim = 16\n",
    "hidden_units = [32, 64]"
   ],
   "metadata": {
    "collapsed": false,
    "pycharm": {
     "name": "#%%\n"
    }
   }
  },
  {
   "cell_type": "markdown",
   "source": [
    "## Define Model"
   ],
   "metadata": {
    "collapsed": false,
    "pycharm": {
     "name": "#%% md\n"
    }
   }
  },
  {
   "cell_type": "code",
   "execution_count": 12,
   "outputs": [
    {
     "name": "stdout",
     "output_type": "stream",
     "text": [
      "Model: \"encoder\"\n",
      "_________________________________________________________________\n",
      " Layer (type)                Output Shape              Param #   \n",
      "=================================================================\n",
      " encoder_input (InputLayer)  [(None, 28, 28, 1)]       0         \n",
      "                                                                 \n",
      " dense_6 (Dense)             (None, 28, 28, 32)        64        \n",
      "                                                                 \n",
      " dense_7 (Dense)             (None, 28, 28, 64)        2112      \n",
      "                                                                 \n",
      " flatten_1 (Flatten)         (None, 50176)             0         \n",
      "                                                                 \n",
      " latent_vector (Dense)       (None, 16)                802832    \n",
      "                                                                 \n",
      "=================================================================\n",
      "Total params: 805,008\n",
      "Trainable params: 805,008\n",
      "Non-trainable params: 0\n",
      "_________________________________________________________________\n",
      "Model: \"decoder\"\n",
      "_________________________________________________________________\n",
      " Layer (type)                Output Shape              Param #   \n",
      "=================================================================\n",
      " decoder_input (InputLayer)  [(None, 16)]              0         \n",
      "                                                                 \n",
      " dense_8 (Dense)             (None, 50176)             852992    \n",
      "                                                                 \n",
      " reshape_1 (Reshape)         (None, 28, 28, 64)        0         \n",
      "                                                                 \n",
      " dense_9 (Dense)             (None, 28, 28, 32)        2080      \n",
      "                                                                 \n",
      " dense_10 (Dense)            (None, 28, 28, 64)        2112      \n",
      "                                                                 \n",
      " dense_11 (Dense)            (None, 28, 28, 1)         65        \n",
      "                                                                 \n",
      "=================================================================\n",
      "Total params: 857,249\n",
      "Trainable params: 857,249\n",
      "Non-trainable params: 0\n",
      "_________________________________________________________________\n",
      "Model: \"autoencoder\"\n",
      "_________________________________________________________________\n",
      " Layer (type)                Output Shape              Param #   \n",
      "=================================================================\n",
      " encoder_input (InputLayer)  [(None, 28, 28, 1)]       0         \n",
      "                                                                 \n",
      " encoder (Functional)        (None, 16)                805008    \n",
      "                                                                 \n",
      " decoder (Functional)        (None, 28, 28, 1)         857249    \n",
      "                                                                 \n",
      "=================================================================\n",
      "Total params: 1,662,257\n",
      "Trainable params: 1,662,257\n",
      "Non-trainable params: 0\n",
      "_________________________________________________________________\n",
      "# cloudmesh status=running progress=40 pid=7240\n"
     ]
    }
   ],
   "source": [
    "StopWatch.start(\"define-model\")\n",
    "inputs = Input(shape=input_shape, name='encoder_input')\n",
    "x = inputs\n",
    "x = Dense(hidden_units[0], activation='relu')(x)\n",
    "x = Dense(hidden_units[1], activation='relu')(x)\n",
    "\n",
    "shape = K.int_shape(x)\n",
    "\n",
    "# generate latent vector\n",
    "x = Flatten()(x)\n",
    "latent = Dense(latent_dim, name='latent_vector')(x)\n",
    "\n",
    "# instantiate encoder model\n",
    "encoder = Model(inputs,\n",
    "                latent,\n",
    "                name='encoder')\n",
    "encoder.summary()\n",
    "plot_model(encoder,\n",
    "           to_file='images/encoder.png',\n",
    "           show_shapes=True)\n",
    "\n",
    "\n",
    "latent_inputs = Input(shape=(latent_dim,), name='decoder_input')\n",
    "x = Dense(shape[1] * shape[2] * shape[3])(latent_inputs)\n",
    "x = Reshape((shape[1], shape[2], shape[3]))(x)\n",
    "x = Dense(hidden_units[0], activation='relu')(x)\n",
    "x = Dense(hidden_units[1], activation='relu')(x)\n",
    "\n",
    "outputs = Dense(1, activation='relu')(x)\n",
    "\n",
    "decoder = Model(latent_inputs, outputs, name='decoder')\n",
    "decoder.summary()\n",
    "plot_model(decoder, to_file='images/decoder.png', show_shapes=True)\n",
    "\n",
    "autoencoder = Model(inputs,\n",
    "                    decoder(encoder(inputs)),\n",
    "                    name='autoencoder')\n",
    "autoencoder.summary()\n",
    "plot_model(autoencoder,\n",
    "           to_file='images/autoencoder.png',\n",
    "           show_shapes=True)\n",
    "StopWatch.start('compile')\n",
    "autoencoder.compile(loss='mse', optimizer='adam')\n",
    "StopWatch.stop('compile')\n",
    "StopWatch.stop(\"define-model\")\n",
    "StopWatch.progress(40)"
   ],
   "metadata": {
    "collapsed": false,
    "pycharm": {
     "name": "#%%\n"
    }
   }
  },
  {
   "cell_type": "markdown",
   "source": [
    "## Train"
   ],
   "metadata": {
    "collapsed": false,
    "pycharm": {
     "name": "#%% md\n"
    }
   }
  },
  {
   "cell_type": "code",
   "execution_count": 13,
   "outputs": [
    {
     "name": "stdout",
     "output_type": "stream",
     "text": [
      "1875/1875 [==============================] - 122s 65ms/step - loss: 0.0177 - val_loss: 0.0132\n",
      "# cloudmesh status=running progress=60 pid=7240\n"
     ]
    }
   ],
   "source": [
    "StopWatch.start(\"train\")\n",
    "autoencoder.fit(x_train,\n",
    "                x_train,\n",
    "                validation_data=(x_test, x_test),\n",
    "                epochs=1,\n",
    "                batch_size=batch_size)\n",
    "StopWatch.stop(\"train\")\n",
    "StopWatch.progress(60)"
   ],
   "metadata": {
    "collapsed": false,
    "pycharm": {
     "name": "#%%\n"
    }
   }
  },
  {
   "cell_type": "markdown",
   "source": [
    "## Test"
   ],
   "metadata": {
    "collapsed": false,
    "pycharm": {
     "name": "#%% md\n"
    }
   }
  },
  {
   "cell_type": "code",
   "execution_count": 14,
   "outputs": [
    {
     "name": "stdout",
     "output_type": "stream",
     "text": [
      "313/313 [==============================] - 7s 22ms/step\n",
      "# cloudmesh status=running progress=80 pid=7240\n"
     ]
    }
   ],
   "source": [
    "StopWatch.start(\"test\")\n",
    "x_decoded = autoencoder.predict(x_test)\n",
    "StopWatch.stop(\"test\")\n",
    "StopWatch.progress(80)"
   ],
   "metadata": {
    "collapsed": false,
    "pycharm": {
     "name": "#%%\n"
    }
   }
  },
  {
   "cell_type": "markdown",
   "source": [
    "## Visualize"
   ],
   "metadata": {
    "collapsed": false,
    "pycharm": {
     "name": "#%% md\n"
    }
   }
  },
  {
   "cell_type": "code",
   "execution_count": 15,
   "outputs": [
    {
     "data": {
      "text/plain": "<Figure size 432x288 with 1 Axes>",
      "image/png": "[encoded data removed]"
     },
     "metadata": {
      "needs_background": "light"
     },
     "output_type": "display_data"
    },
    {
     "name": "stdout",
     "output_type": "stream",
     "text": [
      "# cloudmesh status=running progress=100 pid=7240\n",
      "\n",
      "+------------------+----------------------------------------------------------------------------------+\n",
      "| Attribute        | Value                                                                            |\n",
      "|------------------+----------------------------------------------------------------------------------|\n",
      "| cpu              |                                                                                  |\n",
      "| cpu_cores        | 4                                                                                |\n",
      "| cpu_count        | 8                                                                                |\n",
      "| cpu_threads      | 8                                                                                |\n",
      "| date             | 2022-07-15 17:46:57.930170                                                       |\n",
      "| frequency        | scpufreq(current=1298.0, min=0.0, max=1498.0)                                    |\n",
      "| mem.available    | 4.1 GiB                                                                          |\n",
      "| mem.free         | 4.1 GiB                                                                          |\n",
      "| mem.percent      | 74.1 %                                                                           |\n",
      "| mem.total        | 15.8 GiB                                                                         |\n",
      "| mem.used         | 11.7 GiB                                                                         |\n",
      "| platform.version | ('10', '10.0.19043', 'SP0', 'Multiprocessor Free')                               |\n",
      "| python           | 3.10.5 (tags/v3.10.5:f377153, Jun  6 2022, 16:14:13) [MSC v.1929 64 bit (AMD64)] |\n",
      "| python.pip       | 22.1.2                                                                           |\n",
      "| python.version   | 3.10.5                                                                           |\n",
      "| sys.platform     | win32                                                                            |\n",
      "| uname.machine    | AMD64                                                                            |\n",
      "| uname.node       | LAPTOP-EONML8CQ                                                                  |\n",
      "| uname.processor  | Intel64 Family 6 Model 126 Stepping 5, GenuineIntel                              |\n",
      "| uname.release    | 10                                                                               |\n",
      "| uname.system     | Windows                                                                          |\n",
      "| uname.version    | 10.0.19043                                                                       |\n",
      "| user             | alibo                                                                            |\n",
      "+------------------+----------------------------------------------------------------------------------+\n",
      "\n",
      "+--------------+----------+---------+---------+---------------------+-------+-------+-----------------+--------+---------+----------------------------------------------------+\n",
      "| Name         | Status   |    Time |     Sum | Start               | tag   | msg   | Node            | User   | OS      | Version                                            |\n",
      "|--------------+----------+---------+---------+---------------------+-------+-------+-----------------+--------+---------+----------------------------------------------------|\n",
      "| total        | ok       | 132.578 | 258.056 | 2022-07-15 17:44:45 |       |       | LAPTOP-EONML8CQ | alibo  | Windows | ('10', '10.0.19043', 'SP0', 'Multiprocessor Free') |\n",
      "| import       | ok       |   0.002 |   6.172 | 2022-07-15 17:44:45 |       |       | LAPTOP-EONML8CQ | alibo  | Windows | ('10', '10.0.19043', 'SP0', 'Multiprocessor Free') |\n",
      "| data-load    | ok       |   0.28  |   0.69  | 2022-07-15 17:44:45 |       |       | LAPTOP-EONML8CQ | alibo  | Windows | ('10', '10.0.19043', 'SP0', 'Multiprocessor Free') |\n",
      "| define-model | ok       |   2.067 |   4.797 | 2022-07-15 17:44:45 |       |       | LAPTOP-EONML8CQ | alibo  | Windows | ('10', '10.0.19043', 'SP0', 'Multiprocessor Free') |\n",
      "| compile      | ok       |   0.014 |   0.023 | 2022-07-15 17:44:48 |       |       | LAPTOP-EONML8CQ | alibo  | Windows | ('10', '10.0.19043', 'SP0', 'Multiprocessor Free') |\n",
      "| train        | ok       | 122.032 | 228.632 | 2022-07-15 17:44:48 |       |       | LAPTOP-EONML8CQ | alibo  | Windows | ('10', '10.0.19043', 'SP0', 'Multiprocessor Free') |\n",
      "| test         | ok       |   7.228 |  16.15  | 2022-07-15 17:46:50 |       |       | LAPTOP-EONML8CQ | alibo  | Windows | ('10', '10.0.19043', 'SP0', 'Multiprocessor Free') |\n",
      "| visualize    | ok       |   0.543 |   0.672 | 2022-07-15 17:46:57 |       |       | LAPTOP-EONML8CQ | alibo  | Windows | ('10', '10.0.19043', 'SP0', 'Multiprocessor Free') |\n",
      "+--------------+----------+---------+---------+---------------------+-------+-------+-----------------+--------+---------+----------------------------------------------------+\n",
      "# csv,timer,status,time,sum,start,tag,msg,uname.node,user,uname.system,platform.version\n",
      "# csv,total,ok,132.578,258.056,2022-07-15 17:44:45,,None,LAPTOP-EONML8CQ,alibo,Windows,('10', '10.0.19043', 'SP0', 'Multiprocessor Free')\n",
      "# csv,import,ok,0.002,6.172,2022-07-15 17:44:45,,None,LAPTOP-EONML8CQ,alibo,Windows,('10', '10.0.19043', 'SP0', 'Multiprocessor Free')\n",
      "# csv,data-load,ok,0.28,0.69,2022-07-15 17:44:45,,None,LAPTOP-EONML8CQ,alibo,Windows,('10', '10.0.19043', 'SP0', 'Multiprocessor Free')\n",
      "# csv,define-model,ok,2.067,4.797,2022-07-15 17:44:45,,None,LAPTOP-EONML8CQ,alibo,Windows,('10', '10.0.19043', 'SP0', 'Multiprocessor Free')\n",
      "# csv,compile,ok,0.014,0.023,2022-07-15 17:44:48,,None,LAPTOP-EONML8CQ,alibo,Windows,('10', '10.0.19043', 'SP0', 'Multiprocessor Free')\n",
      "# csv,train,ok,122.032,228.632,2022-07-15 17:44:48,,None,LAPTOP-EONML8CQ,alibo,Windows,('10', '10.0.19043', 'SP0', 'Multiprocessor Free')\n",
      "# csv,test,ok,7.228,16.15,2022-07-15 17:46:50,,None,LAPTOP-EONML8CQ,alibo,Windows,('10', '10.0.19043', 'SP0', 'Multiprocessor Free')\n",
      "# csv,visualize,ok,0.543,0.672,2022-07-15 17:46:57,,None,LAPTOP-EONML8CQ,alibo,Windows,('10', '10.0.19043', 'SP0', 'Multiprocessor Free')\n",
      "\n"
     ]
    }
   ],
   "source": [
    "StopWatch.start(\"visualize\")\n",
    "imgs = np.concatenate([x_test[:8], x_decoded[:8]])\n",
    "imgs = imgs.reshape((4, 4, image_size, image_size))\n",
    "imgs = np.vstack([np.hstack(i) for i in imgs])\n",
    "plt.figure()\n",
    "plt.axis('off')\n",
    "plt.title('Input: 1st 2 rows, Decoded: last 2 rows')\n",
    "plt.imshow(imgs, interpolation='none', cmap='gray')\n",
    "save('input_and_decoded.png')\n",
    "StopWatch.stop(\"visualize\")\n",
    "StopWatch.stop(\"total\")\n",
    "StopWatch.progress(100)\n",
    "StopWatch.benchmark()"
   ],
   "metadata": {
    "collapsed": false,
    "pycharm": {
     "name": "#%%\n"
    }
   }
  }
 ]
}