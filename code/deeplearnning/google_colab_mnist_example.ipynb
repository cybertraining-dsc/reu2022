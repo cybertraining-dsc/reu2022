{
 "nbformat": 4,
 "nbformat_minor": 0,
 "metadata": {
  "colab": {
   "name": "google_colab_mnist_example.ipynb",
   "provenance": [],
   "collapsed_sections": [],
   "toc_visible": true,
   "include_colab_link": true
  },
  "kernelspec": {
   "name": "python3",
   "display_name": "Python 3"
  }
 },
 "cells": [
  {
   "cell_type": "markdown",
   "metadata": {
    "id": "KScAHZqbQ_Sr",
    "colab_type": "text",
    "pycharm": {
     "name": "#%% md\n"
    }
   },
   "source": [
    "# MNIST Classification "
   ]
  },
  {
   "cell_type": "markdown",
   "metadata": {
    "id": "eXNb7rQOQ2bW",
    "colab_type": "text",
    "pycharm": {
     "name": "#%% md\n"
    }
   },
   "source": [
    "\n",
    "In this lesson we discuss in how to create a simple IPython Notebook to solve\n",
    "an image classification problem. MNIST contains a set of pictures\n"
   ]
  },
  {
   "cell_type": "markdown",
   "metadata": {
    "id": "ZLpLVkFLRK-1",
    "colab_type": "text",
    "pycharm": {
     "name": "#%% md\n"
    }
   },
   "source": [
    "## Import Libraries \n",
    "\n",
    "Note: https://python-future.org/quickstart.html"
   ]
  },
  {
   "cell_type": "code",
   "execution_count": 1,
   "outputs": [],
   "source": [
    "try:\n",
    "    from cloudmesh.common.StopWatch import StopWatch\n",
    "except:  # noqa: E722\n",
    "    ! pip install cloudmesh-common\n",
    "    from cloudmesh.common.StopWatch import StopWatch"
   ],
   "metadata": {
    "collapsed": false,
    "pycharm": {
     "name": "#%%\n"
    }
   }
  },
  {
   "cell_type": "code",
   "execution_count": 2,
   "outputs": [
    {
     "name": "stdout",
     "output_type": "stream",
     "text": [
      "# cloudmesh status=running progress=0 pid=904\n"
     ]
    }
   ],
   "source": [
    "StopWatch.start('total')\n",
    "# from __future__ import absolute_import\n",
    "# from __future__ import division\n",
    "# from __future__ import print_function\n",
    "StopWatch.start('import')\n",
    "import numpy as np\n",
    "from keras.models import Sequential\n",
    "from keras.layers import Dense, Activation, Dropout\n",
    "from keras.utils import to_categorical, plot_model\n",
    "from keras.datasets import mnist\n",
    "StopWatch.stop('import')\n",
    "StopWatch.progress(0)"
   ],
   "metadata": {
    "collapsed": false,
    "pycharm": {
     "name": "#%%\n"
    }
   }
  },
  {
   "cell_type": "markdown",
   "metadata": {
    "id": "YajEPjlyRkrr",
    "colab_type": "text",
    "pycharm": {
     "name": "#%% md\n"
    }
   },
   "source": [
    "## Pre-process data"
   ]
  },
  {
   "cell_type": "markdown",
   "metadata": {
    "id": "4yOjQ9cjRrwQ",
    "colab_type": "text",
    "pycharm": {
     "name": "#%% md\n"
    }
   },
   "source": [
    "### Load data \n",
    "\n",
    "First we load the data from the inbuilt mnist dataset from Keras\n",
    "Here we have to split the data set into training and testing data. \n",
    "The training data or testing data has two components. \n",
    "Training features and training labels. \n",
    "For instance every sample in the dataset has a corresponding label. \n",
    "In Mnist the training sample contains image data represented in terms of \n",
    "an array. The training labels are from 0-9. \n",
    "\n",
    "Here we say x_train for training data features and y_train as the training labels. Same goes for testing data. "
   ]
  },
  {
   "cell_type": "code",
   "metadata": {
    "id": "LN7h9FQ-kIzB",
    "colab_type": "code",
    "colab": {},
    "pycharm": {
     "name": "#%%\n"
    }
   },
   "source": [
    "StopWatch.start('data-load')\n",
    "(x_train, y_train), (x_test, y_test) = mnist.load_data()\n",
    "StopWatch.stop('data-load')\n",
    "StopWatch.progress(20)"
   ],
   "execution_count": 3,
   "outputs": []
  },
  {
   "cell_type": "markdown",
   "metadata": {
    "id": "AJJxAbKxR7kZ",
    "colab_type": "text",
    "pycharm": {
     "name": "#%% md\n"
    }
   },
   "source": [
    "### Identify Number of Classes\n",
    "\n",
    "As this is a number classification problem. We need to know how many classes are there. \n",
    "So we'll count the number of unique labels. "
   ]
  },
  {
   "cell_type": "code",
   "metadata": {
    "id": "laqnfrEBSFxZ",
    "colab_type": "code",
    "colab": {
     "base_uri": "https://localhost:8080/",
     "height": 35
    },
    "outputId": "10b86ed2-c8f8-4f02-9f82-9cbb3f11405d",
    "pycharm": {
     "name": "#%%\n"
    }
   },
   "source": [
    "num_labels = len(np.unique(y_train))\n",
    "num_labels"
   ],
   "execution_count": 4,
   "outputs": [
    {
     "data": {
      "text/plain": "10"
     },
     "execution_count": 4,
     "metadata": {},
     "output_type": "execute_result"
    }
   ]
  },
  {
   "cell_type": "markdown",
   "metadata": {
    "id": "ugx6012YSXtA",
    "colab_type": "text",
    "pycharm": {
     "name": "#%% md\n"
    }
   },
   "source": [
    "### Convert Labels To One-Hot Vector\n",
    "\n",
    "Read more on one-hot vector. "
   ]
  },
  {
   "cell_type": "code",
   "metadata": {
    "id": "dpSBHnBEScZN",
    "colab_type": "code",
    "colab": {},
    "pycharm": {
     "name": "#%%\n"
    }
   },
   "source": [
    "y_train = to_categorical(y_train)\n",
    "y_test = to_categorical(y_test)"
   ],
   "execution_count": 5,
   "outputs": []
  },
  {
   "cell_type": "markdown",
   "metadata": {
    "id": "vyAfgPaJU753",
    "colab_type": "text",
    "pycharm": {
     "name": "#%% md\n"
    }
   },
   "source": [
    "## Image Reshaping\n",
    "\n",
    "The training model is designed by considering the data as a vector.\n",
    "This is a model dependent modification. Here we assume the image is\n",
    "a squared shape image."
   ]
  },
  {
   "cell_type": "code",
   "metadata": {
    "id": "8vxzUIK8Sedn",
    "colab_type": "code",
    "colab": {},
    "pycharm": {
     "name": "#%%\n"
    }
   },
   "source": [
    "image_size = x_train.shape[1]\n",
    "input_size = image_size * image_size"
   ],
   "execution_count": 6,
   "outputs": []
  },
  {
   "cell_type": "markdown",
   "metadata": {
    "id": "gZnBo49lVWDM",
    "colab_type": "text",
    "pycharm": {
     "name": "#%% md\n"
    }
   },
   "source": [
    "## Resize and Normalize\n",
    "\n",
    "The next step is to continue the reshaping to a fit into a vector\n",
    "and normalize the data. Image values are from 0 - 255, so an \n",
    "easy way to normalize is to divide by the maximum value. \n"
   ]
  },
  {
   "cell_type": "code",
   "metadata": {
    "id": "b9qUX7mwSf-u",
    "colab_type": "code",
    "colab": {},
    "pycharm": {
     "name": "#%%\n"
    }
   },
   "source": [
    "x_train = np.reshape(x_train, [-1, input_size])\n",
    "x_train = x_train.astype('float32') / 255\n",
    "x_test = np.reshape(x_test, [-1, input_size])\n",
    "x_test = x_test.astype('float32') / 255"
   ],
   "execution_count": 7,
   "outputs": []
  },
  {
   "cell_type": "markdown",
   "metadata": {
    "id": "tn89L_-zVxUB",
    "colab_type": "text",
    "pycharm": {
     "name": "#%% md\n"
    }
   },
   "source": [
    "## Create a Keras Model\n",
    "\n",
    "Keras is a neural network library. The summary function provides tabular summary on the model you created. And the plot_model function provides a grpah on the network you created. "
   ]
  },
  {
   "cell_type": "code",
   "metadata": {
    "id": "c3o_k-adkOy4",
    "colab_type": "code",
    "colab": {
     "base_uri": "https://localhost:8080/",
     "height": 676
    },
    "outputId": "8b2e1a0e-386a-4b43-8cb2-afd82d2bfd1a",
    "pycharm": {
     "name": "#%%\n"
    }
   },
   "source": [
    "# Create Model\n",
    "# network parameters\n",
    "batch_size = 4\n",
    "hidden_units = 64\n",
    "\n",
    "model = Sequential()\n",
    "model.add(Dense(hidden_units, input_dim=input_size))\n",
    "model.add(Dense(num_labels))\n",
    "model.add(Activation('softmax'))\n",
    "model.summary()\n",
    "plot_model(model, to_file='mlp-mnist.png', show_shapes=True)\n",
    "StopWatch.progress(40)"
   ],
   "execution_count": 8,
   "outputs": [
    {
     "name": "stdout",
     "output_type": "stream",
     "text": [
      "Model: \"sequential\"\n",
      "_________________________________________________________________\n",
      " Layer (type)                Output Shape              Param #   \n",
      "=================================================================\n",
      " dense (Dense)               (None, 64)                50240     \n",
      "                                                                 \n",
      " dense_1 (Dense)             (None, 10)                650       \n",
      "                                                                 \n",
      " activation (Activation)     (None, 10)                0         \n",
      "                                                                 \n",
      "=================================================================\n",
      "Total params: 50,890\n",
      "Trainable params: 50,890\n",
      "Non-trainable params: 0\n",
      "_________________________________________________________________\n"
     ]
    },
    {
     "name": "stderr",
     "output_type": "stream",
     "text": [
      "2022-07-14 16:12:37.461019: I tensorflow/core/platform/cpu_feature_guard.cc:193] This TensorFlow binary is optimized with oneAPI Deep Neural Network Library (oneDNN) to use the following CPU instructions in performance-critical operations:  AVX2 FMA\n",
      "To enable them in other operations, rebuild TensorFlow with the appropriate compiler flags.\n"
     ]
    }
   ]
  },
  {
   "cell_type": "markdown",
   "metadata": {
    "id": "nwl6dlU3aStZ",
    "colab_type": "text",
    "pycharm": {
     "name": "#%% md\n"
    }
   },
   "source": [
    "## Compile and Train\n",
    "\n",
    "A keras model need to be compiled before it can be used to train\n",
    "the model. In the compile function, you can provide the optimization\n",
    "that you want to add, metrics you expect and the type of loss function\n",
    "you need to use. \n",
    "\n",
    "Here we use adam optimizer, a famous optimizer used in neural networks. \n",
    "\n",
    "The loss funtion we have used is the categorical_crossentropy. \n",
    "\n",
    "Once the model is compiled, then the fit function is called upon passing the number of epochs, traing data and batch size. \n",
    "\n",
    "The batch size determines the number of elements used per minibatch in optimizing the function. \n",
    "\n",
    "**Note: Change the number of epochs, batch size and see what happens.**\n",
    "\n"
   ]
  },
  {
   "cell_type": "code",
   "metadata": {
    "id": "WkUMyJyEmsM6",
    "colab_type": "code",
    "colab": {
     "base_uri": "https://localhost:8080/",
     "height": 145
    },
    "outputId": "0645d95f-1b56-4cb7-fde1-8f9b244178be",
    "pycharm": {
     "name": "#%%\n"
    }
   },
   "source": [
    "StopWatch.start('compile')\n",
    "model.compile(loss='categorical_crossentropy',\n",
    "              optimizer='adam',\n",
    "              metrics=['accuracy'])\n",
    "StopWatch.progress(60)\n",
    "StopWatch.stop('compile')\n",
    "\n",
    "StopWatch.start('train')\n",
    "model.fit(x_train, y_train, epochs=3, batch_size=batch_size)\n",
    "StopWatch.progress(80)\n",
    "StopWatch.stop('train')"
   ],
   "execution_count": 12,
   "outputs": [
    {
     "name": "stdout",
     "output_type": "stream",
     "text": [
      "Epoch 1/3\n",
      "15000/15000 [==============================] - 15s 986us/step - loss: 0.2811 - accuracy: 0.9222\n",
      "Epoch 2/3\n",
      "15000/15000 [==============================] - 14s 930us/step - loss: 0.2776 - accuracy: 0.9225\n",
      "Epoch 3/3\n",
      "15000/15000 [==============================] - 14s 959us/step - loss: 0.2751 - accuracy: 0.9240\n",
      "\n",
      "+------------------+--------------------------------------------------------------------------------------------------+\n",
      "| Attribute        | Value                                                                                            |\n",
      "|------------------+--------------------------------------------------------------------------------------------------|\n",
      "| cpu              | Intel(R) Core(TM) i7-8557U CPU @ 1.70GHz                                                         |\n",
      "| cpu_cores        | 4                                                                                                |\n",
      "| cpu_count        | 8                                                                                                |\n",
      "| cpu_threads      | 8                                                                                                |\n",
      "| date             | 2022-07-14 20:16:08.895435                                                                       |\n",
      "| frequency        | scpufreq(current=1700, min=1700, max=1700)                                                       |\n",
      "| mem.active       | 6.6 GiB                                                                                          |\n",
      "| mem.available    | 7.0 GiB                                                                                          |\n",
      "| mem.free         | 347.8 MiB                                                                                        |\n",
      "| mem.inactive     | 6.5 GiB                                                                                          |\n",
      "| mem.percent      | 56.5 %                                                                                           |\n",
      "| mem.total        | 16.0 GiB                                                                                         |\n",
      "| mem.used         | 9.0 GiB                                                                                          |\n",
      "| mem.wired        | 2.4 GiB                                                                                          |\n",
      "| platform.version | 12.4                                                                                             |\n",
      "| python           | 3.10.5 (v3.10.5:f377153967, Jun  6 2022, 12:36:10) [Clang 13.0.0 (clang-1300.0.29.30)]           |\n",
      "| python.pip       | 22.1.2                                                                                           |\n",
      "| python.version   | 3.10.5                                                                                           |\n",
      "| sys.platform     | darwin                                                                                           |\n",
      "| uname.machine    | x86_64                                                                                           |\n",
      "| uname.node       | d-172-18-102-25.vpn.net.virginia.edu                                                             |\n",
      "| uname.processor  | i386                                                                                             |\n",
      "| uname.release    | 21.5.0                                                                                           |\n",
      "| uname.system     | Darwin                                                                                           |\n",
      "| uname.version    | Darwin Kernel Version 21.5.0: Tue Apr 26 21:08:22 PDT 2022; root:xnu-8020.121.3~4/RELEASE_X86_64 |\n",
      "| user             | jacksonmiskill                                                                                   |\n",
      "+------------------+--------------------------------------------------------------------------------------------------+\n",
      "\n",
      "+-----------+----------+--------+---------+---------------------+-------+-------+--------------------------------------+----------------+--------+-----------+\n",
      "| Name      | Status   |   Time |     Sum | Start               | tag   | msg   | Node                                 | User           | OS     |   Version |\n",
      "|-----------+----------+--------+---------+---------------------+-------+-------+--------------------------------------+----------------+--------+-----------|\n",
      "| import    | ok       |  2.977 |   2.977 | 2022-07-14 20:11:38 |       |       | d-172-18-102-25.vpn.net.virginia.edu | jacksonmiskill | Darwin |      12.4 |\n",
      "| data load | ok       | 15.797 |  15.797 | 2022-07-14 20:12:19 |       |       | d-172-18-102-25.vpn.net.virginia.edu | jacksonmiskill | Darwin |      12.4 |\n",
      "| total     | ok       |  0.591 |   0.591 | 2022-07-14 20:12:37 |       |       | d-172-18-102-25.vpn.net.virginia.edu | jacksonmiskill | Darwin |      12.4 |\n",
      "| compile   | ok       |  0.008 |   0.032 | 2022-07-14 20:15:25 |       |       | d-172-18-102-25.vpn.net.virginia.edu | jacksonmiskill | Darwin |      12.4 |\n",
      "| train     | ok       | 43.641 | 132.021 | 2022-07-14 20:15:25 |       |       | d-172-18-102-25.vpn.net.virginia.edu | jacksonmiskill | Darwin |      12.4 |\n",
      "+-----------+----------+--------+---------+---------------------+-------+-------+--------------------------------------+----------------+--------+-----------+\n",
      "# csv,timer,status,time,sum,start,tag,msg,uname.node,user,uname.system,platform.version\n",
      "# csv,import,ok,2.977,2.977,2022-07-14 20:11:38,,None,d-172-18-102-25.vpn.net.virginia.edu,jacksonmiskill,Darwin,12.4\n",
      "# csv,data load,ok,15.797,15.797,2022-07-14 20:12:19,,None,d-172-18-102-25.vpn.net.virginia.edu,jacksonmiskill,Darwin,12.4\n",
      "# csv,total,ok,0.591,0.591,2022-07-14 20:12:37,,None,d-172-18-102-25.vpn.net.virginia.edu,jacksonmiskill,Darwin,12.4\n",
      "# csv,compile,ok,0.008,0.032,2022-07-14 20:15:25,,None,d-172-18-102-25.vpn.net.virginia.edu,jacksonmiskill,Darwin,12.4\n",
      "# csv,train,ok,43.641,132.021,2022-07-14 20:15:25,,None,d-172-18-102-25.vpn.net.virginia.edu,jacksonmiskill,Darwin,12.4\n",
      "\n"
     ]
    }
   ]
  },
  {
   "cell_type": "markdown",
   "metadata": {
    "id": "fDAY7JYmbmOq",
    "colab_type": "text",
    "pycharm": {
     "name": "#%% md\n"
    }
   },
   "source": [
    "## Testing \n",
    "\n",
    "Now we can test the trained model. Use the evaluate function by passing\n",
    "test data and batch size and the accuracy and the loss value can be retrieved.\n",
    "\n",
    "**MNIST_V1.0|Exercise: Try to observe the network behavior by changing the number of epochs, batch size and record the best accuracy that you can gain. Here you can record what happens when you change these values. Describe your observations in 50-100 words.**\n"
   ]
  },
  {
   "cell_type": "code",
   "metadata": {
    "id": "0sfTk_pcjXHD",
    "colab_type": "code",
    "colab": {
     "base_uri": "https://localhost:8080/",
     "height": 72
    },
    "outputId": "88fffbf5-500b-4708-9dcc-829501830d35",
    "pycharm": {
     "name": "#%%\n"
    }
   },
   "source": [
    "loss, acc = model.evaluate(x_test, y_test, batch_size=batch_size)\n",
    "print(\"\\nTest accuracy: %.1f%%\" % (100.0 * acc))\n",
    "StopWatch.progress(100)\n",
    "StopWatch.stop('total')\n",
    "StopWatch.benchmark()"
   ],
   "execution_count": null,
   "outputs": []
  },
  {
   "cell_type": "markdown",
   "metadata": {
    "id": "b2fDpqnfcEmC",
    "colab_type": "text",
    "pycharm": {
     "name": "#%% md\n"
    }
   },
   "source": [
    "## Final Note\n",
    "\n",
    "This programme can be defined as a hello world programme in deep\n",
    "learning. Objective of this exercise is not to teach you the depths of\n",
    "deep learning. But to teach you basic concepts that may need to design a\n",
    "simple network to solve a problem. Before running the whole code, read\n",
    "all the instructions before a code section. \n",
    "\n",
    "## Homework\n",
    "\n",
    "**Solve Exercise MNIST_V1.0.**"
   ]
  },
  {
   "cell_type": "markdown",
   "metadata": {
    "id": "UufRkOsSRaUR",
    "colab_type": "text",
    "pycharm": {
     "name": "#%% md\n"
    }
   },
   "source": [
    "\n",
    "### Reference: \n",
    "\n",
    "[Orignal Source to Source Code](https://github.com/PacktPublishing/Advanced-Deep-Learning-with-Keras)\n"
   ]
  },
  {
   "cell_type": "markdown",
   "source": [
    "\n",
    "### Reference: \n",
    "\n",
    "[Orignal Source to Source Code](https://github.com/PacktPublishing/Advanced-Deep-Learning-with-Keras)"
   ],
   "metadata": {
    "collapsed": false,
    "pycharm": {
     "name": "#%% md\n"
    }
   }
  }
 ]
}